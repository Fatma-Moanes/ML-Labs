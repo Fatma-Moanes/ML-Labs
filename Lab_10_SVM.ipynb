{
  "nbformat": 4,
  "nbformat_minor": 0,
  "metadata": {
    "colab": {
      "name": "Lab_10_SVM_(1).ipynb",
      "provenance": [],
      "collapsed_sections": [],
      "toc_visible": true
    },
    "kernelspec": {
      "display_name": "Python 3",
      "language": "python",
      "name": "python3"
    },
    "language_info": {
      "codemirror_mode": {
        "name": "ipython",
        "version": 3
      },
      "file_extension": ".py",
      "mimetype": "text/x-python",
      "name": "python",
      "nbconvert_exporter": "python",
      "pygments_lexer": "ipython3",
      "version": "3.8.5"
    }
  },
  "cells": [
    {
      "cell_type": "markdown",
      "metadata": {
        "id": "WW75zsWP0WLn"
      },
      "source": [
        "<h1 align=\"center\">Zewail City of Science and Technology</h1>\n",
        "<h2 align=\"center\">CIE 417 (Fall 2020)</h2>\n",
        "<h2 align=\"center\">Lab 10: SVM </h2>\n",
        "<h3 align=\"center\">Eng. Ahmed Wael</h3>"
      ]
    },
    {
      "cell_type": "markdown",
      "metadata": {
        "id": "Ag6RPIIg0WLq"
      },
      "source": [
        "## Import the needed libraries"
      ]
    },
    {
      "cell_type": "code",
      "metadata": {
        "id": "l80HKkQ70WLq",
        "colab": {
          "base_uri": "https://localhost:8080/"
        },
        "outputId": "26e8feee-b2dc-4fff-9ce3-6abcac239970"
      },
      "source": [
        "import numpy as np\n",
        "import pandas as pd\n",
        "import itertools\n",
        "\n",
        "from sklearn import datasets\n",
        "from sklearn.preprocessing import LabelEncoder\n",
        "from sklearn.preprocessing import StandardScaler\n",
        "from sklearn.model_selection import cross_val_score\n",
        "from sklearn.model_selection import train_test_split\n",
        "from sklearn import metrics\n",
        "from sklearn.model_selection import GridSearchCV\n",
        "from sklearn.preprocessing import StandardScaler\n",
        "\n",
        "import matplotlib.pyplot as plt\n",
        "import matplotlib.gridspec as gridspec\n",
        "\n",
        "from mlxtend.plotting import plot_decision_regions\n",
        "from mlxtend.preprocessing import shuffle_arrays_unison\n",
        "import seaborn as sns\n",
        "\n",
        "from tqdm.notebook import tqdm_notebook as tqdm\n",
        "\n",
        "from sklearn.svm import SVC\n",
        "\n",
        "from sklearn.feature_extraction.text import CountVectorizer\n",
        "from sklearn.feature_extraction.text import TfidfVectorizer\n",
        "\n",
        "from google.colab import files\n",
        "\n",
        "!pip install PyStemmer\n",
        "import Stemmer\n",
        "\n",
        "from sklearn.naive_bayes import GaussianNB\n"
      ],
      "execution_count": null,
      "outputs": [
        {
          "output_type": "stream",
          "text": [
            "Collecting PyStemmer\n",
            "\u001b[?25l  Downloading https://files.pythonhosted.org/packages/55/b2/c3aeebfe4a60256ddb72257e750a94c26c3085f017b7e58c860d5aa91432/PyStemmer-2.0.1.tar.gz (559kB)\n",
            "\r\u001b[K     |▋                               | 10kB 16.2MB/s eta 0:00:01\r\u001b[K     |█▏                              | 20kB 20.3MB/s eta 0:00:01\r\u001b[K     |█▊                              | 30kB 19.1MB/s eta 0:00:01\r\u001b[K     |██▍                             | 40kB 15.3MB/s eta 0:00:01\r\u001b[K     |███                             | 51kB 17.2MB/s eta 0:00:01\r\u001b[K     |███▌                            | 61kB 15.6MB/s eta 0:00:01\r\u001b[K     |████                            | 71kB 12.8MB/s eta 0:00:01\r\u001b[K     |████▊                           | 81kB 13.7MB/s eta 0:00:01\r\u001b[K     |█████▎                          | 92kB 12.7MB/s eta 0:00:01\r\u001b[K     |█████▉                          | 102kB 12.2MB/s eta 0:00:01\r\u001b[K     |██████▍                         | 112kB 12.2MB/s eta 0:00:01\r\u001b[K     |███████                         | 122kB 12.2MB/s eta 0:00:01\r\u001b[K     |███████▋                        | 133kB 12.2MB/s eta 0:00:01\r\u001b[K     |████████▏                       | 143kB 12.2MB/s eta 0:00:01\r\u001b[K     |████████▉                       | 153kB 12.2MB/s eta 0:00:01\r\u001b[K     |█████████▍                      | 163kB 12.2MB/s eta 0:00:01\r\u001b[K     |██████████                      | 174kB 12.2MB/s eta 0:00:01\r\u001b[K     |██████████▌                     | 184kB 12.2MB/s eta 0:00:01\r\u001b[K     |███████████▏                    | 194kB 12.2MB/s eta 0:00:01\r\u001b[K     |███████████▊                    | 204kB 12.2MB/s eta 0:00:01\r\u001b[K     |████████████▎                   | 215kB 12.2MB/s eta 0:00:01\r\u001b[K     |████████████▉                   | 225kB 12.2MB/s eta 0:00:01\r\u001b[K     |█████████████▌                  | 235kB 12.2MB/s eta 0:00:01\r\u001b[K     |██████████████                  | 245kB 12.2MB/s eta 0:00:01\r\u001b[K     |██████████████▋                 | 256kB 12.2MB/s eta 0:00:01\r\u001b[K     |███████████████▎                | 266kB 12.2MB/s eta 0:00:01\r\u001b[K     |███████████████▉                | 276kB 12.2MB/s eta 0:00:01\r\u001b[K     |████████████████▍               | 286kB 12.2MB/s eta 0:00:01\r\u001b[K     |█████████████████               | 296kB 12.2MB/s eta 0:00:01\r\u001b[K     |█████████████████▋              | 307kB 12.2MB/s eta 0:00:01\r\u001b[K     |██████████████████▏             | 317kB 12.2MB/s eta 0:00:01\r\u001b[K     |██████████████████▊             | 327kB 12.2MB/s eta 0:00:01\r\u001b[K     |███████████████████▎            | 337kB 12.2MB/s eta 0:00:01\r\u001b[K     |████████████████████            | 348kB 12.2MB/s eta 0:00:01\r\u001b[K     |████████████████████▌           | 358kB 12.2MB/s eta 0:00:01\r\u001b[K     |█████████████████████           | 368kB 12.2MB/s eta 0:00:01\r\u001b[K     |█████████████████████▊          | 378kB 12.2MB/s eta 0:00:01\r\u001b[K     |██████████████████████▎         | 389kB 12.2MB/s eta 0:00:01\r\u001b[K     |██████████████████████▉         | 399kB 12.2MB/s eta 0:00:01\r\u001b[K     |███████████████████████▍        | 409kB 12.2MB/s eta 0:00:01\r\u001b[K     |████████████████████████        | 419kB 12.2MB/s eta 0:00:01\r\u001b[K     |████████████████████████▋       | 430kB 12.2MB/s eta 0:00:01\r\u001b[K     |█████████████████████████▏      | 440kB 12.2MB/s eta 0:00:01\r\u001b[K     |█████████████████████████▊      | 450kB 12.2MB/s eta 0:00:01\r\u001b[K     |██████████████████████████▍     | 460kB 12.2MB/s eta 0:00:01\r\u001b[K     |███████████████████████████     | 471kB 12.2MB/s eta 0:00:01\r\u001b[K     |███████████████████████████▌    | 481kB 12.2MB/s eta 0:00:01\r\u001b[K     |████████████████████████████▏   | 491kB 12.2MB/s eta 0:00:01\r\u001b[K     |████████████████████████████▊   | 501kB 12.2MB/s eta 0:00:01\r\u001b[K     |█████████████████████████████▎  | 512kB 12.2MB/s eta 0:00:01\r\u001b[K     |█████████████████████████████▉  | 522kB 12.2MB/s eta 0:00:01\r\u001b[K     |██████████████████████████████▌ | 532kB 12.2MB/s eta 0:00:01\r\u001b[K     |███████████████████████████████ | 542kB 12.2MB/s eta 0:00:01\r\u001b[K     |███████████████████████████████▋| 552kB 12.2MB/s eta 0:00:01\r\u001b[K     |████████████████████████████████| 563kB 12.2MB/s \n",
            "\u001b[?25hBuilding wheels for collected packages: PyStemmer\n",
            "  Building wheel for PyStemmer (setup.py) ... \u001b[?25l\u001b[?25hdone\n",
            "  Created wheel for PyStemmer: filename=PyStemmer-2.0.1-cp36-cp36m-linux_x86_64.whl size=423622 sha256=12c1e9d2f48ebe39f87eef18322cf049284927b8bb1432755a91b7084a824885\n",
            "  Stored in directory: /root/.cache/pip/wheels/f3/3c/11/ee323a09706e17a649c2730bd8819b06e887411ff7507acf7a\n",
            "Successfully built PyStemmer\n",
            "Installing collected packages: PyStemmer\n",
            "Successfully installed PyStemmer-2.0.1\n"
          ],
          "name": "stdout"
        }
      ]
    },
    {
      "cell_type": "markdown",
      "metadata": {
        "id": "ucDjKzoLOajd"
      },
      "source": [
        "# Outline:\n",
        "\n",
        "*   SVM Intuition\n",
        "\n",
        "\n",
        "*   Hard vs Soft Margins\n",
        "\n",
        "\n",
        "*   C hyper-parameter\n",
        "\n",
        "\n",
        "*   Kernel Trick\n",
        "\n",
        "\n",
        "*   Kernel Types\n",
        "\n",
        "\n",
        "*   SVM with Linear Dataset\n",
        "\n",
        "\n",
        "*   SVM with Non-linear Dataset\n",
        "\n",
        "\n",
        "*   Hyper-parameter Tuning & Cross Validation\n",
        "\n",
        "\n",
        "*   Multi-class SVM\n",
        "\n",
        "\n",
        "*   SVM with Regression\n",
        "\n",
        "\n",
        "*   Tasks\n",
        "\n"
      ]
    },
    {
      "cell_type": "markdown",
      "metadata": {
        "id": "02XFhcDE0WLr"
      },
      "source": [
        "# SVM Intuition:"
      ]
    },
    {
      "cell_type": "markdown",
      "metadata": {
        "id": "4eCXsCgo0WLr"
      },
      "source": [
        "## What is the best hyper-plane?"
      ]
    },
    {
      "cell_type": "markdown",
      "metadata": {
        "id": "gM-0Pnz-0WLs"
      },
      "source": [
        "### Case 1: Correct Classification"
      ]
    },
    {
      "cell_type": "markdown",
      "metadata": {
        "id": "c4rkWK710WLs"
      },
      "source": [
        "<img src=https://www.analyticsvidhya.com/wp-content/uploads/2015/10/SVM_21.png>"
      ]
    },
    {
      "cell_type": "markdown",
      "metadata": {
        "id": "ML0XzENs0WLs"
      },
      "source": [
        "**The best hyper-plane is the one that separates the two classes better**"
      ]
    },
    {
      "cell_type": "markdown",
      "metadata": {
        "id": "c4Dd7u8X0WLt"
      },
      "source": [
        "**Therefore, B is best one in this case**"
      ]
    },
    {
      "cell_type": "markdown",
      "metadata": {
        "id": "nQygFHbn0WLt"
      },
      "source": [
        "### Case 2: Maximizing the Margin"
      ]
    },
    {
      "cell_type": "markdown",
      "metadata": {
        "id": "KZ83y6bM0WLu"
      },
      "source": [
        "<img src=https://www.analyticsvidhya.com/wp-content/uploads/2015/10/SVM_3.png>"
      ]
    },
    {
      "cell_type": "markdown",
      "metadata": {
        "id": "Qry7OJih0WLv"
      },
      "source": [
        "**The three hyper-planes separate the two classes, but which of them is the best one?**"
      ]
    },
    {
      "cell_type": "markdown",
      "metadata": {
        "id": "G2MvWKHo0WLv"
      },
      "source": [
        "**We care about maximizing the distances between the nearest data point (either class) and hyper-plane**"
      ]
    },
    {
      "cell_type": "markdown",
      "metadata": {
        "id": "NODcO20Z0WLw"
      },
      "source": [
        "**We call this distance The Margin**"
      ]
    },
    {
      "cell_type": "markdown",
      "metadata": {
        "id": "PLUZdVyk0WLw"
      },
      "source": [
        "<img src=https://www.analyticsvidhya.com/wp-content/uploads/2015/10/SVM_4.png>"
      ]
    },
    {
      "cell_type": "markdown",
      "metadata": {
        "id": "IksU_FBN0WLx"
      },
      "source": [
        "**Thus, C is the best hyper-plane.**"
      ]
    },
    {
      "cell_type": "markdown",
      "metadata": {
        "id": "MFIFwqD_0WLx"
      },
      "source": [
        "### Case 3: Correct Classification vs Maximizing the Margin"
      ]
    },
    {
      "cell_type": "markdown",
      "metadata": {
        "id": "9bhzIkie0WLx"
      },
      "source": [
        "<img src=https://www.analyticsvidhya.com/wp-content/uploads/2015/10/SVM_5.png>"
      ]
    },
    {
      "cell_type": "markdown",
      "metadata": {
        "id": "Zk5GORuv0WLy"
      },
      "source": [
        "**By default, SVM gives more weight to correct classification than margin maximization.**"
      ]
    },
    {
      "cell_type": "markdown",
      "metadata": {
        "id": "oMf6p-A_0WLy"
      },
      "source": [
        "**Thus, A is the best classifier in this case**"
      ]
    },
    {
      "cell_type": "markdown",
      "metadata": {
        "id": "QaiPT5DR0WLy"
      },
      "source": [
        "### Case 4: Outliers"
      ]
    },
    {
      "cell_type": "markdown",
      "metadata": {
        "id": "PqHIBwVB0WLy"
      },
      "source": [
        "<img src=https://www.analyticsvidhya.com/wp-content/uploads/2015/10/SVM_71.png>"
      ]
    },
    {
      "cell_type": "markdown",
      "metadata": {
        "id": "nueZdIom0WLz"
      },
      "source": [
        "**SVM gives more weight to correct classification than margin maximization, right?**\n",
        "\n",
        "\n",
        "**However, this also means that margin maximization is important!**"
      ]
    },
    {
      "cell_type": "markdown",
      "metadata": {
        "id": "0QNwfwGs0WLz"
      },
      "source": [
        "**Thus, SVM can detect outliers and ignore them**"
      ]
    },
    {
      "cell_type": "markdown",
      "metadata": {
        "id": "MI6ywxe00WLz"
      },
      "source": [
        "### Case 5: Non-linear hyper-plane:"
      ]
    },
    {
      "cell_type": "markdown",
      "metadata": {
        "id": "DofhGdKx0WLz"
      },
      "source": [
        "<img src=https://www.analyticsvidhya.com/wp-content/uploads/2015/10/SVM_8.png>"
      ]
    },
    {
      "cell_type": "markdown",
      "metadata": {
        "id": "pnFTPXWp0WL0"
      },
      "source": [
        "**SVM solves this by introducing a new feature which is**"
      ]
    },
    {
      "cell_type": "markdown",
      "metadata": {
        "id": "-lXfb1v40WL0"
      },
      "source": [
        "$$z = x^2 + y^2$$"
      ]
    },
    {
      "cell_type": "markdown",
      "metadata": {
        "id": "VVj9LyrH0WL0"
      },
      "source": [
        "<img src=https://www.analyticsvidhya.com/wp-content/uploads/2015/10/SVM_9.png>"
      ]
    },
    {
      "cell_type": "markdown",
      "metadata": {
        "id": "Cktw4RPv0WL0"
      },
      "source": [
        "**This feature is NOT added manually**"
      ]
    },
    {
      "cell_type": "markdown",
      "metadata": {
        "id": "ETBfH74M0WL1"
      },
      "source": [
        "**It is done using the KERNEL!**"
      ]
    },
    {
      "cell_type": "markdown",
      "metadata": {
        "id": "B4X6LJXN0WL1"
      },
      "source": [
        "## What is the SVM Kernel?"
      ]
    },
    {
      "cell_type": "markdown",
      "metadata": {
        "id": "dKAQcNXk0WL1"
      },
      "source": [
        "- It takes low dimensional input space and transforms it to a higher dimensional space\n",
        "\n",
        "\n",
        "- Converts not separable problem to separable problem.\n",
        "\n",
        "\n",
        "- Mostly useful in non-linear separation problem."
      ]
    },
    {
      "cell_type": "markdown",
      "metadata": {
        "id": "9qBVk1yc0WL1"
      },
      "source": [
        "## Why Maximize Margin?"
      ]
    },
    {
      "cell_type": "markdown",
      "metadata": {
        "id": "vOuLA2ku0WL1"
      },
      "source": [
        "<img src=https://i.ibb.co/Qf5bzR2/1.jpg>"
      ]
    },
    {
      "cell_type": "markdown",
      "metadata": {
        "id": "sc9y6SKf0WL2"
      },
      "source": [
        "**This line not only separates\n",
        "the two classes but also\n",
        "stays as far away from the\n",
        "closest training instances\n",
        "as possible**"
      ]
    },
    {
      "cell_type": "markdown",
      "metadata": {
        "id": "LtYggQ-k0WL2"
      },
      "source": [
        "**Robust even with high margin of noise**"
      ]
    },
    {
      "cell_type": "markdown",
      "metadata": {
        "id": "ryxyEvoU0WL2"
      },
      "source": [
        "# Hard vs Soft Margins"
      ]
    },
    {
      "cell_type": "markdown",
      "metadata": {
        "id": "Yp7g2BIt0WL2"
      },
      "source": [
        "## Margin Equation:"
      ]
    },
    {
      "cell_type": "markdown",
      "metadata": {
        "id": "UoeF35WR0WL3"
      },
      "source": [
        "<img src=https://i.ibb.co/d7wXYw0/2.jpg>"
      ]
    },
    {
      "cell_type": "markdown",
      "metadata": {
        "id": "x6XuHym80WL3"
      },
      "source": [
        "**if we want to Maximize M**"
      ]
    },
    {
      "cell_type": "markdown",
      "metadata": {
        "id": "os9n3YeE0WL3"
      },
      "source": [
        "$$M = \\frac{2}{|w|}$$"
      ]
    },
    {
      "cell_type": "markdown",
      "metadata": {
        "id": "eI-9v1ut0WL3"
      },
      "source": [
        "**This means we want to minimize:**"
      ]
    },
    {
      "cell_type": "markdown",
      "metadata": {
        "id": "0cMk5uLx0WL3"
      },
      "source": [
        "$$ \\frac{1}{2}w^Tw$$"
      ]
    },
    {
      "cell_type": "markdown",
      "metadata": {
        "id": "jDzDUg8R0WL4"
      },
      "source": [
        "**So, we have an optimization problem as follows:**"
      ]
    },
    {
      "cell_type": "markdown",
      "metadata": {
        "id": "I0WMvHrZ0WL4"
      },
      "source": [
        "Find w and b such that:\n",
        "\n",
        "\n",
        "- $$\\phi(w) = \\frac{1}{2}w^Tw$$ is minimized\n",
        "\n",
        "\n",
        "- For all $${(x_i ,y_i)}: y_i (w^Tx_i + b) ≥ 1$$\n"
      ]
    },
    {
      "cell_type": "markdown",
      "metadata": {
        "id": "j9So1WGI0WL4"
      },
      "source": [
        "- Need to optimize a quadratic function subject to linear constraints.\n",
        "\n",
        "\n",
        "- Quadratic optimization problems are a well-known class of mathematical programming problems.\n",
        "\n",
        "\n",
        "- The solution involves constructing a dual problem where a Lagrange multiplieris associated with every constraint in the primary problem.\n",
        "\n",
        "**This is out of the scope for the course, but will find in the resources at the end of the notebook how all is this is done mathemtically**"
      ]
    },
    {
      "cell_type": "markdown",
      "metadata": {
        "id": "YV60-IU00WL5"
      },
      "source": [
        "<img src=https://miro.medium.com/max/1172/1*PiGj6vEyBhxbXfK4bzwwTg.png>"
      ]
    },
    {
      "cell_type": "markdown",
      "metadata": {
        "id": "ujRFcqZt0WL5"
      },
      "source": [
        "**Hard Margin Requires ALL data points to be classified correctly**"
      ]
    },
    {
      "cell_type": "markdown",
      "metadata": {
        "id": "eyL5VKS20WL5"
      },
      "source": [
        "**What if the training set is noisy?**\n"
      ]
    },
    {
      "cell_type": "markdown",
      "metadata": {
        "id": "DeRCo-H20WL5"
      },
      "source": [
        "**The kernel will be very complex in order to fit all the data correctly**"
      ]
    },
    {
      "cell_type": "markdown",
      "metadata": {
        "id": "FyF8h0Dp0WL5"
      },
      "source": [
        "**Thus, will result in OVERFITTING**"
      ]
    },
    {
      "cell_type": "markdown",
      "metadata": {
        "id": "gEdz91Mh0WL6"
      },
      "source": [
        "<img src=https://i.ibb.co/C6YcH9j/3.jpg>"
      ]
    },
    {
      "cell_type": "markdown",
      "metadata": {
        "id": "l1zcn9wY0WL6"
      },
      "source": [
        "**Slack variables ε can be added to allow misclassification of difficult or noisy examples.**"
      ]
    },
    {
      "cell_type": "markdown",
      "metadata": {
        "id": "hYgpXbJX0WL6"
      },
      "source": [
        "<img src=https://i.ibb.co/Qbb8D7g/4.jpg>"
      ]
    },
    {
      "cell_type": "markdown",
      "metadata": {
        "id": "FGxBwDv50WL6"
      },
      "source": [
        "**Now, we want to minimze:**"
      ]
    },
    {
      "cell_type": "markdown",
      "metadata": {
        "id": "GZ1mI-eW0WL7"
      },
      "source": [
        "$$ \\frac{1}{2}w^Tw + C \\sum{\\varepsilon_k}$$"
      ]
    },
    {
      "cell_type": "markdown",
      "metadata": {
        "id": "6VdI8OPY0WL7"
      },
      "source": [
        "**So, the new formulation for the optimization problem:**"
      ]
    },
    {
      "cell_type": "markdown",
      "metadata": {
        "id": "eCJWi69e0WL7"
      },
      "source": [
        "Find w and b such that:\n",
        "\n",
        "\n",
        "- $$\\phi(w) = \\frac{1}{2}w^Tw + C \\sum{\\varepsilon_k}$$ is minimized\n",
        "\n",
        "\n",
        "- For all $${(x_i ,y_i)}: y_i (w^Tx_i + b) ≥ 1 - \\varepsilon_i$$ \n",
        "\n",
        "$$ \\varepsilon_i ≥ 0 $$"
      ]
    },
    {
      "cell_type": "markdown",
      "metadata": {
        "id": "gPvyzVvz0WL7"
      },
      "source": [
        "# C Hyperparameter"
      ]
    },
    {
      "cell_type": "markdown",
      "metadata": {
        "id": "N9UUDWdw0WL8"
      },
      "source": [
        "- **Parameter C can be viewed as a way to control overfitting**"
      ]
    },
    {
      "cell_type": "markdown",
      "metadata": {
        "id": "tq3hLpvG5oxp"
      },
      "source": [
        "- **C bounds the sum of the εi ’s, and so it determines the number and severity of the violations to the margin (and to the hyperplane) that we will tolerate.**\n",
        "\n",
        "\n",
        "- **Increasing C, increases bias, reduces the variance (we become more tolerant of violations to the margin, margin will widen)**\n",
        "\n",
        "\n",
        "- **Decreasing C, reduces bias, increases variance (we become less tolerant of violations to the margin, margin narrows)**\n",
        "\n",
        "\n",
        "- **C is generally chosen via cross-validation.**"
      ]
    },
    {
      "cell_type": "markdown",
      "metadata": {
        "id": "Ah6yVPmdPIw3"
      },
      "source": [
        "# Kernel Trick"
      ]
    },
    {
      "cell_type": "markdown",
      "metadata": {
        "id": "e5auqXA8PTgB"
      },
      "source": [
        "**After Solving the lagrange optimization problem, we will have**\n",
        "$$min_\\alpha = -\\sum{\\alpha_i} + \\frac{1}{2}\\sum_{i=1}^{n}\\sum_{j=1}^{n}{y^i y^j \\alpha^i \\alpha^j <X^i, X^j> } $$"
      ]
    },
    {
      "cell_type": "markdown",
      "metadata": {
        "id": "gyypcWZxQVVi"
      },
      "source": [
        "Where $$ <X^i, X^j > $$ is the dot product between two examples, subject to $$ \\alpha_i > 0$$ $$\\sum{\\alpha_i y^i} = 0$$\n",
        "and \n",
        "$$ \\alpha$$\n",
        "is the a slack variable introduced in the lagrangian, which we are solving for"
      ]
    },
    {
      "cell_type": "markdown",
      "metadata": {
        "id": "W0f7GfBGYqnB"
      },
      "source": [
        "<img src = https://i.ibb.co/rZMd7mS/6.jpg>"
      ]
    },
    {
      "cell_type": "markdown",
      "metadata": {
        "id": "1mwrb3PcQVXr"
      },
      "source": [
        "**Now, the kernel Trick**"
      ]
    },
    {
      "cell_type": "markdown",
      "metadata": {
        "id": "53y8RB4RQVa0"
      },
      "source": [
        "Imagine a function φ that maps the data into another space"
      ]
    },
    {
      "cell_type": "markdown",
      "metadata": {
        "id": "vx4NsVqkZQ-Q"
      },
      "source": [
        "\n",
        "<img src= https://i.ibb.co/7QvhKPR/7.jpg pos=10>\n",
        "\n"
      ]
    },
    {
      "cell_type": "markdown",
      "metadata": {
        "id": "AjFmFn-QZkWk"
      },
      "source": [
        "The function we want to optimize is the **dot product** of the two feature vectors."
      ]
    },
    {
      "cell_type": "markdown",
      "metadata": {
        "id": "6fwasoyYZkZV"
      },
      "source": [
        "If we now transform to φ, instead of computing this dot product (xi•xj) we will have to compute (φ (xi)• φ (xj))."
      ]
    },
    {
      "cell_type": "markdown",
      "metadata": {
        "id": "ssZdPLrTZkcS"
      },
      "source": [
        "But how can we do this? This is **expensive** and **time consuming**\n",
        "\n",
        "(suppose φ is a quartic polynomial … or worse, we don’t know the\n",
        "function explicitly."
      ]
    },
    {
      "cell_type": "markdown",
      "metadata": {
        "id": "CFW-3g2MaM-c"
      },
      "source": [
        "If there is a **\"kernel function\"** K such that $$K(x_i,x_j) = φ (x_i)• φ (x_j)$$ \n",
        "\n",
        "Then **we do not need to knowor compute φ at all!!**"
      ]
    },
    {
      "cell_type": "markdown",
      "metadata": {
        "id": "NPrgANPiaNBg"
      },
      "source": [
        "That is, the kernel function defines **inner products** in the transformed space.\n",
        "\n",
        "Or, it defines **similarity** in the transformed space."
      ]
    },
    {
      "cell_type": "markdown",
      "metadata": {
        "id": "MsAjuPUHa1cr"
      },
      "source": [
        "Thus, we have now:\n",
        "$$min_\\alpha = -\\sum{\\alpha_i} + \\frac{1}{2}\\sum_{i=1}^{n}\\sum_{j=1}^{n}{y^i y^j \\alpha^i \\alpha^j K(<X^i, X^j>) } $$"
      ]
    },
    {
      "cell_type": "markdown",
      "metadata": {
        "id": "vuZjR4WEavPy"
      },
      "source": [
        "## Kernel Trick Example"
      ]
    },
    {
      "cell_type": "markdown",
      "metadata": {
        "id": "WM2fr6KibGhs"
      },
      "source": [
        "$$K(x_i,x_j) = (<x_i,x_j> + 1)^p$$, where p is a tunable parameter\n",
        "\n",
        "\n",
        "**Evaluating K only requires ONE ADDITION and ONE EXPONENTATION\n",
        "more than the original dot product**"
      ]
    },
    {
      "cell_type": "markdown",
      "metadata": {
        "id": "CYAnnwiebGtK"
      },
      "source": [
        "# Kernel Types:"
      ]
    },
    {
      "cell_type": "markdown",
      "metadata": {
        "id": "5Bzv6le8bGwF"
      },
      "source": [
        "## Polynomial Kernel:"
      ]
    },
    {
      "cell_type": "markdown",
      "metadata": {
        "id": "sb6GRSLpb4i-"
      },
      "source": [
        "Very cool visualization video!\n",
        "https://www.youtube.com/watch?v=3liCbRZPrZA"
      ]
    },
    {
      "cell_type": "markdown",
      "metadata": {
        "id": "tQMKWue4cFSL"
      },
      "source": [
        "$$K(x_i,x_j) = (<x_i,x_j> + b)^d$$\n",
        "where *d* is the degree of the ploynomial and *b* is a free parameter trading off the influence of higher-order versus lower-order terms in the polynomial"
      ]
    },
    {
      "cell_type": "markdown",
      "metadata": {
        "id": "Rgvp_IRXcFPE"
      },
      "source": [
        "What if 𝜑(x<sup>i</sup>) degree is really big?\n",
        "\n",
        "\n",
        "For example, if you have 16*16 pixel image and you\n",
        "apply polynomial with degree of 5. this will result in\n",
        "10<sup>10</sup> features!!!\n",
        "\n",
        "**Without the Kernel trick, this would have been impossible!**"
      ]
    },
    {
      "cell_type": "markdown",
      "metadata": {
        "id": "WYnVvbsEcFMe"
      },
      "source": [
        "## Gaussian Radial Basis Function Kernel:"
      ]
    },
    {
      "cell_type": "markdown",
      "metadata": {
        "id": "Jw7jUKROdv9p"
      },
      "source": [
        "Another technique to tackle nonlinear problems is to add features computed using a similarity function\n",
        "\n",
        "\n",
        "Check this very cool video https://www.youtube.com/watch?v=Z2_yh2sice8"
      ]
    },
    {
      "cell_type": "markdown",
      "metadata": {
        "id": "kWMb_44RdwAw"
      },
      "source": [
        "**Similarity function** measures how much each instance resembles a particular landmark."
      ]
    },
    {
      "cell_type": "markdown",
      "metadata": {
        "id": "O6F0zJd2dwDe"
      },
      "source": [
        "$$𝜑(x_i , l )  = exp^{(γ|x^i - l|)}$$"
      ]
    },
    {
      "cell_type": "markdown",
      "metadata": {
        "id": "B3eImCnpdwGC"
      },
      "source": [
        "Where \n",
        "$$ l$$ is the landmark\n"
      ]
    },
    {
      "cell_type": "markdown",
      "metadata": {
        "id": "gLJzHz9QfIXf"
      },
      "source": [
        "### Gamma Hyper-parameter"
      ]
    },
    {
      "cell_type": "markdown",
      "metadata": {
        "id": "etJ_3y8-fIaH"
      },
      "source": [
        "Gamma is a hyperparameter that controls the distance of influence of a single training point.\n",
        "\n",
        "- Low values of gamma indicates a large similarity radius which results in more points being grouped together.\n",
        "\n",
        "- For high values of gamma, the points need to be very close to each other in order to be considered in the same group (or class). \n",
        "\n",
        "- Therefore, models with very large gamma values tend to overfit."
      ]
    },
    {
      "cell_type": "markdown",
      "metadata": {
        "id": "v9nTajaXfIc-"
      },
      "source": [
        "<img src = https://i.ibb.co/d0C8Dh4/8.jpg>"
      ]
    },
    {
      "cell_type": "markdown",
      "metadata": {
        "id": "ZaGQSe4Mj2xB"
      },
      "source": [
        "### Trade-off between Gamma and C"
      ]
    },
    {
      "cell_type": "markdown",
      "metadata": {
        "id": "tVd6p5QGjrQs"
      },
      "source": [
        "<img src=https://i.ibb.co/xHRWwBj/9.jpg>"
      ]
    },
    {
      "cell_type": "markdown",
      "metadata": {
        "id": "cnC2x5GAj9GR"
      },
      "source": [
        "- Smaller gamma value makes the bell shaped curve wider\n",
        "- Instances have a larger range of influence\n",
        "- The decision boundary ends up smoother.\n"
      ]
    },
    {
      "cell_type": "markdown",
      "metadata": {
        "id": "XVelyVsUkHVF"
      },
      "source": [
        "- Bigger gamma makes the bell shaped curve narrower.\n",
        "- Each instane's range of influence is smaller.\n",
        "- The decision boundary ends up being more irregular, wiggling around individual instances."
      ]
    },
    {
      "cell_type": "markdown",
      "metadata": {
        "id": "HW-Lo0ZckY5B"
      },
      "source": [
        "## Sigmoid Kernel:"
      ]
    },
    {
      "cell_type": "markdown",
      "metadata": {
        "id": "VOj6K05xkY18"
      },
      "source": [
        "$$ 𝝋(x_i,x_j)= \\tanh(ax_i^𝑇 x_𝑗+𝑐)$$"
      ]
    },
    {
      "cell_type": "markdown",
      "metadata": {
        "id": "1XPP0p5rkYzY"
      },
      "source": [
        "- Neural networks use sigmoid as activation function\n",
        "\n",
        "\n",
        "- SVM with a sigmoid kernel is equivalent to 2 layer perceptron"
      ]
    },
    {
      "cell_type": "markdown",
      "metadata": {
        "id": "R8-sQ5QKlKlW"
      },
      "source": [
        "## Cosine Similarity kernel\n",
        "$$ 𝝋(𝑥_𝑖,𝑥_𝑗)= \\frac{𝑥_𝑖^𝑇𝑥_𝑖}{||𝑥_𝑖|||𝑥_𝑗||}$$"
      ]
    },
    {
      "cell_type": "markdown",
      "metadata": {
        "id": "qeDKmoa2lON7"
      },
      "source": [
        "- Popular choice of measuring similarity of text documents\n",
        "- 𝐿2 norm project vectors onto the unit sphere, their dot product is the cosine of the\n",
        "angle between the vectors."
      ]
    },
    {
      "cell_type": "markdown",
      "metadata": {
        "id": "ww4B5Qw2lWcd"
      },
      "source": [
        "## Other Kernel methods:\n",
        "\n",
        "- Chi Square\n",
        "\n",
        "- String \n",
        "\n",
        "- Tree\n",
        "\n",
        "- Graph\n",
        "\n",
        "- Wavelet\n",
        "\n",
        "- and many many more..."
      ]
    },
    {
      "cell_type": "markdown",
      "metadata": {
        "id": "lM3qdFc78L6a"
      },
      "source": [
        "# CODE: SVM with Linear Dataset"
      ]
    },
    {
      "cell_type": "markdown",
      "metadata": {
        "id": "EuSFvToL8Tdn"
      },
      "source": [
        "- We are going to work with Iris Dataset\n"
      ]
    },
    {
      "cell_type": "markdown",
      "metadata": {
        "id": "ylnvmpYc8rqL"
      },
      "source": [
        "## Loading the data\n"
      ]
    },
    {
      "cell_type": "code",
      "metadata": {
        "id": "Bs9i1AGl8KyI"
      },
      "source": [
        "iris = datasets.load_iris()\n",
        "X = iris.data[:, [0, 2]]\n",
        "y = iris.target\n",
        "\n",
        "X, y = shuffle_arrays_unison(arrays=[X, y], random_seed=42)\n",
        "\n",
        "scaler = StandardScaler()\n",
        "scaler.fit(X)\n",
        "\n",
        "X = scaler.transform(X)\n",
        "X_train, y_train = X[:100], y[:100]\n",
        "X_test, y_test = X[100:], y[100:]\n"
      ],
      "execution_count": null,
      "outputs": []
    },
    {
      "cell_type": "markdown",
      "metadata": {
        "id": "W3NYwDnk8yKq"
      },
      "source": [
        "## Training a classifier\n"
      ]
    },
    {
      "cell_type": "code",
      "metadata": {
        "colab": {
          "base_uri": "https://localhost:8080/"
        },
        "id": "RqpS3KfJ8Ykn",
        "outputId": "a21b7ac1-1376-4d94-f296-23294894f418"
      },
      "source": [
        "svm = SVC(C=0.5, kernel='linear')\n",
        "svm.fit(X_train, y_train)"
      ],
      "execution_count": null,
      "outputs": [
        {
          "output_type": "execute_result",
          "data": {
            "text/plain": [
              "SVC(C=0.5, kernel='linear')"
            ]
          },
          "metadata": {
            "tags": []
          },
          "execution_count": 3
        }
      ]
    },
    {
      "cell_type": "code",
      "metadata": {
        "colab": {
          "base_uri": "https://localhost:8080/",
          "height": 620
        },
        "id": "vlA7rUQm8b_R",
        "outputId": "8dea2743-22df-4a71-cde7-cfddc18919ed"
      },
      "source": [
        "\n",
        "# Plotting decision regions\n",
        "plot_decision_regions(X_train, y_train, clf=svm, legend=2)\n",
        "\n",
        "# Adding axes annotations\n",
        "plt.xlabel('sepal length [cm]')\n",
        "plt.ylabel('petal length [cm]')\n",
        "plt.title('SVM on Iris')\n",
        "plt.show()"
      ],
      "execution_count": null,
      "outputs": [
        {
          "output_type": "display_data",
          "data": {
            "image/png": "[encoded data removed]",
            "text/plain": [
              "<Figure size 432x288 with 1 Axes>"
            ]
          },
          "metadata": {
            "tags": []
          }
        }
      ]
    },
    {
      "cell_type": "markdown",
      "metadata": {
        "id": "Kw2YnVi39q7f"
      },
      "source": [
        "## Trying different combinations:"
      ]
    },
    {
      "cell_type": "code",
      "metadata": {
        "colab": {
          "base_uri": "https://localhost:8080/",
          "height": 1000
        },
        "id": "YNWXJOXZ9qf5",
        "outputId": "e6efa6e0-af39-47f6-995a-11f266d64c53"
      },
      "source": [
        "gs = gridspec.GridSpec(2, 2)\n",
        "\n",
        "plt.rcParams['figure.figsize'] = (20, 10)\n",
        "\n",
        "clf1 = SVC(C=0.1, kernel='linear')\n",
        "clf2 = SVC(C=10, kernel='linear')\n",
        "clf3 = SVC(C=20, kernel='poly')\n",
        "clf4 = SVC(C=20, kernel='rbf')\n",
        "scatter_highlight_kwargs = {'s': 50, 'label': 'Test data', 'alpha': 0.7, 'linestyle':'-'}\n",
        "\n",
        "labels = ['C = 0.1 , Linear Kernel' , 'C = 10, Linear Kernel', 'C = 20 , Polynomial Kernel'  ,'C =20 , RBF Kernel']\n",
        "for clf, lab, grd in zip([clf1, clf2, clf3, clf4],\n",
        "                         labels,\n",
        "                         itertools.product([0, 1], repeat=2)):\n",
        "\n",
        "    clf.fit(X_train, y_train)\n",
        "    ax = plt.subplot(gs[grd[0], grd[1]])\n",
        "    fig = plot_decision_regions(X=X_train, y=y_train, clf=clf, legend=2, markers='x^sv<>')\n",
        "    plt.title(lab)\n",
        "\n",
        "plt.show()"
      ],
      "execution_count": null,
      "outputs": [
        {
          "output_type": "display_data",
          "data": {
            "image/png": "[encoded data removed]",
            "text/plain": [
              "<Figure size 1440x720 with 4 Axes>"
            ]
          },
          "metadata": {
            "tags": []
          }
        }
      ]
    },
    {
      "cell_type": "markdown",
      "metadata": {
        "id": "HsiDrq1m-8hi"
      },
      "source": [
        "- Increasing C, increases bias, reduces the variance (we become more tolerant of violations to the margin, margin will widen)\n",
        "\n",
        "- Decreasing C, reduces bias, increases variance (we become less tolerant of violations to the margin, margin narrows)"
      ]
    },
    {
      "cell_type": "markdown",
      "metadata": {
        "id": "hpUYwT58p3s3"
      },
      "source": [
        "# CODE: SVM with a non-linear Dataset"
      ]
    },
    {
      "cell_type": "markdown",
      "metadata": {
        "id": "oo8oz-CNp9oN"
      },
      "source": [
        "We are going to work with a synthatic dataset composed of the XOR gate"
      ]
    },
    {
      "cell_type": "markdown",
      "metadata": {
        "id": "_n7rhYnSqPW1"
      },
      "source": [
        "<img src = https://www.bogotobogo.com/python/scikit-learn/images/svm2/XOR-GATE.png>"
      ]
    },
    {
      "cell_type": "markdown",
      "metadata": {
        "id": "ULMQN1Tdqmt0"
      },
      "source": [
        "## Generate the dataset"
      ]
    },
    {
      "cell_type": "code",
      "metadata": {
        "id": "N9b1uqzylJSB"
      },
      "source": [
        "np.random.seed(0) ## to reproduce the results\n",
        "X_xor = np.random.randn(500, 2) ## Generate 500 itegers\n",
        "y_xor = np.logical_xor(X_xor[:, 0] > 0, X_xor[:,1] > 0, dtype = int) ## Output\n",
        "y_xor = np.where(y_xor, 0 , 1)"
      ],
      "execution_count": null,
      "outputs": []
    },
    {
      "cell_type": "markdown",
      "metadata": {
        "id": "-jUR8_hKJd5z"
      },
      "source": [
        "## Split the dataset\n"
      ]
    },
    {
      "cell_type": "code",
      "metadata": {
        "id": "CDA_5kW_JjrD"
      },
      "source": [
        "\n",
        "X_xor, y_xor = shuffle_arrays_unison(arrays=[X_xor, y_xor], random_seed=42)\n",
        "\n",
        "X_train, y_train = X_xor[:400], y_xor[:400]\n",
        "X_test, y_test = X_xor[400:], y_xor[400:]"
      ],
      "execution_count": null,
      "outputs": []
    },
    {
      "cell_type": "markdown",
      "metadata": {
        "id": "ZT3PrYMjJjHl"
      },
      "source": [
        "## Train Different Kernels"
      ]
    },
    {
      "cell_type": "code",
      "metadata": {
        "colab": {
          "base_uri": "https://localhost:8080/",
          "height": 1000
        },
        "id": "w-fYQ27IJisw",
        "outputId": "6dcac3ac-29db-43d9-d689-ec68b26a8a5d"
      },
      "source": [
        "gs = gridspec.GridSpec(2, 2)\n",
        "\n",
        "fig = plt.figure(figsize=(16,16))\n",
        "\n",
        "clf1 = SVC(C=0.1, kernel='linear')\n",
        "clf2 = SVC(C=10, kernel='linear')\n",
        "clf3 = SVC(C=20, kernel='poly')\n",
        "clf4 = SVC(C=20, kernel='rbf')\n",
        "scatter_highlight_kwargs = {'s': 50, 'label': 'Test data', 'alpha': 0.7, 'linestyle':'-'}\n",
        "\n",
        "labels = ['C = 0.1 , Linear Kernel' , 'C = 10, Linear Kernel', 'C = 20 , Polynomial Kernel'  ,'C =20 , RBF Kernel']\n",
        "for clf, lab, grd in zip([clf1, clf2, clf3, clf4],\n",
        "                         labels,\n",
        "                         itertools.product([0, 1], repeat=2)):\n",
        "\n",
        "    clf.fit(X_train, y_train)\n",
        "    ax = plt.subplot(gs[grd[0], grd[1]])\n",
        "    fig = plot_decision_regions(X=X_train, y=y_train, clf=clf, legend=2, markers='x^sv<>')\n",
        "    plt.title(lab)\n",
        "\n",
        "plt.show()"
      ],
      "execution_count": null,
      "outputs": [
        {
          "output_type": "stream",
          "text": [
            "C:\\Users\\Fatma Moanes\\anaconda3\\lib\\site-packages\\mlxtend\\plotting\\decision_regions.py:244: UserWarning: No contour levels were found within the data range.\n",
            "  ax.contour(xx, yy, Z, cset.levels,\n"
          ],
          "name": "stderr"
        },
        {
          "output_type": "display_data",
          "data": {
            "image/png": "[encoded data removed]",
            "text/plain": [
              "<Figure size 1152x1152 with 4 Axes>"
            ]
          },
          "metadata": {
            "tags": []
          }
        }
      ]
    },
    {
      "cell_type": "code",
      "metadata": {
        "colab": {
          "base_uri": "https://localhost:8080/",
          "height": 1000
        },
        "id": "Vgsx4jQQJdj_",
        "outputId": "b0876527-7d6e-48e6-9c55-3f666592855f"
      },
      "source": [
        "gs = gridspec.GridSpec(2, 2)\n",
        "\n",
        "fig = plt.figure(figsize=(16,16))\n",
        "\n",
        "clf1 = SVC(C=0.5, kernel='rbf', gamma = 0.5)\n",
        "clf2 = SVC(C=5, kernel='rbf', gamma = 5)\n",
        "clf3 = SVC(C=0.5, kernel='rbf', gamma = 5)\n",
        "clf4 = SVC(C=5, kernel='rbf', gamma = 0.5)\n",
        "scatter_highlight_kwargs = {'s': 50, 'label': 'Test data', 'alpha': 0.7, 'linestyle':'-'}\n",
        "\n",
        "labels = ['C = 0.5 , Gamma = 0.5 , RBF Kernel' , 'C = 5, Gamma = 5 , RBF Kernel', 'C = 0.5 , Gamma = 5 , RBF Kernel'  ,'C =5 , Gamma = 0.5, RBF Kernel']\n",
        "for clf, lab, grd in zip([clf1, clf2, clf3, clf4],\n",
        "                         labels,\n",
        "                         itertools.product([0, 1], repeat=2)):\n",
        "\n",
        "    clf.fit(X_train, y_train)\n",
        "    ax = plt.subplot(gs[grd[0], grd[1]])\n",
        "    fig = plot_decision_regions(X=X_train, y=y_train, clf=clf, legend=2, markers='x^sv<>')\n",
        "    plt.title(lab)\n",
        "\n",
        "plt.show()"
      ],
      "execution_count": null,
      "outputs": [
        {
          "output_type": "display_data",
          "data": {
            "image/png": "[encoded data removed]",
            "text/plain": [
              "<Figure size 1152x1152 with 4 Axes>"
            ]
          },
          "metadata": {
            "tags": []
          }
        }
      ]
    },
    {
      "cell_type": "markdown",
      "metadata": {
        "id": "y07ZiroMM_Su"
      },
      "source": [
        "- Smaller gamma value makes the bell shaped curve wider\n",
        "- Instances have a larger range of influence\n",
        "- The decision boundary ends up smoother."
      ]
    },
    {
      "cell_type": "markdown",
      "metadata": {
        "id": "ptGtig_JR3DH"
      },
      "source": [
        "# Cross Validation"
      ]
    },
    {
      "cell_type": "markdown",
      "metadata": {
        "id": "1NezpujVUULG"
      },
      "source": [
        "## Dataset"
      ]
    },
    {
      "cell_type": "markdown",
      "metadata": {
        "id": "oDDf_WETUFcY"
      },
      "source": [
        "We are going to use a Speech Recoginition Dataset!\n",
        "\n",
        "We will follow [this](https://www.kaggle.com/nirajvermafcb/support-vector-machine-detail-analysis) Kernel"
      ]
    },
    {
      "cell_type": "markdown",
      "metadata": {
        "id": "CPAFQqAGUQS9"
      },
      "source": [
        "**[Gender Recognition by Voice and Speech Analysis](https://www.kaggle.com/primaryobjects/voicegender)**\n",
        "\n",
        "- This database was created to identify a voice as male or female, based upon acoustic properties of the voice and speech. \n",
        "\n",
        "\n",
        "- The dataset consists of 3,168 recorded voice samples, collected from male and female speakers. \n",
        "\n",
        "\n",
        "- The voice samples are pre-processed by acoustic analysis in R using the seewave and tuneR packages, with an analyzed frequency range of 0hz-280hz"
      ]
    },
    {
      "cell_type": "markdown",
      "metadata": {
        "id": "r3JAKWaQUte-"
      },
      "source": [
        "### Dataset Features"
      ]
    },
    {
      "cell_type": "markdown",
      "metadata": {
        "id": "riPxv5P1UhRY"
      },
      "source": [
        "The following acoustic properties of each voice are measured and included within the CSV:\n",
        "\n",
        "- meanfreq: mean frequency (in kHz)\n",
        "- sd: standard deviation of frequency\n",
        "- median: median frequency (in kHz)\n",
        "- Q25: first quantile (in kHz)\n",
        "- Q75: third quantile (in kHz)\n",
        "- IQR: interquantile range (in kHz)\n",
        "- skew: skewness (see note in specprop description)\n",
        "- kurt: kurtosis (see note in specprop description)\n",
        "- sp.ent: spectral entropy\n",
        "- sfm: spectral flatness\n",
        "- mode: mode frequency\n",
        "- centroid: frequency centroid (see specprop)\n",
        "- peakf: peak frequency (frequency with highest energy)\n",
        "- meanfun: average of fundamental frequency measured across acoustic signal\n",
        "- minfun: minimum fundamental frequency measured across acoustic signal\n",
        "- maxfun: maximum fundamental frequency measured across acoustic signal\n",
        "- meandom: average of dominant frequency measured across acoustic signal\n",
        "- mindom: minimum of dominant frequency measured across acoustic signal\n",
        "- maxdom: maximum of dominant frequency measured across acoustic signal\n",
        "- dfrange: range of dominant frequency measured across acoustic signal\n",
        "- modindx: modulation index. Calculated as the accumulated absolute - difference between adjacent measurements of fundamental frequencies divided by the frequency range\n",
        "\n",
        "\n",
        "- **label: male or female**"
      ]
    },
    {
      "cell_type": "markdown",
      "metadata": {
        "id": "lrwIXrD_hiDa"
      },
      "source": [
        "## Load the dataset"
      ]
    },
    {
      "cell_type": "code",
      "metadata": {
        "id": "8F3FZp-LhiDa",
        "outputId": "193ac9cc-7712-4b89-98b9-16121a4eecac"
      },
      "source": [
        "df = pd.read_csv(\"voice.csv\")\n",
        "df.head()"
      ],
      "execution_count": null,
      "outputs": [
        {
          "output_type": "error",
          "ename": "FileNotFoundError",
          "evalue": "[Errno 2] No such file or directory: 'voice.csv'",
          "traceback": [
            "\u001b[1;31m---------------------------------------------------------------------------\u001b[0m",
            "\u001b[1;31mFileNotFoundError\u001b[0m                         Traceback (most recent call last)",
            "\u001b[1;32m<ipython-input-10-7f7086d48236>\u001b[0m in \u001b[0;36m<module>\u001b[1;34m\u001b[0m\n\u001b[1;32m----> 1\u001b[1;33m \u001b[0mdf\u001b[0m \u001b[1;33m=\u001b[0m \u001b[0mpd\u001b[0m\u001b[1;33m.\u001b[0m\u001b[0mread_csv\u001b[0m\u001b[1;33m(\u001b[0m\u001b[1;34m\"voice.csv\"\u001b[0m\u001b[1;33m)\u001b[0m\u001b[1;33m\u001b[0m\u001b[1;33m\u001b[0m\u001b[0m\n\u001b[0m\u001b[0;32m      2\u001b[0m \u001b[0mdf\u001b[0m\u001b[1;33m.\u001b[0m\u001b[0mhead\u001b[0m\u001b[1;33m(\u001b[0m\u001b[1;33m)\u001b[0m\u001b[1;33m\u001b[0m\u001b[1;33m\u001b[0m\u001b[0m\n",
            "\u001b[1;32m~\\anaconda3\\lib\\site-packages\\pandas\\io\\parsers.py\u001b[0m in \u001b[0;36mread_csv\u001b[1;34m(filepath_or_buffer, sep, delimiter, header, names, index_col, usecols, squeeze, prefix, mangle_dupe_cols, dtype, engine, converters, true_values, false_values, skipinitialspace, skiprows, skipfooter, nrows, na_values, keep_default_na, na_filter, verbose, skip_blank_lines, parse_dates, infer_datetime_format, keep_date_col, date_parser, dayfirst, cache_dates, iterator, chunksize, compression, thousands, decimal, lineterminator, quotechar, quoting, doublequote, escapechar, comment, encoding, dialect, error_bad_lines, warn_bad_lines, delim_whitespace, low_memory, memory_map, float_precision)\u001b[0m\n\u001b[0;32m    684\u001b[0m     )\n\u001b[0;32m    685\u001b[0m \u001b[1;33m\u001b[0m\u001b[0m\n\u001b[1;32m--> 686\u001b[1;33m     \u001b[1;32mreturn\u001b[0m \u001b[0m_read\u001b[0m\u001b[1;33m(\u001b[0m\u001b[0mfilepath_or_buffer\u001b[0m\u001b[1;33m,\u001b[0m \u001b[0mkwds\u001b[0m\u001b[1;33m)\u001b[0m\u001b[1;33m\u001b[0m\u001b[1;33m\u001b[0m\u001b[0m\n\u001b[0m\u001b[0;32m    687\u001b[0m \u001b[1;33m\u001b[0m\u001b[0m\n\u001b[0;32m    688\u001b[0m \u001b[1;33m\u001b[0m\u001b[0m\n",
            "\u001b[1;32m~\\anaconda3\\lib\\site-packages\\pandas\\io\\parsers.py\u001b[0m in \u001b[0;36m_read\u001b[1;34m(filepath_or_buffer, kwds)\u001b[0m\n\u001b[0;32m    450\u001b[0m \u001b[1;33m\u001b[0m\u001b[0m\n\u001b[0;32m    451\u001b[0m     \u001b[1;31m# Create the parser.\u001b[0m\u001b[1;33m\u001b[0m\u001b[1;33m\u001b[0m\u001b[1;33m\u001b[0m\u001b[0m\n\u001b[1;32m--> 452\u001b[1;33m     \u001b[0mparser\u001b[0m \u001b[1;33m=\u001b[0m \u001b[0mTextFileReader\u001b[0m\u001b[1;33m(\u001b[0m\u001b[0mfp_or_buf\u001b[0m\u001b[1;33m,\u001b[0m \u001b[1;33m**\u001b[0m\u001b[0mkwds\u001b[0m\u001b[1;33m)\u001b[0m\u001b[1;33m\u001b[0m\u001b[1;33m\u001b[0m\u001b[0m\n\u001b[0m\u001b[0;32m    453\u001b[0m \u001b[1;33m\u001b[0m\u001b[0m\n\u001b[0;32m    454\u001b[0m     \u001b[1;32mif\u001b[0m \u001b[0mchunksize\u001b[0m \u001b[1;32mor\u001b[0m \u001b[0miterator\u001b[0m\u001b[1;33m:\u001b[0m\u001b[1;33m\u001b[0m\u001b[1;33m\u001b[0m\u001b[0m\n",
            "\u001b[1;32m~\\anaconda3\\lib\\site-packages\\pandas\\io\\parsers.py\u001b[0m in \u001b[0;36m__init__\u001b[1;34m(self, f, engine, **kwds)\u001b[0m\n\u001b[0;32m    944\u001b[0m             \u001b[0mself\u001b[0m\u001b[1;33m.\u001b[0m\u001b[0moptions\u001b[0m\u001b[1;33m[\u001b[0m\u001b[1;34m\"has_index_names\"\u001b[0m\u001b[1;33m]\u001b[0m \u001b[1;33m=\u001b[0m \u001b[0mkwds\u001b[0m\u001b[1;33m[\u001b[0m\u001b[1;34m\"has_index_names\"\u001b[0m\u001b[1;33m]\u001b[0m\u001b[1;33m\u001b[0m\u001b[1;33m\u001b[0m\u001b[0m\n\u001b[0;32m    945\u001b[0m \u001b[1;33m\u001b[0m\u001b[0m\n\u001b[1;32m--> 946\u001b[1;33m         \u001b[0mself\u001b[0m\u001b[1;33m.\u001b[0m\u001b[0m_make_engine\u001b[0m\u001b[1;33m(\u001b[0m\u001b[0mself\u001b[0m\u001b[1;33m.\u001b[0m\u001b[0mengine\u001b[0m\u001b[1;33m)\u001b[0m\u001b[1;33m\u001b[0m\u001b[1;33m\u001b[0m\u001b[0m\n\u001b[0m\u001b[0;32m    947\u001b[0m \u001b[1;33m\u001b[0m\u001b[0m\n\u001b[0;32m    948\u001b[0m     \u001b[1;32mdef\u001b[0m \u001b[0mclose\u001b[0m\u001b[1;33m(\u001b[0m\u001b[0mself\u001b[0m\u001b[1;33m)\u001b[0m\u001b[1;33m:\u001b[0m\u001b[1;33m\u001b[0m\u001b[1;33m\u001b[0m\u001b[0m\n",
            "\u001b[1;32m~\\anaconda3\\lib\\site-packages\\pandas\\io\\parsers.py\u001b[0m in \u001b[0;36m_make_engine\u001b[1;34m(self, engine)\u001b[0m\n\u001b[0;32m   1176\u001b[0m     \u001b[1;32mdef\u001b[0m \u001b[0m_make_engine\u001b[0m\u001b[1;33m(\u001b[0m\u001b[0mself\u001b[0m\u001b[1;33m,\u001b[0m \u001b[0mengine\u001b[0m\u001b[1;33m=\u001b[0m\u001b[1;34m\"c\"\u001b[0m\u001b[1;33m)\u001b[0m\u001b[1;33m:\u001b[0m\u001b[1;33m\u001b[0m\u001b[1;33m\u001b[0m\u001b[0m\n\u001b[0;32m   1177\u001b[0m         \u001b[1;32mif\u001b[0m \u001b[0mengine\u001b[0m \u001b[1;33m==\u001b[0m \u001b[1;34m\"c\"\u001b[0m\u001b[1;33m:\u001b[0m\u001b[1;33m\u001b[0m\u001b[1;33m\u001b[0m\u001b[0m\n\u001b[1;32m-> 1178\u001b[1;33m             \u001b[0mself\u001b[0m\u001b[1;33m.\u001b[0m\u001b[0m_engine\u001b[0m \u001b[1;33m=\u001b[0m \u001b[0mCParserWrapper\u001b[0m\u001b[1;33m(\u001b[0m\u001b[0mself\u001b[0m\u001b[1;33m.\u001b[0m\u001b[0mf\u001b[0m\u001b[1;33m,\u001b[0m \u001b[1;33m**\u001b[0m\u001b[0mself\u001b[0m\u001b[1;33m.\u001b[0m\u001b[0moptions\u001b[0m\u001b[1;33m)\u001b[0m\u001b[1;33m\u001b[0m\u001b[1;33m\u001b[0m\u001b[0m\n\u001b[0m\u001b[0;32m   1179\u001b[0m         \u001b[1;32melse\u001b[0m\u001b[1;33m:\u001b[0m\u001b[1;33m\u001b[0m\u001b[1;33m\u001b[0m\u001b[0m\n\u001b[0;32m   1180\u001b[0m             \u001b[1;32mif\u001b[0m \u001b[0mengine\u001b[0m \u001b[1;33m==\u001b[0m \u001b[1;34m\"python\"\u001b[0m\u001b[1;33m:\u001b[0m\u001b[1;33m\u001b[0m\u001b[1;33m\u001b[0m\u001b[0m\n",
            "\u001b[1;32m~\\anaconda3\\lib\\site-packages\\pandas\\io\\parsers.py\u001b[0m in \u001b[0;36m__init__\u001b[1;34m(self, src, **kwds)\u001b[0m\n\u001b[0;32m   2006\u001b[0m         \u001b[0mkwds\u001b[0m\u001b[1;33m[\u001b[0m\u001b[1;34m\"usecols\"\u001b[0m\u001b[1;33m]\u001b[0m \u001b[1;33m=\u001b[0m \u001b[0mself\u001b[0m\u001b[1;33m.\u001b[0m\u001b[0musecols\u001b[0m\u001b[1;33m\u001b[0m\u001b[1;33m\u001b[0m\u001b[0m\n\u001b[0;32m   2007\u001b[0m \u001b[1;33m\u001b[0m\u001b[0m\n\u001b[1;32m-> 2008\u001b[1;33m         \u001b[0mself\u001b[0m\u001b[1;33m.\u001b[0m\u001b[0m_reader\u001b[0m \u001b[1;33m=\u001b[0m \u001b[0mparsers\u001b[0m\u001b[1;33m.\u001b[0m\u001b[0mTextReader\u001b[0m\u001b[1;33m(\u001b[0m\u001b[0msrc\u001b[0m\u001b[1;33m,\u001b[0m \u001b[1;33m**\u001b[0m\u001b[0mkwds\u001b[0m\u001b[1;33m)\u001b[0m\u001b[1;33m\u001b[0m\u001b[1;33m\u001b[0m\u001b[0m\n\u001b[0m\u001b[0;32m   2009\u001b[0m         \u001b[0mself\u001b[0m\u001b[1;33m.\u001b[0m\u001b[0munnamed_cols\u001b[0m \u001b[1;33m=\u001b[0m \u001b[0mself\u001b[0m\u001b[1;33m.\u001b[0m\u001b[0m_reader\u001b[0m\u001b[1;33m.\u001b[0m\u001b[0munnamed_cols\u001b[0m\u001b[1;33m\u001b[0m\u001b[1;33m\u001b[0m\u001b[0m\n\u001b[0;32m   2010\u001b[0m \u001b[1;33m\u001b[0m\u001b[0m\n",
            "\u001b[1;32mpandas\\_libs\\parsers.pyx\u001b[0m in \u001b[0;36mpandas._libs.parsers.TextReader.__cinit__\u001b[1;34m()\u001b[0m\n",
            "\u001b[1;32mpandas\\_libs\\parsers.pyx\u001b[0m in \u001b[0;36mpandas._libs.parsers.TextReader._setup_parser_source\u001b[1;34m()\u001b[0m\n",
            "\u001b[1;31mFileNotFoundError\u001b[0m: [Errno 2] No such file or directory: 'voice.csv'"
          ]
        }
      ]
    },
    {
      "cell_type": "markdown",
      "metadata": {
        "id": "54lh5fbshiDa"
      },
      "source": [
        "## Finding correlations"
      ]
    },
    {
      "cell_type": "code",
      "metadata": {
        "id": "g1QBJ6tPhiDb"
      },
      "source": [
        "df.corr()"
      ],
      "execution_count": null,
      "outputs": []
    },
    {
      "cell_type": "markdown",
      "metadata": {
        "id": "p_dWjrBJhiDb"
      },
      "source": [
        "## Any null values?"
      ]
    },
    {
      "cell_type": "code",
      "metadata": {
        "id": "Oog8Bv32hiDb"
      },
      "source": [
        "print(df.isnull().sum())\n",
        "print(\"Total number of labels: {}\".format(df.shape[0]))\n",
        "print(\"Number of male: {}\".format(df[df.label == 'male'].shape[0]))\n",
        "print(\"Number of female: {}\".format(df[df.label == 'female'].shape[0]))\n"
      ],
      "execution_count": null,
      "outputs": []
    },
    {
      "cell_type": "markdown",
      "metadata": {
        "id": "K5vuJPq_hiDc"
      },
      "source": [
        "## Data Seperating, Encoding, and Standarization"
      ]
    },
    {
      "cell_type": "code",
      "metadata": {
        "id": "i1MvRD5NhiDc"
      },
      "source": [
        "X=df.iloc[:, :-1]\n",
        "X.head()\n",
        "\n",
        "## Encoding\n",
        "y=df.iloc[:,-1]\n",
        "gender_encoder = LabelEncoder()\n",
        "y = gender_encoder.fit_transform(y)\n",
        "\n",
        "## Standard\n",
        "scaler = StandardScaler()\n",
        "scaler.fit(X)\n",
        "X = scaler.transform(X)\n",
        "\n",
        "## Splitting\n",
        "\n",
        "X_train, X_test, y_train, y_test = train_test_split(X, y, test_size=0.2, random_state=1)\n"
      ],
      "execution_count": null,
      "outputs": []
    },
    {
      "cell_type": "markdown",
      "metadata": {
        "id": "ZGlRYyiYhiDc"
      },
      "source": [
        "## Running SVM with default hyperparamters"
      ]
    },
    {
      "cell_type": "code",
      "metadata": {
        "id": "ZiqvtDFKhiDc",
        "scrolled": true
      },
      "source": [
        "svc=SVC() #Default hyperparameters\n",
        "svc.fit(X_train,y_train)\n",
        "y_pred=svc.predict(X_test)\n",
        "print('Accuracy Score for default parameters:')\n",
        "print(metrics.accuracy_score(y_test,y_pred))"
      ],
      "execution_count": null,
      "outputs": []
    },
    {
      "cell_type": "markdown",
      "metadata": {
        "id": "ZY39O-A_hiDc"
      },
      "source": [
        "## Running SVM with different Kernels but with their default hyperparameters"
      ]
    },
    {
      "cell_type": "code",
      "metadata": {
        "id": "GHjWg-BZhiDc"
      },
      "source": [
        "svc=SVC(kernel='linear')\n",
        "svc.fit(X_train,y_train)\n",
        "y_pred=svc.predict(X_test)\n",
        "print('Accuracy Score Linear:')\n",
        "print(metrics.accuracy_score(y_test,y_pred))\n",
        "svc=SVC(kernel='rbf')\n",
        "svc.fit(X_train,y_train)\n",
        "y_pred=svc.predict(X_test)\n",
        "print('Accuracy Score RBF:')\n",
        "print(metrics.accuracy_score(y_test,y_pred))\n",
        "svc=SVC(kernel='poly')\n",
        "svc.fit(X_train,y_train)\n",
        "y_pred=svc.predict(X_test)\n",
        "print('Accuracy Score Polynomial:') #Polynomial kernel is performing poorly.The reason behind this maybe it is overfitting the training dataset\n",
        "print(metrics.accuracy_score(y_test,y_pred))"
      ],
      "execution_count": null,
      "outputs": []
    },
    {
      "cell_type": "markdown",
      "metadata": {
        "id": "k918liCThiDd"
      },
      "source": [
        "**From the above analysis, we will investigate different hyperparameters for Linear and RBF kernels only, since Polynomial performance is much worse.**"
      ]
    },
    {
      "cell_type": "markdown",
      "metadata": {
        "id": "6DEhTRpkhiDd"
      },
      "source": [
        "## CV with Linear Kernel"
      ]
    },
    {
      "cell_type": "code",
      "metadata": {
        "id": "SoQONDBkhiDd"
      },
      "source": [
        "svc=SVC(kernel='linear')\n",
        "scores = cross_val_score(svc, X, y, cv=10, scoring='accuracy') #cv is cross validation\n",
        "print(scores)\n",
        "print(scores.mean())"
      ],
      "execution_count": null,
      "outputs": []
    },
    {
      "cell_type": "markdown",
      "metadata": {
        "id": "nve0DR3LhiDd"
      },
      "source": [
        "## CV with RBF Kernel"
      ]
    },
    {
      "cell_type": "code",
      "metadata": {
        "id": "0quNnOsphiDe"
      },
      "source": [
        "svc=SVC(kernel='rbf')\n",
        "scores = cross_val_score(svc, X, y, cv=10, scoring='accuracy') #cv is cross validation\n",
        "print(scores)\n",
        "print(scores.mean())"
      ],
      "execution_count": null,
      "outputs": []
    },
    {
      "cell_type": "markdown",
      "metadata": {
        "id": "0FMC8A8dhiDe"
      },
      "source": [
        "## Check the C hyperparameter in depth for the Linear Kernel"
      ]
    },
    {
      "cell_type": "code",
      "metadata": {
        "id": "mYoF8bbihiDe"
      },
      "source": [
        "C_range=list(range(1,26))\n",
        "acc_score=[]\n",
        "for c in C_range:\n",
        "    svc = SVC(kernel='linear', C=c)\n",
        "    scores = cross_val_score(svc, X, y, cv=10, scoring='accuracy')\n",
        "    acc_score.append(scores.mean())\n",
        "print(acc_score)    \n",
        "# plot the value of C for SVM (x-axis) versus the cross-validated accuracy (y-axis)\n",
        "plt.plot(C_range,acc_score)\n",
        "plt.xticks(np.arange(0,27,2))\n",
        "plt.xlabel('Value of C for SVC')\n",
        "plt.ylabel('Cross-Validated Accuracy')"
      ],
      "execution_count": null,
      "outputs": []
    },
    {
      "cell_type": "markdown",
      "metadata": {
        "id": "vLLsYKFbhiDf"
      },
      "source": [
        "**From the above plot we can see that accuracy has been close to 97% for C=1 and C=6 and then it drops around 96.8% and remains constant.**\n",
        "\n"
      ]
    },
    {
      "cell_type": "code",
      "metadata": {
        "id": "T2jXTS3bhiDf"
      },
      "source": [
        "C_range=list(np.arange(0.1,6,0.1))\n",
        "acc_score=[]\n",
        "for c in C_range:\n",
        "    svc = SVC(kernel='linear', C=c)\n",
        "    scores = cross_val_score(svc, X, y, cv=10, scoring='accuracy')\n",
        "    acc_score.append(scores.mean())\n",
        "print(acc_score)   \n",
        "# plot the value of C for SVM (x-axis) versus the cross-validated accuracy (y-axis)\n",
        "plt.plot(C_range,acc_score)\n",
        "plt.xticks(np.arange(0.0,6,0.3))\n",
        "plt.xlabel('Value of C for SVC ')\n",
        "plt.ylabel('Cross-Validated Accuracy')"
      ],
      "execution_count": null,
      "outputs": []
    },
    {
      "cell_type": "markdown",
      "metadata": {
        "id": "c9qN7EsehiDf"
      },
      "source": [
        "## Check The Gamma hyperparameter in RBF Kernel"
      ]
    },
    {
      "cell_type": "code",
      "metadata": {
        "id": "p7UVlPPAhiDf"
      },
      "source": [
        "gamma_range=[0.0001,0.001,0.01,0.1,1,10,100]\n",
        "acc_score=[]\n",
        "for g in gamma_range:\n",
        "    svc = SVC(kernel='rbf', gamma=g)\n",
        "    scores = cross_val_score(svc, X, y, cv=10, scoring='accuracy')\n",
        "    acc_score.append(scores.mean())\n",
        "print(acc_score)    \n",
        "\n",
        "plt.plot(gamma_range,acc_score)\n",
        "plt.xlabel('Value of gamma for SVC ')\n",
        "plt.xticks(np.arange(0.0001,100,5))\n",
        "plt.ylabel('Cross-Validated Accuracy')"
      ],
      "execution_count": null,
      "outputs": []
    },
    {
      "cell_type": "markdown",
      "metadata": {
        "id": "xgMxXc3UhiDg"
      },
      "source": [
        "**We can see that for gamma=10 and 100 the kernel is performing poorly.We can also see a slight dip in accuracy score when gamma is 1.Let us look into more details for the range 0.0001 to 0.1.**\n",
        "\n"
      ]
    },
    {
      "cell_type": "code",
      "metadata": {
        "id": "HTVgK-o1hiDh"
      },
      "source": [
        "gamma_range=[0.0001,0.001,0.01,0.1]\n",
        "acc_score=[]\n",
        "for g in gamma_range:\n",
        "    svc = SVC(kernel='rbf', gamma=g)\n",
        "    scores = cross_val_score(svc, X, y, cv=10, scoring='accuracy')\n",
        "    acc_score.append(scores.mean())\n",
        "print(acc_score)    \n",
        "# plot the value of C for SVM (x-axis) versus the cross-validated accuracy (y-axis)\n",
        "plt.plot(gamma_range,acc_score)\n",
        "plt.xlabel('Value of gamma for SVC ')\n",
        "plt.ylabel('Cross-Validated Accuracy')"
      ],
      "execution_count": null,
      "outputs": []
    },
    {
      "cell_type": "markdown",
      "metadata": {
        "id": "8uiZ7fxphiDh"
      },
      "source": [
        "**The score increases steadily and raches its peak at 0.01 and then decreases till gamma=1.Thus Gamma should be around 0.01.**"
      ]
    },
    {
      "cell_type": "code",
      "metadata": {
        "id": "7Gv34PmDhiDh"
      },
      "source": [
        "gamma_range=[0.01,0.02,0.03,0.04,0.05]\n",
        "acc_score=[]\n",
        "for g in gamma_range:\n",
        "    svc = SVC(kernel='rbf', gamma=g)\n",
        "    scores = cross_val_score(svc, X, y, cv=10, scoring='accuracy')\n",
        "    acc_score.append(scores.mean())\n",
        "print(acc_score)    \n",
        "gamma_range=[0.01,0.02,0.03,0.04,0.05]\n",
        "\n",
        "# plot the value of C for SVM (x-axis) versus the cross-validated accuracy (y-axis)\n",
        "plt.plot(gamma_range,acc_score)\n",
        "plt.xlabel('Value of gamma for SVC ')\n",
        "plt.ylabel('Cross-Validated Accuracy')"
      ],
      "execution_count": null,
      "outputs": []
    },
    {
      "cell_type": "markdown",
      "metadata": {
        "id": "ApFP-zj_hiDi"
      },
      "source": [
        "## Grid Search"
      ]
    },
    {
      "cell_type": "code",
      "metadata": {
        "id": "m_U9zOAihiDi"
      },
      "source": [
        "tuned_parameters = {\n",
        "    'C':  (np.arange(0.1,1,0.1)),\n",
        "        'gamma':[0.01,0.02,0.03,0.04,0.05],\n",
        "    \n",
        "     \"kernel\":[ 'rbf', 'linear']\n",
        "\n",
        "}\n",
        "svm_model= SVC()\n",
        "\n",
        "model_svm = GridSearchCV(svm_model, tuned_parameters,cv=10,scoring='accuracy')\n",
        "model_svm.fit(X_train, y_train)\n",
        "print(model_svm.best_score_)\n",
        "print(model_svm.best_score_)\n",
        "print(model_svm.best_params_)\n"
      ],
      "execution_count": null,
      "outputs": []
    },
    {
      "cell_type": "code",
      "metadata": {
        "id": "horquEEVhiDi"
      },
      "source": [
        "y_pred= model_svm.predict(X_test)\n",
        "print(metrics.accuracy_score(y_pred,y_test))"
      ],
      "execution_count": null,
      "outputs": []
    },
    {
      "cell_type": "markdown",
      "metadata": {
        "id": "wn_ajifDR38Y"
      },
      "source": [
        "# Multi-class SVM"
      ]
    },
    {
      "cell_type": "markdown",
      "metadata": {
        "id": "KrMPHqUMR7IW"
      },
      "source": [
        "SVM only considers two classes\n",
        "\n",
        "For m-class classification problem:\n",
        "- SVM 1 learns “Output==1” vs “Output != 1”\n",
        "- SVM 2 learns “Output==2” vs “Output != 2”\n",
        "\n",
        "- SVM m learns “Output==m” vs “Output != m”\n",
        "\n",
        "\n",
        " To predict the output for a new input, just predict with each SVM\n",
        "and find out which one puts the prediction the furthest into the\n",
        "positive region"
      ]
    },
    {
      "cell_type": "markdown",
      "metadata": {
        "id": "bARt2jLmhiDj"
      },
      "source": [
        "# SVM for Regression"
      ]
    },
    {
      "cell_type": "markdown",
      "metadata": {
        "id": "eDgKABguhiDj"
      },
      "source": [
        "We can use SVMs for regression instead of classification.\n",
        "\n",
        "- the trick is to reverse the objective\n",
        "\n",
        "\n",
        "- instead of trying to fit the largest possible margin between two classes while limiting margin violations.\n",
        "\n",
        "\n",
        "- SVM Regression tries to fit as many instances as possible on the street while limiting margin violations (i.e., instances off the street)."
      ]
    },
    {
      "cell_type": "markdown",
      "metadata": {
        "id": "14ri0f3lhiDj"
      },
      "source": [
        "<img src=https://i.ibb.co/v1X2V9P/10.jpg>"
      ]
    },
    {
      "cell_type": "markdown",
      "metadata": {
        "id": "wfQCkURnR6_Q"
      },
      "source": [
        "# Resources:"
      ]
    },
    {
      "cell_type": "markdown",
      "metadata": {
        "id": "3Ax61AxdO32G"
      },
      "source": [
        "This lab took a lot of time and resources to prepare. \n",
        "Take a look at the resourcses below. They are super helpful!"
      ]
    },
    {
      "cell_type": "markdown",
      "metadata": {
        "id": "FVaRn5qsPD63"
      },
      "source": [
        "http://rasbt.github.io/mlxtend/user_guide/plotting/plot_decision_regions\n",
        "\n",
        "\n",
        "https://www.bogotobogo.com/python/scikit-learn/scikit_machine_learning_Support_Vector_Machines_SVM_2.php\n",
        "\n",
        "\n",
        "https://towardsdatascience.com/understanding-the-kernel-trick-e0bc6112ef78\n",
        "\n",
        "\n",
        "https://www.datasciencecentral.com/profiles/blogs/implementing-a-soft-margin-kernelized-support-vector-machine\n",
        "https://towardsdatascience.com/support-vector-machines-svm-c9ef22815589\n",
        "\n",
        "https://www.cs.umd.edu/~samir/498/SVM.pdf\n",
        "\n",
        "https://people.csail.mit.edu/dsontag/courses/ml14/slides/lecture2.pdf\n",
        "\n",
        "https://www.vebuso.com/2020/02/a-top-machine-learning-algorithm-explained-support-vector-machines-svms/\n",
        "\n",
        "\n",
        "https://www.analyticsvidhya.com/blog/2017/09/understaing-support-vector-machine-example-code/\n",
        "\n",
        "https://towardsdatascience.com/support-vector-machine-simply-explained-fee28eba5496\n",
        "\n",
        "\n",
        "https://towardsdatascience.com/support-vector-machines-svm-c9ef22815589\n",
        "\n",
        "http://web.mit.edu/6.034/wwwbob/svm.pdf\n",
        "\n",
        "Hands on machine learning with scikit learn and tensorflow by Aurélien Géron , Chapter\n",
        "\n"
      ]
    },
    {
      "cell_type": "markdown",
      "metadata": {
        "id": "3Q2pn11GSAFy"
      },
      "source": [
        "# Tasks"
      ]
    },
    {
      "cell_type": "markdown",
      "metadata": {
        "id": "6l4nx-wnhiDm"
      },
      "source": [
        "- Task 1  [7 Points]: Work with [Amazon Fine Food Reviews dataset](https://www.kaggle.com/snap/amazon-fine-food-reviews)\n",
        "    - Perform proper preprocessing and visualization\n",
        "    - Perform proper hyperparameter tuning **-SVM-**. JUSTIFY ALL THE HYPERPARAMETER VALUES\n",
        "    - **Hint**: Check [this](https://towardsdatascience.com/support-vector-machines-svm-c9ef22815589) tutorial and this [kernel](https://www.kaggle.com/laowingkin/amazon-fine-food-review-sentiment-analysis) for help "
      ]
    },
    {
      "cell_type": "markdown",
      "metadata": {
        "id": "Hjh9mnP4zlMo"
      },
      "source": [
        "## Reading the Dataset"
      ]
    },
    {
      "cell_type": "code",
      "metadata": {
        "colab": {
          "resources": {
            "http://localhost:8080/nbextensions/google.colab/files.js": {
              "data": "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",
              "ok": true,
              "headers": [
                [
                  "content-type",
                  "application/javascript"
                ]
              ],
              "status": 200,
              "status_text": ""
            }
          },
          "base_uri": "https://localhost:8080/",
          "height": 537
        },
        "id": "Yi7ME0fvjHzu",
        "outputId": "bc0ec742-e3d6-4b74-afa7-67e65845aed3"
      },
      "source": [
        "! pip install -q kaggle\n",
        "\n",
        "files.upload() # Browse for the kaggle.json file that you downloaded\n",
        "\n",
        "# Make directory named kaggle, copy kaggle.json file there, and change the permissions of the file.\n",
        "! mkdir ~/.kaggle\n",
        "! cp kaggle.json ~/.kaggle/\n",
        "! chmod 600 ~/.kaggle/kaggle.json\n",
        "\n",
        "# You can check if everything's okay by running this command.\n",
        "! kaggle datasets list\n",
        "\n",
        "# Download and unzip sign-language-mnist dataset into '/usr/local'\n",
        "! kaggle datasets download -d snap/amazon-fine-food-reviews "
      ],
      "execution_count": null,
      "outputs": [
        {
          "output_type": "display_data",
          "data": {
            "text/html": [
              "\n",
              "     <input type=\"file\" id=\"files-d59d8b73-5b92-40e9-8ba5-10c8419b4806\" name=\"files[]\" multiple disabled\n",
              "        style=\"border:none\" />\n",
              "     <output id=\"result-d59d8b73-5b92-40e9-8ba5-10c8419b4806\">\n",
              "      Upload widget is only available when the cell has been executed in the\n",
              "      current browser session. Please rerun this cell to enable.\n",
              "      </output>\n",
              "      <script src=\"/nbextensions/google.colab/files.js\"></script> "
            ],
            "text/plain": [
              "<IPython.core.display.HTML object>"
            ]
          },
          "metadata": {
            "tags": []
          }
        },
        {
          "output_type": "stream",
          "text": [
            "Saving kaggle.json to kaggle (1).json\n",
            "mkdir: cannot create directory ‘/root/.kaggle’: File exists\n",
            "Warning: Looks like you're using an outdated API Version, please consider updating (server 1.5.10 / client 1.5.4)\n",
            "ref                                                            title                                               size  lastUpdated          downloadCount  \n",
            "-------------------------------------------------------------  -------------------------------------------------  -----  -------------------  -------------  \n",
            "arashnic/hr-analytics-job-change-of-data-scientists            HR Analytics: Job Change of Data Scientists        295KB  2020-12-07 00:25:10           1192  \n",
            "babyoda/access-to-computers-from-home-oecd                     Access to Computers From Home OECD                   3KB  2020-12-04 10:50:09            100  \n",
            "shashwatwork/impact-of-covid19-pandemic-on-the-global-economy  Impact of Covid-19 Pandemic on the Global Economy    1MB  2020-11-29 14:16:30            602  \n",
            "emmanuelleai/world-marathons-majors                            World Marathons Majors                               7KB  2020-12-06 19:24:28            118  \n",
            "mrmorj/dataset-of-songs-in-spotify                             Dataset of songs in Spotify                          3MB  2020-12-06 09:46:55            282  \n",
            "boramalper/scihub-papers                                       Sci-Hub Papers                                       6GB  2020-12-06 04:10:54              8  \n",
            "juicobowley/drake-lyrics                                       Drake Lyrics                                       764KB  2020-11-27 01:00:52             59  \n",
            "kavisekar/oecd-unemployment-rate-2020                          OECD Unemployment rate (2020)                        3KB  2020-12-07 15:37:38            108  \n",
            "kingabzpro/datascience-survey-on-kaggle                        data science survey on Kaggle                      129KB  2020-11-24 19:04:19             53  \n",
            "sakshigoyal7/credit-card-customers                             Credit Card customers                              379KB  2020-11-19 07:38:44          12286  \n",
            "szymonjanowski/internet-articles-data-with-users-engagement    Internet news data with readers engagement           3MB  2020-11-21 17:09:57           3459  \n",
            "sootersaalu/amazon-top-50-bestselling-books-2009-2019          Amazon Top 50 Bestselling Books 2009 - 2019         15KB  2020-10-13 09:39:21          10621  \n",
            "alexgude/california-traffic-collision-data-from-switrs         California Traffic Collision Data from SWITRS        1GB  2020-11-22 16:51:55           2136  \n",
            "babyoda/women-entrepreneurship-and-labor-force                 Women Entrepreneurship and Labor Force               1KB  2020-11-21 08:38:51           5110  \n",
            "shivamb/netflix-shows                                          Netflix Movies and TV Shows                        971KB  2020-01-20 07:33:56          76854  \n",
            "yamaerenay/spotify-dataset-19212020-160k-tracks                Spotify Dataset 1921-2020, 160k+ Tracks             16MB  2020-11-25 21:14:12          13081  \n",
            "patrickb1912/ipl-complete-dataset-20082020                     IPL Complete Dataset (2008-2020)                     1MB  2020-11-23 06:53:37           2719  \n",
            "manchunhui/us-election-2020-tweets                             US Election 2020 Tweets                            353MB  2020-11-09 18:51:59           5435  \n",
            "imoore/2020-us-general-election-turnout-rates                  2020 US General Election Turnout rates               4KB  2020-11-26 00:21:15           3610  \n",
            "google/tinyquickdraw                                           QuickDraw Sketches                                  11GB  2018-04-18 19:38:04           2653  \n",
            "amazon-fine-food-reviews.zip: Skipping, found more recently modified local copy (use --force to force download)\n"
          ],
          "name": "stdout"
        }
      ]
    },
    {
      "cell_type": "code",
      "metadata": {
        "colab": {
          "base_uri": "https://localhost:8080/"
        },
        "id": "z30knzuvxN63",
        "outputId": "559619b6-ef7f-4d0b-bb6d-270b4a26f26d"
      },
      "source": [
        "! mkdir train\n",
        "! unzip amazon-fine-food-reviews.zip -d train"
      ],
      "execution_count": null,
      "outputs": [
        {
          "output_type": "stream",
          "text": [
            "mkdir: cannot create directory ‘train’: File exists\n",
            "Archive:  amazon-fine-food-reviews.zip\n",
            "replace train/Reviews.csv? [y]es, [n]o, [A]ll, [N]one, [r]ename: no\n",
            "replace train/database.sqlite? [y]es, [n]o, [A]ll, [N]one, [r]ename: no\n",
            "replace train/hashes.txt? [y]es, [n]o, [A]ll, [N]one, [r]ename: no\n"
          ],
          "name": "stdout"
        }
      ]
    },
    {
      "cell_type": "code",
      "metadata": {
        "id": "WL8BCyPMoz9G"
      },
      "source": [
        "df = pd.read_csv('train/Reviews.csv')"
      ],
      "execution_count": null,
      "outputs": []
    },
    {
      "cell_type": "markdown",
      "metadata": {
        "id": "deE9yUECjNyb"
      },
      "source": [
        "## Preprocessing"
      ]
    },
    {
      "cell_type": "code",
      "metadata": {
        "colab": {
          "base_uri": "https://localhost:8080/",
          "height": 431
        },
        "id": "izqUtbwhjLEl",
        "outputId": "fa0f1429-bc75-4402-8c7f-552c33489554"
      },
      "source": [
        "df.head()"
      ],
      "execution_count": null,
      "outputs": [
        {
          "output_type": "execute_result",
          "data": {
            "text/html": [
              "<div>\n",
              "<style scoped>\n",
              "    .dataframe tbody tr th:only-of-type {\n",
              "        vertical-align: middle;\n",
              "    }\n",
              "\n",
              "    .dataframe tbody tr th {\n",
              "        vertical-align: top;\n",
              "    }\n",
              "\n",
              "    .dataframe thead th {\n",
              "        text-align: right;\n",
              "    }\n",
              "</style>\n",
              "<table border=\"1\" class=\"dataframe\">\n",
              "  <thead>\n",
              "    <tr style=\"text-align: right;\">\n",
              "      <th></th>\n",
              "      <th>Id</th>\n",
              "      <th>ProductId</th>\n",
              "      <th>UserId</th>\n",
              "      <th>ProfileName</th>\n",
              "      <th>HelpfulnessNumerator</th>\n",
              "      <th>HelpfulnessDenominator</th>\n",
              "      <th>Score</th>\n",
              "      <th>Time</th>\n",
              "      <th>Summary</th>\n",
              "      <th>Text</th>\n",
              "    </tr>\n",
              "  </thead>\n",
              "  <tbody>\n",
              "    <tr>\n",
              "      <th>0</th>\n",
              "      <td>1</td>\n",
              "      <td>B001E4KFG0</td>\n",
              "      <td>A3SGXH7AUHU8GW</td>\n",
              "      <td>delmartian</td>\n",
              "      <td>1</td>\n",
              "      <td>1</td>\n",
              "      <td>5</td>\n",
              "      <td>1303862400</td>\n",
              "      <td>Good Quality Dog Food</td>\n",
              "      <td>I have bought several of the Vitality canned d...</td>\n",
              "    </tr>\n",
              "    <tr>\n",
              "      <th>1</th>\n",
              "      <td>2</td>\n",
              "      <td>B00813GRG4</td>\n",
              "      <td>A1D87F6ZCVE5NK</td>\n",
              "      <td>dll pa</td>\n",
              "      <td>0</td>\n",
              "      <td>0</td>\n",
              "      <td>1</td>\n",
              "      <td>1346976000</td>\n",
              "      <td>Not as Advertised</td>\n",
              "      <td>Product arrived labeled as Jumbo Salted Peanut...</td>\n",
              "    </tr>\n",
              "    <tr>\n",
              "      <th>2</th>\n",
              "      <td>3</td>\n",
              "      <td>B000LQOCH0</td>\n",
              "      <td>ABXLMWJIXXAIN</td>\n",
              "      <td>Natalia Corres \"Natalia Corres\"</td>\n",
              "      <td>1</td>\n",
              "      <td>1</td>\n",
              "      <td>4</td>\n",
              "      <td>1219017600</td>\n",
              "      <td>\"Delight\" says it all</td>\n",
              "      <td>This is a confection that has been around a fe...</td>\n",
              "    </tr>\n",
              "    <tr>\n",
              "      <th>3</th>\n",
              "      <td>4</td>\n",
              "      <td>B000UA0QIQ</td>\n",
              "      <td>A395BORC6FGVXV</td>\n",
              "      <td>Karl</td>\n",
              "      <td>3</td>\n",
              "      <td>3</td>\n",
              "      <td>2</td>\n",
              "      <td>1307923200</td>\n",
              "      <td>Cough Medicine</td>\n",
              "      <td>If you are looking for the secret ingredient i...</td>\n",
              "    </tr>\n",
              "    <tr>\n",
              "      <th>4</th>\n",
              "      <td>5</td>\n",
              "      <td>B006K2ZZ7K</td>\n",
              "      <td>A1UQRSCLF8GW1T</td>\n",
              "      <td>Michael D. Bigham \"M. Wassir\"</td>\n",
              "      <td>0</td>\n",
              "      <td>0</td>\n",
              "      <td>5</td>\n",
              "      <td>1350777600</td>\n",
              "      <td>Great taffy</td>\n",
              "      <td>Great taffy at a great price.  There was a wid...</td>\n",
              "    </tr>\n",
              "  </tbody>\n",
              "</table>\n",
              "</div>"
            ],
            "text/plain": [
              "   Id  ...                                               Text\n",
              "0   1  ...  I have bought several of the Vitality canned d...\n",
              "1   2  ...  Product arrived labeled as Jumbo Salted Peanut...\n",
              "2   3  ...  This is a confection that has been around a fe...\n",
              "3   4  ...  If you are looking for the secret ingredient i...\n",
              "4   5  ...  Great taffy at a great price.  There was a wid...\n",
              "\n",
              "[5 rows x 10 columns]"
            ]
          },
          "metadata": {
            "tags": []
          },
          "execution_count": 8
        }
      ]
    },
    {
      "cell_type": "code",
      "metadata": {
        "colab": {
          "base_uri": "https://localhost:8080/"
        },
        "id": "iC9KIUWzyeVr",
        "outputId": "585fa01c-20a3-445b-bfa9-557cc19ec64d"
      },
      "source": [
        "df.info()"
      ],
      "execution_count": null,
      "outputs": [
        {
          "output_type": "stream",
          "text": [
            "<class 'pandas.core.frame.DataFrame'>\n",
            "RangeIndex: 568454 entries, 0 to 568453\n",
            "Data columns (total 10 columns):\n",
            " #   Column                  Non-Null Count   Dtype \n",
            "---  ------                  --------------   ----- \n",
            " 0   Id                      568454 non-null  int64 \n",
            " 1   ProductId               568454 non-null  object\n",
            " 2   UserId                  568454 non-null  object\n",
            " 3   ProfileName             568438 non-null  object\n",
            " 4   HelpfulnessNumerator    568454 non-null  int64 \n",
            " 5   HelpfulnessDenominator  568454 non-null  int64 \n",
            " 6   Score                   568454 non-null  int64 \n",
            " 7   Time                    568454 non-null  int64 \n",
            " 8   Summary                 568427 non-null  object\n",
            " 9   Text                    568454 non-null  object\n",
            "dtypes: int64(5), object(5)\n",
            "memory usage: 43.4+ MB\n"
          ],
          "name": "stdout"
        }
      ]
    },
    {
      "cell_type": "code",
      "metadata": {
        "colab": {
          "base_uri": "https://localhost:8080/",
          "height": 407
        },
        "id": "BPW03Eb6dcD3",
        "outputId": "345b3749-70a7-442d-ba3c-850086141235"
      },
      "source": [
        "df.describe(percentiles=[0.25,0.5,0.75,0.8,0.85,0.9,0.95])"
      ],
      "execution_count": null,
      "outputs": [
        {
          "output_type": "execute_result",
          "data": {
            "text/html": [
              "<div>\n",
              "<style scoped>\n",
              "    .dataframe tbody tr th:only-of-type {\n",
              "        vertical-align: middle;\n",
              "    }\n",
              "\n",
              "    .dataframe tbody tr th {\n",
              "        vertical-align: top;\n",
              "    }\n",
              "\n",
              "    .dataframe thead th {\n",
              "        text-align: right;\n",
              "    }\n",
              "</style>\n",
              "<table border=\"1\" class=\"dataframe\">\n",
              "  <thead>\n",
              "    <tr style=\"text-align: right;\">\n",
              "      <th></th>\n",
              "      <th>Id</th>\n",
              "      <th>HelpfulnessNumerator</th>\n",
              "      <th>HelpfulnessDenominator</th>\n",
              "      <th>Score</th>\n",
              "      <th>Time</th>\n",
              "    </tr>\n",
              "  </thead>\n",
              "  <tbody>\n",
              "    <tr>\n",
              "      <th>count</th>\n",
              "      <td>568454.000000</td>\n",
              "      <td>568454.000000</td>\n",
              "      <td>568454.00000</td>\n",
              "      <td>568454.000000</td>\n",
              "      <td>5.684540e+05</td>\n",
              "    </tr>\n",
              "    <tr>\n",
              "      <th>mean</th>\n",
              "      <td>284227.500000</td>\n",
              "      <td>1.743817</td>\n",
              "      <td>2.22881</td>\n",
              "      <td>4.183199</td>\n",
              "      <td>1.296257e+09</td>\n",
              "    </tr>\n",
              "    <tr>\n",
              "      <th>std</th>\n",
              "      <td>164098.679298</td>\n",
              "      <td>7.636513</td>\n",
              "      <td>8.28974</td>\n",
              "      <td>1.310436</td>\n",
              "      <td>4.804331e+07</td>\n",
              "    </tr>\n",
              "    <tr>\n",
              "      <th>min</th>\n",
              "      <td>1.000000</td>\n",
              "      <td>0.000000</td>\n",
              "      <td>0.00000</td>\n",
              "      <td>1.000000</td>\n",
              "      <td>9.393408e+08</td>\n",
              "    </tr>\n",
              "    <tr>\n",
              "      <th>25%</th>\n",
              "      <td>142114.250000</td>\n",
              "      <td>0.000000</td>\n",
              "      <td>0.00000</td>\n",
              "      <td>4.000000</td>\n",
              "      <td>1.271290e+09</td>\n",
              "    </tr>\n",
              "    <tr>\n",
              "      <th>50%</th>\n",
              "      <td>284227.500000</td>\n",
              "      <td>0.000000</td>\n",
              "      <td>1.00000</td>\n",
              "      <td>5.000000</td>\n",
              "      <td>1.311120e+09</td>\n",
              "    </tr>\n",
              "    <tr>\n",
              "      <th>75%</th>\n",
              "      <td>426340.750000</td>\n",
              "      <td>2.000000</td>\n",
              "      <td>2.00000</td>\n",
              "      <td>5.000000</td>\n",
              "      <td>1.332720e+09</td>\n",
              "    </tr>\n",
              "    <tr>\n",
              "      <th>80%</th>\n",
              "      <td>454763.400000</td>\n",
              "      <td>2.000000</td>\n",
              "      <td>3.00000</td>\n",
              "      <td>5.000000</td>\n",
              "      <td>1.336608e+09</td>\n",
              "    </tr>\n",
              "    <tr>\n",
              "      <th>85%</th>\n",
              "      <td>483186.050000</td>\n",
              "      <td>3.000000</td>\n",
              "      <td>4.00000</td>\n",
              "      <td>5.000000</td>\n",
              "      <td>1.340582e+09</td>\n",
              "    </tr>\n",
              "    <tr>\n",
              "      <th>90%</th>\n",
              "      <td>511608.700000</td>\n",
              "      <td>4.000000</td>\n",
              "      <td>5.00000</td>\n",
              "      <td>5.000000</td>\n",
              "      <td>1.344470e+09</td>\n",
              "    </tr>\n",
              "    <tr>\n",
              "      <th>95%</th>\n",
              "      <td>540031.350000</td>\n",
              "      <td>7.000000</td>\n",
              "      <td>9.00000</td>\n",
              "      <td>5.000000</td>\n",
              "      <td>1.348013e+09</td>\n",
              "    </tr>\n",
              "    <tr>\n",
              "      <th>max</th>\n",
              "      <td>568454.000000</td>\n",
              "      <td>866.000000</td>\n",
              "      <td>923.00000</td>\n",
              "      <td>5.000000</td>\n",
              "      <td>1.351210e+09</td>\n",
              "    </tr>\n",
              "  </tbody>\n",
              "</table>\n",
              "</div>"
            ],
            "text/plain": [
              "                  Id  HelpfulnessNumerator  ...          Score          Time\n",
              "count  568454.000000         568454.000000  ...  568454.000000  5.684540e+05\n",
              "mean   284227.500000              1.743817  ...       4.183199  1.296257e+09\n",
              "std    164098.679298              7.636513  ...       1.310436  4.804331e+07\n",
              "min         1.000000              0.000000  ...       1.000000  9.393408e+08\n",
              "25%    142114.250000              0.000000  ...       4.000000  1.271290e+09\n",
              "50%    284227.500000              0.000000  ...       5.000000  1.311120e+09\n",
              "75%    426340.750000              2.000000  ...       5.000000  1.332720e+09\n",
              "80%    454763.400000              2.000000  ...       5.000000  1.336608e+09\n",
              "85%    483186.050000              3.000000  ...       5.000000  1.340582e+09\n",
              "90%    511608.700000              4.000000  ...       5.000000  1.344470e+09\n",
              "95%    540031.350000              7.000000  ...       5.000000  1.348013e+09\n",
              "max    568454.000000            866.000000  ...       5.000000  1.351210e+09\n",
              "\n",
              "[12 rows x 5 columns]"
            ]
          },
          "metadata": {
            "tags": []
          },
          "execution_count": 10
        }
      ]
    },
    {
      "cell_type": "code",
      "metadata": {
        "colab": {
          "base_uri": "https://localhost:8080/"
        },
        "id": "Ct7XY3mKdcD3",
        "outputId": "4fa48b30-d3fd-49a2-daff-f6b365e17dda"
      },
      "source": [
        "df.isnull().sum()"
      ],
      "execution_count": null,
      "outputs": [
        {
          "output_type": "execute_result",
          "data": {
            "text/plain": [
              "Id                         0\n",
              "ProductId                  0\n",
              "UserId                     0\n",
              "ProfileName               16\n",
              "HelpfulnessNumerator       0\n",
              "HelpfulnessDenominator     0\n",
              "Score                      0\n",
              "Time                       0\n",
              "Summary                   27\n",
              "Text                       0\n",
              "dtype: int64"
            ]
          },
          "metadata": {
            "tags": []
          },
          "execution_count": 11
        }
      ]
    },
    {
      "cell_type": "code",
      "metadata": {
        "colab": {
          "base_uri": "https://localhost:8080/"
        },
        "id": "Rh8wWAvydcD4",
        "outputId": "630c919e-1c08-4fec-81e3-711333cb714c"
      },
      "source": [
        "df.duplicated().sum()"
      ],
      "execution_count": null,
      "outputs": [
        {
          "output_type": "execute_result",
          "data": {
            "text/plain": [
              "0"
            ]
          },
          "metadata": {
            "tags": []
          },
          "execution_count": 12
        }
      ]
    },
    {
      "cell_type": "code",
      "metadata": {
        "colab": {
          "base_uri": "https://localhost:8080/"
        },
        "id": "qkPGtlORdcD6",
        "outputId": "73b697c6-2438-4ec7-a56b-595d31e5d882"
      },
      "source": [
        "df['ProfileName'].duplicated().sum()"
      ],
      "execution_count": null,
      "outputs": [
        {
          "output_type": "execute_result",
          "data": {
            "text/plain": [
              "350037"
            ]
          },
          "metadata": {
            "tags": []
          },
          "execution_count": 13
        }
      ]
    },
    {
      "cell_type": "code",
      "metadata": {
        "colab": {
          "base_uri": "https://localhost:8080/"
        },
        "id": "bNZ3xmcEdcD6",
        "outputId": "d0afb2c2-faab-40c0-cbe4-8c24404e9b39"
      },
      "source": [
        "df['ProductId'].duplicated().sum()"
      ],
      "execution_count": null,
      "outputs": [
        {
          "output_type": "execute_result",
          "data": {
            "text/plain": [
              "494196"
            ]
          },
          "metadata": {
            "tags": []
          },
          "execution_count": 14
        }
      ]
    },
    {
      "cell_type": "code",
      "metadata": {
        "colab": {
          "base_uri": "https://localhost:8080/",
          "height": 1000
        },
        "id": "trNOUjYvdcD7",
        "outputId": "93b5f31c-92a1-45df-eca5-89767e790350"
      },
      "source": [
        "df_text_dupl = df[df['Text'].duplicated()]\n",
        "df_text_dupl.head(20)"
      ],
      "execution_count": null,
      "outputs": [
        {
          "output_type": "execute_result",
          "data": {
            "text/html": [
              "<div>\n",
              "<style scoped>\n",
              "    .dataframe tbody tr th:only-of-type {\n",
              "        vertical-align: middle;\n",
              "    }\n",
              "\n",
              "    .dataframe tbody tr th {\n",
              "        vertical-align: top;\n",
              "    }\n",
              "\n",
              "    .dataframe thead th {\n",
              "        text-align: right;\n",
              "    }\n",
              "</style>\n",
              "<table border=\"1\" class=\"dataframe\">\n",
              "  <thead>\n",
              "    <tr style=\"text-align: right;\">\n",
              "      <th></th>\n",
              "      <th>Id</th>\n",
              "      <th>ProductId</th>\n",
              "      <th>UserId</th>\n",
              "      <th>ProfileName</th>\n",
              "      <th>HelpfulnessNumerator</th>\n",
              "      <th>HelpfulnessDenominator</th>\n",
              "      <th>Score</th>\n",
              "      <th>Time</th>\n",
              "      <th>Summary</th>\n",
              "      <th>Text</th>\n",
              "    </tr>\n",
              "  </thead>\n",
              "  <tbody>\n",
              "    <tr>\n",
              "      <th>29</th>\n",
              "      <td>30</td>\n",
              "      <td>B0001PB9FY</td>\n",
              "      <td>A3HDKO7OW0QNK4</td>\n",
              "      <td>Canadian Fan</td>\n",
              "      <td>1</td>\n",
              "      <td>1</td>\n",
              "      <td>5</td>\n",
              "      <td>1107820800</td>\n",
              "      <td>The Best Hot Sauce in the World</td>\n",
              "      <td>I don't know if it's the cactus or the tequila...</td>\n",
              "    </tr>\n",
              "    <tr>\n",
              "      <th>574</th>\n",
              "      <td>575</td>\n",
              "      <td>B000G6RYNE</td>\n",
              "      <td>A3PJZ8TU8FDQ1K</td>\n",
              "      <td>Jared Castle</td>\n",
              "      <td>2</td>\n",
              "      <td>2</td>\n",
              "      <td>5</td>\n",
              "      <td>1231718400</td>\n",
              "      <td>One bite and you'll become a \"chippoisseur\"</td>\n",
              "      <td>I'm addicted to salty and tangy flavors, so wh...</td>\n",
              "    </tr>\n",
              "    <tr>\n",
              "      <th>603</th>\n",
              "      <td>604</td>\n",
              "      <td>B000G6RYNE</td>\n",
              "      <td>A3PJZ8TU8FDQ1K</td>\n",
              "      <td>Jared Castle</td>\n",
              "      <td>1</td>\n",
              "      <td>1</td>\n",
              "      <td>5</td>\n",
              "      <td>1229385600</td>\n",
              "      <td>One bite and you'll become a \"chippoisseur\"</td>\n",
              "      <td>I'm addicted to salty and tangy flavors, so wh...</td>\n",
              "    </tr>\n",
              "    <tr>\n",
              "      <th>1973</th>\n",
              "      <td>1974</td>\n",
              "      <td>B0017165OG</td>\n",
              "      <td>A2EPNS38TTLZYN</td>\n",
              "      <td>tedebear</td>\n",
              "      <td>0</td>\n",
              "      <td>0</td>\n",
              "      <td>3</td>\n",
              "      <td>1312675200</td>\n",
              "      <td>Pok Chops</td>\n",
              "      <td>The pork chops from Omaha Steaks were very tas...</td>\n",
              "    </tr>\n",
              "    <tr>\n",
              "      <th>2309</th>\n",
              "      <td>2310</td>\n",
              "      <td>B0001VWE0M</td>\n",
              "      <td>AQM74O8Z4FMS0</td>\n",
              "      <td>Sunshine</td>\n",
              "      <td>0</td>\n",
              "      <td>0</td>\n",
              "      <td>2</td>\n",
              "      <td>1127606400</td>\n",
              "      <td>Below standard</td>\n",
              "      <td>Too much of the white pith on this orange peel...</td>\n",
              "    </tr>\n",
              "    <tr>\n",
              "      <th>2323</th>\n",
              "      <td>2324</td>\n",
              "      <td>B0001VWE0C</td>\n",
              "      <td>AQM74O8Z4FMS0</td>\n",
              "      <td>Sunshine</td>\n",
              "      <td>0</td>\n",
              "      <td>0</td>\n",
              "      <td>2</td>\n",
              "      <td>1127606400</td>\n",
              "      <td>Below standard</td>\n",
              "      <td>Too much of the white pith on this orange peel...</td>\n",
              "    </tr>\n",
              "    <tr>\n",
              "      <th>2336</th>\n",
              "      <td>2337</td>\n",
              "      <td>B0001FQVCK</td>\n",
              "      <td>A5D06XJHDXK75</td>\n",
              "      <td>C. Po</td>\n",
              "      <td>1</td>\n",
              "      <td>1</td>\n",
              "      <td>5</td>\n",
              "      <td>1190592000</td>\n",
              "      <td>Baci's are pure heaven - great gift, stocking ...</td>\n",
              "      <td>My family has been in love with Baci's ever si...</td>\n",
              "    </tr>\n",
              "    <tr>\n",
              "      <th>2647</th>\n",
              "      <td>2648</td>\n",
              "      <td>B0016FY6H6</td>\n",
              "      <td>A2NLZ3M0OJV9NX</td>\n",
              "      <td>Mark Bodzin</td>\n",
              "      <td>0</td>\n",
              "      <td>0</td>\n",
              "      <td>2</td>\n",
              "      <td>1313107200</td>\n",
              "      <td>way too weak for my tastes</td>\n",
              "      <td>What can i say, I love iced tea. I drink a lot...</td>\n",
              "    </tr>\n",
              "    <tr>\n",
              "      <th>2653</th>\n",
              "      <td>2654</td>\n",
              "      <td>B0016FY6H6</td>\n",
              "      <td>A3I4PCBRENJNG2</td>\n",
              "      <td>L. Cain</td>\n",
              "      <td>0</td>\n",
              "      <td>0</td>\n",
              "      <td>4</td>\n",
              "      <td>1300579200</td>\n",
              "      <td>quality lightly sweetened green tea powder</td>\n",
              "      <td>lots of uses for this green tea...&lt;br /&gt;&lt;br /&gt;...</td>\n",
              "    </tr>\n",
              "    <tr>\n",
              "      <th>2946</th>\n",
              "      <td>2947</td>\n",
              "      <td>B0002TJAZK</td>\n",
              "      <td>A2ISKAWUPGGOLZ</td>\n",
              "      <td>M. S. Handley</td>\n",
              "      <td>0</td>\n",
              "      <td>1</td>\n",
              "      <td>1</td>\n",
              "      <td>1310774400</td>\n",
              "      <td>Kitty Junk Food</td>\n",
              "      <td>We have five cats - one an elderly cat of 15 y...</td>\n",
              "    </tr>\n",
              "    <tr>\n",
              "      <th>2947</th>\n",
              "      <td>2948</td>\n",
              "      <td>B0002TJAZK</td>\n",
              "      <td>A3TVZM3ZIXG8YW</td>\n",
              "      <td>christopher hayes</td>\n",
              "      <td>0</td>\n",
              "      <td>2</td>\n",
              "      <td>1</td>\n",
              "      <td>1291420800</td>\n",
              "      <td>Filler food is empty, leaves your cat always n...</td>\n",
              "      <td>This review will make me sound really stupid, ...</td>\n",
              "    </tr>\n",
              "    <tr>\n",
              "      <th>3885</th>\n",
              "      <td>3886</td>\n",
              "      <td>B005GX7GVW</td>\n",
              "      <td>AS1FCKNKY95ID</td>\n",
              "      <td>Juli A. Lee \"JingleJL\"</td>\n",
              "      <td>1</td>\n",
              "      <td>1</td>\n",
              "      <td>5</td>\n",
              "      <td>1336953600</td>\n",
              "      <td>Great and good price!</td>\n",
              "      <td>I love these noodles.  They are really great f...</td>\n",
              "    </tr>\n",
              "    <tr>\n",
              "      <th>3886</th>\n",
              "      <td>3887</td>\n",
              "      <td>B005GX7GVW</td>\n",
              "      <td>A1I34N9LFOSCX7</td>\n",
              "      <td>Smeggy</td>\n",
              "      <td>0</td>\n",
              "      <td>0</td>\n",
              "      <td>5</td>\n",
              "      <td>1349136000</td>\n",
              "      <td>Yum!</td>\n",
              "      <td>This soup cooks up quickly and is very yummy! ...</td>\n",
              "    </tr>\n",
              "    <tr>\n",
              "      <th>4640</th>\n",
              "      <td>4641</td>\n",
              "      <td>B0002NYO9I</td>\n",
              "      <td>A5DVX3B075B09</td>\n",
              "      <td>Patricia Kays</td>\n",
              "      <td>0</td>\n",
              "      <td>0</td>\n",
              "      <td>5</td>\n",
              "      <td>1338940800</td>\n",
              "      <td>LOVELY JUNIPER BERRIES</td>\n",
              "      <td>Dried berries, still with texture and the quin...</td>\n",
              "    </tr>\n",
              "    <tr>\n",
              "      <th>4641</th>\n",
              "      <td>4642</td>\n",
              "      <td>B0002NYO9I</td>\n",
              "      <td>A376TWN7I4HMZ8</td>\n",
              "      <td>helios</td>\n",
              "      <td>0</td>\n",
              "      <td>1</td>\n",
              "      <td>5</td>\n",
              "      <td>1324252800</td>\n",
              "      <td>Exaclty what i ordered</td>\n",
              "      <td>Again, exactly what I ordered. No fuss, no mus...</td>\n",
              "    </tr>\n",
              "    <tr>\n",
              "      <th>4642</th>\n",
              "      <td>4643</td>\n",
              "      <td>B0002NYO9I</td>\n",
              "      <td>A29CO2S0VTT0C5</td>\n",
              "      <td>S. Choo</td>\n",
              "      <td>0</td>\n",
              "      <td>3</td>\n",
              "      <td>3</td>\n",
              "      <td>1326758400</td>\n",
              "      <td>get a new package</td>\n",
              "      <td>Berries are find, but the package is bad. Unab...</td>\n",
              "    </tr>\n",
              "    <tr>\n",
              "      <th>5397</th>\n",
              "      <td>5398</td>\n",
              "      <td>B00622CYVS</td>\n",
              "      <td>ATIHDHZYNQ0EI</td>\n",
              "      <td>Kristen O'donnell \"twinsmom\"</td>\n",
              "      <td>1</td>\n",
              "      <td>1</td>\n",
              "      <td>5</td>\n",
              "      <td>1270425600</td>\n",
              "      <td>Organic and Tasty</td>\n",
              "      <td>I'd continue to buy but I'm moving over to mor...</td>\n",
              "    </tr>\n",
              "    <tr>\n",
              "      <th>5451</th>\n",
              "      <td>5452</td>\n",
              "      <td>B00622CYVI</td>\n",
              "      <td>ATIHDHZYNQ0EI</td>\n",
              "      <td>Kristen O'donnell \"twinsmom\"</td>\n",
              "      <td>2</td>\n",
              "      <td>2</td>\n",
              "      <td>5</td>\n",
              "      <td>1270425600</td>\n",
              "      <td>Organic and Tasty</td>\n",
              "      <td>I'd continue to buy but I'm moving over to mor...</td>\n",
              "    </tr>\n",
              "    <tr>\n",
              "      <th>5463</th>\n",
              "      <td>5464</td>\n",
              "      <td>B00622CYVI</td>\n",
              "      <td>A2ETT9SL9AN39O</td>\n",
              "      <td>Danielle L Bostic</td>\n",
              "      <td>0</td>\n",
              "      <td>0</td>\n",
              "      <td>5</td>\n",
              "      <td>1333324800</td>\n",
              "      <td>Great Product</td>\n",
              "      <td>My one year old loves this product. She eats o...</td>\n",
              "    </tr>\n",
              "    <tr>\n",
              "      <th>5476</th>\n",
              "      <td>5477</td>\n",
              "      <td>B00622CYVI</td>\n",
              "      <td>A2MF0C4E7GYCI</td>\n",
              "      <td>VW \"VW\"</td>\n",
              "      <td>0</td>\n",
              "      <td>0</td>\n",
              "      <td>5</td>\n",
              "      <td>1298678400</td>\n",
              "      <td>My child loves this food!</td>\n",
              "      <td>Great value if you buy it as a subscribe and s...</td>\n",
              "    </tr>\n",
              "  </tbody>\n",
              "</table>\n",
              "</div>"
            ],
            "text/plain": [
              "        Id  ...                                               Text\n",
              "29      30  ...  I don't know if it's the cactus or the tequila...\n",
              "574    575  ...  I'm addicted to salty and tangy flavors, so wh...\n",
              "603    604  ...  I'm addicted to salty and tangy flavors, so wh...\n",
              "1973  1974  ...  The pork chops from Omaha Steaks were very tas...\n",
              "2309  2310  ...  Too much of the white pith on this orange peel...\n",
              "2323  2324  ...  Too much of the white pith on this orange peel...\n",
              "2336  2337  ...  My family has been in love with Baci's ever si...\n",
              "2647  2648  ...  What can i say, I love iced tea. I drink a lot...\n",
              "2653  2654  ...  lots of uses for this green tea...<br /><br />...\n",
              "2946  2947  ...  We have five cats - one an elderly cat of 15 y...\n",
              "2947  2948  ...  This review will make me sound really stupid, ...\n",
              "3885  3886  ...  I love these noodles.  They are really great f...\n",
              "3886  3887  ...  This soup cooks up quickly and is very yummy! ...\n",
              "4640  4641  ...  Dried berries, still with texture and the quin...\n",
              "4641  4642  ...  Again, exactly what I ordered. No fuss, no mus...\n",
              "4642  4643  ...  Berries are find, but the package is bad. Unab...\n",
              "5397  5398  ...  I'd continue to buy but I'm moving over to mor...\n",
              "5451  5452  ...  I'd continue to buy but I'm moving over to mor...\n",
              "5463  5464  ...  My one year old loves this product. She eats o...\n",
              "5476  5477  ...  Great value if you buy it as a subscribe and s...\n",
              "\n",
              "[20 rows x 10 columns]"
            ]
          },
          "metadata": {
            "tags": []
          },
          "execution_count": 15
        }
      ]
    },
    {
      "cell_type": "code",
      "metadata": {
        "colab": {
          "base_uri": "https://localhost:8080/",
          "height": 1000
        },
        "id": "MIXNxG69dcD7",
        "outputId": "7f544c4b-427f-4490-b565-64fce3802d7e"
      },
      "source": [
        "df_text_dupl.sort_values('Summary').head(20)"
      ],
      "execution_count": null,
      "outputs": [
        {
          "output_type": "execute_result",
          "data": {
            "text/html": [
              "<div>\n",
              "<style scoped>\n",
              "    .dataframe tbody tr th:only-of-type {\n",
              "        vertical-align: middle;\n",
              "    }\n",
              "\n",
              "    .dataframe tbody tr th {\n",
              "        vertical-align: top;\n",
              "    }\n",
              "\n",
              "    .dataframe thead th {\n",
              "        text-align: right;\n",
              "    }\n",
              "</style>\n",
              "<table border=\"1\" class=\"dataframe\">\n",
              "  <thead>\n",
              "    <tr style=\"text-align: right;\">\n",
              "      <th></th>\n",
              "      <th>Id</th>\n",
              "      <th>ProductId</th>\n",
              "      <th>UserId</th>\n",
              "      <th>ProfileName</th>\n",
              "      <th>HelpfulnessNumerator</th>\n",
              "      <th>HelpfulnessDenominator</th>\n",
              "      <th>Score</th>\n",
              "      <th>Time</th>\n",
              "      <th>Summary</th>\n",
              "      <th>Text</th>\n",
              "    </tr>\n",
              "  </thead>\n",
              "  <tbody>\n",
              "    <tr>\n",
              "      <th>117168</th>\n",
              "      <td>117169</td>\n",
              "      <td>B002AU4V94</td>\n",
              "      <td>A129QMC08SW3T3</td>\n",
              "      <td>C. Clinger \"CatMa\"</td>\n",
              "      <td>4</td>\n",
              "      <td>5</td>\n",
              "      <td>5</td>\n",
              "      <td>1240012800</td>\n",
              "      <td>! Mmmmmmmmmm !</td>\n",
              "      <td>What a wonderful surprise to find LUCY's on Am...</td>\n",
              "    </tr>\n",
              "    <tr>\n",
              "      <th>426709</th>\n",
              "      <td>426710</td>\n",
              "      <td>B00213EU7I</td>\n",
              "      <td>A129QMC08SW3T3</td>\n",
              "      <td>C. Clinger \"CatMa\"</td>\n",
              "      <td>4</td>\n",
              "      <td>5</td>\n",
              "      <td>5</td>\n",
              "      <td>1240012800</td>\n",
              "      <td>! Mmmmmmmmmm !</td>\n",
              "      <td>What a wonderful surprise to find LUCY's on Am...</td>\n",
              "    </tr>\n",
              "    <tr>\n",
              "      <th>134062</th>\n",
              "      <td>134063</td>\n",
              "      <td>B002AUCELQ</td>\n",
              "      <td>A129QMC08SW3T3</td>\n",
              "      <td>C. Clinger \"CatMa\"</td>\n",
              "      <td>4</td>\n",
              "      <td>5</td>\n",
              "      <td>5</td>\n",
              "      <td>1240012800</td>\n",
              "      <td>! Mmmmmmmmmm !</td>\n",
              "      <td>What a wonderful surprise to find LUCY's on Am...</td>\n",
              "    </tr>\n",
              "    <tr>\n",
              "      <th>262196</th>\n",
              "      <td>262197</td>\n",
              "      <td>B002AU3K1E</td>\n",
              "      <td>A129QMC08SW3T3</td>\n",
              "      <td>C. Clinger \"CatMa\"</td>\n",
              "      <td>4</td>\n",
              "      <td>5</td>\n",
              "      <td>5</td>\n",
              "      <td>1240012800</td>\n",
              "      <td>! Mmmmmmmmmm !</td>\n",
              "      <td>What a wonderful surprise to find LUCY's on Am...</td>\n",
              "    </tr>\n",
              "    <tr>\n",
              "      <th>262677</th>\n",
              "      <td>262678</td>\n",
              "      <td>B00213IAUQ</td>\n",
              "      <td>A129QMC08SW3T3</td>\n",
              "      <td>C. Clinger \"CatMa\"</td>\n",
              "      <td>4</td>\n",
              "      <td>5</td>\n",
              "      <td>5</td>\n",
              "      <td>1240012800</td>\n",
              "      <td>! Mmmmmmmmmm !</td>\n",
              "      <td>What a wonderful surprise to find LUCY's on Am...</td>\n",
              "    </tr>\n",
              "    <tr>\n",
              "      <th>288541</th>\n",
              "      <td>288542</td>\n",
              "      <td>B000ENUC3S</td>\n",
              "      <td>APWCOAVILK94B</td>\n",
              "      <td>Real Named Person \"wowzee\"</td>\n",
              "      <td>2</td>\n",
              "      <td>2</td>\n",
              "      <td>5</td>\n",
              "      <td>1289952000</td>\n",
              "      <td>!!!!!!! Flavor review !!!!!!!!</td>\n",
              "      <td>Best Flavor yet and instant favorite, cant sto...</td>\n",
              "    </tr>\n",
              "    <tr>\n",
              "      <th>482377</th>\n",
              "      <td>482378</td>\n",
              "      <td>B0018KLPFK</td>\n",
              "      <td>APWCOAVILK94B</td>\n",
              "      <td>Real Named Person \"wowzee\"</td>\n",
              "      <td>2</td>\n",
              "      <td>2</td>\n",
              "      <td>5</td>\n",
              "      <td>1289952000</td>\n",
              "      <td>!!!!!!! Flavor review !!!!!!!!</td>\n",
              "      <td>Best Flavor yet and instant favorite, cant sto...</td>\n",
              "    </tr>\n",
              "    <tr>\n",
              "      <th>98648</th>\n",
              "      <td>98649</td>\n",
              "      <td>B004GW6O9E</td>\n",
              "      <td>APWCOAVILK94B</td>\n",
              "      <td>Real Named Person \"wowzee\"</td>\n",
              "      <td>2</td>\n",
              "      <td>2</td>\n",
              "      <td>5</td>\n",
              "      <td>1289952000</td>\n",
              "      <td>!!!!!!! Flavor review !!!!!!!!</td>\n",
              "      <td>Best Flavor yet and instant favorite, cant sto...</td>\n",
              "    </tr>\n",
              "    <tr>\n",
              "      <th>542833</th>\n",
              "      <td>542834</td>\n",
              "      <td>B000GB0TMW</td>\n",
              "      <td>A3MWYVPJ5X8MBH</td>\n",
              "      <td>Michael</td>\n",
              "      <td>0</td>\n",
              "      <td>0</td>\n",
              "      <td>5</td>\n",
              "      <td>1349568000</td>\n",
              "      <td>!st time matcha buyer</td>\n",
              "      <td>This is quality matcha tea at a very low price...</td>\n",
              "    </tr>\n",
              "    <tr>\n",
              "      <th>324586</th>\n",
              "      <td>324587</td>\n",
              "      <td>B000GB0UGC</td>\n",
              "      <td>A3MWYVPJ5X8MBH</td>\n",
              "      <td>Michael</td>\n",
              "      <td>0</td>\n",
              "      <td>0</td>\n",
              "      <td>5</td>\n",
              "      <td>1349568000</td>\n",
              "      <td>!st time matcha buyer</td>\n",
              "      <td>This is quality matcha tea at a very low price...</td>\n",
              "    </tr>\n",
              "    <tr>\n",
              "      <th>411644</th>\n",
              "      <td>411645</td>\n",
              "      <td>B000GB3NS4</td>\n",
              "      <td>A3MWYVPJ5X8MBH</td>\n",
              "      <td>Michael</td>\n",
              "      <td>0</td>\n",
              "      <td>0</td>\n",
              "      <td>5</td>\n",
              "      <td>1349568000</td>\n",
              "      <td>!st time matcha buyer</td>\n",
              "      <td>This is quality matcha tea at a very low price...</td>\n",
              "    </tr>\n",
              "    <tr>\n",
              "      <th>356390</th>\n",
              "      <td>356391</td>\n",
              "      <td>B003SSWCJI</td>\n",
              "      <td>AQ73BMYWH1EM8</td>\n",
              "      <td>Peter D. Mccorkle</td>\n",
              "      <td>39</td>\n",
              "      <td>47</td>\n",
              "      <td>5</td>\n",
              "      <td>1242518400</td>\n",
              "      <td>\" A MIRACLE SUPPLEMENT!!\"</td>\n",
              "      <td>I'm a 32 year old man. Construction Electricia...</td>\n",
              "    </tr>\n",
              "    <tr>\n",
              "      <th>257922</th>\n",
              "      <td>257923</td>\n",
              "      <td>B00125ZCWI</td>\n",
              "      <td>AQ73BMYWH1EM8</td>\n",
              "      <td>Peter D. Mccorkle</td>\n",
              "      <td>39</td>\n",
              "      <td>47</td>\n",
              "      <td>5</td>\n",
              "      <td>1242518400</td>\n",
              "      <td>\" A MIRACLE SUPPLEMENT!!\"</td>\n",
              "      <td>I'm a 32 year old man. Construction Electricia...</td>\n",
              "    </tr>\n",
              "    <tr>\n",
              "      <th>360277</th>\n",
              "      <td>360278</td>\n",
              "      <td>B000WVYB8Y</td>\n",
              "      <td>AQ73BMYWH1EM8</td>\n",
              "      <td>Peter D. Mccorkle</td>\n",
              "      <td>39</td>\n",
              "      <td>47</td>\n",
              "      <td>5</td>\n",
              "      <td>1242518400</td>\n",
              "      <td>\" A MIRACLE SUPPLEMENT!!\"</td>\n",
              "      <td>I'm a 32 year old man. Construction Electricia...</td>\n",
              "    </tr>\n",
              "    <tr>\n",
              "      <th>466144</th>\n",
              "      <td>466145</td>\n",
              "      <td>B001E18K8S</td>\n",
              "      <td>AQ73BMYWH1EM8</td>\n",
              "      <td>Peter D. Mccorkle</td>\n",
              "      <td>39</td>\n",
              "      <td>47</td>\n",
              "      <td>5</td>\n",
              "      <td>1242518400</td>\n",
              "      <td>\" A MIRACLE SUPPLEMENT!!\"</td>\n",
              "      <td>I'm a 32 year old man. Construction Electricia...</td>\n",
              "    </tr>\n",
              "    <tr>\n",
              "      <th>323193</th>\n",
              "      <td>323194</td>\n",
              "      <td>B000OQ2DL4</td>\n",
              "      <td>AQ73BMYWH1EM8</td>\n",
              "      <td>Peter D. Mccorkle</td>\n",
              "      <td>39</td>\n",
              "      <td>47</td>\n",
              "      <td>5</td>\n",
              "      <td>1242518400</td>\n",
              "      <td>\" A MIRACLE SUPPLEMENT!!\"</td>\n",
              "      <td>I'm a 32 year old man. Construction Electricia...</td>\n",
              "    </tr>\n",
              "    <tr>\n",
              "      <th>186303</th>\n",
              "      <td>186304</td>\n",
              "      <td>B002LN1ME2</td>\n",
              "      <td>AQ73BMYWH1EM8</td>\n",
              "      <td>Peter D. Mccorkle</td>\n",
              "      <td>39</td>\n",
              "      <td>47</td>\n",
              "      <td>5</td>\n",
              "      <td>1242518400</td>\n",
              "      <td>\" A MIRACLE SUPPLEMENT!!\"</td>\n",
              "      <td>I'm a 32 year old man. Construction Electricia...</td>\n",
              "    </tr>\n",
              "    <tr>\n",
              "      <th>188916</th>\n",
              "      <td>188917</td>\n",
              "      <td>B001E0TBA0</td>\n",
              "      <td>AQ73BMYWH1EM8</td>\n",
              "      <td>Peter D. Mccorkle</td>\n",
              "      <td>39</td>\n",
              "      <td>47</td>\n",
              "      <td>5</td>\n",
              "      <td>1242518400</td>\n",
              "      <td>\" A MIRACLE SUPPLEMENT!!\"</td>\n",
              "      <td>I'm a 32 year old man. Construction Electricia...</td>\n",
              "    </tr>\n",
              "    <tr>\n",
              "      <th>394044</th>\n",
              "      <td>394045</td>\n",
              "      <td>B000WVY4PE</td>\n",
              "      <td>AQ73BMYWH1EM8</td>\n",
              "      <td>Peter D. Mccorkle</td>\n",
              "      <td>39</td>\n",
              "      <td>47</td>\n",
              "      <td>5</td>\n",
              "      <td>1242518400</td>\n",
              "      <td>\" A MIRACLE SUPPLEMENT!!\"</td>\n",
              "      <td>I'm a 32 year old man. Construction Electricia...</td>\n",
              "    </tr>\n",
              "    <tr>\n",
              "      <th>198968</th>\n",
              "      <td>198969</td>\n",
              "      <td>B000OQ2DJQ</td>\n",
              "      <td>AQ73BMYWH1EM8</td>\n",
              "      <td>Peter D. Mccorkle</td>\n",
              "      <td>39</td>\n",
              "      <td>47</td>\n",
              "      <td>5</td>\n",
              "      <td>1242518400</td>\n",
              "      <td>\" A MIRACLE SUPPLEMENT!!\"</td>\n",
              "      <td>I'm a 32 year old man. Construction Electricia...</td>\n",
              "    </tr>\n",
              "  </tbody>\n",
              "</table>\n",
              "</div>"
            ],
            "text/plain": [
              "            Id  ...                                               Text\n",
              "117168  117169  ...  What a wonderful surprise to find LUCY's on Am...\n",
              "426709  426710  ...  What a wonderful surprise to find LUCY's on Am...\n",
              "134062  134063  ...  What a wonderful surprise to find LUCY's on Am...\n",
              "262196  262197  ...  What a wonderful surprise to find LUCY's on Am...\n",
              "262677  262678  ...  What a wonderful surprise to find LUCY's on Am...\n",
              "288541  288542  ...  Best Flavor yet and instant favorite, cant sto...\n",
              "482377  482378  ...  Best Flavor yet and instant favorite, cant sto...\n",
              "98648    98649  ...  Best Flavor yet and instant favorite, cant sto...\n",
              "542833  542834  ...  This is quality matcha tea at a very low price...\n",
              "324586  324587  ...  This is quality matcha tea at a very low price...\n",
              "411644  411645  ...  This is quality matcha tea at a very low price...\n",
              "356390  356391  ...  I'm a 32 year old man. Construction Electricia...\n",
              "257922  257923  ...  I'm a 32 year old man. Construction Electricia...\n",
              "360277  360278  ...  I'm a 32 year old man. Construction Electricia...\n",
              "466144  466145  ...  I'm a 32 year old man. Construction Electricia...\n",
              "323193  323194  ...  I'm a 32 year old man. Construction Electricia...\n",
              "186303  186304  ...  I'm a 32 year old man. Construction Electricia...\n",
              "188916  188917  ...  I'm a 32 year old man. Construction Electricia...\n",
              "394044  394045  ...  I'm a 32 year old man. Construction Electricia...\n",
              "198968  198969  ...  I'm a 32 year old man. Construction Electricia...\n",
              "\n",
              "[20 rows x 10 columns]"
            ]
          },
          "metadata": {
            "tags": []
          },
          "execution_count": 16
        }
      ]
    },
    {
      "cell_type": "code",
      "metadata": {
        "colab": {
          "base_uri": "https://localhost:8080/"
        },
        "id": "YcwnYpEFdcD8",
        "outputId": "ad30c956-dc46-4158-d520-629a9e9f5f85"
      },
      "source": [
        "#Check the number of unique values in each column\n",
        "df.nunique()"
      ],
      "execution_count": null,
      "outputs": [
        {
          "output_type": "execute_result",
          "data": {
            "text/plain": [
              "Id                        568454\n",
              "ProductId                  74258\n",
              "UserId                    256059\n",
              "ProfileName               218416\n",
              "HelpfulnessNumerator         231\n",
              "HelpfulnessDenominator       234\n",
              "Score                          5\n",
              "Time                        3168\n",
              "Summary                   295742\n",
              "Text                      393579\n",
              "dtype: int64"
            ]
          },
          "metadata": {
            "tags": []
          },
          "execution_count": 17
        }
      ]
    },
    {
      "cell_type": "code",
      "metadata": {
        "colab": {
          "base_uri": "https://localhost:8080/"
        },
        "id": "4SpCvjAcdcD8",
        "outputId": "d665dd36-75d3-47b7-aea7-22ed09adeb59"
      },
      "source": [
        "#Checking the values' counts for each column\n",
        "v_c = {}\n",
        "for col in df.columns:\n",
        "    v_c [col] = [df[col].value_counts().sort_values()]\n",
        "v_c"
      ],
      "execution_count": null,
      "outputs": [
        {
          "output_type": "execute_result",
          "data": {
            "text/plain": [
              "{'HelpfulnessDenominator': [181         1\n",
              "  131         1\n",
              "  113         1\n",
              "  436         1\n",
              "  416         1\n",
              "          ...  \n",
              "  4       22306\n",
              "  3       34394\n",
              "  2       61482\n",
              "  1      112753\n",
              "  0      270052\n",
              "  Name: HelpfulnessDenominator, Length: 234, dtype: int64],\n",
              " 'HelpfulnessNumerator': [491         1\n",
              "  258         1\n",
              "  354         1\n",
              "  524         1\n",
              "  866         1\n",
              "          ...  \n",
              "  4       16963\n",
              "  3       29007\n",
              "  2       53727\n",
              "  1      116467\n",
              "  0      303826\n",
              "  Name: HelpfulnessNumerator, Length: 231, dtype: int64],\n",
              " 'Id': [2047     1\n",
              "  16376    1\n",
              "  18423    1\n",
              "  20470    1\n",
              "  22517    1\n",
              "          ..\n",
              "  12294    1\n",
              "  10245    1\n",
              "  8196     1\n",
              "  20490    1\n",
              "  2049     1\n",
              "  Name: Id, Length: 568454, dtype: int64],\n",
              " 'ProductId': [B008057XGQ      1\n",
              "  B001EO5WHC      1\n",
              "  B0067MCIK0      1\n",
              "  B000B6MUGU      1\n",
              "  B000QWBUR4      1\n",
              "               ... \n",
              "  B0026RQTGE    632\n",
              "  B002QWP8H0    632\n",
              "  B002QWP89S    632\n",
              "  B002QWHJOU    632\n",
              "  B007JFMH8M    913\n",
              "  Name: ProductId, Length: 74258, dtype: int64],\n",
              " 'ProfileName': [Josh Rogan                                  1\n",
              "  Smelly Gostard                              1\n",
              "  Keith Schneider                             1\n",
              "  Jacqueline Clayton                          1\n",
              "  Brian J Alinovi                             1\n",
              "                                           ... \n",
              "  Chris                                     363\n",
              "  Rebecca of Amazon \"The Rebecca Review\"    365\n",
              "  Gary Peterson                             389\n",
              "  O. Brown \"Ms. O. Khannah-Brown\"           421\n",
              "  C. F. Hill \"CFH\"                          451\n",
              "  Name: ProfileName, Length: 218416, dtype: int64],\n",
              " 'Score': [2     29769\n",
              "  3     42640\n",
              "  1     52268\n",
              "  4     80655\n",
              "  5    363122\n",
              "  Name: Score, dtype: int64],\n",
              " 'Summary': [Melba Toast                                 1\n",
              "  Not happy. Hate artificial sweetener.       1\n",
              "  Cabernet Sauvignon                          1\n",
              "  So easy and So good                         1\n",
              "  Blue Agave Nectar                           1\n",
              "                                           ... \n",
              "  Great product                            1091\n",
              "  Yummy                                    1268\n",
              "  Yummy!                                   1594\n",
              "  Delicious                                2316\n",
              "  Delicious!                               2462\n",
              "  Name: Summary, Length: 295742, dtype: int64],\n",
              " 'Text': [I was reluctant to buy one after reading the negative reviews but I was also encouraged by the positive ones.  I'm glad I decided to take the chance!  I had it mailed directly to my Mother as a gift. Like the other reviews say, it arrived quickly and was packaged extremely well.  Not a single branch was damaged and the pot also made the trip in perfect condition.  Given the fact that this is February, I expected it to arrive baren of any foliage.  It actually is so healthy it's full of little green buds.  The branches are pruned to give the tree a very nice shape, and the soil (according to my Mom) is the correct type of soil it SHOULD be in and not just some temporary crud made to last only as long as the shipping time.  Thank you for making my gift a nice one.  My Mom really loves it.                                                                                                                                                                                                                                                                                                                                                                                                                                                                                                                                                                                                                                                                                                                                                                                                                                                                                                                                                                                                                                                                                                                                                                                                                                                                                                                                                                                                                                                                                                                                                                                                                                                                                                                                                                                                                                                                                                                                                                                                                                                                                                                                                                                                                                                                                                                                                                                                                                                                                                                                                                                                                                                                                                                                                                                                                                                                                                                                                                                                                                                                                                                                                                                                                                                                                                                                                                                                                                                                                                                                                                                                                                                                                                                                                                                                                                                                                                                                                                                       1\n",
              "  I guess I should have looked around more, I was expecting them in a tub. Instead they were in 3 baggies with sticky ties and it made me feel a bit uneasy.... I was thinking:  who packaged these, where were these packaged and why don't I have any product information included?<br />I don't believe the price was any better than what I could of found in a local candy store or drugstore.  I've purchased more product for less money before.  The Christmas tree shop in Wiliston, VT sells a 4 lb. tub for $5.99  but since I just moved to FL... my local knowledge of stores is limited.<br /><br />I bought these for a specific reason, I am attending a memorial service for a dear relative (who loved these) and I was planning on bringing them and putting them in dishes for those attending the service, instead because of the small size of them (I've seen larger ones) and because they have too much sugar on them, I will be keeping them at home and buying others somewhere else.                                                                                                                                                                                                                                                                                                                                                                                                                                                                                                                                                                                                                                                                                                                                                                                                                                                                                                                                                                                                                                                                                                                                                                                                                                                                                                                                                                                                                                                                                                                                                                                                                                                                                                                                                                                                                                                                                                                                                                                                                                                                                                                                                                                                                                                                                                                                                                                                                                                                                                                                                                                                                                                                                                                                                                                                                                                                                                                                                                                                                                                                                                                                                                                                                                                                                                                                                                                                                                                                                                                                                                                                                                                                                                                                                                                                      1\n",
              "  Four stars only, however -- not b/c of slice-and-wrap issues, rather b/c I have had better -- this is not the VERY best available (though at that price it should be!).<br />Nevertheless it is indeed a very good product, better even when&if the deli staff learn to slice it as thin as possible and, not lay slice atop slice making separation nearly impossible; instead using plenty of the heavy wax paper between layers of meat.  Like: a dozen of sheets per pound if done right (I'm guesstimating -- they still wont let me near big dangerous machines, darn it! ;)<br /><br />This is Italian Prosciutto, not some American boiled ham.  No one should be handling it unless properly trained, fGs!<br />Come on now people.  Get with the program.                                                                                                                                                                                                                                                                                                                                                                                                                                                                                                                                                                                                                                                                                                                                                                                                                                                                                                                                                                                                                                                                                                                                                                                                                                                                                                                                                                                                                                                                                                                                                                                                                                                                                                                                                                                                                                                                                                                                                                                                                                                                                                                                                                                                                                                                                                                                                                                                                                                                                                                                                                                                                                                                                                                                                                                                                                                                                                                                                                                                                                                                                                                                                                                                                                                                                                                                                                                                                                                                                                                                                                                                                                                                                                                                                                                                                                                                                                                                                                                                                                                 1\n",
              "  Andes chips are by far one of the best products I've ever tried.  They are delicious,they melt in your mouth.  Great for baking my cupcakes. In my country there is nothing similar to this and I'm in love with this product. I highly recommend it, you won't regret it...I received them in good conditions, they were not melted...I will definitely keep purchasing this product.                                                                                                                                                                                                                                                                                                                                                                                                                                                                                                                                                                                                                                                                                                                                                                                                                                                                                                                                                                                                                                                                                                                                                                                                                                                                                                                                                                                                                                                                                                                                                                                                                                                                                                                                                                                                                                                                                                                                                                                                                                                                                                                                                                                                                                                                                                                                                                                                                                                                                                                                                                                                                                                                                                                                                                                                                                                                                                                                                                                                                                                                                                                                                                                                                                                                                                                                                                                                                                                                                                                                                                                                                                                                                                                                                                                                                                                                                                                                                                                                                                                                                                                                                                                                                                                                                                                                                                                                                              1\n",
              "  This tea is amazing!  A friend gave me a couple of bags to try and I am hooked!  The name says it all - sweet & spicy, very flavorul and full, just an awesome and relaxing cup of tea.  Excited to see it on Amazon - my friend bought it at a specialty grocery store that isn't easy to get to. Try it - you won't be disappointed.                                                                                                                                                                                                                                                                                                                                                                                                                                                                                                                                                                                                                                                                                                                                                                                                                                                                                                                                                                                                                                                                                                                                                                                                                                                                                                                                                                                                                                                                                                                                                                                                                                                                                                                                                                                                                                                                                                                                                                                                                                                                                                                                                                                                                                                                                                                                                                                                                                                                                                                                                                                                                                                                                                                                                                                                                                                                                                                                                                                                                                                                                                                                                                                                                                                                                                                                                                                                                                                                                                                                                                                                                                                                                                                                                                                                                                                                                                                                                                                                                                                                                                                                                                                                                                                                                                                                                                                                                                                                              1\n",
              "                                                                                                                                                                                                                                                                                                                                                                                                                                                                                                                                                                                                                                                                                                                                                                                                                                                                                                                                                                                                                                                                                                                                                                                                                                                                                                                                                                                                                                                                                                                                                                                                                                                                                                                                                                                                                                                                                                                                                                                                                                                                                                                                                                                                                                                                                                                                                                                                                                                                                                                                                                                                                                                                                                                                                                                                                                                                                                                                                                                                                                                                                                                                                                                                                                                                                                                                                                                                                                                                                                                                                                                                                                                                                                                                                                                                                                                                                                                                                                                                                                                                                                                                                                                                                                                                                                                                                                                                                                                                                                                                                                                                                                                                                                                                                                                                                   ... \n",
              "  I'm addicted to salty and tangy flavors, so when I opened my first bag of Sea Salt & Vinegar Kettle Brand chips I knew I had a perfect complement to my vegetable trays of cucumber, carrot, celery and cherry tomatoes. Skip the dip; balance the tangy chips by alternating bites of raw vegetable.<br /><br />As an Oregonian, I'm proud to share these delectable snacks with friends, especially those living outside our state and who haven't experienced gourmet chips. I tell them Kettle Brand does for potato chips what microbrews did for beer.<br /><br />Kettle Brand potato chips are unmistakable--a light gold color, rich flavor and amazing crunch. Kettle Brand chips are also a healthier snacking option than the major chip brands. Kettle Brand chips don't have trans fats, MSG or artificial flavors and colorings. The company also has a line of organic potato chips and all of their products are certified Kosher.<br /><br />I also recommend <a href=\"http://www.amazon.com/gp/product/B000G6MBV4\">Kettle Chips Honey Dijon</a> and <a href=\"http://www.amazon.com/gp/product/B000G6Q4GM\">Kettle Chips Spicy Thai</a>.<br /><br />Annette Solomon, a reporter for the Salem Statesman Journal recently noted that a glass of wine goes nicely with these chips. Solomon wrote, \"...you could be missing out on a wonderful pairing. These chips are spicy, so you would want to select a semi-sweet white wine. Also, a moderate amount of acid will subdue the strong flavors of ginger, lime, garlic and cilantro without over-powering them. Classically, a German-style Riesling fits these parameters perfectly.\"                                                                                                                                                                                                                                                                                                                                                                                                                                                                                                                                                                                                                                                                                                                                                                                                                                                                                                                                                                                                                                                                                                                                                                                                                                                                                                                                                                                                                                                                                                                                                                                                                                                                                                                                                                                                                                                                                                                                                                                                                                                                                                                                                                                                                                                                                                                                                                                                                                                                                                                                                                                                                                                                                                                                                                                                                                                                                                                                                                                                                                                                                                                                                           42\n",
              "  The pet food industry can be one of the most infuriating as you start doing research and discovering what trash manufacturers (and the vets who get paid off by the manufacturers) push onto the unsuspecting public. For reference, don't ask your vet - do some Internet research at sites like, for example, [...]. What you'll find is that even the supposed \"high-end\" lines from basically every major supermarket label are horrible for your fuzzy friends. People who trust the marketing or trust their vets overpay and feed their cats foods that are full of carcinogens, cheap ingredients that are inappropriate for a cat's digestive system, and byproducts that provide nothing of value and are basically a way to make cheap profit off of literal garbage. It's a tragedy, as these same cats end up with shorter lifespans, kidney problems, UTIs, cancer, and a host of other issues, all of which could have been avoided by a high quality food.<br /><br />This is an A-Grade food. What you'll find here is very high protein content, many meat meals, good carbs and oils, and no grains, which is great as a cat is not an omnivore, it's a carnivore, and it simply does not need grains. It has 50 percent protein, which is among the highest you'll see in cat food. The first 4 ingredients are all meats.<br /><br />What you will NOT find here is the kind of junk you'll see in things like Purina One and Science Diet - byproducts (aka beaks, feathers, bird feet), brewers rice (aka the waste product from making beer), wheat flour (a leading cause of pet allergies), corn gluten (a cheap waste of space), and things like \"liver flavor\" (because they don't want to pay for the real thing). I didn't just pull those ingredients out of the air - I was reading the ingredients list of Purina One. It's pathetic.<br /><br />Don't feed your cats trash. Pay a little more to feed them good food now, and they'll lead longer, healthier, more satisfied lives as a result. It's worth it.                                                                                                                                                                                                                                                                                                                                                                                                                                                                                                                                                                                                                                                                                                                                                                                                                                                                                                                                                                                                                                                                                                                                                                                                                                                                                                                                                                                                                                                                                                                                                                                                                                                                                                                                                                                                                                                                                                                                                                                                                                                                                                                                                                                                                                                                                                                                                                                                                                                                                                                                                                                                                                                                                                                                                                   45\n",
              "  I have two cats, one 6 and one 2 years old. Both are indoor cats in excellent health. I saw the negative review and talked to my vet about it. I've also asked a number of veterinary professionals what to feed my cats and they all answer the same thing: Science Diet. Sure, you'll see stories of how one person's cat had issues, but even if that's 100% true, it's 1 case out of millions. Science and fact aren't based on someone's experience.<br /><br />So my point is, I love my cats and I'm very concerned about their health. I trust people who actually have medical degrees and experience with a wide range of animals. My only caution is do not fall for some hype or scare tactic that recommends some unproven or untested food or some fad diet for your pet. Don't listen to me, don't listen to the negative review. ASK YOUR VET what they recommend, and follow their instructions. My guess is you'll end up buying the Science Diet anyhow.                                                                                                                                                                                                                                                                                                                                                                                                                                                                                                                                                                                                                                                                                                                                                                                                                                                                                                                                                                                                                                                                                                                                                                                                                                                                                                                                                                                                                                                                                                                                                                                                                                                                                                                                                                                                                                                                                                                                                                                                                                                                                                                                                                                                                                                                                                                                                                                                                                                                                                                                                                                                                                                                                                                                                                                                                                                                                                                                                                                                                                                                                                                                                                                                                                                                                                                                                                                                                                                                                                                                                                                                                                                                                                                                                                                                                                        51\n",
              "  Diamond Almonds<br />Almonds are a good source of magnesium. One ounce contain approximately 20% of the RDA for an adult recommended dietary allowance (RDA)<br />Recommended Dietary Allowance (RDA) the amounts of selected nutrients considered adequate to meet the known nutrient needs of healthy people. The RDA is based on scientific knowledge and has been presented by a committee of the Food and Nutrition Board (FNB) of the National Academy of Sciences (NAS). The Canadian equivalent is the Recommended Nutrient Intakes. RDA is generally accepted throughout the world as a valid source of information. At least 40 different nations have as well as organizations have published standards similar to the RDA.<br /><br />Magnesium is the fourth most abundant mineral in the body and is essential to good health. Approximately 50% of total body magnesium is found in bone. The other half is found predominantly inside cells of body tissues and organs. Only 1% of magnesium is found in blood, but the body works very hard to keep blood levels of magnesium constant.<br />Magnesium is needed for more than 300 biochemical reactions in the body. It helps maintain normal muscle and nerve function, keeps heart rhythm steady, supports a healthy immune system, and keeps bones strong. Magnesium also helps regulate blood sugar levels, promotes normal blood pressure, and is known to be involved in energy metabolism and protein synthesis. There is an increased interest in the role of magnesium in preventing and managing disorders such as hypertension, cardiovascular disease, and diabetes. Dietary magnesium is absorbed in the small intestines. Are you taking enough magnesium in the diet? The recommended daily allowance is 300mgs/day for men, 350mgs for women. Magnesium is extremely safe by mouth - too much simply causes diarrhea. Try increasing the amount of magnesium you take by mouth until it causes diarrhea, then reduce the dose slightly so it does not. This is called taking magnesium to bowel tolerance (just like using vitamin C to bowel tolerance.<br /><br />Almonds are a good source of Fiber.<br />One ounce contains approximately 12% of the RDA for an adult.<br />So, in summary, Almonds are a very healthy snack, so what's left to say?<br /><br />Two things:<br />1st be cautious about \"bowel tolerance\" or \"happy bowels\" if you prefer.<br />2nd Taste.  I realize that taste is a personal thing.  That's why they make chocolate, strawberry, and vanilla.<br /><br />Here's my current favorites\"<br /><br /> 1st Blue Diamond Dark mint dark chocolate (reminds me of the chocolate mint Girl Scout Cookies with less sugar).<br /><br />2nd Blue diamond Dark Chocolate Oven Roasted<br />3rd  Blue diamond Blue Butter Toffee<br />4thd Blue Diamond Almonds Bold Habanero BBQ (reminds me of  BBQ potato chips again with less sugar).<br />5th Bold Blazin Buffalo Wing<br />6th Blue Diamond Almonds Cinnamon Brown Sugar<br />7th  Blue Diamond Almonds Lime `n Chili<br />8th  Blue Diamond Almonds Smokehouse<br />9th  Bold Wasabi & Soy Sauce<br /><br />But that's just me: you might have a completely different take on these flavors.<br /> 4th  and 5th are very close.<br /><br />Gunner<br />May, 2012                                                                                                                                                                                                                                                                                                                                                                                                                                                                                                                                                                                                                                                                                                                                                                                                                                                                                                                                                                                                                                                                                                                                                                                                                                                                                                                                                                                                                                                                               126\n",
              "  This review will make me sound really stupid, but whatever. I don't really care as long as people find out what's real and can avoid my mistakes.<br /><br />I got my wonderful little sweet Bella Bean when she was a few days shy of three years old. She had been bounced around from house to house and eating whatever was cheap. I have had cats around me my entire life, for about twenty-five years now. My mother always just fed them whatever, the kinds of food you buy in the supermarket - Friskies, Nine Lives, Kit & Kaboodle, stuff like that. And our cats were always fine, at least in terms of their eating habits. They would eat in the morning, stop when they were done, come back, and eat some more when they got hungry.<br /><br />My housemate at the time was working for Hill's and assured me that this was the best food ever made, so great, so on and so forth. I now know that she is an utter buffoon, but I initially trusted her judgment, which is so unfortunate because she doesn't think. She also had plenty of coupons for free or deeply discounted bags, which made it a much more attractive choice.<br /><br />I first tried feeding the little Bean an unmeasured amount of Science Diet in a bowl, but that didn't work, as she would devour it in one sitting. So then I took to measuring it, and she did the same thing. Then I started parsing it out to twice a day. That didn't work either, because she would start going crazy in the middle of the day, running around, intentionally destroying things, deliberately spilling her water, crying, etc., until she got more food. So then I split it into three servings. Same thing. Then it got to be four servings. That was a little better, but it was too much maintenance and unrealistic to be around every day to feed her four times. So then it went back to three. All the while, I was trying to reduce the amount of food I was feeding her to less than 3/4 of a cup because she was a little chubby. Reducing was hell. She became even more hungry, but I figured she would get used to it. Not really.<br /><br />For over a year, she would wake me up every morning looking for food in a serious way, knocking things off my desk, ripping up any paper she could find, scratching at the door and committing general acts of mischief. As soon as she got food, she was back to her sweet self, but only for three or four hours.<br /><br />We thought she was bored, we thought she was a little nutty, and maybe even had a kitty eating disorder. She always wanted food. It was kind of funny but in the end it was just sad.<br /><br />A few weeks back, we took her to a new (good, non-money factory) vet for her second checkup since I've had her. I talked with him about her being always hungry. He asked what she ate, and I told him the adult indoor Science Diet. Without saying as much, he basically told me that this food is garbage and I should look for something else. He said cat food should have a protein followed by a carbohydrate as the first two ingredients. Science Diet does, in a very loose, by-product kind of way - ground up slaughterhouse leftovers and corn dust. Then they put a bunch of vitamins in it to make it \"healthy,\" instead of just using good ingredients from the beginning. Not that I care about spending money on the Bean, but this food is way too expensive for what it is.<br /><br />So we began transitioning her onto Wellness indoor formula about two weeks ago. She is still eating 50 percent Science Diet with 50 percent Wellness (you really shouldn't just give a cat different food one day out of the blue) but SHE NEVER FREAKS OUT ANYMORE. It's amazing. And it's 100 percent because she is eating real food now, along with that sawdust and chicken hearts I still regrettable have to feed her. We have her down to eating twice a day, only 1/3 cup in TOTAL. She was eating three times a day, 5/8 of a cup in total. Now she eats some in the morning, walks away, eats some more a few hours later, and then looks for dinner about twelve hours after her initial feeding. No more knocking things over, no more trashing Dad's papers on the desk, no more howling, no more deliberately spilled water on the floor. It's incredible.<br /><br />I feel so bad that I was doing this to her for so long. We really thought she was just being dramatic or whatever. But no, she was genuinely hungry because she wasn't eating any real food.<br /><br />Do your cat a favor - buy her or him so food made with real ingredients, things you would eat - Wellness, Halo, Innova, Evo, whatever. Figure it out for yourself, but please don't feed your cat this. It's garbage.    199\n",
              "  Name: Text, Length: 393579, dtype: int64],\n",
              " 'Time': [1085702400       1\n",
              "  1072137600       1\n",
              "  1091664000       1\n",
              "  1088294400       1\n",
              "  1134000000       1\n",
              "                ... \n",
              "  1344211200     989\n",
              "  1346889600    1018\n",
              "  1322438400    1070\n",
              "  1322179200    1088\n",
              "  1350345600    1143\n",
              "  Name: Time, Length: 3168, dtype: int64],\n",
              " 'UserId': [A20H453K3T2W6I      1\n",
              "  A2KNCPTY0XN4V1      1\n",
              "  A2HEGTIIVUQOCA      1\n",
              "  A34QKW1Y84EHIT      1\n",
              "  A78DZKOB8UPTD       1\n",
              "                   ... \n",
              "  A1Z54EM24Y40LL    256\n",
              "  A281NPSIMI1C2R    365\n",
              "  AY12DBB0U420B     389\n",
              "  A1YUL9PCJR3JTY    421\n",
              "  A3OXHLG6DIBRW8    448\n",
              "  Name: UserId, Length: 256059, dtype: int64]}"
            ]
          },
          "metadata": {
            "tags": []
          },
          "execution_count": 18
        }
      ]
    },
    {
      "cell_type": "code",
      "metadata": {
        "colab": {
          "base_uri": "https://localhost:8080/"
        },
        "id": "oVTc9kKydcD8",
        "outputId": "1411b5c2-db22-4591-fdaa-969f64e69f63"
      },
      "source": [
        "#Checking the duplicated values for each column\n",
        "v_c = {}\n",
        "for col in df.columns:\n",
        "    v_c [col] = [df[col].duplicated().sum()]\n",
        "v_c"
      ],
      "execution_count": null,
      "outputs": [
        {
          "output_type": "execute_result",
          "data": {
            "text/plain": [
              "{'HelpfulnessDenominator': [568220],\n",
              " 'HelpfulnessNumerator': [568223],\n",
              " 'Id': [0],\n",
              " 'ProductId': [494196],\n",
              " 'ProfileName': [350037],\n",
              " 'Score': [568449],\n",
              " 'Summary': [272711],\n",
              " 'Text': [174875],\n",
              " 'Time': [565286],\n",
              " 'UserId': [312395]}"
            ]
          },
          "metadata": {
            "tags": []
          },
          "execution_count": 19
        }
      ]
    },
    {
      "cell_type": "code",
      "metadata": {
        "colab": {
          "base_uri": "https://localhost:8080/",
          "height": 877
        },
        "id": "QZcFssxmdcD9",
        "outputId": "2002b923-0ca9-4b1d-ed1c-8e50f31d97e4"
      },
      "source": [
        "#Visulaize the attributes\n",
        "df.hist(bins=50, figsize=(20,15))\n",
        "plt.show()"
      ],
      "execution_count": null,
      "outputs": [
        {
          "output_type": "display_data",
          "data": {
            "image/png": "[encoded data removed]",
            "text/plain": [
              "<Figure size 1440x1080 with 6 Axes>"
            ]
          },
          "metadata": {
            "tags": [],
            "needs_background": "light"
          }
        }
      ]
    },
    {
      "cell_type": "markdown",
      "metadata": {
        "id": "bvSUBKTDjLpJ"
      },
      "source": [
        "### Assessing\n",
        "\n",
        "1. Null values in `ProfileName` and `Summary` columns.\n",
        "\n",
        "\n",
        "2. * No 'whole' duplicated rows.\n",
        "\n",
        "   * There are rows that have duplicated values for the `ProductId`, `UserId`, `ProfileName`, `Score`, `Summary` and `Text`. Their `HelpfulnessNumerator` and `HelpfulnessDenominator` differ according to the `Time`. (The row that has a greater value in `Time` column has a greater `HelpfulnessDenominator` and greater or same value for `HelpfulnessNumerator`).\n",
        "   * Other rows only differ in `Id` (which is an unneccessary column). \n",
        "   * Also some differ in `ProductId`, `HelpfulnessNumerator` and `HelpfulnessDenominator`.\n",
        "   * Moreover, some rows differ in `Id` and `ProductId` only!!\n",
        "\n",
        "\n",
        "3. There are some unneccessary columns: `Id`, `Time` and `UserId` **or** `ProfileName` (It's better to keep the `UserId`).\n",
        "\n",
        "\n",
        "4. `ProfileName` values are inconsistent and do not abide to a certain Name format and some values are not meaningful.\n",
        "\n",
        "\n",
        "5. From the percentiles, there is a huge gap between the **95% value** and **max value** of `HelpfulnessNumerator` and `HelpfulnessDenumerator`, which indicates the existence of outlieres within these columns.\n",
        "\n",
        "\n",
        "6. It will be more useful to store `HelpfulnessNumerator`/`HelpfulnessDenominator`. It denotes the percentage of people who found the product helpful compared to all who voted for helpful or not."
      ]
    },
    {
      "cell_type": "markdown",
      "metadata": {
        "id": "iLFHYhQvkWDK"
      },
      "source": [
        "### Cleaning"
      ]
    },
    {
      "cell_type": "code",
      "metadata": {
        "id": "U_8aJcfYdcD_"
      },
      "source": [
        "# First create a copy of the dataset\n",
        "df_clean = df.copy()"
      ],
      "execution_count": null,
      "outputs": []
    },
    {
      "cell_type": "markdown",
      "metadata": {
        "id": "fFH1IHxCdcD_"
      },
      "source": [
        "1. * `ProfileName` column will be dropped so we don't have to care about its null values.\n",
        "   * We can fill in the null values in the `Summary` column using regex. However, it's beyond the scope of this course."
      ]
    },
    {
      "cell_type": "markdown",
      "metadata": {
        "id": "pblOT-9cdcEA"
      },
      "source": [
        "2. * Drop the rows that have the same `UserId`, `ProfileName`, `Score`, `Summary` and `Text` using `Time` column, leave the row that has the highest `Time` value. (Sometimes `ProductId` is the same in these rows and sometimes not. Therefore, one random `ProductId` will remain, it doesn't matter which one).\n",
        "\n",
        "![title](dupl.png)\n",
        "\n",
        "   If they have the same `Time`, leave the **highest** `HelpfulnessDenominator`. As it is clear from these rows, at **Time = 1229385600** there was **1** `HelpfulnessDenominator`, then at **Time = 1231718400** we have two rows, one that has **0** `HelpfulnessDenominator` and the other has **2**. Therefore, the value **2 is the correct one**, as the `HelpfulnessDenominator` cannot get smaller as time passes!"
      ]
    },
    {
      "cell_type": "code",
      "metadata": {
        "colab": {
          "base_uri": "https://localhost:8080/"
        },
        "id": "awiw1nxKdcEA",
        "outputId": "32952d46-07f0-48f6-fb0a-2b5e430e6e2c"
      },
      "source": [
        "#df2 = df_clean[df_clean.duplicated(subset=['UserId', 'ProfileName', 'Score', 'Summary', 'Text'],  keep=False)]\n",
        "\n",
        "# Sort the df descendingly according to the Time\n",
        "df_clean.sort_values(by=['Time','HelpfulnessDenominator'], ascending=False, inplace=True)\n",
        "\n",
        "# Drop the duplicates keeping the first one (highest Time/ HelpfulnessDenominator)\n",
        "df_clean.drop_duplicates(subset=['UserId', 'ProfileName', 'Score', 'Summary', 'Text'], keep='first', inplace=True)\n",
        "\n",
        "#Check the number of unique values in each column\n",
        "df_clean.info()"
      ],
      "execution_count": null,
      "outputs": [
        {
          "output_type": "stream",
          "text": [
            "<class 'pandas.core.frame.DataFrame'>\n",
            "Int64Index: 395052 entries, 492288 to 150523\n",
            "Data columns (total 10 columns):\n",
            " #   Column                  Non-Null Count   Dtype \n",
            "---  ------                  --------------   ----- \n",
            " 0   Id                      395052 non-null  int64 \n",
            " 1   ProductId               395052 non-null  object\n",
            " 2   UserId                  395052 non-null  object\n",
            " 3   ProfileName             395041 non-null  object\n",
            " 4   HelpfulnessNumerator    395052 non-null  int64 \n",
            " 5   HelpfulnessDenominator  395052 non-null  int64 \n",
            " 6   Score                   395052 non-null  int64 \n",
            " 7   Time                    395052 non-null  int64 \n",
            " 8   Summary                 395049 non-null  object\n",
            " 9   Text                    395052 non-null  object\n",
            "dtypes: int64(5), object(5)\n",
            "memory usage: 33.2+ MB\n"
          ],
          "name": "stdout"
        }
      ]
    },
    {
      "cell_type": "code",
      "metadata": {
        "colab": {
          "base_uri": "https://localhost:8080/"
        },
        "id": "RlHH7uTzdcEA",
        "outputId": "d9e0f613-3e34-4f9c-d78e-b881be175e10"
      },
      "source": [
        "#Checking the duplicated values for each column\n",
        "v_c = {}\n",
        "for col in df_clean.columns:\n",
        "    v_c [col] = [df_clean[col].duplicated().sum()]\n",
        "v_c"
      ],
      "execution_count": null,
      "outputs": [
        {
          "output_type": "execute_result",
          "data": {
            "text/plain": [
              "{'HelpfulnessDenominator': [394818],\n",
              " 'HelpfulnessNumerator': [394821],\n",
              " 'Id': [0],\n",
              " 'ProductId': [327310],\n",
              " 'ProfileName': [176635],\n",
              " 'Score': [395047],\n",
              " 'Summary': [99309],\n",
              " 'Text': [1473],\n",
              " 'Time': [391885],\n",
              " 'UserId': [138993]}"
            ]
          },
          "metadata": {
            "tags": []
          },
          "execution_count": 23
        }
      ]
    },
    {
      "cell_type": "markdown",
      "metadata": {
        "id": "8CJlIL2EdcEA"
      },
      "source": [
        "* Drop the columns that have the same `UserId`, `Summary` and `Text` (Keep the highest Score if the scores are different)\n"
      ]
    },
    {
      "cell_type": "code",
      "metadata": {
        "id": "SpNQ1gxZdcEA"
      },
      "source": [
        "# Sort the df descendingly according to the Time then Score\n",
        "df_clean.sort_values(by=['Time','Score'], ascending=False, inplace=True)\n",
        "\n",
        "# Drop the duplicates keeping the first one (highest Time/ HelpfulnessDenominator)\n",
        "df_clean.drop_duplicates(subset=['UserId', 'Summary', 'Text'], keep='first', inplace=True)\n",
        "\n"
      ],
      "execution_count": null,
      "outputs": []
    },
    {
      "cell_type": "markdown",
      "metadata": {
        "id": "IhJ4TbksdcEB"
      },
      "source": [
        "* Drop the columns that have the same `ProfileName`, `Summary` and `Text` (Keep the highest Score if the scores are different)\n"
      ]
    },
    {
      "cell_type": "code",
      "metadata": {
        "id": "aVnnpk3xdcEB"
      },
      "source": [
        "# Sort the df descendingly according to the Time then Score\n",
        "df_clean.sort_values(by=['Time','Score'], ascending=False, inplace=True)\n",
        "\n",
        "# Drop the duplicates keeping the first one (highest Time/ HelpfulnessDenominator)\n",
        "df_clean.drop_duplicates(subset=['ProfileName', 'Summary', 'Text'], keep='first', inplace=True)\n"
      ],
      "execution_count": null,
      "outputs": []
    },
    {
      "cell_type": "markdown",
      "metadata": {
        "id": "8hp0sBb0dcEB"
      },
      "source": [
        "*  **Testing**"
      ]
    },
    {
      "cell_type": "code",
      "metadata": {
        "colab": {
          "base_uri": "https://localhost:8080/"
        },
        "id": "VGOistuadcEC",
        "outputId": "8eaa81af-81f5-4211-f983-d68f248bb14b"
      },
      "source": [
        "df_clean.info()"
      ],
      "execution_count": null,
      "outputs": [
        {
          "output_type": "stream",
          "text": [
            "<class 'pandas.core.frame.DataFrame'>\n",
            "Int64Index: 394973 entries, 566797 to 150523\n",
            "Data columns (total 10 columns):\n",
            " #   Column                  Non-Null Count   Dtype \n",
            "---  ------                  --------------   ----- \n",
            " 0   Id                      394973 non-null  int64 \n",
            " 1   ProductId               394973 non-null  object\n",
            " 2   UserId                  394973 non-null  object\n",
            " 3   ProfileName             394962 non-null  object\n",
            " 4   HelpfulnessNumerator    394973 non-null  int64 \n",
            " 5   HelpfulnessDenominator  394973 non-null  int64 \n",
            " 6   Score                   394973 non-null  int64 \n",
            " 7   Time                    394973 non-null  int64 \n",
            " 8   Summary                 394970 non-null  object\n",
            " 9   Text                    394973 non-null  object\n",
            "dtypes: int64(5), object(5)\n",
            "memory usage: 33.1+ MB\n"
          ],
          "name": "stdout"
        }
      ]
    },
    {
      "cell_type": "code",
      "metadata": {
        "colab": {
          "base_uri": "https://localhost:8080/"
        },
        "id": "W3roa_MxdcEC",
        "outputId": "ceafad21-169e-4bf5-bedd-80cc02d10c5a"
      },
      "source": [
        "#Checking the duplicated values for each column\n",
        "v_c = {}\n",
        "for col in df_clean.columns:\n",
        "    v_c [col] = [df_clean[col].duplicated().sum()]\n",
        "v_c"
      ],
      "execution_count": null,
      "outputs": [
        {
          "output_type": "execute_result",
          "data": {
            "text/plain": [
              "{'HelpfulnessDenominator': [394739],\n",
              " 'HelpfulnessNumerator': [394742],\n",
              " 'Id': [0],\n",
              " 'ProductId': [327247],\n",
              " 'ProfileName': [176561],\n",
              " 'Score': [394968],\n",
              " 'Summary': [99230],\n",
              " 'Text': [1394],\n",
              " 'Time': [391806],\n",
              " 'UserId': [138915]}"
            ]
          },
          "metadata": {
            "tags": []
          },
          "execution_count": 27
        }
      ]
    },
    {
      "cell_type": "markdown",
      "metadata": {
        "id": "8pJ7lkvadcEC"
      },
      "source": [
        "* Drop the columns that have the same `Text` (Keep the highest Score if the scores are different)"
      ]
    },
    {
      "cell_type": "code",
      "metadata": {
        "id": "uxyV1B0UdcEC"
      },
      "source": [
        "# Sort the df descendingly according to the Time then Score\n",
        "df_clean.sort_values(by=['Time','Score'], ascending=False, inplace=True)\n",
        "\n",
        "# Drop the duplicates keeping the first one (highest Time/ HelpfulnessDenominator)\n",
        "df_clean.drop_duplicates(subset=['Text'], keep='first', inplace=True)\n"
      ],
      "execution_count": null,
      "outputs": []
    },
    {
      "cell_type": "markdown",
      "metadata": {
        "id": "igCGhzmkdcEC"
      },
      "source": [
        "* **Testing**"
      ]
    },
    {
      "cell_type": "code",
      "metadata": {
        "colab": {
          "base_uri": "https://localhost:8080/"
        },
        "id": "8DgTvpWidcED",
        "outputId": "ebc8c134-1e3c-4041-8329-41dab826285b"
      },
      "source": [
        "df_clean.info()"
      ],
      "execution_count": null,
      "outputs": [
        {
          "output_type": "stream",
          "text": [
            "<class 'pandas.core.frame.DataFrame'>\n",
            "Int64Index: 393579 entries, 566797 to 150523\n",
            "Data columns (total 10 columns):\n",
            " #   Column                  Non-Null Count   Dtype \n",
            "---  ------                  --------------   ----- \n",
            " 0   Id                      393579 non-null  int64 \n",
            " 1   ProductId               393579 non-null  object\n",
            " 2   UserId                  393579 non-null  object\n",
            " 3   ProfileName             393568 non-null  object\n",
            " 4   HelpfulnessNumerator    393579 non-null  int64 \n",
            " 5   HelpfulnessDenominator  393579 non-null  int64 \n",
            " 6   Score                   393579 non-null  int64 \n",
            " 7   Time                    393579 non-null  int64 \n",
            " 8   Summary                 393576 non-null  object\n",
            " 9   Text                    393579 non-null  object\n",
            "dtypes: int64(5), object(5)\n",
            "memory usage: 33.0+ MB\n"
          ],
          "name": "stdout"
        }
      ]
    },
    {
      "cell_type": "code",
      "metadata": {
        "colab": {
          "base_uri": "https://localhost:8080/"
        },
        "id": "nBGLhD7GdcED",
        "outputId": "10b617d6-783a-4efb-a312-0f19e4d88dc1"
      },
      "source": [
        "#Checking the duplicated values for each column\n",
        "v_c = {}\n",
        "for col in df_clean.columns:\n",
        "    v_c [col] = [df_clean[col].duplicated().sum()]\n",
        "v_c"
      ],
      "execution_count": null,
      "outputs": [
        {
          "output_type": "execute_result",
          "data": {
            "text/plain": [
              "{'HelpfulnessDenominator': [393345],\n",
              " 'HelpfulnessNumerator': [393348],\n",
              " 'Id': [0],\n",
              " 'ProductId': [326041],\n",
              " 'ProfileName': [175181],\n",
              " 'Score': [393574],\n",
              " 'Summary': [98881],\n",
              " 'Text': [0],\n",
              " 'Time': [390412],\n",
              " 'UserId': [137539]}"
            ]
          },
          "metadata": {
            "tags": []
          },
          "execution_count": 30
        }
      ]
    },
    {
      "cell_type": "markdown",
      "metadata": {
        "id": "RR2SoD_4dcED"
      },
      "source": [
        "* Checking if there are any other duplicates that need to be dropped."
      ]
    },
    {
      "cell_type": "code",
      "metadata": {
        "colab": {
          "base_uri": "https://localhost:8080/",
          "height": 47
        },
        "id": "Gh6_EUAzdcED",
        "scrolled": true,
        "outputId": "53af5aa0-3e1f-4f71-e8ca-1669855164bf"
      },
      "source": [
        "df_clean[df_clean.duplicated(subset=['Summary', 'Text'],  keep=False)]"
      ],
      "execution_count": null,
      "outputs": [
        {
          "output_type": "execute_result",
          "data": {
            "text/html": [
              "<div>\n",
              "<style scoped>\n",
              "    .dataframe tbody tr th:only-of-type {\n",
              "        vertical-align: middle;\n",
              "    }\n",
              "\n",
              "    .dataframe tbody tr th {\n",
              "        vertical-align: top;\n",
              "    }\n",
              "\n",
              "    .dataframe thead th {\n",
              "        text-align: right;\n",
              "    }\n",
              "</style>\n",
              "<table border=\"1\" class=\"dataframe\">\n",
              "  <thead>\n",
              "    <tr style=\"text-align: right;\">\n",
              "      <th></th>\n",
              "      <th>Id</th>\n",
              "      <th>ProductId</th>\n",
              "      <th>UserId</th>\n",
              "      <th>ProfileName</th>\n",
              "      <th>HelpfulnessNumerator</th>\n",
              "      <th>HelpfulnessDenominator</th>\n",
              "      <th>Score</th>\n",
              "      <th>Time</th>\n",
              "      <th>Summary</th>\n",
              "      <th>Text</th>\n",
              "    </tr>\n",
              "  </thead>\n",
              "  <tbody>\n",
              "  </tbody>\n",
              "</table>\n",
              "</div>"
            ],
            "text/plain": [
              "Empty DataFrame\n",
              "Columns: [Id, ProductId, UserId, ProfileName, HelpfulnessNumerator, HelpfulnessDenominator, Score, Time, Summary, Text]\n",
              "Index: []"
            ]
          },
          "metadata": {
            "tags": []
          },
          "execution_count": 31
        }
      ]
    },
    {
      "cell_type": "code",
      "metadata": {
        "colab": {
          "base_uri": "https://localhost:8080/",
          "height": 1000
        },
        "id": "rgbudQ2ydcEG",
        "outputId": "c969ab28-df51-44c2-f385-d8bb6d1f2a60"
      },
      "source": [
        "df_clean[df_clean['Summary'].duplicated(keep=False)].sort_values(by='Summary', ascending=False)"
      ],
      "execution_count": null,
      "outputs": [
        {
          "output_type": "execute_result",
          "data": {
            "text/html": [
              "<div>\n",
              "<style scoped>\n",
              "    .dataframe tbody tr th:only-of-type {\n",
              "        vertical-align: middle;\n",
              "    }\n",
              "\n",
              "    .dataframe tbody tr th {\n",
              "        vertical-align: top;\n",
              "    }\n",
              "\n",
              "    .dataframe thead th {\n",
              "        text-align: right;\n",
              "    }\n",
              "</style>\n",
              "<table border=\"1\" class=\"dataframe\">\n",
              "  <thead>\n",
              "    <tr style=\"text-align: right;\">\n",
              "      <th></th>\n",
              "      <th>Id</th>\n",
              "      <th>ProductId</th>\n",
              "      <th>UserId</th>\n",
              "      <th>ProfileName</th>\n",
              "      <th>HelpfulnessNumerator</th>\n",
              "      <th>HelpfulnessDenominator</th>\n",
              "      <th>Score</th>\n",
              "      <th>Time</th>\n",
              "      <th>Summary</th>\n",
              "      <th>Text</th>\n",
              "    </tr>\n",
              "  </thead>\n",
              "  <tbody>\n",
              "    <tr>\n",
              "      <th>48131</th>\n",
              "      <td>48132</td>\n",
              "      <td>B004SRH2B6</td>\n",
              "      <td>A14CS7QYJVLIX1</td>\n",
              "      <td>Susan M. Barry \"suzieb\"</td>\n",
              "      <td>0</td>\n",
              "      <td>0</td>\n",
              "      <td>5</td>\n",
              "      <td>1152057600</td>\n",
              "      <td>zico</td>\n",
              "      <td>I drink this product after hot Yoga and immedi...</td>\n",
              "    </tr>\n",
              "    <tr>\n",
              "      <th>47893</th>\n",
              "      <td>47894</td>\n",
              "      <td>B004SRH2B6</td>\n",
              "      <td>A2651U83ADWP6R</td>\n",
              "      <td>aggie</td>\n",
              "      <td>0</td>\n",
              "      <td>0</td>\n",
              "      <td>5</td>\n",
              "      <td>1348790400</td>\n",
              "      <td>zico</td>\n",
              "      <td>I love ZICO. I have Sjogrens and can get dehyd...</td>\n",
              "    </tr>\n",
              "    <tr>\n",
              "      <th>555584</th>\n",
              "      <td>555585</td>\n",
              "      <td>B001SAVRMQ</td>\n",
              "      <td>A2PB7547K54Y26</td>\n",
              "      <td>Amos Quito</td>\n",
              "      <td>0</td>\n",
              "      <td>0</td>\n",
              "      <td>1</td>\n",
              "      <td>1322870400</td>\n",
              "      <td>zero stars</td>\n",
              "      <td>poor quality/old product.  Upon grating, nutme...</td>\n",
              "    </tr>\n",
              "    <tr>\n",
              "      <th>469036</th>\n",
              "      <td>469037</td>\n",
              "      <td>B005MQ1XVW</td>\n",
              "      <td>A3OO0PCA2WG3L6</td>\n",
              "      <td>pepper</td>\n",
              "      <td>0</td>\n",
              "      <td>0</td>\n",
              "      <td>1</td>\n",
              "      <td>1349568000</td>\n",
              "      <td>zero stars</td>\n",
              "      <td>not enough info to purchase this product also ...</td>\n",
              "    </tr>\n",
              "    <tr>\n",
              "      <th>49824</th>\n",
              "      <td>49825</td>\n",
              "      <td>B000EUIZ8K</td>\n",
              "      <td>AIQRUBULCEZNA</td>\n",
              "      <td>M. Hunerberg</td>\n",
              "      <td>0</td>\n",
              "      <td>0</td>\n",
              "      <td>5</td>\n",
              "      <td>1252368000</td>\n",
              "      <td>zen</td>\n",
              "      <td>great for making iced green tea. same stuff th...</td>\n",
              "    </tr>\n",
              "    <tr>\n",
              "      <th>...</th>\n",
              "      <td>...</td>\n",
              "      <td>...</td>\n",
              "      <td>...</td>\n",
              "      <td>...</td>\n",
              "      <td>...</td>\n",
              "      <td>...</td>\n",
              "      <td>...</td>\n",
              "      <td>...</td>\n",
              "      <td>...</td>\n",
              "      <td>...</td>\n",
              "    </tr>\n",
              "    <tr>\n",
              "      <th>103092</th>\n",
              "      <td>103093</td>\n",
              "      <td>B001E5E2RM</td>\n",
              "      <td>A22AL0PEWQLHK0</td>\n",
              "      <td>Art Majors</td>\n",
              "      <td>0</td>\n",
              "      <td>0</td>\n",
              "      <td>3</td>\n",
              "      <td>1344988800</td>\n",
              "      <td>\"Classic\" is much better!</td>\n",
              "      <td>I agree with some of the other reviewers. I ha...</td>\n",
              "    </tr>\n",
              "    <tr>\n",
              "      <th>129481</th>\n",
              "      <td>129482</td>\n",
              "      <td>B002PO73KY</td>\n",
              "      <td>A22AL0PEWQLHK0</td>\n",
              "      <td>Art Majors</td>\n",
              "      <td>1</td>\n",
              "      <td>1</td>\n",
              "      <td>5</td>\n",
              "      <td>1344988800</td>\n",
              "      <td>\"Classic\" is much better!</td>\n",
              "      <td>I agree with some of the other reviewers (for ...</td>\n",
              "    </tr>\n",
              "    <tr>\n",
              "      <th>392529</th>\n",
              "      <td>392530</td>\n",
              "      <td>B001H9XOEW</td>\n",
              "      <td>A22R17YPXEULEZ</td>\n",
              "      <td>Liz Wong</td>\n",
              "      <td>0</td>\n",
              "      <td>0</td>\n",
              "      <td>3</td>\n",
              "      <td>1334534400</td>\n",
              "      <td>NaN</td>\n",
              "      <td>I like the product and tried it before I pucha...</td>\n",
              "    </tr>\n",
              "    <tr>\n",
              "      <th>237565</th>\n",
              "      <td>237566</td>\n",
              "      <td>B000ELGPAO</td>\n",
              "      <td>A15AMT9T9A1309</td>\n",
              "      <td>Film-Friend</td>\n",
              "      <td>1</td>\n",
              "      <td>1</td>\n",
              "      <td>3</td>\n",
              "      <td>1328572800</td>\n",
              "      <td>NaN</td>\n",
              "      <td>This is a cool system only problem is that the...</td>\n",
              "    </tr>\n",
              "    <tr>\n",
              "      <th>33958</th>\n",
              "      <td>33959</td>\n",
              "      <td>B00412W76S</td>\n",
              "      <td>A3TJPSWY2HE4BS</td>\n",
              "      <td>S. Layton \"homeschool blogger\"</td>\n",
              "      <td>1</td>\n",
              "      <td>24</td>\n",
              "      <td>2</td>\n",
              "      <td>1173312000</td>\n",
              "      <td>NaN</td>\n",
              "      <td>I only used two maybe three tea bags and got p...</td>\n",
              "    </tr>\n",
              "  </tbody>\n",
              "</table>\n",
              "<p>119073 rows × 10 columns</p>\n",
              "</div>"
            ],
            "text/plain": [
              "            Id  ...                                               Text\n",
              "48131    48132  ...  I drink this product after hot Yoga and immedi...\n",
              "47893    47894  ...  I love ZICO. I have Sjogrens and can get dehyd...\n",
              "555584  555585  ...  poor quality/old product.  Upon grating, nutme...\n",
              "469036  469037  ...  not enough info to purchase this product also ...\n",
              "49824    49825  ...  great for making iced green tea. same stuff th...\n",
              "...        ...  ...                                                ...\n",
              "103092  103093  ...  I agree with some of the other reviewers. I ha...\n",
              "129481  129482  ...  I agree with some of the other reviewers (for ...\n",
              "392529  392530  ...  I like the product and tried it before I pucha...\n",
              "237565  237566  ...  This is a cool system only problem is that the...\n",
              "33958    33959  ...  I only used two maybe three tea bags and got p...\n",
              "\n",
              "[119073 rows x 10 columns]"
            ]
          },
          "metadata": {
            "tags": []
          },
          "execution_count": 32
        }
      ]
    },
    {
      "cell_type": "markdown",
      "metadata": {
        "id": "ps92yCeGdcEH"
      },
      "source": [
        "* Duplicates among the Summary don't need to be dropped, as having the same Summary for different reviews can happen.\n",
        "* However, there are some remaining duplicates for the `Summary` and `Text` that have very slight letter differences. This might be solved using regex, again, beyond the scope of this course."
      ]
    },
    {
      "cell_type": "markdown",
      "metadata": {
        "id": "XrTNIVlPdcEH"
      },
      "source": [
        "3. Drop the columns: `Id`, `Time` and `ProfileName` (Keep the `UserId` as it has more unique values).\n"
      ]
    },
    {
      "cell_type": "code",
      "metadata": {
        "id": "ApaCmUmIdcEH"
      },
      "source": [
        "# First reset the indeces\n",
        "df_clean.reset_index(drop=True, inplace=True)"
      ],
      "execution_count": null,
      "outputs": []
    },
    {
      "cell_type": "code",
      "metadata": {
        "id": "myDN1kVldcEI"
      },
      "source": [
        "df_clean.drop(columns=['Id','Time','ProfileName'], inplace=True)"
      ],
      "execution_count": null,
      "outputs": []
    },
    {
      "cell_type": "code",
      "metadata": {
        "colab": {
          "base_uri": "https://localhost:8080/",
          "height": 197
        },
        "id": "_DxXokSIdcEJ",
        "outputId": "5fcef430-d9b4-4771-ad10-cad6dfea8848"
      },
      "source": [
        "df_clean.head()"
      ],
      "execution_count": null,
      "outputs": [
        {
          "output_type": "execute_result",
          "data": {
            "text/html": [
              "<div>\n",
              "<style scoped>\n",
              "    .dataframe tbody tr th:only-of-type {\n",
              "        vertical-align: middle;\n",
              "    }\n",
              "\n",
              "    .dataframe tbody tr th {\n",
              "        vertical-align: top;\n",
              "    }\n",
              "\n",
              "    .dataframe thead th {\n",
              "        text-align: right;\n",
              "    }\n",
              "</style>\n",
              "<table border=\"1\" class=\"dataframe\">\n",
              "  <thead>\n",
              "    <tr style=\"text-align: right;\">\n",
              "      <th></th>\n",
              "      <th>ProductId</th>\n",
              "      <th>UserId</th>\n",
              "      <th>HelpfulnessNumerator</th>\n",
              "      <th>HelpfulnessDenominator</th>\n",
              "      <th>Score</th>\n",
              "      <th>Summary</th>\n",
              "      <th>Text</th>\n",
              "    </tr>\n",
              "  </thead>\n",
              "  <tbody>\n",
              "    <tr>\n",
              "      <th>0</th>\n",
              "      <td>B001PQTYN2</td>\n",
              "      <td>A3OTHWG8LLCLMU</td>\n",
              "      <td>1</td>\n",
              "      <td>1</td>\n",
              "      <td>5</td>\n",
              "      <td>Great</td>\n",
              "      <td>If you like a great , hot, sauce then buy this...</td>\n",
              "    </tr>\n",
              "    <tr>\n",
              "      <th>1</th>\n",
              "      <td>B00171APVA</td>\n",
              "      <td>A21BT40VZCCYT4</td>\n",
              "      <td>0</td>\n",
              "      <td>0</td>\n",
              "      <td>5</td>\n",
              "      <td>Healthy Dog Food</td>\n",
              "      <td>This is a very healthy dog food. Good for thei...</td>\n",
              "    </tr>\n",
              "    <tr>\n",
              "      <th>2</th>\n",
              "      <td>B004FD13RW</td>\n",
              "      <td>A1BPLP0BKERV</td>\n",
              "      <td>0</td>\n",
              "      <td>0</td>\n",
              "      <td>5</td>\n",
              "      <td>It is awesome.</td>\n",
              "      <td>My partner is very happy with the tea, and is ...</td>\n",
              "    </tr>\n",
              "    <tr>\n",
              "      <th>3</th>\n",
              "      <td>B009WSNWC4</td>\n",
              "      <td>AMP7K1O84DH1T</td>\n",
              "      <td>0</td>\n",
              "      <td>0</td>\n",
              "      <td>5</td>\n",
              "      <td>DELICIOUS</td>\n",
              "      <td>Purchased this product at a local store in NY ...</td>\n",
              "    </tr>\n",
              "    <tr>\n",
              "      <th>4</th>\n",
              "      <td>B00523NRVO</td>\n",
              "      <td>A2JDXKFZ0PFHKU</td>\n",
              "      <td>0</td>\n",
              "      <td>0</td>\n",
              "      <td>5</td>\n",
              "      <td>The perfect pop!</td>\n",
              "      <td>These lollipops are are well done, look exactl...</td>\n",
              "    </tr>\n",
              "  </tbody>\n",
              "</table>\n",
              "</div>"
            ],
            "text/plain": [
              "    ProductId  ...                                               Text\n",
              "0  B001PQTYN2  ...  If you like a great , hot, sauce then buy this...\n",
              "1  B00171APVA  ...  This is a very healthy dog food. Good for thei...\n",
              "2  B004FD13RW  ...  My partner is very happy with the tea, and is ...\n",
              "3  B009WSNWC4  ...  Purchased this product at a local store in NY ...\n",
              "4  B00523NRVO  ...  These lollipops are are well done, look exactl...\n",
              "\n",
              "[5 rows x 7 columns]"
            ]
          },
          "metadata": {
            "tags": []
          },
          "execution_count": 35
        }
      ]
    },
    {
      "cell_type": "markdown",
      "metadata": {
        "id": "PQQxf9v9dcEK"
      },
      "source": [
        "4. The column `ProfileName` was already dropped."
      ]
    },
    {
      "cell_type": "code",
      "metadata": {
        "colab": {
          "base_uri": "https://localhost:8080/",
          "height": 573
        },
        "id": "9KuLXRv5dcEK",
        "outputId": "f312dac2-9fb1-453e-94c0-08e387548d69"
      },
      "source": [
        "df_clean[df_clean['HelpfulnessDenominator'] > 9].sort_values(by='HelpfulnessDenominator', ascending=False)"
      ],
      "execution_count": null,
      "outputs": [
        {
          "output_type": "execute_result",
          "data": {
            "text/html": [
              "<div>\n",
              "<style scoped>\n",
              "    .dataframe tbody tr th:only-of-type {\n",
              "        vertical-align: middle;\n",
              "    }\n",
              "\n",
              "    .dataframe tbody tr th {\n",
              "        vertical-align: top;\n",
              "    }\n",
              "\n",
              "    .dataframe thead th {\n",
              "        text-align: right;\n",
              "    }\n",
              "</style>\n",
              "<table border=\"1\" class=\"dataframe\">\n",
              "  <thead>\n",
              "    <tr style=\"text-align: right;\">\n",
              "      <th></th>\n",
              "      <th>ProductId</th>\n",
              "      <th>UserId</th>\n",
              "      <th>HelpfulnessNumerator</th>\n",
              "      <th>HelpfulnessDenominator</th>\n",
              "      <th>Score</th>\n",
              "      <th>Summary</th>\n",
              "      <th>Text</th>\n",
              "    </tr>\n",
              "  </thead>\n",
              "  <tbody>\n",
              "    <tr>\n",
              "      <th>324097</th>\n",
              "      <td>B00012182G</td>\n",
              "      <td>A1JUGIQDY6UYSM</td>\n",
              "      <td>844</td>\n",
              "      <td>923</td>\n",
              "      <td>3</td>\n",
              "      <td>Whole Rabbit - NOT!</td>\n",
              "      <td>I ordered one of these Fresh \"Whole\" Rabbits, ...</td>\n",
              "    </tr>\n",
              "    <tr>\n",
              "      <th>387779</th>\n",
              "      <td>B000FI4O90</td>\n",
              "      <td>A1GQGYROVZVW49</td>\n",
              "      <td>866</td>\n",
              "      <td>878</td>\n",
              "      <td>5</td>\n",
              "      <td>Works as Advertised - Classy Product</td>\n",
              "      <td>see update at end of review&lt;br /&gt;&lt;br /&gt;*******...</td>\n",
              "    </tr>\n",
              "    <tr>\n",
              "      <th>312564</th>\n",
              "      <td>B001PQTYN2</td>\n",
              "      <td>A1QB2Y8GSME58Y</td>\n",
              "      <td>808</td>\n",
              "      <td>815</td>\n",
              "      <td>5</td>\n",
              "      <td>sauce not for mortals</td>\n",
              "      <td>I purchased a burrito from a small shop a few ...</td>\n",
              "    </tr>\n",
              "    <tr>\n",
              "      <th>203416</th>\n",
              "      <td>B001F10XUU</td>\n",
              "      <td>A39V22BIBUMMB3</td>\n",
              "      <td>580</td>\n",
              "      <td>593</td>\n",
              "      <td>1</td>\n",
              "      <td>Lost in Translation: Truth</td>\n",
              "      <td>This product is called \"Hunmatsu-RyokuCha,\" in...</td>\n",
              "    </tr>\n",
              "    <tr>\n",
              "      <th>362086</th>\n",
              "      <td>B000UUWECC</td>\n",
              "      <td>AU3GYRAKBUAEU</td>\n",
              "      <td>491</td>\n",
              "      <td>569</td>\n",
              "      <td>3</td>\n",
              "      <td>not bad stuff, but I have serious questions</td>\n",
              "      <td>Coconut water is the liquid inside an unopened...</td>\n",
              "    </tr>\n",
              "    <tr>\n",
              "      <th>...</th>\n",
              "      <td>...</td>\n",
              "      <td>...</td>\n",
              "      <td>...</td>\n",
              "      <td>...</td>\n",
              "      <td>...</td>\n",
              "      <td>...</td>\n",
              "      <td>...</td>\n",
              "    </tr>\n",
              "    <tr>\n",
              "      <th>381654</th>\n",
              "      <td>B000LQTTVY</td>\n",
              "      <td>A39PE92UTLIR9X</td>\n",
              "      <td>1</td>\n",
              "      <td>10</td>\n",
              "      <td>5</td>\n",
              "      <td>Wonderful Freezer Storage</td>\n",
              "      <td>These Tupperware containers are wonderful.  It...</td>\n",
              "    </tr>\n",
              "    <tr>\n",
              "      <th>381655</th>\n",
              "      <td>B000LKTEYC</td>\n",
              "      <td>AW1VO5WYU3PL6</td>\n",
              "      <td>10</td>\n",
              "      <td>10</td>\n",
              "      <td>5</td>\n",
              "      <td>Camel Halvah Bars</td>\n",
              "      <td>Excelent tasting, with little sugar.&lt;br /&gt;&lt;br ...</td>\n",
              "    </tr>\n",
              "    <tr>\n",
              "      <th>381656</th>\n",
              "      <td>B000JKPXU8</td>\n",
              "      <td>A3FBPC699DPYFP</td>\n",
              "      <td>10</td>\n",
              "      <td>10</td>\n",
              "      <td>5</td>\n",
              "      <td>Black Truffle Salt</td>\n",
              "      <td>After you use this product, you will never rea...</td>\n",
              "    </tr>\n",
              "    <tr>\n",
              "      <th>381726</th>\n",
              "      <td>B000EEWZG4</td>\n",
              "      <td>A2Y5P8ISTELDO7</td>\n",
              "      <td>8</td>\n",
              "      <td>10</td>\n",
              "      <td>4</td>\n",
              "      <td>Good stuff</td>\n",
              "      <td>I used to buy the larger cans, but this is a b...</td>\n",
              "    </tr>\n",
              "    <tr>\n",
              "      <th>178948</th>\n",
              "      <td>B000J490VC</td>\n",
              "      <td>AKL3O57JQPM53</td>\n",
              "      <td>9</td>\n",
              "      <td>10</td>\n",
              "      <td>4</td>\n",
              "      <td>Fogcutter tea</td>\n",
              "      <td>My Doctor actually had me try some of this tea...</td>\n",
              "    </tr>\n",
              "  </tbody>\n",
              "</table>\n",
              "<p>17324 rows × 7 columns</p>\n",
              "</div>"
            ],
            "text/plain": [
              "         ProductId  ...                                               Text\n",
              "324097  B00012182G  ...  I ordered one of these Fresh \"Whole\" Rabbits, ...\n",
              "387779  B000FI4O90  ...  see update at end of review<br /><br />*******...\n",
              "312564  B001PQTYN2  ...  I purchased a burrito from a small shop a few ...\n",
              "203416  B001F10XUU  ...  This product is called \"Hunmatsu-RyokuCha,\" in...\n",
              "362086  B000UUWECC  ...  Coconut water is the liquid inside an unopened...\n",
              "...            ...  ...                                                ...\n",
              "381654  B000LQTTVY  ...  These Tupperware containers are wonderful.  It...\n",
              "381655  B000LKTEYC  ...  Excelent tasting, with little sugar.<br /><br ...\n",
              "381656  B000JKPXU8  ...  After you use this product, you will never rea...\n",
              "381726  B000EEWZG4  ...  I used to buy the larger cans, but this is a b...\n",
              "178948  B000J490VC  ...  My Doctor actually had me try some of this tea...\n",
              "\n",
              "[17324 rows x 7 columns]"
            ]
          },
          "metadata": {
            "tags": []
          },
          "execution_count": 36
        }
      ]
    },
    {
      "cell_type": "markdown",
      "metadata": {
        "id": "qmMXgXRAdcEL"
      },
      "source": [
        "5. These values represent 5% of the dataset. However they are approximately 12k rows for the Numerator and 17k rows for the Denominator. We cannot say that they are invalid and we cannot drop these rows."
      ]
    },
    {
      "cell_type": "markdown",
      "metadata": {
        "id": "MZXzRE_zdcEL"
      },
      "source": [
        "6. Add a new column `Helpfulness` which is Numerator/Denominator, and drop the `HelpfulnessNumerator` and `HelpfulnessDenominator`."
      ]
    },
    {
      "cell_type": "code",
      "metadata": {
        "id": "MyTArS34dcEM"
      },
      "source": [
        "df_clean['Helpfulness'] = df_clean.apply(lambda row: row['HelpfulnessNumerator']/row['HelpfulnessDenominator']\n",
        "               if row['HelpfulnessDenominator'] != 0 else 0, axis=1)"
      ],
      "execution_count": null,
      "outputs": []
    },
    {
      "cell_type": "code",
      "metadata": {
        "colab": {
          "base_uri": "https://localhost:8080/",
          "height": 406
        },
        "id": "zA4gOUggdcEM",
        "outputId": "8e9ff6aa-2bef-4b92-b279-22461a23fb1d"
      },
      "source": [
        "df_clean.drop(columns=['HelpfulnessNumerator','HelpfulnessDenominator'], inplace=True)\n",
        "df_clean"
      ],
      "execution_count": null,
      "outputs": [
        {
          "output_type": "execute_result",
          "data": {
            "text/html": [
              "<div>\n",
              "<style scoped>\n",
              "    .dataframe tbody tr th:only-of-type {\n",
              "        vertical-align: middle;\n",
              "    }\n",
              "\n",
              "    .dataframe tbody tr th {\n",
              "        vertical-align: top;\n",
              "    }\n",
              "\n",
              "    .dataframe thead th {\n",
              "        text-align: right;\n",
              "    }\n",
              "</style>\n",
              "<table border=\"1\" class=\"dataframe\">\n",
              "  <thead>\n",
              "    <tr style=\"text-align: right;\">\n",
              "      <th></th>\n",
              "      <th>ProductId</th>\n",
              "      <th>UserId</th>\n",
              "      <th>Score</th>\n",
              "      <th>Summary</th>\n",
              "      <th>Text</th>\n",
              "      <th>Helpfulness</th>\n",
              "    </tr>\n",
              "  </thead>\n",
              "  <tbody>\n",
              "    <tr>\n",
              "      <th>0</th>\n",
              "      <td>B001PQTYN2</td>\n",
              "      <td>A3OTHWG8LLCLMU</td>\n",
              "      <td>5</td>\n",
              "      <td>Great</td>\n",
              "      <td>If you like a great , hot, sauce then buy this...</td>\n",
              "      <td>1.0</td>\n",
              "    </tr>\n",
              "    <tr>\n",
              "      <th>1</th>\n",
              "      <td>B00171APVA</td>\n",
              "      <td>A21BT40VZCCYT4</td>\n",
              "      <td>5</td>\n",
              "      <td>Healthy Dog Food</td>\n",
              "      <td>This is a very healthy dog food. Good for thei...</td>\n",
              "      <td>0.0</td>\n",
              "    </tr>\n",
              "    <tr>\n",
              "      <th>2</th>\n",
              "      <td>B004FD13RW</td>\n",
              "      <td>A1BPLP0BKERV</td>\n",
              "      <td>5</td>\n",
              "      <td>It is awesome.</td>\n",
              "      <td>My partner is very happy with the tea, and is ...</td>\n",
              "      <td>0.0</td>\n",
              "    </tr>\n",
              "    <tr>\n",
              "      <th>3</th>\n",
              "      <td>B009WSNWC4</td>\n",
              "      <td>AMP7K1O84DH1T</td>\n",
              "      <td>5</td>\n",
              "      <td>DELICIOUS</td>\n",
              "      <td>Purchased this product at a local store in NY ...</td>\n",
              "      <td>0.0</td>\n",
              "    </tr>\n",
              "    <tr>\n",
              "      <th>4</th>\n",
              "      <td>B00523NRVO</td>\n",
              "      <td>A2JDXKFZ0PFHKU</td>\n",
              "      <td>5</td>\n",
              "      <td>The perfect pop!</td>\n",
              "      <td>These lollipops are are well done, look exactl...</td>\n",
              "      <td>0.0</td>\n",
              "    </tr>\n",
              "    <tr>\n",
              "      <th>...</th>\n",
              "      <td>...</td>\n",
              "      <td>...</td>\n",
              "      <td>...</td>\n",
              "      <td>...</td>\n",
              "      <td>...</td>\n",
              "      <td>...</td>\n",
              "    </tr>\n",
              "    <tr>\n",
              "      <th>393574</th>\n",
              "      <td>B00004CXX9</td>\n",
              "      <td>AJH6LUC1UT1ON</td>\n",
              "      <td>5</td>\n",
              "      <td>FANTASTIC!</td>\n",
              "      <td>Beetlejuice is an excellent and funny movie. K...</td>\n",
              "      <td>0.0</td>\n",
              "    </tr>\n",
              "    <tr>\n",
              "      <th>393575</th>\n",
              "      <td>B00004RYGX</td>\n",
              "      <td>A344SMIA5JECGM</td>\n",
              "      <td>5</td>\n",
              "      <td>A modern day fairy tale</td>\n",
              "      <td>A twist of rumplestiskin captured on film, sta...</td>\n",
              "      <td>0.5</td>\n",
              "    </tr>\n",
              "    <tr>\n",
              "      <th>393576</th>\n",
              "      <td>B00004CXX9</td>\n",
              "      <td>AIUWLEQ1ADEG5</td>\n",
              "      <td>5</td>\n",
              "      <td>Entertainingl Funny!</td>\n",
              "      <td>Beetlejuice is a well written movie ..... ever...</td>\n",
              "      <td>0.0</td>\n",
              "    </tr>\n",
              "    <tr>\n",
              "      <th>393577</th>\n",
              "      <td>0006641040</td>\n",
              "      <td>AJ46FKXOVC7NR</td>\n",
              "      <td>5</td>\n",
              "      <td>This whole series is great way to spend time w...</td>\n",
              "      <td>I can remember seeing the show when it aired o...</td>\n",
              "      <td>1.0</td>\n",
              "    </tr>\n",
              "    <tr>\n",
              "      <th>393578</th>\n",
              "      <td>0006641040</td>\n",
              "      <td>ACITT7DI6IDDL</td>\n",
              "      <td>5</td>\n",
              "      <td>EVERY book is educational</td>\n",
              "      <td>this witty little book makes my son laugh at l...</td>\n",
              "      <td>0.0</td>\n",
              "    </tr>\n",
              "  </tbody>\n",
              "</table>\n",
              "<p>393579 rows × 6 columns</p>\n",
              "</div>"
            ],
            "text/plain": [
              "         ProductId  ... Helpfulness\n",
              "0       B001PQTYN2  ...         1.0\n",
              "1       B00171APVA  ...         0.0\n",
              "2       B004FD13RW  ...         0.0\n",
              "3       B009WSNWC4  ...         0.0\n",
              "4       B00523NRVO  ...         0.0\n",
              "...            ...  ...         ...\n",
              "393574  B00004CXX9  ...         0.0\n",
              "393575  B00004RYGX  ...         0.5\n",
              "393576  B00004CXX9  ...         0.0\n",
              "393577  0006641040  ...         1.0\n",
              "393578  0006641040  ...         0.0\n",
              "\n",
              "[393579 rows x 6 columns]"
            ]
          },
          "metadata": {
            "tags": []
          },
          "execution_count": 38
        }
      ]
    },
    {
      "cell_type": "code",
      "metadata": {
        "colab": {
          "base_uri": "https://localhost:8080/"
        },
        "id": "A_lWZ-32dcEM",
        "outputId": "205c65b2-ea3f-4c51-b866-01a590c8ec1b"
      },
      "source": [
        "# Drop the remaining null values in the Summary \n",
        "df_clean.dropna(inplace=True)\n",
        "df_clean.isnull().sum()"
      ],
      "execution_count": null,
      "outputs": [
        {
          "output_type": "execute_result",
          "data": {
            "text/plain": [
              "ProductId      0\n",
              "UserId         0\n",
              "Score          0\n",
              "Summary        0\n",
              "Text           0\n",
              "Helpfulness    0\n",
              "dtype: int64"
            ]
          },
          "metadata": {
            "tags": []
          },
          "execution_count": 39
        }
      ]
    },
    {
      "cell_type": "code",
      "metadata": {
        "colab": {
          "base_uri": "https://localhost:8080/",
          "height": 498
        },
        "id": "UVwOYJROdcEQ",
        "outputId": "f95a2636-403b-47e8-c07d-4810963e3eb8"
      },
      "source": [
        "#Visulaize the attributes\n",
        "df_clean.hist(bins=50, figsize=(15,8))\n",
        "plt.show()"
      ],
      "execution_count": null,
      "outputs": [
        {
          "output_type": "display_data",
          "data": {
            "image/png": "[encoded data removed]",
            "text/plain": [
              "<Figure size 1080x576 with 2 Axes>"
            ]
          },
          "metadata": {
            "tags": [],
            "needs_background": "light"
          }
        }
      ]
    },
    {
      "cell_type": "code",
      "metadata": {
        "colab": {
          "base_uri": "https://localhost:8080/"
        },
        "id": "K_t_7lkkdcEQ",
        "outputId": "d87f051d-65e8-4f33-df90-b8d3d77d99c7"
      },
      "source": [
        "# Check the correlation \n",
        "corr_matrix = df_clean.corr()['Score']\n",
        "corr_matrix.sort_values(ascending=False)[1:]"
      ],
      "execution_count": null,
      "outputs": [
        {
          "output_type": "execute_result",
          "data": {
            "text/plain": [
              "Helpfulness    0.037726\n",
              "Name: Score, dtype: float64"
            ]
          },
          "metadata": {
            "tags": []
          },
          "execution_count": 41
        }
      ]
    },
    {
      "cell_type": "code",
      "metadata": {
        "colab": {
          "base_uri": "https://localhost:8080/",
          "height": 294
        },
        "id": "c_lIx9kVdcER",
        "outputId": "6fea76f2-860e-4c6c-edfe-66660c1fdacd"
      },
      "source": [
        "# Count plot of the target\n",
        "ax = sns.countplot(x='Score',data=df_clean);\n",
        "ax.set_title('Countplot of the Target');"
      ],
      "execution_count": null,
      "outputs": [
        {
          "output_type": "display_data",
          "data": {
            "image/png": "[encoded data removed]",
            "text/plain": [
              "<Figure size 432x288 with 1 Axes>"
            ]
          },
          "metadata": {
            "tags": [],
            "needs_background": "light"
          }
        }
      ]
    },
    {
      "cell_type": "code",
      "metadata": {
        "colab": {
          "base_uri": "https://localhost:8080/"
        },
        "id": "SFqzFApogaqy",
        "outputId": "9a38373c-a2d1-4be4-ffb7-110256c53861"
      },
      "source": [
        "df_clean.info()"
      ],
      "execution_count": null,
      "outputs": [
        {
          "output_type": "stream",
          "text": [
            "<class 'pandas.core.frame.DataFrame'>\n",
            "Int64Index: 393576 entries, 0 to 393578\n",
            "Data columns (total 6 columns):\n",
            " #   Column       Non-Null Count   Dtype  \n",
            "---  ------       --------------   -----  \n",
            " 0   ProductId    393576 non-null  object \n",
            " 1   UserId       393576 non-null  object \n",
            " 2   Score        393576 non-null  int64  \n",
            " 3   Summary      393576 non-null  object \n",
            " 4   Text         393576 non-null  object \n",
            " 5   Helpfulness  393576 non-null  float64\n",
            "dtypes: float64(1), int64(1), object(4)\n",
            "memory usage: 31.0+ MB\n"
          ],
          "name": "stdout"
        }
      ]
    },
    {
      "cell_type": "markdown",
      "metadata": {
        "id": "uwh_fMT-dcER"
      },
      "source": [
        "## Sentiment analysis"
      ]
    },
    {
      "cell_type": "markdown",
      "metadata": {
        "id": "9yZfAov3dcES"
      },
      "source": [
        "* First we will get rid of `Score`= 3 reviews (neutral), and separate the remaining reviews into binary class (1 = positive, 0 = negative)"
      ]
    },
    {
      "cell_type": "code",
      "metadata": {
        "id": "NVTCaT0BdcES"
      },
      "source": [
        "df_clean = df_clean[df_clean['Score'] != 3]\n",
        "X = df_clean['Text']\n",
        "\n",
        "X_num = df_clean[df_clean.columns.difference(['ProductId', 'ProfileId', 'UserId', 'Score'])]\n",
        "\n",
        "y_dict = {1:0, 2:0, 4:1, 5:1}\n",
        "y = df_clean['Score'].map(y_dict)"
      ],
      "execution_count": null,
      "outputs": []
    },
    {
      "cell_type": "code",
      "metadata": {
        "id": "X1iVbV6qdcES"
      },
      "source": [
        "#c = CountVectorizer(stop_words = 'english')\n",
        "#tf = TfidfVectorizer(ngram_range=(1,2),stop_words = 'english')\n",
        "\n",
        "english_stemmer = Stemmer.Stemmer('en')\n",
        "\n",
        "class StemmedTfidfVectorizer(TfidfVectorizer):\n",
        "     def build_analyzer(self):\n",
        "         analyzer = super(TfidfVectorizer, self).build_analyzer()\n",
        "         return lambda doc: english_stemmer.stemWords(analyzer(doc))\n",
        "     \n",
        "tf = StemmedTfidfVectorizer(min_df=1, stop_words='english', analyzer='word', ngram_range=(1,2))"
      ],
      "execution_count": null,
      "outputs": []
    },
    {
      "cell_type": "code",
      "metadata": {
        "id": "p1jaajRtdcET"
      },
      "source": [
        "def text_fit(X, y, c, clf_model):\n",
        "    \n",
        "    X_c = c.fit_transform(X)\n",
        "    print('# features: {}'.format(X_c.shape[1]))\n",
        "    print(X_c.shape)\n",
        "    X_train, X_test, y_train, y_test = train_test_split(X_c, y, random_state=0)\n",
        "    print('# train records: {}'.format(X_train.shape[0]))\n",
        "    print('# test records: {}'.format(X_test.shape[0]))\n",
        "    \n",
        "    clf = clf_model.fit(X_train, y_train)\n",
        "    acc = clf.score(X_test, y_test)\n",
        "    print ('Model Accuracy: {}'.format(acc))\n",
        "  "
      ],
      "execution_count": null,
      "outputs": []
    },
    {
      "cell_type": "markdown",
      "metadata": {
        "id": "B1gofbAPdcET"
      },
      "source": [
        "## SVM"
      ]
    },
    {
      "cell_type": "code",
      "metadata": {
        "id": "iSbeWWiJdcEU"
      },
      "source": [
        "#text_fit(X, y, c, SVC())"
      ],
      "execution_count": null,
      "outputs": []
    },
    {
      "cell_type": "code",
      "metadata": {
        "colab": {
          "base_uri": "https://localhost:8080/"
        },
        "id": "uIhQnhVjedp-",
        "outputId": "97dd5268-a783-43f5-8186-4f515c65d78c"
      },
      "source": [
        "text_fit(X, y, tf, SVC())"
      ],
      "execution_count": null,
      "outputs": [
        {
          "output_type": "stream",
          "text": [
            "# features: 3369045\n",
            "(363827, 3369045)\n",
            "# train records: 272870\n",
            "# test records: 90957\n"
          ],
          "name": "stdout"
        }
      ]
    },
    {
      "cell_type": "code",
      "metadata": {
        "id": "0LpSB0C5kX-K"
      },
      "source": [
        "#X_train, X_test, y_train, y_test = train_test_split(X_num, y_num, random_state=0)\n",
        "\n",
        "#svm = svm.SVC().fit(X_train, y_train)\n",
        "#accuracy = svm.score(X_test, y_test)\n",
        "#print('SVM accuracy: {}'.format(accuracy))"
      ],
      "execution_count": null,
      "outputs": []
    },
    {
      "cell_type": "markdown",
      "metadata": {
        "id": "lqxPzz8mkUpj"
      },
      "source": [
        "## Hyperparameter tuning"
      ]
    },
    {
      "cell_type": "code",
      "metadata": {
        "id": "AT8TQTH3BGtl"
      },
      "source": [
        "tuned_parameters = {\n",
        "    'C':  (np.arange(0.1,1,0.1)),\n",
        "        'gamma':[0.01,0.02,0.03,0.04,0.05],\n",
        "    \n",
        "     \"kernel\":[ 'rbf', 'linear']\n",
        "\n",
        "}\n",
        "svm_model= SVC()\n",
        "\n",
        "model_svm = GridSearchCV(svm_model, tuned_parameters,cv=10,scoring='accuracy')\n",
        "\n",
        "\n",
        "text_fit(X, y, tf, model_svm)\n",
        "\n",
        "print(model_svm.best_score_)\n",
        "print(model_svm.best_score_)\n",
        "print(model_svm.best_params_)"
      ],
      "execution_count": null,
      "outputs": []
    },
    {
      "cell_type": "code",
      "metadata": {
        "id": "l8VuLvhdBGt4"
      },
      "source": [
        "y_pred= model_svm.predict(X_test)\n",
        "print(metrics.accuracy_score(y_pred,y_test))"
      ],
      "execution_count": null,
      "outputs": []
    },
    {
      "cell_type": "markdown",
      "metadata": {
        "id": "orxCmVll3M3w"
      },
      "source": [
        "# Task 2"
      ]
    },
    {
      "cell_type": "code",
      "metadata": {
        "id": "itJTqmd73A6s"
      },
      "source": [
        "df = pd.read_csv('spam.csv', encoding='latin-1')"
      ],
      "execution_count": null,
      "outputs": []
    },
    {
      "cell_type": "code",
      "metadata": {
        "id": "qv-wgOND3A6s",
        "outputId": "ec4949fb-8d02-4632-b319-1e496e018659"
      },
      "source": [
        "df.head(20)"
      ],
      "execution_count": null,
      "outputs": [
        {
          "output_type": "execute_result",
          "data": {
            "text/html": [
              "<div>\n",
              "<style scoped>\n",
              "    .dataframe tbody tr th:only-of-type {\n",
              "        vertical-align: middle;\n",
              "    }\n",
              "\n",
              "    .dataframe tbody tr th {\n",
              "        vertical-align: top;\n",
              "    }\n",
              "\n",
              "    .dataframe thead th {\n",
              "        text-align: right;\n",
              "    }\n",
              "</style>\n",
              "<table border=\"1\" class=\"dataframe\">\n",
              "  <thead>\n",
              "    <tr style=\"text-align: right;\">\n",
              "      <th></th>\n",
              "      <th>v1</th>\n",
              "      <th>v2</th>\n",
              "      <th>Unnamed: 2</th>\n",
              "      <th>Unnamed: 3</th>\n",
              "      <th>Unnamed: 4</th>\n",
              "    </tr>\n",
              "  </thead>\n",
              "  <tbody>\n",
              "    <tr>\n",
              "      <th>0</th>\n",
              "      <td>ham</td>\n",
              "      <td>Go until jurong point, crazy.. Available only ...</td>\n",
              "      <td>NaN</td>\n",
              "      <td>NaN</td>\n",
              "      <td>NaN</td>\n",
              "    </tr>\n",
              "    <tr>\n",
              "      <th>1</th>\n",
              "      <td>ham</td>\n",
              "      <td>Ok lar... Joking wif u oni...</td>\n",
              "      <td>NaN</td>\n",
              "      <td>NaN</td>\n",
              "      <td>NaN</td>\n",
              "    </tr>\n",
              "    <tr>\n",
              "      <th>2</th>\n",
              "      <td>spam</td>\n",
              "      <td>Free entry in 2 a wkly comp to win FA Cup fina...</td>\n",
              "      <td>NaN</td>\n",
              "      <td>NaN</td>\n",
              "      <td>NaN</td>\n",
              "    </tr>\n",
              "    <tr>\n",
              "      <th>3</th>\n",
              "      <td>ham</td>\n",
              "      <td>U dun say so early hor... U c already then say...</td>\n",
              "      <td>NaN</td>\n",
              "      <td>NaN</td>\n",
              "      <td>NaN</td>\n",
              "    </tr>\n",
              "    <tr>\n",
              "      <th>4</th>\n",
              "      <td>ham</td>\n",
              "      <td>Nah I don't think he goes to usf, he lives aro...</td>\n",
              "      <td>NaN</td>\n",
              "      <td>NaN</td>\n",
              "      <td>NaN</td>\n",
              "    </tr>\n",
              "    <tr>\n",
              "      <th>5</th>\n",
              "      <td>spam</td>\n",
              "      <td>FreeMsg Hey there darling it's been 3 week's n...</td>\n",
              "      <td>NaN</td>\n",
              "      <td>NaN</td>\n",
              "      <td>NaN</td>\n",
              "    </tr>\n",
              "    <tr>\n",
              "      <th>6</th>\n",
              "      <td>ham</td>\n",
              "      <td>Even my brother is not like to speak with me. ...</td>\n",
              "      <td>NaN</td>\n",
              "      <td>NaN</td>\n",
              "      <td>NaN</td>\n",
              "    </tr>\n",
              "    <tr>\n",
              "      <th>7</th>\n",
              "      <td>ham</td>\n",
              "      <td>As per your request 'Melle Melle (Oru Minnamin...</td>\n",
              "      <td>NaN</td>\n",
              "      <td>NaN</td>\n",
              "      <td>NaN</td>\n",
              "    </tr>\n",
              "    <tr>\n",
              "      <th>8</th>\n",
              "      <td>spam</td>\n",
              "      <td>WINNER!! As a valued network customer you have...</td>\n",
              "      <td>NaN</td>\n",
              "      <td>NaN</td>\n",
              "      <td>NaN</td>\n",
              "    </tr>\n",
              "    <tr>\n",
              "      <th>9</th>\n",
              "      <td>spam</td>\n",
              "      <td>Had your mobile 11 months or more? U R entitle...</td>\n",
              "      <td>NaN</td>\n",
              "      <td>NaN</td>\n",
              "      <td>NaN</td>\n",
              "    </tr>\n",
              "    <tr>\n",
              "      <th>10</th>\n",
              "      <td>ham</td>\n",
              "      <td>I'm gonna be home soon and i don't want to tal...</td>\n",
              "      <td>NaN</td>\n",
              "      <td>NaN</td>\n",
              "      <td>NaN</td>\n",
              "    </tr>\n",
              "    <tr>\n",
              "      <th>11</th>\n",
              "      <td>spam</td>\n",
              "      <td>SIX chances to win CASH! From 100 to 20,000 po...</td>\n",
              "      <td>NaN</td>\n",
              "      <td>NaN</td>\n",
              "      <td>NaN</td>\n",
              "    </tr>\n",
              "    <tr>\n",
              "      <th>12</th>\n",
              "      <td>spam</td>\n",
              "      <td>URGENT! You have won a 1 week FREE membership ...</td>\n",
              "      <td>NaN</td>\n",
              "      <td>NaN</td>\n",
              "      <td>NaN</td>\n",
              "    </tr>\n",
              "    <tr>\n",
              "      <th>13</th>\n",
              "      <td>ham</td>\n",
              "      <td>I've been searching for the right words to tha...</td>\n",
              "      <td>NaN</td>\n",
              "      <td>NaN</td>\n",
              "      <td>NaN</td>\n",
              "    </tr>\n",
              "    <tr>\n",
              "      <th>14</th>\n",
              "      <td>ham</td>\n",
              "      <td>I HAVE A DATE ON SUNDAY WITH WILL!!</td>\n",
              "      <td>NaN</td>\n",
              "      <td>NaN</td>\n",
              "      <td>NaN</td>\n",
              "    </tr>\n",
              "    <tr>\n",
              "      <th>15</th>\n",
              "      <td>spam</td>\n",
              "      <td>XXXMobileMovieClub: To use your credit, click ...</td>\n",
              "      <td>NaN</td>\n",
              "      <td>NaN</td>\n",
              "      <td>NaN</td>\n",
              "    </tr>\n",
              "    <tr>\n",
              "      <th>16</th>\n",
              "      <td>ham</td>\n",
              "      <td>Oh k...i'm watching here:)</td>\n",
              "      <td>NaN</td>\n",
              "      <td>NaN</td>\n",
              "      <td>NaN</td>\n",
              "    </tr>\n",
              "    <tr>\n",
              "      <th>17</th>\n",
              "      <td>ham</td>\n",
              "      <td>Eh u remember how 2 spell his name... Yes i di...</td>\n",
              "      <td>NaN</td>\n",
              "      <td>NaN</td>\n",
              "      <td>NaN</td>\n",
              "    </tr>\n",
              "    <tr>\n",
              "      <th>18</th>\n",
              "      <td>ham</td>\n",
              "      <td>Fine if thatåÕs the way u feel. ThatåÕs the wa...</td>\n",
              "      <td>NaN</td>\n",
              "      <td>NaN</td>\n",
              "      <td>NaN</td>\n",
              "    </tr>\n",
              "    <tr>\n",
              "      <th>19</th>\n",
              "      <td>spam</td>\n",
              "      <td>England v Macedonia - dont miss the goals/team...</td>\n",
              "      <td>NaN</td>\n",
              "      <td>NaN</td>\n",
              "      <td>NaN</td>\n",
              "    </tr>\n",
              "  </tbody>\n",
              "</table>\n",
              "</div>"
            ],
            "text/plain": [
              "      v1                                                 v2 Unnamed: 2  \\\n",
              "0    ham  Go until jurong point, crazy.. Available only ...        NaN   \n",
              "1    ham                      Ok lar... Joking wif u oni...        NaN   \n",
              "2   spam  Free entry in 2 a wkly comp to win FA Cup fina...        NaN   \n",
              "3    ham  U dun say so early hor... U c already then say...        NaN   \n",
              "4    ham  Nah I don't think he goes to usf, he lives aro...        NaN   \n",
              "5   spam  FreeMsg Hey there darling it's been 3 week's n...        NaN   \n",
              "6    ham  Even my brother is not like to speak with me. ...        NaN   \n",
              "7    ham  As per your request 'Melle Melle (Oru Minnamin...        NaN   \n",
              "8   spam  WINNER!! As a valued network customer you have...        NaN   \n",
              "9   spam  Had your mobile 11 months or more? U R entitle...        NaN   \n",
              "10   ham  I'm gonna be home soon and i don't want to tal...        NaN   \n",
              "11  spam  SIX chances to win CASH! From 100 to 20,000 po...        NaN   \n",
              "12  spam  URGENT! You have won a 1 week FREE membership ...        NaN   \n",
              "13   ham  I've been searching for the right words to tha...        NaN   \n",
              "14   ham                I HAVE A DATE ON SUNDAY WITH WILL!!        NaN   \n",
              "15  spam  XXXMobileMovieClub: To use your credit, click ...        NaN   \n",
              "16   ham                         Oh k...i'm watching here:)        NaN   \n",
              "17   ham  Eh u remember how 2 spell his name... Yes i di...        NaN   \n",
              "18   ham  Fine if thatåÕs the way u feel. ThatåÕs the wa...        NaN   \n",
              "19  spam  England v Macedonia - dont miss the goals/team...        NaN   \n",
              "\n",
              "   Unnamed: 3 Unnamed: 4  \n",
              "0         NaN        NaN  \n",
              "1         NaN        NaN  \n",
              "2         NaN        NaN  \n",
              "3         NaN        NaN  \n",
              "4         NaN        NaN  \n",
              "5         NaN        NaN  \n",
              "6         NaN        NaN  \n",
              "7         NaN        NaN  \n",
              "8         NaN        NaN  \n",
              "9         NaN        NaN  \n",
              "10        NaN        NaN  \n",
              "11        NaN        NaN  \n",
              "12        NaN        NaN  \n",
              "13        NaN        NaN  \n",
              "14        NaN        NaN  \n",
              "15        NaN        NaN  \n",
              "16        NaN        NaN  \n",
              "17        NaN        NaN  \n",
              "18        NaN        NaN  \n",
              "19        NaN        NaN  "
            ]
          },
          "metadata": {
            "tags": []
          },
          "execution_count": 69
        }
      ]
    },
    {
      "cell_type": "code",
      "metadata": {
        "id": "qHA0Gjx33A6s",
        "outputId": "9e1063f5-800c-4e8b-98ba-e56dfd2150bb"
      },
      "source": [
        "df.info()"
      ],
      "execution_count": null,
      "outputs": [
        {
          "output_type": "stream",
          "text": [
            "<class 'pandas.core.frame.DataFrame'>\n",
            "RangeIndex: 5572 entries, 0 to 5571\n",
            "Data columns (total 5 columns):\n",
            " #   Column      Non-Null Count  Dtype \n",
            "---  ------      --------------  ----- \n",
            " 0   v1          5572 non-null   object\n",
            " 1   v2          5572 non-null   object\n",
            " 2   Unnamed: 2  50 non-null     object\n",
            " 3   Unnamed: 3  12 non-null     object\n",
            " 4   Unnamed: 4  6 non-null      object\n",
            "dtypes: object(5)\n",
            "memory usage: 217.8+ KB\n"
          ],
          "name": "stdout"
        }
      ]
    },
    {
      "cell_type": "code",
      "metadata": {
        "id": "K__ulNvn3A6t",
        "outputId": "5a89e16f-8bf7-4ba2-dbfb-4909660f1663"
      },
      "source": [
        "df['Unnamed: 4'].value_counts()"
      ],
      "execution_count": null,
      "outputs": [
        {
          "output_type": "execute_result",
          "data": {
            "text/plain": [
              "GNT:-)\"                                                     2\n",
              " Never comfort me with a lie\\\" gud ni8 and sweet dreams\"    1\n",
              " just Keep-in-touch\\\" gdeve..\"                              1\n",
              " CALL 2MWEN IM BK FRMCLOUD 9! J X\\\"\"                        1\n",
              " one day these two will become FREINDS FOREVER!\"            1\n",
              "Name: Unnamed: 4, dtype: int64"
            ]
          },
          "metadata": {
            "tags": []
          },
          "execution_count": 81
        }
      ]
    },
    {
      "cell_type": "markdown",
      "metadata": {
        "id": "m4EJlp523A6t"
      },
      "source": [
        "## Assessing \n",
        "\n",
        "1. Column names are not expressive.\n",
        "\n",
        "\n",
        "2. The last three columns are useless."
      ]
    },
    {
      "cell_type": "markdown",
      "metadata": {
        "id": "Bi3iipJn3A6t"
      },
      "source": [
        "## Cleaning"
      ]
    },
    {
      "cell_type": "code",
      "metadata": {
        "id": "UBRsP53f3A6t"
      },
      "source": [
        "df_clean = df.copy()"
      ],
      "execution_count": null,
      "outputs": []
    },
    {
      "cell_type": "code",
      "metadata": {
        "id": "p_1y2t5u3A6t"
      },
      "source": [
        "# 1-Rename the columns\n",
        "df_clean.rename(columns={\"v1\" : 'spam', \"v2\" : 'message'}, inplace=True)"
      ],
      "execution_count": null,
      "outputs": []
    },
    {
      "cell_type": "code",
      "metadata": {
        "id": "r0wiHUWt3A6t"
      },
      "source": [
        "# 2-Drop the last three columns\n",
        "df_clean.drop(columns=[\"Unnamed: 2\", \"Unnamed: 3\", \"Unnamed: 4\"], inplace=True)"
      ],
      "execution_count": null,
      "outputs": []
    },
    {
      "cell_type": "code",
      "metadata": {
        "id": "EM096HMP3A6u",
        "outputId": "18f45ae0-6b72-46f5-c06f-f24a3c810ad8"
      },
      "source": [
        "df_clean.head()"
      ],
      "execution_count": null,
      "outputs": [
        {
          "output_type": "execute_result",
          "data": {
            "text/html": [
              "<div>\n",
              "<style scoped>\n",
              "    .dataframe tbody tr th:only-of-type {\n",
              "        vertical-align: middle;\n",
              "    }\n",
              "\n",
              "    .dataframe tbody tr th {\n",
              "        vertical-align: top;\n",
              "    }\n",
              "\n",
              "    .dataframe thead th {\n",
              "        text-align: right;\n",
              "    }\n",
              "</style>\n",
              "<table border=\"1\" class=\"dataframe\">\n",
              "  <thead>\n",
              "    <tr style=\"text-align: right;\">\n",
              "      <th></th>\n",
              "      <th>spam</th>\n",
              "      <th>message</th>\n",
              "    </tr>\n",
              "  </thead>\n",
              "  <tbody>\n",
              "    <tr>\n",
              "      <th>0</th>\n",
              "      <td>ham</td>\n",
              "      <td>Go until jurong point, crazy.. Available only ...</td>\n",
              "    </tr>\n",
              "    <tr>\n",
              "      <th>1</th>\n",
              "      <td>ham</td>\n",
              "      <td>Ok lar... Joking wif u oni...</td>\n",
              "    </tr>\n",
              "    <tr>\n",
              "      <th>2</th>\n",
              "      <td>spam</td>\n",
              "      <td>Free entry in 2 a wkly comp to win FA Cup fina...</td>\n",
              "    </tr>\n",
              "    <tr>\n",
              "      <th>3</th>\n",
              "      <td>ham</td>\n",
              "      <td>U dun say so early hor... U c already then say...</td>\n",
              "    </tr>\n",
              "    <tr>\n",
              "      <th>4</th>\n",
              "      <td>ham</td>\n",
              "      <td>Nah I don't think he goes to usf, he lives aro...</td>\n",
              "    </tr>\n",
              "  </tbody>\n",
              "</table>\n",
              "</div>"
            ],
            "text/plain": [
              "   spam                                            message\n",
              "0   ham  Go until jurong point, crazy.. Available only ...\n",
              "1   ham                      Ok lar... Joking wif u oni...\n",
              "2  spam  Free entry in 2 a wkly comp to win FA Cup fina...\n",
              "3   ham  U dun say so early hor... U c already then say...\n",
              "4   ham  Nah I don't think he goes to usf, he lives aro..."
            ]
          },
          "metadata": {
            "tags": []
          },
          "execution_count": 96
        }
      ]
    },
    {
      "cell_type": "code",
      "metadata": {
        "id": "8I0LZaiN3A6u"
      },
      "source": [
        "spam = pd.get_dummies(df_clean['spam'], drop_first=True)"
      ],
      "execution_count": null,
      "outputs": []
    },
    {
      "cell_type": "code",
      "metadata": {
        "id": "_khvqmVz3A6u"
      },
      "source": [
        "df_clean['spam'] = spam"
      ],
      "execution_count": null,
      "outputs": []
    },
    {
      "cell_type": "code",
      "metadata": {
        "id": "2yBRNb0N3A6u",
        "outputId": "da8aa6fa-2d67-42b2-fd68-b3fb765c2dfe"
      },
      "source": [
        "df_clean"
      ],
      "execution_count": null,
      "outputs": [
        {
          "output_type": "execute_result",
          "data": {
            "text/html": [
              "<div>\n",
              "<style scoped>\n",
              "    .dataframe tbody tr th:only-of-type {\n",
              "        vertical-align: middle;\n",
              "    }\n",
              "\n",
              "    .dataframe tbody tr th {\n",
              "        vertical-align: top;\n",
              "    }\n",
              "\n",
              "    .dataframe thead th {\n",
              "        text-align: right;\n",
              "    }\n",
              "</style>\n",
              "<table border=\"1\" class=\"dataframe\">\n",
              "  <thead>\n",
              "    <tr style=\"text-align: right;\">\n",
              "      <th></th>\n",
              "      <th>spam</th>\n",
              "      <th>message</th>\n",
              "    </tr>\n",
              "  </thead>\n",
              "  <tbody>\n",
              "    <tr>\n",
              "      <th>0</th>\n",
              "      <td>0</td>\n",
              "      <td>Go until jurong point, crazy.. Available only ...</td>\n",
              "    </tr>\n",
              "    <tr>\n",
              "      <th>1</th>\n",
              "      <td>0</td>\n",
              "      <td>Ok lar... Joking wif u oni...</td>\n",
              "    </tr>\n",
              "    <tr>\n",
              "      <th>2</th>\n",
              "      <td>1</td>\n",
              "      <td>Free entry in 2 a wkly comp to win FA Cup fina...</td>\n",
              "    </tr>\n",
              "    <tr>\n",
              "      <th>3</th>\n",
              "      <td>0</td>\n",
              "      <td>U dun say so early hor... U c already then say...</td>\n",
              "    </tr>\n",
              "    <tr>\n",
              "      <th>4</th>\n",
              "      <td>0</td>\n",
              "      <td>Nah I don't think he goes to usf, he lives aro...</td>\n",
              "    </tr>\n",
              "    <tr>\n",
              "      <th>...</th>\n",
              "      <td>...</td>\n",
              "      <td>...</td>\n",
              "    </tr>\n",
              "    <tr>\n",
              "      <th>5567</th>\n",
              "      <td>1</td>\n",
              "      <td>This is the 2nd time we have tried 2 contact u...</td>\n",
              "    </tr>\n",
              "    <tr>\n",
              "      <th>5568</th>\n",
              "      <td>0</td>\n",
              "      <td>Will Ì_ b going to esplanade fr home?</td>\n",
              "    </tr>\n",
              "    <tr>\n",
              "      <th>5569</th>\n",
              "      <td>0</td>\n",
              "      <td>Pity, * was in mood for that. So...any other s...</td>\n",
              "    </tr>\n",
              "    <tr>\n",
              "      <th>5570</th>\n",
              "      <td>0</td>\n",
              "      <td>The guy did some bitching but I acted like i'd...</td>\n",
              "    </tr>\n",
              "    <tr>\n",
              "      <th>5571</th>\n",
              "      <td>0</td>\n",
              "      <td>Rofl. Its true to its name</td>\n",
              "    </tr>\n",
              "  </tbody>\n",
              "</table>\n",
              "<p>5572 rows × 2 columns</p>\n",
              "</div>"
            ],
            "text/plain": [
              "      spam                                            message\n",
              "0        0  Go until jurong point, crazy.. Available only ...\n",
              "1        0                      Ok lar... Joking wif u oni...\n",
              "2        1  Free entry in 2 a wkly comp to win FA Cup fina...\n",
              "3        0  U dun say so early hor... U c already then say...\n",
              "4        0  Nah I don't think he goes to usf, he lives aro...\n",
              "...    ...                                                ...\n",
              "5567     1  This is the 2nd time we have tried 2 contact u...\n",
              "5568     0              Will Ì_ b going to esplanade fr home?\n",
              "5569     0  Pity, * was in mood for that. So...any other s...\n",
              "5570     0  The guy did some bitching but I acted like i'd...\n",
              "5571     0                         Rofl. Its true to its name\n",
              "\n",
              "[5572 rows x 2 columns]"
            ]
          },
          "metadata": {
            "tags": []
          },
          "execution_count": 99
        }
      ]
    },
    {
      "cell_type": "markdown",
      "metadata": {
        "id": "8uGMk0pp3A6v"
      },
      "source": [
        "## Naive Bayes model"
      ]
    },
    {
      "cell_type": "code",
      "metadata": {
        "id": "7lNdMmKJ3A6v"
      },
      "source": [
        "X = df_clean['message']\n",
        "y = df_clean['spam']"
      ],
      "execution_count": null,
      "outputs": []
    },
    {
      "cell_type": "code",
      "metadata": {
        "id": "zNRothje3A6v"
      },
      "source": [
        "X_train, X_test, y_train, y_test = train_test_split(X, y, random_state=0)\n"
      ],
      "execution_count": null,
      "outputs": []
    },
    {
      "cell_type": "code",
      "metadata": {
        "id": "lNbs6jnq3A6v"
      },
      "source": [
        "#Create a Gaussian Classifier\n",
        "model = MultinomialNB()\n",
        "\n",
        "# Train the model using the training sets\n",
        "model.fit(X_train, y_train)\n",
        "\n",
        "#Predict Output\n",
        "predicted= model.predict(X_test)\n",
        "print(\"Predicted Value:\", predicted)"
      ],
      "execution_count": null,
      "outputs": []
    },
    {
      "cell_type": "markdown",
      "metadata": {
        "id": "n18hrsNm-_4M"
      },
      "source": [
        "* Task 3 [4 Points] :  BONUS\n",
        "    - Follow this [tutorial](https://www.mygreatlearning.com/blog/linear-discriminant-analysis-or-lda/) on **LDA** and apply what you learnt on the [Pokemon dataset](https://www.kaggle.com/rounakbanik/pokemon)\n",
        "\n",
        "    - **Hint**: You can use [this kernel for reference](https://www.kaggle.com/residentmario/linear-discriminant-analysis-with-pokemon-stats)"
      ]
    },
    {
      "cell_type": "markdown",
      "metadata": {
        "id": "qej3v4z43ky2"
      },
      "source": [
        "# Task 3"
      ]
    },
    {
      "cell_type": "code",
      "metadata": {
        "colab": {
          "base_uri": "https://localhost:8080/"
        },
        "id": "TZ8SoLlP3A6w",
        "outputId": "e98dba30-c0b8-4ff2-d0ee-a3a64b02683a"
      },
      "source": [
        "df = pd.read_csv('pokemon.csv')\n",
        "df.info()"
      ],
      "execution_count": null,
      "outputs": [
        {
          "output_type": "stream",
          "text": [
            "<class 'pandas.core.frame.DataFrame'>\n",
            "RangeIndex: 801 entries, 0 to 800\n",
            "Data columns (total 41 columns):\n",
            " #   Column             Non-Null Count  Dtype  \n",
            "---  ------             --------------  -----  \n",
            " 0   abilities          801 non-null    object \n",
            " 1   against_bug        801 non-null    float64\n",
            " 2   against_dark       801 non-null    float64\n",
            " 3   against_dragon     801 non-null    float64\n",
            " 4   against_electric   801 non-null    float64\n",
            " 5   against_fairy      801 non-null    float64\n",
            " 6   against_fight      801 non-null    float64\n",
            " 7   against_fire       801 non-null    float64\n",
            " 8   against_flying     801 non-null    float64\n",
            " 9   against_ghost      801 non-null    float64\n",
            " 10  against_grass      801 non-null    float64\n",
            " 11  against_ground     801 non-null    float64\n",
            " 12  against_ice        801 non-null    float64\n",
            " 13  against_normal     801 non-null    float64\n",
            " 14  against_poison     801 non-null    float64\n",
            " 15  against_psychic    801 non-null    float64\n",
            " 16  against_rock       801 non-null    float64\n",
            " 17  against_steel      801 non-null    float64\n",
            " 18  against_water      801 non-null    float64\n",
            " 19  attack             801 non-null    int64  \n",
            " 20  base_egg_steps     801 non-null    int64  \n",
            " 21  base_happiness     801 non-null    int64  \n",
            " 22  base_total         801 non-null    int64  \n",
            " 23  capture_rate       801 non-null    object \n",
            " 24  classfication      801 non-null    object \n",
            " 25  defense            801 non-null    int64  \n",
            " 26  experience_growth  801 non-null    int64  \n",
            " 27  height_m           781 non-null    float64\n",
            " 28  hp                 801 non-null    int64  \n",
            " 29  japanese_name      801 non-null    object \n",
            " 30  name               801 non-null    object \n",
            " 31  percentage_male    703 non-null    float64\n",
            " 32  pokedex_number     801 non-null    int64  \n",
            " 33  sp_attack          801 non-null    int64  \n",
            " 34  sp_defense         801 non-null    int64  \n",
            " 35  speed              801 non-null    int64  \n",
            " 36  type1              801 non-null    object \n",
            " 37  type2              417 non-null    object \n",
            " 38  weight_kg          781 non-null    float64\n",
            " 39  generation         801 non-null    int64  \n",
            " 40  is_legendary       801 non-null    int64  \n",
            "dtypes: float64(21), int64(13), object(7)\n",
            "memory usage: 256.7+ KB\n"
          ],
          "name": "stdout"
        }
      ]
    },
    {
      "cell_type": "code",
      "metadata": {
        "colab": {
          "base_uri": "https://localhost:8080/"
        },
        "id": "PNwgeDHj3A6w",
        "outputId": "741843b6-d744-4fbe-ac71-1ddfaa4577ed"
      },
      "source": [
        "df.columns"
      ],
      "execution_count": null,
      "outputs": [
        {
          "output_type": "execute_result",
          "data": {
            "text/plain": [
              "Index(['abilities', 'against_bug', 'against_dark', 'against_dragon',\n",
              "       'against_electric', 'against_fairy', 'against_fight', 'against_fire',\n",
              "       'against_flying', 'against_ghost', 'against_grass', 'against_ground',\n",
              "       'against_ice', 'against_normal', 'against_poison', 'against_psychic',\n",
              "       'against_rock', 'against_steel', 'against_water', 'attack',\n",
              "       'base_egg_steps', 'base_happiness', 'base_total', 'capture_rate',\n",
              "       'classfication', 'defense', 'experience_growth', 'height_m', 'hp',\n",
              "       'japanese_name', 'name', 'percentage_male', 'pokedex_number',\n",
              "       'sp_attack', 'sp_defense', 'speed', 'type1', 'type2', 'weight_kg',\n",
              "       'generation', 'is_legendary'],\n",
              "      dtype='object')"
            ]
          },
          "metadata": {
            "tags": []
          },
          "execution_count": 30
        }
      ]
    },
    {
      "cell_type": "code",
      "metadata": {
        "id": "SWVfT3nB-_4N"
      },
      "source": [
        "df2= df[df['type2'].isnull()].loc[:, [ 'type1','abilities', 'against_bug', 'against_dark', 'against_dragon',\n",
        "       'against_electric', 'against_fairy', 'against_fight', 'against_fire',\n",
        "       'against_flying', 'against_ghost', 'against_grass', 'against_ground',\n",
        "       'against_ice', 'against_normal', 'against_poison', 'against_psychic',\n",
        "       'against_rock', 'against_steel', 'against_water', 'attack',\n",
        "       'base_egg_steps', 'base_happiness', 'base_total', 'capture_rate',\n",
        "       'classfication', 'defense', 'experience_growth', 'height_m', 'hp',\n",
        "       'japanese_name', 'name', 'percentage_male', 'pokedex_number',\n",
        "       'sp_attack', 'sp_defense', 'speed', 'weight_kg',\n",
        "       'generation', 'is_legendary']]"
      ],
      "execution_count": null,
      "outputs": []
    },
    {
      "cell_type": "code",
      "metadata": {
        "colab": {
          "base_uri": "https://localhost:8080/"
        },
        "id": "-5JGp9HA3A6w",
        "outputId": "4d125bb7-158e-4799-ce24-fc22f9a07b93"
      },
      "source": [
        "df2.columns"
      ],
      "execution_count": null,
      "outputs": [
        {
          "output_type": "execute_result",
          "data": {
            "text/plain": [
              "Index(['type1', 'abilities', 'against_bug', 'against_dark', 'against_dragon',\n",
              "       'against_electric', 'against_fairy', 'against_fight', 'against_fire',\n",
              "       'against_flying', 'against_ghost', 'against_grass', 'against_ground',\n",
              "       'against_ice', 'against_normal', 'against_poison', 'against_psychic',\n",
              "       'against_rock', 'against_steel', 'against_water', 'attack',\n",
              "       'base_egg_steps', 'base_happiness', 'base_total', 'capture_rate',\n",
              "       'classfication', 'defense', 'experience_growth', 'height_m', 'hp',\n",
              "       'japanese_name', 'name', 'percentage_male', 'pokedex_number',\n",
              "       'sp_attack', 'sp_defense', 'speed', 'weight_kg', 'generation',\n",
              "       'is_legendary'],\n",
              "      dtype='object')"
            ]
          },
          "metadata": {
            "tags": []
          },
          "execution_count": 32
        }
      ]
    },
    {
      "cell_type": "code",
      "metadata": {
        "id": "f-WMFoqu3A6x"
      },
      "source": [
        "l = df['type1'].value_counts().index.tolist()\n",
        "i=0\n",
        "dict ={}\n",
        "for v in l:\n",
        "    dict[v] = i\n",
        "    i+=1\n"
      ],
      "execution_count": null,
      "outputs": []
    },
    {
      "cell_type": "code",
      "metadata": {
        "colab": {
          "base_uri": "https://localhost:8080/",
          "height": 336
        },
        "id": "a4jp8dS532dC",
        "outputId": "4fdf340d-8466-451b-8679-2f1284fe2ac0"
      },
      "source": [
        "df2['type1'].replace(dict, inplace=True)\n",
        "df2"
      ],
      "execution_count": null,
      "outputs": [
        {
          "output_type": "execute_result",
          "data": {
            "text/html": [
              "<div>\n",
              "<style scoped>\n",
              "    .dataframe tbody tr th:only-of-type {\n",
              "        vertical-align: middle;\n",
              "    }\n",
              "\n",
              "    .dataframe tbody tr th {\n",
              "        vertical-align: top;\n",
              "    }\n",
              "\n",
              "    .dataframe thead th {\n",
              "        text-align: right;\n",
              "    }\n",
              "</style>\n",
              "<table border=\"1\" class=\"dataframe\">\n",
              "  <thead>\n",
              "    <tr style=\"text-align: right;\">\n",
              "      <th></th>\n",
              "      <th>type1</th>\n",
              "      <th>abilities</th>\n",
              "      <th>against_bug</th>\n",
              "      <th>against_dark</th>\n",
              "      <th>against_dragon</th>\n",
              "      <th>against_electric</th>\n",
              "      <th>against_fairy</th>\n",
              "      <th>against_fight</th>\n",
              "      <th>against_fire</th>\n",
              "      <th>against_flying</th>\n",
              "      <th>against_ghost</th>\n",
              "      <th>against_grass</th>\n",
              "      <th>against_ground</th>\n",
              "      <th>against_ice</th>\n",
              "      <th>against_normal</th>\n",
              "      <th>against_poison</th>\n",
              "      <th>against_psychic</th>\n",
              "      <th>against_rock</th>\n",
              "      <th>against_steel</th>\n",
              "      <th>against_water</th>\n",
              "      <th>attack</th>\n",
              "      <th>base_egg_steps</th>\n",
              "      <th>base_happiness</th>\n",
              "      <th>base_total</th>\n",
              "      <th>capture_rate</th>\n",
              "      <th>classfication</th>\n",
              "      <th>defense</th>\n",
              "      <th>experience_growth</th>\n",
              "      <th>height_m</th>\n",
              "      <th>hp</th>\n",
              "      <th>japanese_name</th>\n",
              "      <th>name</th>\n",
              "      <th>percentage_male</th>\n",
              "      <th>pokedex_number</th>\n",
              "      <th>sp_attack</th>\n",
              "      <th>sp_defense</th>\n",
              "      <th>speed</th>\n",
              "      <th>weight_kg</th>\n",
              "      <th>generation</th>\n",
              "      <th>is_legendary</th>\n",
              "    </tr>\n",
              "  </thead>\n",
              "  <tbody>\n",
              "    <tr>\n",
              "      <th>3</th>\n",
              "      <td>5</td>\n",
              "      <td>['Blaze', 'Solar Power']</td>\n",
              "      <td>0.5</td>\n",
              "      <td>1.0</td>\n",
              "      <td>1.0</td>\n",
              "      <td>1.0</td>\n",
              "      <td>0.5</td>\n",
              "      <td>1.0</td>\n",
              "      <td>0.5</td>\n",
              "      <td>1.0</td>\n",
              "      <td>1.0</td>\n",
              "      <td>0.5</td>\n",
              "      <td>2.0</td>\n",
              "      <td>0.5</td>\n",
              "      <td>1.0</td>\n",
              "      <td>1.0</td>\n",
              "      <td>1.0</td>\n",
              "      <td>2.0</td>\n",
              "      <td>0.5</td>\n",
              "      <td>2.0</td>\n",
              "      <td>52</td>\n",
              "      <td>5120</td>\n",
              "      <td>70</td>\n",
              "      <td>309</td>\n",
              "      <td>45</td>\n",
              "      <td>Lizard Pokémon</td>\n",
              "      <td>43</td>\n",
              "      <td>1059860</td>\n",
              "      <td>0.6</td>\n",
              "      <td>39</td>\n",
              "      <td>Hitokageヒトカゲ</td>\n",
              "      <td>Charmander</td>\n",
              "      <td>88.1</td>\n",
              "      <td>4</td>\n",
              "      <td>60</td>\n",
              "      <td>50</td>\n",
              "      <td>65</td>\n",
              "      <td>8.5</td>\n",
              "      <td>1</td>\n",
              "      <td>0</td>\n",
              "    </tr>\n",
              "    <tr>\n",
              "      <th>4</th>\n",
              "      <td>5</td>\n",
              "      <td>['Blaze', 'Solar Power']</td>\n",
              "      <td>0.5</td>\n",
              "      <td>1.0</td>\n",
              "      <td>1.0</td>\n",
              "      <td>1.0</td>\n",
              "      <td>0.5</td>\n",
              "      <td>1.0</td>\n",
              "      <td>0.5</td>\n",
              "      <td>1.0</td>\n",
              "      <td>1.0</td>\n",
              "      <td>0.5</td>\n",
              "      <td>2.0</td>\n",
              "      <td>0.5</td>\n",
              "      <td>1.0</td>\n",
              "      <td>1.0</td>\n",
              "      <td>1.0</td>\n",
              "      <td>2.0</td>\n",
              "      <td>0.5</td>\n",
              "      <td>2.0</td>\n",
              "      <td>64</td>\n",
              "      <td>5120</td>\n",
              "      <td>70</td>\n",
              "      <td>405</td>\n",
              "      <td>45</td>\n",
              "      <td>Flame Pokémon</td>\n",
              "      <td>58</td>\n",
              "      <td>1059860</td>\n",
              "      <td>1.1</td>\n",
              "      <td>58</td>\n",
              "      <td>Lizardoリザード</td>\n",
              "      <td>Charmeleon</td>\n",
              "      <td>88.1</td>\n",
              "      <td>5</td>\n",
              "      <td>80</td>\n",
              "      <td>65</td>\n",
              "      <td>80</td>\n",
              "      <td>19.0</td>\n",
              "      <td>1</td>\n",
              "      <td>0</td>\n",
              "    </tr>\n",
              "    <tr>\n",
              "      <th>6</th>\n",
              "      <td>0</td>\n",
              "      <td>['Torrent', 'Rain Dish']</td>\n",
              "      <td>1.0</td>\n",
              "      <td>1.0</td>\n",
              "      <td>1.0</td>\n",
              "      <td>2.0</td>\n",
              "      <td>1.0</td>\n",
              "      <td>1.0</td>\n",
              "      <td>0.5</td>\n",
              "      <td>1.0</td>\n",
              "      <td>1.0</td>\n",
              "      <td>2.0</td>\n",
              "      <td>1.0</td>\n",
              "      <td>0.5</td>\n",
              "      <td>1.0</td>\n",
              "      <td>1.0</td>\n",
              "      <td>1.0</td>\n",
              "      <td>1.0</td>\n",
              "      <td>0.5</td>\n",
              "      <td>0.5</td>\n",
              "      <td>48</td>\n",
              "      <td>5120</td>\n",
              "      <td>70</td>\n",
              "      <td>314</td>\n",
              "      <td>45</td>\n",
              "      <td>Tiny Turtle Pokémon</td>\n",
              "      <td>65</td>\n",
              "      <td>1059860</td>\n",
              "      <td>0.5</td>\n",
              "      <td>44</td>\n",
              "      <td>Zenigameゼニガメ</td>\n",
              "      <td>Squirtle</td>\n",
              "      <td>88.1</td>\n",
              "      <td>7</td>\n",
              "      <td>50</td>\n",
              "      <td>64</td>\n",
              "      <td>43</td>\n",
              "      <td>9.0</td>\n",
              "      <td>1</td>\n",
              "      <td>0</td>\n",
              "    </tr>\n",
              "    <tr>\n",
              "      <th>7</th>\n",
              "      <td>0</td>\n",
              "      <td>['Torrent', 'Rain Dish']</td>\n",
              "      <td>1.0</td>\n",
              "      <td>1.0</td>\n",
              "      <td>1.0</td>\n",
              "      <td>2.0</td>\n",
              "      <td>1.0</td>\n",
              "      <td>1.0</td>\n",
              "      <td>0.5</td>\n",
              "      <td>1.0</td>\n",
              "      <td>1.0</td>\n",
              "      <td>2.0</td>\n",
              "      <td>1.0</td>\n",
              "      <td>0.5</td>\n",
              "      <td>1.0</td>\n",
              "      <td>1.0</td>\n",
              "      <td>1.0</td>\n",
              "      <td>1.0</td>\n",
              "      <td>0.5</td>\n",
              "      <td>0.5</td>\n",
              "      <td>63</td>\n",
              "      <td>5120</td>\n",
              "      <td>70</td>\n",
              "      <td>405</td>\n",
              "      <td>45</td>\n",
              "      <td>Turtle Pokémon</td>\n",
              "      <td>80</td>\n",
              "      <td>1059860</td>\n",
              "      <td>1.0</td>\n",
              "      <td>59</td>\n",
              "      <td>Kameilカメール</td>\n",
              "      <td>Wartortle</td>\n",
              "      <td>88.1</td>\n",
              "      <td>8</td>\n",
              "      <td>65</td>\n",
              "      <td>80</td>\n",
              "      <td>58</td>\n",
              "      <td>22.5</td>\n",
              "      <td>1</td>\n",
              "      <td>0</td>\n",
              "    </tr>\n",
              "    <tr>\n",
              "      <th>8</th>\n",
              "      <td>0</td>\n",
              "      <td>['Torrent', 'Rain Dish']</td>\n",
              "      <td>1.0</td>\n",
              "      <td>1.0</td>\n",
              "      <td>1.0</td>\n",
              "      <td>2.0</td>\n",
              "      <td>1.0</td>\n",
              "      <td>1.0</td>\n",
              "      <td>0.5</td>\n",
              "      <td>1.0</td>\n",
              "      <td>1.0</td>\n",
              "      <td>2.0</td>\n",
              "      <td>1.0</td>\n",
              "      <td>0.5</td>\n",
              "      <td>1.0</td>\n",
              "      <td>1.0</td>\n",
              "      <td>1.0</td>\n",
              "      <td>1.0</td>\n",
              "      <td>0.5</td>\n",
              "      <td>0.5</td>\n",
              "      <td>103</td>\n",
              "      <td>5120</td>\n",
              "      <td>70</td>\n",
              "      <td>630</td>\n",
              "      <td>45</td>\n",
              "      <td>Shellfish Pokémon</td>\n",
              "      <td>120</td>\n",
              "      <td>1059860</td>\n",
              "      <td>1.6</td>\n",
              "      <td>79</td>\n",
              "      <td>Kamexカメックス</td>\n",
              "      <td>Blastoise</td>\n",
              "      <td>88.1</td>\n",
              "      <td>9</td>\n",
              "      <td>135</td>\n",
              "      <td>115</td>\n",
              "      <td>78</td>\n",
              "      <td>85.5</td>\n",
              "      <td>1</td>\n",
              "      <td>0</td>\n",
              "    </tr>\n",
              "    <tr>\n",
              "      <th>...</th>\n",
              "      <td>...</td>\n",
              "      <td>...</td>\n",
              "      <td>...</td>\n",
              "      <td>...</td>\n",
              "      <td>...</td>\n",
              "      <td>...</td>\n",
              "      <td>...</td>\n",
              "      <td>...</td>\n",
              "      <td>...</td>\n",
              "      <td>...</td>\n",
              "      <td>...</td>\n",
              "      <td>...</td>\n",
              "      <td>...</td>\n",
              "      <td>...</td>\n",
              "      <td>...</td>\n",
              "      <td>...</td>\n",
              "      <td>...</td>\n",
              "      <td>...</td>\n",
              "      <td>...</td>\n",
              "      <td>...</td>\n",
              "      <td>...</td>\n",
              "      <td>...</td>\n",
              "      <td>...</td>\n",
              "      <td>...</td>\n",
              "      <td>...</td>\n",
              "      <td>...</td>\n",
              "      <td>...</td>\n",
              "      <td>...</td>\n",
              "      <td>...</td>\n",
              "      <td>...</td>\n",
              "      <td>...</td>\n",
              "      <td>...</td>\n",
              "      <td>...</td>\n",
              "      <td>...</td>\n",
              "      <td>...</td>\n",
              "      <td>...</td>\n",
              "      <td>...</td>\n",
              "      <td>...</td>\n",
              "      <td>...</td>\n",
              "      <td>...</td>\n",
              "    </tr>\n",
              "    <tr>\n",
              "      <th>781</th>\n",
              "      <td>13</td>\n",
              "      <td>['Bulletproof', 'Soundproof', 'Overcoat']</td>\n",
              "      <td>1.0</td>\n",
              "      <td>1.0</td>\n",
              "      <td>2.0</td>\n",
              "      <td>0.5</td>\n",
              "      <td>2.0</td>\n",
              "      <td>1.0</td>\n",
              "      <td>0.5</td>\n",
              "      <td>1.0</td>\n",
              "      <td>1.0</td>\n",
              "      <td>0.5</td>\n",
              "      <td>1.0</td>\n",
              "      <td>2.0</td>\n",
              "      <td>1.0</td>\n",
              "      <td>1.0</td>\n",
              "      <td>1.0</td>\n",
              "      <td>1.0</td>\n",
              "      <td>1.0</td>\n",
              "      <td>0.5</td>\n",
              "      <td>55</td>\n",
              "      <td>10240</td>\n",
              "      <td>70</td>\n",
              "      <td>300</td>\n",
              "      <td>45</td>\n",
              "      <td>Scaly Pokémon</td>\n",
              "      <td>65</td>\n",
              "      <td>1250000</td>\n",
              "      <td>0.6</td>\n",
              "      <td>45</td>\n",
              "      <td>Jyarakoジャラコ</td>\n",
              "      <td>Jangmo-o</td>\n",
              "      <td>50.0</td>\n",
              "      <td>782</td>\n",
              "      <td>45</td>\n",
              "      <td>45</td>\n",
              "      <td>45</td>\n",
              "      <td>29.7</td>\n",
              "      <td>7</td>\n",
              "      <td>0</td>\n",
              "    </tr>\n",
              "    <tr>\n",
              "      <th>788</th>\n",
              "      <td>4</td>\n",
              "      <td>['Unaware']</td>\n",
              "      <td>2.0</td>\n",
              "      <td>2.0</td>\n",
              "      <td>1.0</td>\n",
              "      <td>1.0</td>\n",
              "      <td>1.0</td>\n",
              "      <td>0.5</td>\n",
              "      <td>1.0</td>\n",
              "      <td>1.0</td>\n",
              "      <td>2.0</td>\n",
              "      <td>1.0</td>\n",
              "      <td>1.0</td>\n",
              "      <td>1.0</td>\n",
              "      <td>1.0</td>\n",
              "      <td>1.0</td>\n",
              "      <td>0.5</td>\n",
              "      <td>1.0</td>\n",
              "      <td>1.0</td>\n",
              "      <td>1.0</td>\n",
              "      <td>29</td>\n",
              "      <td>30720</td>\n",
              "      <td>0</td>\n",
              "      <td>200</td>\n",
              "      <td>45</td>\n",
              "      <td>Nebula Pokémon</td>\n",
              "      <td>31</td>\n",
              "      <td>1250000</td>\n",
              "      <td>0.2</td>\n",
              "      <td>43</td>\n",
              "      <td>Cosmogコスモッグ</td>\n",
              "      <td>Cosmog</td>\n",
              "      <td>NaN</td>\n",
              "      <td>789</td>\n",
              "      <td>29</td>\n",
              "      <td>31</td>\n",
              "      <td>37</td>\n",
              "      <td>0.1</td>\n",
              "      <td>7</td>\n",
              "      <td>1</td>\n",
              "    </tr>\n",
              "    <tr>\n",
              "      <th>789</th>\n",
              "      <td>4</td>\n",
              "      <td>['Sturdy']</td>\n",
              "      <td>2.0</td>\n",
              "      <td>2.0</td>\n",
              "      <td>1.0</td>\n",
              "      <td>1.0</td>\n",
              "      <td>1.0</td>\n",
              "      <td>0.5</td>\n",
              "      <td>1.0</td>\n",
              "      <td>1.0</td>\n",
              "      <td>2.0</td>\n",
              "      <td>1.0</td>\n",
              "      <td>1.0</td>\n",
              "      <td>1.0</td>\n",
              "      <td>1.0</td>\n",
              "      <td>1.0</td>\n",
              "      <td>0.5</td>\n",
              "      <td>1.0</td>\n",
              "      <td>1.0</td>\n",
              "      <td>1.0</td>\n",
              "      <td>29</td>\n",
              "      <td>30720</td>\n",
              "      <td>0</td>\n",
              "      <td>400</td>\n",
              "      <td>45</td>\n",
              "      <td>Protostar Pokémon</td>\n",
              "      <td>131</td>\n",
              "      <td>1250000</td>\n",
              "      <td>0.1</td>\n",
              "      <td>43</td>\n",
              "      <td>Cosmovumコスモウム</td>\n",
              "      <td>Cosmoem</td>\n",
              "      <td>NaN</td>\n",
              "      <td>790</td>\n",
              "      <td>29</td>\n",
              "      <td>131</td>\n",
              "      <td>37</td>\n",
              "      <td>999.9</td>\n",
              "      <td>7</td>\n",
              "      <td>1</td>\n",
              "    </tr>\n",
              "    <tr>\n",
              "      <th>795</th>\n",
              "      <td>7</td>\n",
              "      <td>['Beast Boost']</td>\n",
              "      <td>1.0</td>\n",
              "      <td>1.0</td>\n",
              "      <td>1.0</td>\n",
              "      <td>0.5</td>\n",
              "      <td>1.0</td>\n",
              "      <td>1.0</td>\n",
              "      <td>1.0</td>\n",
              "      <td>0.5</td>\n",
              "      <td>1.0</td>\n",
              "      <td>1.0</td>\n",
              "      <td>2.0</td>\n",
              "      <td>1.0</td>\n",
              "      <td>1.0</td>\n",
              "      <td>1.0</td>\n",
              "      <td>1.0</td>\n",
              "      <td>1.0</td>\n",
              "      <td>0.5</td>\n",
              "      <td>1.0</td>\n",
              "      <td>89</td>\n",
              "      <td>30720</td>\n",
              "      <td>0</td>\n",
              "      <td>570</td>\n",
              "      <td>30</td>\n",
              "      <td>Glowing Pokémon</td>\n",
              "      <td>71</td>\n",
              "      <td>1250000</td>\n",
              "      <td>3.8</td>\n",
              "      <td>83</td>\n",
              "      <td>Denjyumokuデンジュモク</td>\n",
              "      <td>Xurkitree</td>\n",
              "      <td>NaN</td>\n",
              "      <td>796</td>\n",
              "      <td>173</td>\n",
              "      <td>71</td>\n",
              "      <td>83</td>\n",
              "      <td>100.0</td>\n",
              "      <td>7</td>\n",
              "      <td>1</td>\n",
              "    </tr>\n",
              "    <tr>\n",
              "      <th>799</th>\n",
              "      <td>4</td>\n",
              "      <td>['Prism Armor']</td>\n",
              "      <td>2.0</td>\n",
              "      <td>2.0</td>\n",
              "      <td>1.0</td>\n",
              "      <td>1.0</td>\n",
              "      <td>1.0</td>\n",
              "      <td>0.5</td>\n",
              "      <td>1.0</td>\n",
              "      <td>1.0</td>\n",
              "      <td>2.0</td>\n",
              "      <td>1.0</td>\n",
              "      <td>1.0</td>\n",
              "      <td>1.0</td>\n",
              "      <td>1.0</td>\n",
              "      <td>1.0</td>\n",
              "      <td>0.5</td>\n",
              "      <td>1.0</td>\n",
              "      <td>1.0</td>\n",
              "      <td>1.0</td>\n",
              "      <td>107</td>\n",
              "      <td>30720</td>\n",
              "      <td>0</td>\n",
              "      <td>600</td>\n",
              "      <td>3</td>\n",
              "      <td>Prism Pokémon</td>\n",
              "      <td>101</td>\n",
              "      <td>1250000</td>\n",
              "      <td>2.4</td>\n",
              "      <td>97</td>\n",
              "      <td>Necrozmaネクロズマ</td>\n",
              "      <td>Necrozma</td>\n",
              "      <td>NaN</td>\n",
              "      <td>800</td>\n",
              "      <td>127</td>\n",
              "      <td>89</td>\n",
              "      <td>79</td>\n",
              "      <td>230.0</td>\n",
              "      <td>7</td>\n",
              "      <td>1</td>\n",
              "    </tr>\n",
              "  </tbody>\n",
              "</table>\n",
              "<p>384 rows × 40 columns</p>\n",
              "</div>"
            ],
            "text/plain": [
              "     type1                                  abilities  ...  generation  is_legendary\n",
              "3        5                   ['Blaze', 'Solar Power']  ...           1             0\n",
              "4        5                   ['Blaze', 'Solar Power']  ...           1             0\n",
              "6        0                   ['Torrent', 'Rain Dish']  ...           1             0\n",
              "7        0                   ['Torrent', 'Rain Dish']  ...           1             0\n",
              "8        0                   ['Torrent', 'Rain Dish']  ...           1             0\n",
              "..     ...                                        ...  ...         ...           ...\n",
              "781     13  ['Bulletproof', 'Soundproof', 'Overcoat']  ...           7             0\n",
              "788      4                                ['Unaware']  ...           7             1\n",
              "789      4                                 ['Sturdy']  ...           7             1\n",
              "795      7                            ['Beast Boost']  ...           7             1\n",
              "799      4                            ['Prism Armor']  ...           7             1\n",
              "\n",
              "[384 rows x 40 columns]"
            ]
          },
          "metadata": {
            "tags": []
          },
          "execution_count": 34
        }
      ]
    },
    {
      "cell_type": "code",
      "metadata": {
        "colab": {
          "base_uri": "https://localhost:8080/"
        },
        "id": "bbgibDgd-_4O",
        "outputId": "117e2185-674e-47fa-b2c2-f4e5808c82b5"
      },
      "source": [
        "# Check the correlation \n",
        "corr_matrix = df2.corr()['type1']\n",
        "corr_matrix.sort_values(ascending=False)[1:]"
      ],
      "execution_count": null,
      "outputs": [
        {
          "output_type": "execute_result",
          "data": {
            "text/plain": [
              "against_steel        0.534773\n",
              "against_fairy        0.321718\n",
              "against_ghost        0.258474\n",
              "against_water        0.243953\n",
              "against_ground       0.221639\n",
              "against_psychic      0.195306\n",
              "pokedex_number       0.145905\n",
              "sp_defense           0.132981\n",
              "attack               0.112523\n",
              "against_ice          0.112255\n",
              "against_fire         0.109909\n",
              "generation           0.108543\n",
              "defense              0.083654\n",
              "weight_kg            0.076177\n",
              "experience_growth    0.067719\n",
              "base_egg_steps       0.067570\n",
              "base_total           0.055445\n",
              "is_legendary         0.034319\n",
              "sp_attack            0.020402\n",
              "height_m             0.005764\n",
              "against_rock        -0.016860\n",
              "percentage_male     -0.039548\n",
              "hp                  -0.058667\n",
              "speed               -0.069707\n",
              "against_poison      -0.071793\n",
              "against_flying      -0.092113\n",
              "base_happiness      -0.092623\n",
              "against_fight       -0.181213\n",
              "against_dragon      -0.187586\n",
              "against_dark        -0.216956\n",
              "against_normal      -0.248282\n",
              "against_grass       -0.296114\n",
              "against_bug         -0.359072\n",
              "against_electric    -0.379578\n",
              "Name: type1, dtype: float64"
            ]
          },
          "metadata": {
            "tags": []
          },
          "execution_count": 35
        }
      ]
    },
    {
      "cell_type": "code",
      "metadata": {
        "colab": {
          "base_uri": "https://localhost:8080/"
        },
        "id": "JaJcX5R3-_4O",
        "outputId": "6c41445b-ec3a-4671-ecd2-b381e8a7c6cc"
      },
      "source": [
        "#Get the highest correlated features\n",
        "print(corr_matrix[corr_matrix <-0.2].index);\n",
        "print(corr_matrix[corr_matrix > 0.2].index);\n",
        "\n",
        "col =  []\n",
        "\n",
        "col = corr_matrix[ corr_matrix <-0.2].index.tolist() + corr_matrix[corr_matrix> 0.2].index.tolist()\n",
        "col"
      ],
      "execution_count": null,
      "outputs": [
        {
          "output_type": "stream",
          "text": [
            "Index(['against_bug', 'against_dark', 'against_electric', 'against_grass',\n",
            "       'against_normal'],\n",
            "      dtype='object')\n",
            "Index(['type1', 'against_fairy', 'against_ghost', 'against_ground',\n",
            "       'against_steel', 'against_water'],\n",
            "      dtype='object')\n"
          ],
          "name": "stdout"
        },
        {
          "output_type": "execute_result",
          "data": {
            "text/plain": [
              "['against_bug',\n",
              " 'against_dark',\n",
              " 'against_electric',\n",
              " 'against_grass',\n",
              " 'against_normal',\n",
              " 'type1',\n",
              " 'against_fairy',\n",
              " 'against_ghost',\n",
              " 'against_ground',\n",
              " 'against_steel',\n",
              " 'against_water']"
            ]
          },
          "metadata": {
            "tags": []
          },
          "execution_count": 70
        }
      ]
    },
    {
      "cell_type": "markdown",
      "metadata": {
        "id": "n5y0ShgN5osJ"
      },
      "source": [
        "We will use these features only in our model"
      ]
    },
    {
      "cell_type": "code",
      "metadata": {
        "id": "0zFfqUNS307g"
      },
      "source": [
        "df_clean = df2[col]"
      ],
      "execution_count": null,
      "outputs": []
    },
    {
      "cell_type": "code",
      "metadata": {
        "colab": {
          "base_uri": "https://localhost:8080/"
        },
        "id": "ZEp_PbIN7fGe",
        "outputId": "3dc4e49f-4dc7-4e39-a355-2c37423e30ab"
      },
      "source": [
        "df_clean.info()"
      ],
      "execution_count": null,
      "outputs": [
        {
          "output_type": "stream",
          "text": [
            "<class 'pandas.core.frame.DataFrame'>\n",
            "Int64Index: 384 entries, 3 to 799\n",
            "Data columns (total 11 columns):\n",
            " #   Column            Non-Null Count  Dtype  \n",
            "---  ------            --------------  -----  \n",
            " 0   against_bug       384 non-null    float64\n",
            " 1   against_dark      384 non-null    float64\n",
            " 2   against_electric  384 non-null    float64\n",
            " 3   against_grass     384 non-null    float64\n",
            " 4   against_normal    384 non-null    float64\n",
            " 5   type1             384 non-null    int64  \n",
            " 6   against_fairy     384 non-null    float64\n",
            " 7   against_ghost     384 non-null    float64\n",
            " 8   against_ground    384 non-null    float64\n",
            " 9   against_steel     384 non-null    float64\n",
            " 10  against_water     384 non-null    float64\n",
            "dtypes: float64(10), int64(1)\n",
            "memory usage: 36.0 KB\n"
          ],
          "name": "stdout"
        }
      ]
    },
    {
      "cell_type": "code",
      "metadata": {
        "colab": {
          "base_uri": "https://localhost:8080/",
          "height": 164
        },
        "id": "MrqUw1xP7hg5",
        "outputId": "69c15e5e-f0ed-4194-da2a-3ccd0d71d43c"
      },
      "source": [
        "df_clean.head()"
      ],
      "execution_count": null,
      "outputs": [
        {
          "output_type": "execute_result",
          "data": {
            "text/html": [
              "<div>\n",
              "<style scoped>\n",
              "    .dataframe tbody tr th:only-of-type {\n",
              "        vertical-align: middle;\n",
              "    }\n",
              "\n",
              "    .dataframe tbody tr th {\n",
              "        vertical-align: top;\n",
              "    }\n",
              "\n",
              "    .dataframe thead th {\n",
              "        text-align: right;\n",
              "    }\n",
              "</style>\n",
              "<table border=\"1\" class=\"dataframe\">\n",
              "  <thead>\n",
              "    <tr style=\"text-align: right;\">\n",
              "      <th></th>\n",
              "      <th>against_bug</th>\n",
              "      <th>against_dark</th>\n",
              "      <th>against_electric</th>\n",
              "      <th>against_grass</th>\n",
              "      <th>against_normal</th>\n",
              "      <th>type1</th>\n",
              "      <th>against_fairy</th>\n",
              "      <th>against_ghost</th>\n",
              "      <th>against_ground</th>\n",
              "      <th>against_steel</th>\n",
              "      <th>against_water</th>\n",
              "    </tr>\n",
              "  </thead>\n",
              "  <tbody>\n",
              "    <tr>\n",
              "      <th>3</th>\n",
              "      <td>0.5</td>\n",
              "      <td>1.0</td>\n",
              "      <td>1.0</td>\n",
              "      <td>0.5</td>\n",
              "      <td>1.0</td>\n",
              "      <td>5</td>\n",
              "      <td>0.5</td>\n",
              "      <td>1.0</td>\n",
              "      <td>2.0</td>\n",
              "      <td>0.5</td>\n",
              "      <td>2.0</td>\n",
              "    </tr>\n",
              "    <tr>\n",
              "      <th>4</th>\n",
              "      <td>0.5</td>\n",
              "      <td>1.0</td>\n",
              "      <td>1.0</td>\n",
              "      <td>0.5</td>\n",
              "      <td>1.0</td>\n",
              "      <td>5</td>\n",
              "      <td>0.5</td>\n",
              "      <td>1.0</td>\n",
              "      <td>2.0</td>\n",
              "      <td>0.5</td>\n",
              "      <td>2.0</td>\n",
              "    </tr>\n",
              "    <tr>\n",
              "      <th>6</th>\n",
              "      <td>1.0</td>\n",
              "      <td>1.0</td>\n",
              "      <td>2.0</td>\n",
              "      <td>2.0</td>\n",
              "      <td>1.0</td>\n",
              "      <td>0</td>\n",
              "      <td>1.0</td>\n",
              "      <td>1.0</td>\n",
              "      <td>1.0</td>\n",
              "      <td>0.5</td>\n",
              "      <td>0.5</td>\n",
              "    </tr>\n",
              "    <tr>\n",
              "      <th>7</th>\n",
              "      <td>1.0</td>\n",
              "      <td>1.0</td>\n",
              "      <td>2.0</td>\n",
              "      <td>2.0</td>\n",
              "      <td>1.0</td>\n",
              "      <td>0</td>\n",
              "      <td>1.0</td>\n",
              "      <td>1.0</td>\n",
              "      <td>1.0</td>\n",
              "      <td>0.5</td>\n",
              "      <td>0.5</td>\n",
              "    </tr>\n",
              "    <tr>\n",
              "      <th>8</th>\n",
              "      <td>1.0</td>\n",
              "      <td>1.0</td>\n",
              "      <td>2.0</td>\n",
              "      <td>2.0</td>\n",
              "      <td>1.0</td>\n",
              "      <td>0</td>\n",
              "      <td>1.0</td>\n",
              "      <td>1.0</td>\n",
              "      <td>1.0</td>\n",
              "      <td>0.5</td>\n",
              "      <td>0.5</td>\n",
              "    </tr>\n",
              "  </tbody>\n",
              "</table>\n",
              "</div>"
            ],
            "text/plain": [
              "   against_bug  against_dark  ...  against_steel  against_water\n",
              "3          0.5           1.0  ...            0.5            2.0\n",
              "4          0.5           1.0  ...            0.5            2.0\n",
              "6          1.0           1.0  ...            0.5            0.5\n",
              "7          1.0           1.0  ...            0.5            0.5\n",
              "8          1.0           1.0  ...            0.5            0.5\n",
              "\n",
              "[5 rows x 11 columns]"
            ]
          },
          "metadata": {
            "tags": []
          },
          "execution_count": 73
        }
      ]
    },
    {
      "cell_type": "code",
      "metadata": {
        "id": "UjCZgTT-8uiw"
      },
      "source": [
        "X = df_clean.drop(columns='type1')\n",
        "y = df_clean['type1']\n",
        "\n",
        "X_train, X_test, y_train, y_test = train_test_split(X, y, test_size=0.2, random_state=1)\n"
      ],
      "execution_count": null,
      "outputs": []
    },
    {
      "cell_type": "code",
      "metadata": {
        "id": "m30Ntv0a75hr"
      },
      "source": [
        "lda = LinearDiscriminantAnalysis()\n",
        "lda.fit(X_train, y_train)"
      ],
      "execution_count": null,
      "outputs": []
    },
    {
      "cell_type": "code",
      "metadata": {
        "id": "L2fN8e9n9eFf"
      },
      "source": [
        "y_pred=lda.predict(X_test)\n",
        "print('Accuracy Score RBF:')\n",
        "print(metrics.accuracy_score(y_test,y_pred))"
      ],
      "execution_count": null,
      "outputs": []
    },
    {
      "cell_type": "code",
      "metadata": {
        "id": "0YFEq582-Anv"
      },
      "source": [
        ""
      ],
      "execution_count": null,
      "outputs": []
    },
    {
      "cell_type": "code",
      "metadata": {
        "id": "VX8R7BRdkTgO"
      },
      "source": [
        ""
      ],
      "execution_count": null,
      "outputs": []
    },
    {
      "cell_type": "code",
      "metadata": {
        "id": "wrZMrvo7kWlh"
      },
      "source": [
        ""
      ],
      "execution_count": null,
      "outputs": []
    },
    {
      "cell_type": "code",
      "metadata": {
        "id": "Q945G_z8zekw"
      },
      "source": [
        ""
      ],
      "execution_count": null,
      "outputs": []
    }
  ]
}