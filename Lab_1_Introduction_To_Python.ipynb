{
  "nbformat": 4,
  "nbformat_minor": 0,
  "metadata": {
    "kernelspec": {
      "display_name": "Python 3",
      "language": "python",
      "name": "python3"
    },
    "language_info": {
      "codemirror_mode": {
        "name": "ipython",
        "version": 3
      },
      "file_extension": ".py",
      "mimetype": "text/x-python",
      "name": "python",
      "nbconvert_exporter": "python",
      "pygments_lexer": "ipython3",
      "version": "3.8.5"
    },
    "colab": {
      "name": "Task1.ipynb",
      "provenance": []
    }
  },
  "cells": [
    {
      "cell_type": "code",
      "metadata": {
        "id": "bG2Xx3GkPJ4S"
      },
      "source": [
        "input_list = [1, 5, 1, 2, 2, 3, 4, 4]"
      ],
      "execution_count": null,
      "outputs": []
    },
    {
      "cell_type": "code",
      "metadata": {
        "id": "Y4V1ihowPJ4V"
      },
      "source": [
        "def number_count(input_list):\n",
        "    \"\"\"\n",
        "    takes a list of numbers as an input and counts the number of occurrences of each number in the list.\n",
        "    input: list\n",
        "    output: a dictionary \n",
        "  \n",
        "    \"\"\"\n",
        "    d = {}\n",
        "    for num in input_list:\n",
        "        if num not in d:\n",
        "            d[num] = 1\n",
        "        else:\n",
        "            d[num] += 1\n",
        "    return d"
      ],
      "execution_count": null,
      "outputs": []
    },
    {
      "cell_type": "code",
      "metadata": {
        "id": "BLu__XOBPJ4W",
        "outputId": "8a492622-cd17-432e-f144-c58bce4cae8e"
      },
      "source": [
        "number_count(input_list)"
      ],
      "execution_count": null,
      "outputs": [
        {
          "data": {
            "text/plain": [
              "{1: 2, 5: 1, 2: 2, 3: 1, 4: 2}"
            ]
          },
          "execution_count": 44,
          "metadata": {},
          "output_type": "execute_result"
        }
      ]
    },
    {
      "cell_type": "code",
      "metadata": {
        "id": "mMkzVDbFPJ4X"
      },
      "source": [
        "def number_count2(input_list):\n",
        "    from collections import Counter        \n",
        "    count = Counter(input_list)\n",
        "    return count"
      ],
      "execution_count": null,
      "outputs": []
    },
    {
      "cell_type": "code",
      "metadata": {
        "id": "CyY1aqD0PJ4Y",
        "outputId": "3dde44e3-a031-460a-ae70-eacf11689336"
      },
      "source": [
        "number_count2(input_list)"
      ],
      "execution_count": null,
      "outputs": [
        {
          "data": {
            "text/plain": [
              "Counter({1: 2, 5: 1, 2: 2, 3: 1, 4: 2})"
            ]
          },
          "execution_count": 46,
          "metadata": {},
          "output_type": "execute_result"
        }
      ]
    },
    {
      "cell_type": "code",
      "metadata": {
        "id": "LxJAj6y9PJ4Y"
      },
      "source": [
        ""
      ],
      "execution_count": null,
      "outputs": []
    }
  ]
}