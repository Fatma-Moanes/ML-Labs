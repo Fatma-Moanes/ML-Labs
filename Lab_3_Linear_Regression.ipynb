{
  "nbformat": 4,
  "nbformat_minor": 0,
  "metadata": {
    "colab": {
      "name": "Copy_of_Lab_3_Linear_Regression.ipynb",
      "provenance": [],
      "collapsed_sections": [],
      "toc_visible": true
    },
    "kernelspec": {
      "name": "python3",
      "display_name": "Python 3"
    }
  },
  "cells": [
    {
      "cell_type": "markdown",
      "metadata": {
        "id": "AMFXWFFV-HtH"
      },
      "source": [
        "#First: Linear Regression using the normal equation"
      ]
    },
    {
      "cell_type": "markdown",
      "metadata": {
        "id": "kbxatVk5GwGY"
      },
      "source": [
        "  $\\vartheta =(X^TX)^{-1} X^Tt$ \n",
        "\n",
        "\n",
        "  > \n",
        "  $\\vartheta$: Weight (coefficient) vector\n",
        "\n",
        "  $X$: feature matrix where the first column is a column of ones representing the added bias and each other column represents the values of a certain feature.\n"
      ]
    },
    {
      "cell_type": "markdown",
      "metadata": {
        "id": "OSBp_kuE3BCQ"
      },
      "source": [
        "Let’s generate some linear-looking data to test the normal equation"
      ]
    },
    {
      "cell_type": "code",
      "metadata": {
        "id": "1kOlzp4qJUd8",
        "colab": {
          "base_uri": "https://localhost:8080/"
        },
        "outputId": "58519f6f-5d27-4609-dbb3-db90d8d77736"
      },
      "source": [
        "import numpy as np\n",
        "num_points= 100 \n",
        "x1 = 2* np.random.rand(num_points, 1) #Create an array of the shape 100x1 and populate it with random samples from a uniform distribution over [0, 1)\n",
        "gaussian_noise= np.random.randn(num_points, 1) #sampled from a normal (Gaussian) distribution of mean 0 and variance 1\n",
        "theta0= 4\n",
        "theta1= 3\n",
        "t = theta0 + theta1 * x1 + gaussian_noise\n",
        "x1[0]\n"
      ],
      "execution_count": null,
      "outputs": [
        {
          "output_type": "execute_result",
          "data": {
            "text/plain": [
              "array([1.13809273])"
            ]
          },
          "metadata": {
            "tags": []
          },
          "execution_count": 1
        }
      ]
    },
    {
      "cell_type": "code",
      "metadata": {
        "id": "-cuhhxBA46Xk"
      },
      "source": [
        "x0= np.ones((num_points, 1))\n",
        "X = np.c_[x0, x1] # add x0 = 1 to each instance\n",
        "theta_best = np.linalg.inv(X.T.dot(X)).dot(X.T).dot(t)"
      ],
      "execution_count": null,
      "outputs": []
    },
    {
      "cell_type": "code",
      "metadata": {
        "id": "FH1D1Ocmzzwh",
        "colab": {
          "base_uri": "https://localhost:8080/"
        },
        "outputId": "5b393c91-e8ae-4821-9ae7-4a1cca78067d"
      },
      "source": [
        "x0.shape"
      ],
      "execution_count": null,
      "outputs": [
        {
          "output_type": "execute_result",
          "data": {
            "text/plain": [
              "(100, 1)"
            ]
          },
          "metadata": {
            "tags": []
          },
          "execution_count": 3
        }
      ]
    },
    {
      "cell_type": "code",
      "metadata": {
        "id": "zgSJ3_lm5TT0",
        "colab": {
          "base_uri": "https://localhost:8080/"
        },
        "outputId": "75d2a82f-2536-4d35-bddf-dc1cb0150fde"
      },
      "source": [
        "X[0:5]"
      ],
      "execution_count": null,
      "outputs": [
        {
          "output_type": "execute_result",
          "data": {
            "text/plain": [
              "array([[1.        , 1.13809273],\n",
              "       [1.        , 1.61243498],\n",
              "       [1.        , 1.04525055],\n",
              "       [1.        , 0.90301315],\n",
              "       [1.        , 0.62956529]])"
            ]
          },
          "metadata": {
            "tags": []
          },
          "execution_count": 4
        }
      ]
    },
    {
      "cell_type": "code",
      "metadata": {
        "id": "EtsCsWB56jZT",
        "colab": {
          "base_uri": "https://localhost:8080/"
        },
        "outputId": "bb068931-8f52-4217-fee1-d47eee87f900"
      },
      "source": [
        "theta_best"
      ],
      "execution_count": null,
      "outputs": [
        {
          "output_type": "execute_result",
          "data": {
            "text/plain": [
              "array([[3.865109  ],\n",
              "       [3.07655732]])"
            ]
          },
          "metadata": {
            "tags": []
          },
          "execution_count": 5
        }
      ]
    },
    {
      "cell_type": "markdown",
      "metadata": {
        "id": "j88EVbDk7bPX"
      },
      "source": [
        "Acceptable approximation to θ_0 and θ_1, but the noise made it impossible to recover the exact parameters of the original\n",
        "function. "
      ]
    },
    {
      "cell_type": "markdown",
      "metadata": {
        "id": "qEDgmJ_27t1J"
      },
      "source": [
        "Now you can make predictions using θ"
      ]
    },
    {
      "cell_type": "code",
      "metadata": {
        "id": "mI19bUOQ73Ji",
        "colab": {
          "base_uri": "https://localhost:8080/"
        },
        "outputId": "6f4e8c92-a808-4c10-e411-ddae3e5b1679"
      },
      "source": [
        "X1_new = np.array([[0], [2]])\n",
        "X_new = np.c_[np.ones((2, 1)), X1_new] # add x0 = 1 to each instance\n",
        "y_predict = X_new.dot(theta_best)\n",
        "y_predict"
      ],
      "execution_count": null,
      "outputs": [
        {
          "output_type": "execute_result",
          "data": {
            "text/plain": [
              "array([[ 3.865109  ],\n",
              "       [10.01822364]])"
            ]
          },
          "metadata": {
            "tags": []
          },
          "execution_count": 6
        }
      ]
    },
    {
      "cell_type": "markdown",
      "metadata": {
        "id": "8vH3UhKr8V34"
      },
      "source": [
        "Let’s plot this model’s predictions"
      ]
    },
    {
      "cell_type": "code",
      "metadata": {
        "id": "Cc_4VxlS8W1j",
        "colab": {
          "base_uri": "https://localhost:8080/",
          "height": 592
        },
        "outputId": "9703c959-3ba2-48a3-977b-461e5c2dccff"
      },
      "source": [
        "import matplotlib.pyplot as plt\n",
        "from matplotlib.pylab import rcParams\n",
        "rcParams['figure.figsize'] = 12, 10\n",
        "\n",
        "plt.plot(X1_new, y_predict, \"r-\")\n",
        "plt.plot(x1, t, \"b.\")\n",
        "plt.axis([0, 2, 0, 15]) #x axis range 0 to 2 and y axis range 0 to 15\n",
        "plt.show()"
      ],
      "execution_count": null,
      "outputs": [
        {
          "output_type": "display_data",
          "data": {
            "image/png": "[encoded data removed]",
            "text/plain": [
              "<Figure size 864x720 with 1 Axes>"
            ]
          },
          "metadata": {
            "tags": [],
            "needs_background": "light"
          }
        }
      ]
    },
    {
      "cell_type": "markdown",
      "metadata": {
        "id": "uQIvGt6k-Ofp"
      },
      "source": [
        "#Second: linear regression using Scikit-Learn"
      ]
    },
    {
      "cell_type": "code",
      "metadata": {
        "id": "eo99ZAZC-Q2f",
        "colab": {
          "base_uri": "https://localhost:8080/"
        },
        "outputId": "70e663a1-d193-4e8a-fbb8-639c6a3e73c9"
      },
      "source": [
        "from sklearn.linear_model import LinearRegression\n",
        "lin_reg = LinearRegression()\n",
        "lin_reg.fit(x1, t)\n",
        "lin_reg.intercept_, lin_reg.coef_"
      ],
      "execution_count": null,
      "outputs": [
        {
          "output_type": "execute_result",
          "data": {
            "text/plain": [
              "(array([3.865109]), array([[3.07655732]]))"
            ]
          },
          "metadata": {
            "tags": []
          },
          "execution_count": 8
        }
      ]
    },
    {
      "cell_type": "code",
      "metadata": {
        "id": "LmFZvKN_-fl0",
        "colab": {
          "base_uri": "https://localhost:8080/"
        },
        "outputId": "e235bb5e-7d48-4dca-ccc4-41564ddb3816"
      },
      "source": [
        "lin_reg.predict(X1_new)"
      ],
      "execution_count": null,
      "outputs": [
        {
          "output_type": "execute_result",
          "data": {
            "text/plain": [
              "array([[ 3.865109  ],\n",
              "       [10.01822364]])"
            ]
          },
          "metadata": {
            "tags": []
          },
          "execution_count": 9
        }
      ]
    },
    {
      "cell_type": "markdown",
      "metadata": {
        "id": "LrLQvSQZ-2mq"
      },
      "source": [
        "#Third: Linear regression using gradient descent"
      ]
    },
    {
      "cell_type": "markdown",
      "metadata": {
        "id": "FP46qu_V-9vG"
      },
      "source": [
        "\n",
        "#Task 1 [2 points] "
      ]
    },
    {
      "cell_type": "markdown",
      "metadata": {
        "id": "TDU3wcId4fQ6"
      },
      "source": [
        "Implement batch gradient descent and get the values of theta using your implementation. \n",
        "\n",
        "$\\vartheta= \\vartheta - (2\\lambda/n)X^T(y-t)$\n",
        "\n",
        "where n is the number of examples (data points). "
      ]
    },
    {
      "cell_type": "code",
      "metadata": {
        "id": "w_4Z_3Zv_h-r",
        "colab": {
          "base_uri": "https://localhost:8080/"
        },
        "outputId": "9b20d481-9500-4d0b-f00f-4322f4b37de7"
      },
      "source": [
        "#Your code here\n",
        "theta = np.random.randn(2,1)          # random initialization of model parameters\n",
        "learn_rate = 0.01\n",
        "n = num_points  \n",
        "\n",
        "y_predicted = X.dot(theta)\n",
        "\n",
        "for i in range(0,10000):\n",
        "  theta_new = theta - ( ((2*learn_rate)/ n) *(X.T).dot(y_predicted- t))\n",
        "  y_predicted = X.dot(theta_new)\n",
        "  i\n",
        "theta_new\n",
        "#t.shape"
      ],
      "execution_count": null,
      "outputs": [
        {
          "output_type": "execute_result",
          "data": {
            "text/plain": [
              "array([[-0.98255388],\n",
              "       [-1.40282396]])"
            ]
          },
          "metadata": {
            "tags": []
          },
          "execution_count": 15
        }
      ]
    },
    {
      "cell_type": "markdown",
      "metadata": {
        "id": "cigYy7p5EPn0"
      },
      "source": [
        "#Fourth: Linear Regression using SGD with Scikit-Learn"
      ]
    },
    {
      "cell_type": "code",
      "metadata": {
        "id": "8qfKBGiAESr7",
        "colab": {
          "base_uri": "https://localhost:8080/",
          "height": 34
        },
        "outputId": "ff64c938-4897-42e9-ec57-55624aa6549a"
      },
      "source": [
        "from sklearn.linear_model import SGDRegressor\n",
        "sgd_reg = SGDRegressor(max_iter=1000, tol=1e-3, penalty=None, eta0=0.1)\n",
        "sgd_reg.fit(x1, t.ravel())\n",
        "sgd_reg.intercept_, sgd_reg.coef_"
      ],
      "execution_count": null,
      "outputs": [
        {
          "output_type": "execute_result",
          "data": {
            "text/plain": [
              "(array([3.77790833]), array([2.898763]))"
            ]
          },
          "metadata": {
            "tags": []
          },
          "execution_count": 118
        }
      ]
    },
    {
      "cell_type": "markdown",
      "metadata": {
        "id": "1kl9zjMDHfFj"
      },
      "source": [
        "#Fifth: Polynomial Regression"
      ]
    },
    {
      "cell_type": "markdown",
      "metadata": {
        "id": "tjtDwgCCHrB1"
      },
      "source": [
        "What if your data is actually more complex than a simple straight line? Surprisingly, you can actually use a linear model to fit nonlinear data. A simple way to do this is to add powers of each feature as new features, then train a linear model on this extended set of features. This technique is called Polynomial Regression."
      ]
    },
    {
      "cell_type": "code",
      "metadata": {
        "id": "EOWoBD_kHhku",
        "colab": {
          "base_uri": "https://localhost:8080/",
          "height": 610
        },
        "outputId": "cc93c329-cd54-467e-9648-bc451d8cb4ff"
      },
      "source": [
        "m = 100\n",
        "X = 6 * np.random.rand(m, 1) - 3\n",
        "t = 0.5 * X**2 + X + 2 + np.random.randn(m, 1)\n",
        "plt.plot(X, t, \"b.\")\n"
      ],
      "execution_count": null,
      "outputs": [
        {
          "output_type": "execute_result",
          "data": {
            "text/plain": [
              "[<matplotlib.lines.Line2D at 0x7f92ae7c8c18>]"
            ]
          },
          "metadata": {
            "tags": []
          },
          "execution_count": 119
        },
        {
          "output_type": "display_data",
          "data": {
            "image/png": "[encoded data removed]",
            "text/plain": [
              "<Figure size 864x720 with 1 Axes>"
            ]
          },
          "metadata": {
            "tags": [],
            "needs_background": "light"
          }
        }
      ]
    },
    {
      "cell_type": "markdown",
      "metadata": {
        "id": "5CkSWZruIKPW"
      },
      "source": [
        "Clearly, a straight line will never fit this data properly. So let’s use Scikit-Learn’s PolynomialFeatures class to transform our training data, adding the square (2nd-degree polynomial) of each feature in the training set as new features (in this case there is just one feature):"
      ]
    },
    {
      "cell_type": "code",
      "metadata": {
        "id": "ot7FtfiNIQGV"
      },
      "source": [
        "from sklearn.preprocessing import PolynomialFeatures\n",
        "poly_features = PolynomialFeatures(degree=2, include_bias=False)\n",
        "X_poly = poly_features.fit_transform(X)"
      ],
      "execution_count": null,
      "outputs": []
    },
    {
      "cell_type": "code",
      "metadata": {
        "id": "3pUlIpteIjfF",
        "colab": {
          "base_uri": "https://localhost:8080/",
          "height": 52
        },
        "outputId": "fc971197-9a3a-4fda-8d6c-f7bac3315f28"
      },
      "source": [
        "print('X[0]= ', X[0])\n",
        "print('X_poly[0]= ', X_poly[0])"
      ],
      "execution_count": null,
      "outputs": [
        {
          "output_type": "stream",
          "text": [
            "X[0]=  [0.80332677]\n",
            "X_poly[0]=  [0.80332677 0.6453339 ]\n"
          ],
          "name": "stdout"
        }
      ]
    },
    {
      "cell_type": "markdown",
      "metadata": {
        "id": "DBQo2FiyJDmr"
      },
      "source": [
        "X_poly now contains the original feature of X plus the square of this feature. \n",
        "\n",
        "Now you can fit a LinearRegression model to this extended training data"
      ]
    },
    {
      "cell_type": "code",
      "metadata": {
        "id": "KT3LHJ1gJHG_",
        "colab": {
          "base_uri": "https://localhost:8080/",
          "height": 627
        },
        "outputId": "bf85a100-53eb-4eaa-d895-05fef89f017d"
      },
      "source": [
        "from sklearn.metrics import mean_squared_error\n",
        "import operator\n",
        "\n",
        "lin_reg = LinearRegression()\n",
        "lin_reg.fit(X_poly, t) #Fit the transformed features \n",
        "y_poly_pred = lin_reg.predict(X_poly)  #Letting the model predict the y values for the transformed features to measure the error\n",
        "rmse = np.sqrt(mean_squared_error(t,y_poly_pred)) \n",
        "print(\"Intercept= \", lin_reg.intercept_,\"and coefficients = \" ,lin_reg.coef_)\n",
        "print(\"Root mean squared error= \", rmse)\n",
        "\n",
        "\n",
        "#Plot \n",
        "plt.scatter(X, t, s=10) \n",
        "# sort the values of x before line plot\n",
        "sort_axis = operator.itemgetter(0)\n",
        "sorted_zip = sorted(zip(X,y_poly_pred), key=sort_axis)\n",
        "X_plot, y_poly_pred_plot = zip(*sorted_zip)\n",
        "plt.plot(X_plot, y_poly_pred_plot, color='m')\n",
        "plt.show()"
      ],
      "execution_count": null,
      "outputs": [
        {
          "output_type": "stream",
          "text": [
            "Intercept=  [2.0262699] and coefficients =  [[0.97783924 0.48572131]]\n",
            "Root mean squared error=  1.051673152342621\n"
          ],
          "name": "stdout"
        },
        {
          "output_type": "display_data",
          "data": {
            "image/png": "[encoded data removed]",
            "text/plain": [
              "<Figure size 864x720 with 1 Axes>"
            ]
          },
          "metadata": {
            "tags": [],
            "needs_background": "light"
          }
        }
      ]
    },
    {
      "cell_type": "markdown",
      "metadata": {
        "id": "r90FxzNbJbKH"
      },
      "source": [
        "Not bad: The original\n",
        "function was y = 0.5 x^2 + 1.0 x + 2.0 + Gaussian noise."
      ]
    },
    {
      "cell_type": "code",
      "metadata": {
        "id": "261vpwHja3Pg"
      },
      "source": [
        "def poly_reg (X, t, power, i, X_test, t_test):\n",
        "  poly_features = PolynomialFeatures(degree=power, include_bias=False)\n",
        "  X_poly = poly_features.fit_transform(X)\n",
        "  lin_reg = LinearRegression()\n",
        "  lin_reg.fit(X_poly, t) #Fit the transformed features \n",
        "  y_poly_pred = lin_reg.predict(X_poly)  #Letting the model predict the y values for the transformed features to measure the error\n",
        "  rmse = np.sqrt(mean_squared_error(t,y_poly_pred)) \n",
        "\n",
        "  #evaluate test data \n",
        "  X_poly_test = poly_features.fit_transform(X_test) #Must apply the same transformations to train and test\n",
        "  y_poly_eval= lin_reg.predict(X_poly_test)\n",
        "  rmse_test = np.sqrt(mean_squared_error(t_test,y_poly_eval)) \n",
        "\n",
        "  #Plot \n",
        "  axs[i].scatter(X, t, s=10) \n",
        "  # sort the values of x before line plot\n",
        "  sort_axis = operator.itemgetter(0)\n",
        "  sorted_zip = sorted(zip(X,y_poly_pred), key=sort_axis)\n",
        "  X_plot, y_poly_pred_plot = zip(*sorted_zip)\n",
        "  axs[i].plot(X_plot, y_poly_pred_plot, color='m')\n",
        "  axs[i].set_title('Polynomial of degree: %d'%power)\n",
        "  return lin_reg.intercept_, lin_reg.coef_.tolist()[0], rmse, rmse_test"
      ],
      "execution_count": null,
      "outputs": []
    },
    {
      "cell_type": "code",
      "metadata": {
        "id": "mBTE5wOXrvJA",
        "colab": {
          "base_uri": "https://localhost:8080/",
          "height": 390
        },
        "outputId": "3045c661-cf10-4e02-f77b-37e838642358"
      },
      "source": [
        "fig, axs = plt.subplots(2,3, figsize=(15, 6), facecolor='w', edgecolor='k')\n",
        "fig.subplots_adjust(hspace = .5, wspace=.001)\n",
        "\n",
        "axs = axs.ravel()\n",
        "\n",
        "m = 20\n",
        "X_test = 10*np.random.rand(m, 1)-4\n",
        "t_test = 0.5 * X_test**2 + X_test + 2 + np.random.randn(m, 1)\n",
        "\n",
        "\n",
        "coeff= {}\n",
        "rmse= {}\n",
        "rmse_test={}\n",
        "powers= [1,2,5,7,9,15]\n",
        "for i in range (len(powers)):\n",
        "  power= powers[i]\n",
        "  intercept,coeff[power],rmse[power], rmse_test[power]= poly_reg (X, t, power, i, X_test, t_test)\n"
      ],
      "execution_count": null,
      "outputs": [
        {
          "output_type": "display_data",
          "data": {
            "image/png": "[encoded data removed]",
            "text/plain": [
              "<Figure size 1080x432 with 6 Axes>"
            ]
          },
          "metadata": {
            "tags": []
          }
        }
      ]
    },
    {
      "cell_type": "code",
      "metadata": {
        "id": "9Qtt4fu7yDFk",
        "colab": {
          "base_uri": "https://localhost:8080/",
          "height": 123
        },
        "outputId": "3d947e0c-c9a4-4803-efc6-581a993a3a90"
      },
      "source": [
        "rmse"
      ],
      "execution_count": null,
      "outputs": [
        {
          "output_type": "execute_result",
          "data": {
            "text/plain": [
              "{1: 1.646875759645912,\n",
              " 2: 1.051673152342621,\n",
              " 5: 1.0164995380331632,\n",
              " 7: 0.9913713498723941,\n",
              " 9: 0.9878000320711583,\n",
              " 15: 0.9792354753787869}"
            ]
          },
          "metadata": {
            "tags": []
          },
          "execution_count": 125
        }
      ]
    },
    {
      "cell_type": "code",
      "metadata": {
        "id": "0wj8Q3BCAOhF",
        "colab": {
          "base_uri": "https://localhost:8080/",
          "height": 123
        },
        "outputId": "4948c592-2585-45eb-b384-924c88331f5a"
      },
      "source": [
        "rmse_test"
      ],
      "execution_count": null,
      "outputs": [
        {
          "output_type": "execute_result",
          "data": {
            "text/plain": [
              "{1: 4.651364350190132,\n",
              " 2: 0.768249221847756,\n",
              " 5: 13.923058764083091,\n",
              " 7: 30.11448266919776,\n",
              " 9: 271.70152561273096,\n",
              " 15: 148941.2199996366}"
            ]
          },
          "metadata": {
            "tags": []
          },
          "execution_count": 126
        }
      ]
    },
    {
      "cell_type": "code",
      "metadata": {
        "id": "AbFbhM-pjfMJ",
        "colab": {
          "base_uri": "https://localhost:8080/",
          "height": 497
        },
        "outputId": "fd5fcd37-6dfb-4ddd-93e3-82a9b4789103"
      },
      "source": [
        "import pandas as pd\n",
        "coeff_lin_df= pd.DataFrame(dict([ (k,pd.Series(v)) for k,v in coeff.items()]))\n",
        "coeff_lin_df"
      ],
      "execution_count": null,
      "outputs": [
        {
          "output_type": "execute_result",
          "data": {
            "text/html": [
              "<div>\n",
              "<style scoped>\n",
              "    .dataframe tbody tr th:only-of-type {\n",
              "        vertical-align: middle;\n",
              "    }\n",
              "\n",
              "    .dataframe tbody tr th {\n",
              "        vertical-align: top;\n",
              "    }\n",
              "\n",
              "    .dataframe thead th {\n",
              "        text-align: right;\n",
              "    }\n",
              "</style>\n",
              "<table border=\"1\" class=\"dataframe\">\n",
              "  <thead>\n",
              "    <tr style=\"text-align: right;\">\n",
              "      <th></th>\n",
              "      <th>1</th>\n",
              "      <th>2</th>\n",
              "      <th>5</th>\n",
              "      <th>7</th>\n",
              "      <th>9</th>\n",
              "      <th>15</th>\n",
              "    </tr>\n",
              "  </thead>\n",
              "  <tbody>\n",
              "    <tr>\n",
              "      <th>0</th>\n",
              "      <td>1.084363</td>\n",
              "      <td>0.977839</td>\n",
              "      <td>1.362948</td>\n",
              "      <td>1.436835</td>\n",
              "      <td>1.481038</td>\n",
              "      <td>2.001350</td>\n",
              "    </tr>\n",
              "    <tr>\n",
              "      <th>1</th>\n",
              "      <td>NaN</td>\n",
              "      <td>0.485721</td>\n",
              "      <td>0.248672</td>\n",
              "      <td>-0.372743</td>\n",
              "      <td>-0.797716</td>\n",
              "      <td>-2.706870</td>\n",
              "    </tr>\n",
              "    <tr>\n",
              "      <th>2</th>\n",
              "      <td>NaN</td>\n",
              "      <td>NaN</td>\n",
              "      <td>-0.171426</td>\n",
              "      <td>-0.203010</td>\n",
              "      <td>-0.248998</td>\n",
              "      <td>-1.867963</td>\n",
              "    </tr>\n",
              "    <tr>\n",
              "      <th>3</th>\n",
              "      <td>NaN</td>\n",
              "      <td>NaN</td>\n",
              "      <td>0.032130</td>\n",
              "      <td>0.232739</td>\n",
              "      <td>0.494904</td>\n",
              "      <td>4.030353</td>\n",
              "    </tr>\n",
              "    <tr>\n",
              "      <th>4</th>\n",
              "      <td>NaN</td>\n",
              "      <td>NaN</td>\n",
              "      <td>0.015125</td>\n",
              "      <td>0.016536</td>\n",
              "      <td>0.036772</td>\n",
              "      <td>1.508327</td>\n",
              "    </tr>\n",
              "    <tr>\n",
              "      <th>5</th>\n",
              "      <td>NaN</td>\n",
              "      <td>NaN</td>\n",
              "      <td>NaN</td>\n",
              "      <td>-0.016058</td>\n",
              "      <td>-0.066858</td>\n",
              "      <td>-2.566122</td>\n",
              "    </tr>\n",
              "    <tr>\n",
              "      <th>6</th>\n",
              "      <td>NaN</td>\n",
              "      <td>NaN</td>\n",
              "      <td>NaN</td>\n",
              "      <td>0.000251</td>\n",
              "      <td>-0.003260</td>\n",
              "      <td>-0.558344</td>\n",
              "    </tr>\n",
              "    <tr>\n",
              "      <th>7</th>\n",
              "      <td>NaN</td>\n",
              "      <td>NaN</td>\n",
              "      <td>NaN</td>\n",
              "      <td>NaN</td>\n",
              "      <td>0.003020</td>\n",
              "      <td>0.846003</td>\n",
              "    </tr>\n",
              "    <tr>\n",
              "      <th>8</th>\n",
              "      <td>NaN</td>\n",
              "      <td>NaN</td>\n",
              "      <td>NaN</td>\n",
              "      <td>NaN</td>\n",
              "      <td>0.000199</td>\n",
              "      <td>0.090988</td>\n",
              "    </tr>\n",
              "    <tr>\n",
              "      <th>9</th>\n",
              "      <td>NaN</td>\n",
              "      <td>NaN</td>\n",
              "      <td>NaN</td>\n",
              "      <td>NaN</td>\n",
              "      <td>NaN</td>\n",
              "      <td>-0.146058</td>\n",
              "    </tr>\n",
              "    <tr>\n",
              "      <th>10</th>\n",
              "      <td>NaN</td>\n",
              "      <td>NaN</td>\n",
              "      <td>NaN</td>\n",
              "      <td>NaN</td>\n",
              "      <td>NaN</td>\n",
              "      <td>-0.004363</td>\n",
              "    </tr>\n",
              "    <tr>\n",
              "      <th>11</th>\n",
              "      <td>NaN</td>\n",
              "      <td>NaN</td>\n",
              "      <td>NaN</td>\n",
              "      <td>NaN</td>\n",
              "      <td>NaN</td>\n",
              "      <td>0.012543</td>\n",
              "    </tr>\n",
              "    <tr>\n",
              "      <th>12</th>\n",
              "      <td>NaN</td>\n",
              "      <td>NaN</td>\n",
              "      <td>NaN</td>\n",
              "      <td>NaN</td>\n",
              "      <td>NaN</td>\n",
              "      <td>-0.000342</td>\n",
              "    </tr>\n",
              "    <tr>\n",
              "      <th>13</th>\n",
              "      <td>NaN</td>\n",
              "      <td>NaN</td>\n",
              "      <td>NaN</td>\n",
              "      <td>NaN</td>\n",
              "      <td>NaN</td>\n",
              "      <td>-0.000422</td>\n",
              "    </tr>\n",
              "    <tr>\n",
              "      <th>14</th>\n",
              "      <td>NaN</td>\n",
              "      <td>NaN</td>\n",
              "      <td>NaN</td>\n",
              "      <td>NaN</td>\n",
              "      <td>NaN</td>\n",
              "      <td>0.000030</td>\n",
              "    </tr>\n",
              "  </tbody>\n",
              "</table>\n",
              "</div>"
            ],
            "text/plain": [
              "          1         2         5         7         9         15\n",
              "0   1.084363  0.977839  1.362948  1.436835  1.481038  2.001350\n",
              "1        NaN  0.485721  0.248672 -0.372743 -0.797716 -2.706870\n",
              "2        NaN       NaN -0.171426 -0.203010 -0.248998 -1.867963\n",
              "3        NaN       NaN  0.032130  0.232739  0.494904  4.030353\n",
              "4        NaN       NaN  0.015125  0.016536  0.036772  1.508327\n",
              "5        NaN       NaN       NaN -0.016058 -0.066858 -2.566122\n",
              "6        NaN       NaN       NaN  0.000251 -0.003260 -0.558344\n",
              "7        NaN       NaN       NaN       NaN  0.003020  0.846003\n",
              "8        NaN       NaN       NaN       NaN  0.000199  0.090988\n",
              "9        NaN       NaN       NaN       NaN       NaN -0.146058\n",
              "10       NaN       NaN       NaN       NaN       NaN -0.004363\n",
              "11       NaN       NaN       NaN       NaN       NaN  0.012543\n",
              "12       NaN       NaN       NaN       NaN       NaN -0.000342\n",
              "13       NaN       NaN       NaN       NaN       NaN -0.000422\n",
              "14       NaN       NaN       NaN       NaN       NaN  0.000030"
            ]
          },
          "metadata": {
            "tags": []
          },
          "execution_count": 127
        }
      ]
    },
    {
      "cell_type": "markdown",
      "metadata": {
        "id": "m3stdXqsmGBQ"
      },
      "source": [
        "#Sixth: Ridge Regression"
      ]
    },
    {
      "cell_type": "code",
      "metadata": {
        "id": "6oNtmcHlzbRA"
      },
      "source": [
        "from sklearn.linear_model import Ridge\n",
        "def ridge_reg (X, t, power, alpha, i, X_test, t_test):\n",
        "  poly_features = PolynomialFeatures(degree=power, include_bias=False)\n",
        "  X_poly = poly_features.fit_transform(X)\n",
        "  ridge_reg = Ridge(alpha=alpha)\n",
        "  ridge_reg.fit(X_poly, t) #Fit the transformed features \n",
        "  y_ridge_pred = ridge_reg.predict(X_poly)  #Letting the model predict the y values for the transformed features to measure the error\n",
        "  rmse = np.sqrt(mean_squared_error(t,y_ridge_pred)) \n",
        "\n",
        "  #evaluate test data \n",
        "  X_ridge_test = poly_features.fit_transform(X_test) #Must apply the same transformations to train and test\n",
        "  y_ridge_eval= ridge_reg.predict(X_ridge_test)\n",
        "  rmse_test = np.sqrt(mean_squared_error(t_test,y_ridge_eval)) \n",
        "\n",
        "\n",
        "  #Plot \n",
        "  axs[i].scatter(X, t, s=10) \n",
        "  # sort the values of x before line plot\n",
        "  sort_axis = operator.itemgetter(0)\n",
        "  sorted_zip = sorted(zip(X,y_ridge_pred), key=sort_axis)\n",
        "  X_plot, y_ridge_pred_plot = zip(*sorted_zip)\n",
        "  axs[i].plot(X_plot, y_ridge_pred_plot, color='m')\n",
        "  axs[i].set_title('alpha= : %.3f'%alpha)\n",
        "  return ridge_reg.intercept_, ridge_reg.coef_.tolist()[0], rmse, rmse_test"
      ],
      "execution_count": null,
      "outputs": []
    },
    {
      "cell_type": "code",
      "metadata": {
        "id": "ZmNRDsdF0PmG",
        "colab": {
          "base_uri": "https://localhost:8080/",
          "height": 481
        },
        "outputId": "f0868012-57e9-4f09-a53c-ec823df5f77c"
      },
      "source": [
        "fig, axs = plt.subplots(2,3, figsize=(15, 6), facecolor='w', edgecolor='k')\n",
        "fig.subplots_adjust(hspace = .5, wspace=.001)\n",
        "\n",
        "axs = axs.ravel()\n",
        "\n",
        "m = 20\n",
        "X_test = 3*np.random.rand(m, 1)+1\n",
        "t_test = 0.5 * X_test**2 + X_test + 2 + np.random.randn(m, 1)\n",
        "\n",
        "coeff_ridge= {}\n",
        "rmse_ridge= {}\n",
        "rmse_ridge_test= {}\n",
        "power= 15\n",
        "alphas= [0,0.1,10,30, 1000, 5000]\n",
        "for i in range (len(alphas)):\n",
        "  alpha= alphas[i]\n",
        "  intercept_ridge,coeff_ridge[alpha],rmse_ridge[alpha],rmse_ridge_test[alpha]= ridge_reg (X, t, power,alpha, i, X_test, t_test)\n"
      ],
      "execution_count": null,
      "outputs": [
        {
          "output_type": "stream",
          "text": [
            "/usr/local/lib/python3.6/dist-packages/sklearn/linear_model/_ridge.py:148: LinAlgWarning: Ill-conditioned matrix (rcond=1.974e-17): result may not be accurate.\n",
            "  overwrite_a=True).T\n",
            "/usr/local/lib/python3.6/dist-packages/sklearn/linear_model/_ridge.py:148: LinAlgWarning: Ill-conditioned matrix (rcond=1.01815e-16): result may not be accurate.\n",
            "  overwrite_a=True).T\n"
          ],
          "name": "stderr"
        },
        {
          "output_type": "display_data",
          "data": {
            "image/png": "[encoded data removed]",
            "text/plain": [
              "<Figure size 1080x432 with 6 Axes>"
            ]
          },
          "metadata": {
            "tags": []
          }
        }
      ]
    },
    {
      "cell_type": "code",
      "metadata": {
        "id": "S_yYxLgn1hFp",
        "colab": {
          "base_uri": "https://localhost:8080/",
          "height": 123
        },
        "outputId": "1de6090f-f551-4e6d-ccb1-453976ccb703"
      },
      "source": [
        "rmse_ridge"
      ],
      "execution_count": null,
      "outputs": [
        {
          "output_type": "execute_result",
          "data": {
            "text/plain": [
              "{0: 0.9792354753787665,\n",
              " 0.1: 0.9833807992815923,\n",
              " 10: 1.0060525978025638,\n",
              " 30: 1.0312200687623887,\n",
              " 1000: 1.1801952083943081,\n",
              " 5000: 1.2281711684700058}"
            ]
          },
          "metadata": {
            "tags": []
          },
          "execution_count": 130
        }
      ]
    },
    {
      "cell_type": "code",
      "metadata": {
        "id": "ueiMNmKv2oor",
        "colab": {
          "base_uri": "https://localhost:8080/",
          "height": 497
        },
        "outputId": "9a0c0248-bdf4-41d4-bdaf-1cab599362ba"
      },
      "source": [
        "coeff_ridge_df= pd.DataFrame(dict([(k,pd.Series(v)) for k,v in coeff_ridge.items()]))\n",
        "coeff_ridge_df"
      ],
      "execution_count": null,
      "outputs": [
        {
          "output_type": "execute_result",
          "data": {
            "text/html": [
              "<div>\n",
              "<style scoped>\n",
              "    .dataframe tbody tr th:only-of-type {\n",
              "        vertical-align: middle;\n",
              "    }\n",
              "\n",
              "    .dataframe tbody tr th {\n",
              "        vertical-align: top;\n",
              "    }\n",
              "\n",
              "    .dataframe thead th {\n",
              "        text-align: right;\n",
              "    }\n",
              "</style>\n",
              "<table border=\"1\" class=\"dataframe\">\n",
              "  <thead>\n",
              "    <tr style=\"text-align: right;\">\n",
              "      <th></th>\n",
              "      <th>0.0</th>\n",
              "      <th>0.1</th>\n",
              "      <th>10.0</th>\n",
              "      <th>30.0</th>\n",
              "      <th>1000.0</th>\n",
              "      <th>5000.0</th>\n",
              "    </tr>\n",
              "  </thead>\n",
              "  <tbody>\n",
              "    <tr>\n",
              "      <th>0</th>\n",
              "      <td>2.001350</td>\n",
              "      <td>1.500204</td>\n",
              "      <td>0.666684</td>\n",
              "      <td>0.409309</td>\n",
              "      <td>0.038701</td>\n",
              "      <td>0.009467</td>\n",
              "    </tr>\n",
              "    <tr>\n",
              "      <th>1</th>\n",
              "      <td>-2.706870</td>\n",
              "      <td>-1.136219</td>\n",
              "      <td>-0.064580</td>\n",
              "      <td>-0.027154</td>\n",
              "      <td>0.001787</td>\n",
              "      <td>0.000884</td>\n",
              "    </tr>\n",
              "    <tr>\n",
              "      <th>2</th>\n",
              "      <td>-1.867962</td>\n",
              "      <td>-0.408739</td>\n",
              "      <td>0.292703</td>\n",
              "      <td>0.241261</td>\n",
              "      <td>0.042976</td>\n",
              "      <td>0.012111</td>\n",
              "    </tr>\n",
              "    <tr>\n",
              "      <th>3</th>\n",
              "      <td>4.030353</td>\n",
              "      <td>1.248314</td>\n",
              "      <td>-0.020995</td>\n",
              "      <td>-0.023172</td>\n",
              "      <td>0.004319</td>\n",
              "      <td>0.002203</td>\n",
              "    </tr>\n",
              "    <tr>\n",
              "      <th>4</th>\n",
              "      <td>1.508326</td>\n",
              "      <td>0.136513</td>\n",
              "      <td>0.080679</td>\n",
              "      <td>0.132447</td>\n",
              "      <td>0.049946</td>\n",
              "      <td>0.017199</td>\n",
              "    </tr>\n",
              "    <tr>\n",
              "      <th>5</th>\n",
              "      <td>-2.566122</td>\n",
              "      <td>-0.642819</td>\n",
              "      <td>-0.005011</td>\n",
              "      <td>-0.009873</td>\n",
              "      <td>0.007604</td>\n",
              "      <td>0.004253</td>\n",
              "    </tr>\n",
              "    <tr>\n",
              "      <th>6</th>\n",
              "      <td>-0.558343</td>\n",
              "      <td>0.039147</td>\n",
              "      <td>-0.054527</td>\n",
              "      <td>0.012866</td>\n",
              "      <td>0.038122</td>\n",
              "      <td>0.020451</td>\n",
              "    </tr>\n",
              "    <tr>\n",
              "      <th>7</th>\n",
              "      <td>0.846004</td>\n",
              "      <td>0.206412</td>\n",
              "      <td>0.041389</td>\n",
              "      <td>0.041538</td>\n",
              "      <td>0.008625</td>\n",
              "      <td>0.005478</td>\n",
              "    </tr>\n",
              "    <tr>\n",
              "      <th>8</th>\n",
              "      <td>0.090988</td>\n",
              "      <td>-0.044925</td>\n",
              "      <td>-0.010429</td>\n",
              "      <td>-0.055585</td>\n",
              "      <td>-0.010034</td>\n",
              "      <td>0.012110</td>\n",
              "    </tr>\n",
              "    <tr>\n",
              "      <th>9</th>\n",
              "      <td>-0.146058</td>\n",
              "      <td>-0.036511</td>\n",
              "      <td>-0.013442</td>\n",
              "      <td>-0.013139</td>\n",
              "      <td>-0.001878</td>\n",
              "      <td>-0.000052</td>\n",
              "    </tr>\n",
              "    <tr>\n",
              "      <th>10</th>\n",
              "      <td>-0.004363</td>\n",
              "      <td>0.012170</td>\n",
              "      <td>0.007137</td>\n",
              "      <td>0.017257</td>\n",
              "      <td>-0.001005</td>\n",
              "      <td>-0.007033</td>\n",
              "    </tr>\n",
              "    <tr>\n",
              "      <th>11</th>\n",
              "      <td>0.012543</td>\n",
              "      <td>0.003236</td>\n",
              "      <td>0.001580</td>\n",
              "      <td>0.001533</td>\n",
              "      <td>0.000074</td>\n",
              "      <td>-0.000208</td>\n",
              "    </tr>\n",
              "    <tr>\n",
              "      <th>12</th>\n",
              "      <td>-0.000342</td>\n",
              "      <td>-0.001350</td>\n",
              "      <td>-0.001015</td>\n",
              "      <td>-0.001999</td>\n",
              "      <td>0.000373</td>\n",
              "      <td>0.001025</td>\n",
              "    </tr>\n",
              "    <tr>\n",
              "      <th>13</th>\n",
              "      <td>-0.000422</td>\n",
              "      <td>-0.000112</td>\n",
              "      <td>-0.000064</td>\n",
              "      <td>-0.000062</td>\n",
              "      <td>0.000003</td>\n",
              "      <td>0.000016</td>\n",
              "    </tr>\n",
              "    <tr>\n",
              "      <th>14</th>\n",
              "      <td>0.000030</td>\n",
              "      <td>0.000054</td>\n",
              "      <td>0.000045</td>\n",
              "      <td>0.000081</td>\n",
              "      <td>-0.000022</td>\n",
              "      <td>-0.000047</td>\n",
              "    </tr>\n",
              "  </tbody>\n",
              "</table>\n",
              "</div>"
            ],
            "text/plain": [
              "      0.0       0.1       10.0      30.0      1000.0    5000.0\n",
              "0   2.001350  1.500204  0.666684  0.409309  0.038701  0.009467\n",
              "1  -2.706870 -1.136219 -0.064580 -0.027154  0.001787  0.000884\n",
              "2  -1.867962 -0.408739  0.292703  0.241261  0.042976  0.012111\n",
              "3   4.030353  1.248314 -0.020995 -0.023172  0.004319  0.002203\n",
              "4   1.508326  0.136513  0.080679  0.132447  0.049946  0.017199\n",
              "5  -2.566122 -0.642819 -0.005011 -0.009873  0.007604  0.004253\n",
              "6  -0.558343  0.039147 -0.054527  0.012866  0.038122  0.020451\n",
              "7   0.846004  0.206412  0.041389  0.041538  0.008625  0.005478\n",
              "8   0.090988 -0.044925 -0.010429 -0.055585 -0.010034  0.012110\n",
              "9  -0.146058 -0.036511 -0.013442 -0.013139 -0.001878 -0.000052\n",
              "10 -0.004363  0.012170  0.007137  0.017257 -0.001005 -0.007033\n",
              "11  0.012543  0.003236  0.001580  0.001533  0.000074 -0.000208\n",
              "12 -0.000342 -0.001350 -0.001015 -0.001999  0.000373  0.001025\n",
              "13 -0.000422 -0.000112 -0.000064 -0.000062  0.000003  0.000016\n",
              "14  0.000030  0.000054  0.000045  0.000081 -0.000022 -0.000047"
            ]
          },
          "metadata": {
            "tags": []
          },
          "execution_count": 131
        }
      ]
    },
    {
      "cell_type": "code",
      "metadata": {
        "id": "MljxTcTL4z9i",
        "colab": {
          "base_uri": "https://localhost:8080/",
          "height": 301
        },
        "outputId": "8d7521c6-520c-4ae1-9ebe-0e4741a94926"
      },
      "source": [
        "coeff_lin_df[15]"
      ],
      "execution_count": null,
      "outputs": [
        {
          "output_type": "execute_result",
          "data": {
            "text/plain": [
              "0     2.001350\n",
              "1    -2.706870\n",
              "2    -1.867963\n",
              "3     4.030353\n",
              "4     1.508327\n",
              "5    -2.566122\n",
              "6    -0.558344\n",
              "7     0.846003\n",
              "8     0.090988\n",
              "9    -0.146058\n",
              "10   -0.004363\n",
              "11    0.012543\n",
              "12   -0.000342\n",
              "13   -0.000422\n",
              "14    0.000030\n",
              "Name: 15, dtype: float64"
            ]
          },
          "metadata": {
            "tags": []
          },
          "execution_count": 132
        }
      ]
    },
    {
      "cell_type": "markdown",
      "metadata": {
        "id": "ib_rmGp9L_Ac"
      },
      "source": [
        "#Seventh: Lasso Regression"
      ]
    },
    {
      "cell_type": "markdown",
      "metadata": {
        "id": "yIgX7dB_j6DQ"
      },
      "source": [
        "#Task 2 [2 points]\n",
        "1. complete lasso_reg function to perform lasso regression and test it using the code in the below cell. [1 p]\n",
        "\n",
        "2. How do the coefficients of lasso and ridge regression compare or the same values of alpha? [0.25 p]\n",
        "\n",
        "3. How do the rmse values of lasso and ridge regression compare for the same values of alpha? [0.25 p]\n",
        "\n",
        "4. Explain how lasso coefficients are used as feature selectors. [0.5 p]\n",
        "\n",
        "as lasso uses L1 norm, it minimizes the sum of absolute values of the coefficients, so it tries to eliminate the coefficients that has a small effect (small values)."
      ]
    },
    {
      "cell_type": "code",
      "metadata": {
        "id": "uCM7I2XXlQhc"
      },
      "source": [
        "from sklearn.linear_model import Lasso\n",
        "def lasso_reg (X, t, power, alpha, i, X_test, t_test):\n",
        "  \n",
        "  #Your code here\n",
        "  poly_features = PolynomialFeatures(degree=power, include_bias=False)\n",
        "  X_poly = poly_features.fit_transform(X)\n",
        "  lasso_reg = Lasso(alpha=alpha)\n",
        "  lasso_reg.fit(X_poly, t) #Fit the transformed features \n",
        "  y_lasso_pred = lasso_reg.predict(X_poly)  #Letting the model predict the y values for the transformed features to measure the error\n",
        "  rmse = np.sqrt(mean_squared_error(t,y_lasso_pred)) \n",
        "\n",
        "  #evaluate test data \n",
        "  X_lasso_test = poly_features.fit_transform(X_test) #Must apply the same transformations to train and test\n",
        "  y_lasso_eval= lasso_reg.predict(X_lasso_test)\n",
        "  rmse_test = np.sqrt(mean_squared_error(t_test,y_lasso_eval)) \n",
        "\n",
        "\n",
        "  #Plot \n",
        "  axs[i].scatter(X, t, s=10);\n",
        "  # sort the values of x before line plot\n",
        "  sort_axis = operator.itemgetter(0)\n",
        "  sorted_zip = sorted(zip(X,y_lasso_pred), key=sort_axis)\n",
        "  X_plot, y_lasso_pred_plot = zip(*sorted_zip)\n",
        "  axs[i].plot(X_plot, y_lasso_pred_plot, color='m')\n",
        "  axs[i].set_title('alpha= : %.3f'%alpha)\n",
        "\n",
        "  return lasso_reg.intercept_, lasso_reg.coef_.tolist(), rmse, rmse_test\n"
      ],
      "execution_count": null,
      "outputs": []
    },
    {
      "cell_type": "code",
      "metadata": {
        "id": "G_TapRBONDpA",
        "colab": {
          "base_uri": "https://localhost:8080/",
          "height": 694
        },
        "outputId": "113608b5-f2be-4f86-ea7a-7245a93f311e"
      },
      "source": [
        "fig, axs = plt.subplots(2,3, figsize=(15, 6), facecolor='w', edgecolor='k')\n",
        "fig.subplots_adjust(hspace = .5, wspace=.001)\n",
        "\n",
        "axs = axs.ravel()\n",
        "\n",
        "m = 20\n",
        "X_test = 3*np.random.rand(m, 1)+1\n",
        "t_test = 0.5 * X_test**2 + X_test + 2 + np.random.randn(m, 1)\n",
        "\n",
        "coeff_lasso= {}\n",
        "rmse_lasso= {}\n",
        "rmse_lasso_test= {}\n",
        "power= 15\n",
        "alphas= [0,0.1,10,30, 1000, 5000]\n",
        "for i in range (len(alphas)):\n",
        "  alpha= alphas[i]\n",
        "  intercept_lasso,coeff_lasso[alpha],rmse_lasso[alpha],rmse_lasso_test[alpha]= lasso_reg (X, t, power,alpha, i, X_test, t_test)\n"
      ],
      "execution_count": null,
      "outputs": [
        {
          "output_type": "stream",
          "text": [
            "/usr/local/lib/python3.6/dist-packages/ipykernel_launcher.py:8: UserWarning: With alpha=0, this algorithm does not converge well. You are advised to use the LinearRegression estimator\n",
            "  \n",
            "/usr/local/lib/python3.6/dist-packages/sklearn/linear_model/_coordinate_descent.py:476: UserWarning: Coordinate descent with no regularization may lead to unexpected results and is discouraged.\n",
            "  positive)\n",
            "/usr/local/lib/python3.6/dist-packages/sklearn/linear_model/_coordinate_descent.py:476: ConvergenceWarning: Objective did not converge. You might want to increase the number of iterations. Duality gap: 49.001142690662235, tolerance: 0.05984441086907243\n",
            "  positive)\n",
            "/usr/local/lib/python3.6/dist-packages/sklearn/linear_model/_coordinate_descent.py:476: ConvergenceWarning: Objective did not converge. You might want to increase the number of iterations. Duality gap: 61.09170024801009, tolerance: 0.05984441086907243\n",
            "  positive)\n",
            "/usr/local/lib/python3.6/dist-packages/sklearn/linear_model/_coordinate_descent.py:476: ConvergenceWarning: Objective did not converge. You might want to increase the number of iterations. Duality gap: 101.05787442105269, tolerance: 0.05984441086907243\n",
            "  positive)\n",
            "/usr/local/lib/python3.6/dist-packages/sklearn/linear_model/_coordinate_descent.py:476: ConvergenceWarning: Objective did not converge. You might want to increase the number of iterations. Duality gap: 106.50116890288679, tolerance: 0.05984441086907243\n",
            "  positive)\n",
            "/usr/local/lib/python3.6/dist-packages/sklearn/linear_model/_coordinate_descent.py:476: ConvergenceWarning: Objective did not converge. You might want to increase the number of iterations. Duality gap: 51.010488391122394, tolerance: 0.05984441086907243\n",
            "  positive)\n",
            "/usr/local/lib/python3.6/dist-packages/sklearn/linear_model/_coordinate_descent.py:476: ConvergenceWarning: Objective did not converge. You might want to increase the number of iterations. Duality gap: 0.4343077029377014, tolerance: 0.05984441086907243\n",
            "  positive)\n"
          ],
          "name": "stderr"
        },
        {
          "output_type": "display_data",
          "data": {
            "image/png": "[encoded data removed]",
            "text/plain": [
              "<Figure size 1080x432 with 6 Axes>"
            ]
          },
          "metadata": {
            "tags": []
          }
        }
      ]
    },
    {
      "cell_type": "code",
      "metadata": {
        "id": "z-z-Z76nRawN",
        "colab": {
          "base_uri": "https://localhost:8080/",
          "height": 497
        },
        "outputId": "a1383aee-5141-4a03-809e-8706918b5d04"
      },
      "source": [
        "coeff_lasso_df= pd.DataFrame(dict([(k,pd.Series(v)) for k,v in coeff_lasso.items()]))\n",
        "coeff_lasso_df"
      ],
      "execution_count": null,
      "outputs": [
        {
          "output_type": "execute_result",
          "data": {
            "text/html": [
              "<div>\n",
              "<style scoped>\n",
              "    .dataframe tbody tr th:only-of-type {\n",
              "        vertical-align: middle;\n",
              "    }\n",
              "\n",
              "    .dataframe tbody tr th {\n",
              "        vertical-align: top;\n",
              "    }\n",
              "\n",
              "    .dataframe thead th {\n",
              "        text-align: right;\n",
              "    }\n",
              "</style>\n",
              "<table border=\"1\" class=\"dataframe\">\n",
              "  <thead>\n",
              "    <tr style=\"text-align: right;\">\n",
              "      <th></th>\n",
              "      <th>0.0</th>\n",
              "      <th>0.1</th>\n",
              "      <th>10.0</th>\n",
              "      <th>30.0</th>\n",
              "      <th>1000.0</th>\n",
              "      <th>5000.0</th>\n",
              "    </tr>\n",
              "  </thead>\n",
              "  <tbody>\n",
              "    <tr>\n",
              "      <th>0</th>\n",
              "      <td>1.361822e+00</td>\n",
              "      <td>9.399329e-01</td>\n",
              "      <td>0.000000e+00</td>\n",
              "      <td>0.000000e+00</td>\n",
              "      <td>0.000000</td>\n",
              "      <td>0.000000</td>\n",
              "    </tr>\n",
              "    <tr>\n",
              "      <th>1</th>\n",
              "      <td>-3.690730e-01</td>\n",
              "      <td>0.000000e+00</td>\n",
              "      <td>0.000000e+00</td>\n",
              "      <td>0.000000e+00</td>\n",
              "      <td>0.000000</td>\n",
              "      <td>0.000000</td>\n",
              "    </tr>\n",
              "    <tr>\n",
              "      <th>2</th>\n",
              "      <td>-1.188705e-01</td>\n",
              "      <td>5.192164e-03</td>\n",
              "      <td>0.000000e+00</td>\n",
              "      <td>0.000000e+00</td>\n",
              "      <td>0.000000</td>\n",
              "      <td>0.000000</td>\n",
              "    </tr>\n",
              "    <tr>\n",
              "      <th>3</th>\n",
              "      <td>2.225341e-01</td>\n",
              "      <td>6.142262e-02</td>\n",
              "      <td>0.000000e+00</td>\n",
              "      <td>0.000000e+00</td>\n",
              "      <td>0.000000</td>\n",
              "      <td>0.000000</td>\n",
              "    </tr>\n",
              "    <tr>\n",
              "      <th>4</th>\n",
              "      <td>-4.794152e-03</td>\n",
              "      <td>2.449775e-03</td>\n",
              "      <td>0.000000e+00</td>\n",
              "      <td>0.000000e+00</td>\n",
              "      <td>0.000000</td>\n",
              "      <td>0.000000</td>\n",
              "    </tr>\n",
              "    <tr>\n",
              "      <th>5</th>\n",
              "      <td>-8.253363e-03</td>\n",
              "      <td>9.624782e-03</td>\n",
              "      <td>0.000000e+00</td>\n",
              "      <td>0.000000e+00</td>\n",
              "      <td>0.000000</td>\n",
              "      <td>0.000000</td>\n",
              "    </tr>\n",
              "    <tr>\n",
              "      <th>6</th>\n",
              "      <td>1.321490e-03</td>\n",
              "      <td>-1.627691e-03</td>\n",
              "      <td>9.543867e-03</td>\n",
              "      <td>0.000000e+00</td>\n",
              "      <td>0.000000</td>\n",
              "      <td>0.000000</td>\n",
              "    </tr>\n",
              "    <tr>\n",
              "      <th>7</th>\n",
              "      <td>-1.031191e-03</td>\n",
              "      <td>-7.999033e-04</td>\n",
              "      <td>2.946227e-03</td>\n",
              "      <td>1.385331e-03</td>\n",
              "      <td>0.000000</td>\n",
              "      <td>0.000000</td>\n",
              "    </tr>\n",
              "    <tr>\n",
              "      <th>8</th>\n",
              "      <td>9.215339e-05</td>\n",
              "      <td>3.522729e-05</td>\n",
              "      <td>5.091828e-06</td>\n",
              "      <td>1.908852e-03</td>\n",
              "      <td>0.000000</td>\n",
              "      <td>0.000000</td>\n",
              "    </tr>\n",
              "    <tr>\n",
              "      <th>9</th>\n",
              "      <td>-4.382308e-05</td>\n",
              "      <td>-8.493096e-05</td>\n",
              "      <td>-8.528362e-05</td>\n",
              "      <td>2.513060e-04</td>\n",
              "      <td>0.000000</td>\n",
              "      <td>0.000000</td>\n",
              "    </tr>\n",
              "    <tr>\n",
              "      <th>10</th>\n",
              "      <td>7.557774e-07</td>\n",
              "      <td>1.403957e-05</td>\n",
              "      <td>-1.826349e-04</td>\n",
              "      <td>-1.775950e-04</td>\n",
              "      <td>0.000106</td>\n",
              "      <td>0.000000</td>\n",
              "    </tr>\n",
              "    <tr>\n",
              "      <th>11</th>\n",
              "      <td>2.297992e-06</td>\n",
              "      <td>-1.538917e-06</td>\n",
              "      <td>-1.475164e-05</td>\n",
              "      <td>-2.389794e-05</td>\n",
              "      <td>0.000100</td>\n",
              "      <td>0.000008</td>\n",
              "    </tr>\n",
              "    <tr>\n",
              "      <th>12</th>\n",
              "      <td>-4.107463e-07</td>\n",
              "      <td>5.102310e-07</td>\n",
              "      <td>2.665785e-07</td>\n",
              "      <td>-9.078800e-06</td>\n",
              "      <td>0.000009</td>\n",
              "      <td>0.000027</td>\n",
              "    </tr>\n",
              "    <tr>\n",
              "      <th>13</th>\n",
              "      <td>7.353905e-07</td>\n",
              "      <td>6.597235e-07</td>\n",
              "      <td>-6.890576e-07</td>\n",
              "      <td>-1.757114e-06</td>\n",
              "      <td>-0.000011</td>\n",
              "      <td>0.000000</td>\n",
              "    </tr>\n",
              "    <tr>\n",
              "      <th>14</th>\n",
              "      <td>-3.329539e-08</td>\n",
              "      <td>-3.616172e-08</td>\n",
              "      <td>9.737034e-07</td>\n",
              "      <td>7.515495e-07</td>\n",
              "      <td>-0.000002</td>\n",
              "      <td>-0.000003</td>\n",
              "    </tr>\n",
              "  </tbody>\n",
              "</table>\n",
              "</div>"
            ],
            "text/plain": [
              "          0.0           0.1           10.0          30.0      1000.0    5000.0\n",
              "0   1.361822e+00  9.399329e-01  0.000000e+00  0.000000e+00  0.000000  0.000000\n",
              "1  -3.690730e-01  0.000000e+00  0.000000e+00  0.000000e+00  0.000000  0.000000\n",
              "2  -1.188705e-01  5.192164e-03  0.000000e+00  0.000000e+00  0.000000  0.000000\n",
              "3   2.225341e-01  6.142262e-02  0.000000e+00  0.000000e+00  0.000000  0.000000\n",
              "4  -4.794152e-03  2.449775e-03  0.000000e+00  0.000000e+00  0.000000  0.000000\n",
              "5  -8.253363e-03  9.624782e-03  0.000000e+00  0.000000e+00  0.000000  0.000000\n",
              "6   1.321490e-03 -1.627691e-03  9.543867e-03  0.000000e+00  0.000000  0.000000\n",
              "7  -1.031191e-03 -7.999033e-04  2.946227e-03  1.385331e-03  0.000000  0.000000\n",
              "8   9.215339e-05  3.522729e-05  5.091828e-06  1.908852e-03  0.000000  0.000000\n",
              "9  -4.382308e-05 -8.493096e-05 -8.528362e-05  2.513060e-04  0.000000  0.000000\n",
              "10  7.557774e-07  1.403957e-05 -1.826349e-04 -1.775950e-04  0.000106  0.000000\n",
              "11  2.297992e-06 -1.538917e-06 -1.475164e-05 -2.389794e-05  0.000100  0.000008\n",
              "12 -4.107463e-07  5.102310e-07  2.665785e-07 -9.078800e-06  0.000009  0.000027\n",
              "13  7.353905e-07  6.597235e-07 -6.890576e-07 -1.757114e-06 -0.000011  0.000000\n",
              "14 -3.329539e-08 -3.616172e-08  9.737034e-07  7.515495e-07 -0.000002 -0.000003"
            ]
          },
          "metadata": {
            "tags": []
          },
          "execution_count": 135
        }
      ]
    },
    {
      "cell_type": "code",
      "metadata": {
        "id": "dqulOI5JSTcG",
        "colab": {
          "base_uri": "https://localhost:8080/",
          "height": 301
        },
        "outputId": "c887b115-fa06-4db9-c3d2-0939f30a7580"
      },
      "source": [
        "coeff_lin_df[15]"
      ],
      "execution_count": null,
      "outputs": [
        {
          "output_type": "execute_result",
          "data": {
            "text/plain": [
              "0     2.001350\n",
              "1    -2.706870\n",
              "2    -1.867963\n",
              "3     4.030353\n",
              "4     1.508327\n",
              "5    -2.566122\n",
              "6    -0.558344\n",
              "7     0.846003\n",
              "8     0.090988\n",
              "9    -0.146058\n",
              "10   -0.004363\n",
              "11    0.012543\n",
              "12   -0.000342\n",
              "13   -0.000422\n",
              "14    0.000030\n",
              "Name: 15, dtype: float64"
            ]
          },
          "metadata": {
            "tags": []
          },
          "execution_count": 136
        }
      ]
    },
    {
      "cell_type": "markdown",
      "metadata": {
        "id": "jTMPvEw9L8iG"
      },
      "source": [
        "#Task 3 [4 points]\n"
      ]
    },
    {
      "cell_type": "markdown",
      "metadata": {
        "id": "MrdUv_6aMJzF"
      },
      "source": [
        "\n",
        "1. Read the data from https://s3.us-west-2.amazonaws.com/public.gamelab.fun/dataset/position_salaries.csv into a dataframe. **[0.5 P]**\n",
        "\n",
        "2. Use the column \"level\" as your feature and \"salary\" as the label. **[0.5 p]** \n",
        "\n",
        "3. Split the data into train and test using sklearn train_test_split with test size= 0.2 **[1 P]**\n",
        "\n",
        "4. Fit a linear regression model, a 4th degree polynomial model and a 15th degree polynomial model to the data. **[1 P]** \n",
        "\n",
        "5. Plot the prediction results of each model and comment on their fitting (Overfitting, underfitting, best fitting) **[1 P]**"
      ]
    },
    {
      "cell_type": "code",
      "metadata": {
        "id": "VTa-LPMQkY6o",
        "colab": {
          "base_uri": "https://localhost:8080/",
          "height": 592
        },
        "outputId": "91816072-16b1-4af7-87da-dcf4bdd6f1e2"
      },
      "source": [
        "#Your code here\n",
        "df = pd.read_csv('position_salaries.csv')\n",
        "X = df['Level']\n",
        "t = df['Salary']\n",
        "\n",
        "from sklearn.model_selection import train_test_split\n",
        "from sklearn.linear_model import LinearRegression\n",
        "import numpy as np\n",
        "\n",
        "X_train, X_test, t_train, t_test = train_test_split(X,t, test_size=0.2)\n",
        "\n",
        "X_train_r = X_train.to_numpy().reshape(len(X_train),1)\n",
        "t_train_r = t_train.to_numpy().reshape(len(t_train),1)\n",
        "\n",
        "X_test_r = X_test.to_numpy().reshape(len(X_test),1)\n",
        "t_test_r = t_test.to_numpy().reshape(len(t_test),1)\n",
        "\n",
        "#Fit a linear regression model\n",
        "linear_reg = LinearRegression()\n",
        "linear_reg.fit(X_train_r, t_train_r)\n",
        "linear_reg.intercept_, linear_reg.coef_\n",
        "\n",
        "#Predict using linear regression model\n",
        "train_predicted = linear_reg.predict(X_train_r)\n",
        "test_predicted = linear_reg.predict(X_test_r)\n",
        "\n",
        "#Plot the predictions\n",
        "plt.plot(X_train_r, train_predicted, \"r-\")\n",
        "plt.plot(X_test_r, test_predicted, \"b.\")\n",
        "#plt.axis([0, 2, 0, 15]) #x axis range 0 to 2 and y axis range 0 to 15\n",
        "plt.show()\n"
      ],
      "execution_count": null,
      "outputs": [
        {
          "output_type": "display_data",
          "data": {
            "image/png": "[encoded data removed]",
            "text/plain": [
              "<Figure size 864x720 with 1 Axes>"
            ]
          },
          "metadata": {
            "tags": [],
            "needs_background": "light"
          }
        }
      ]
    },
    {
      "cell_type": "code",
      "metadata": {
        "id": "Y6Cgpn-Bm7C9"
      },
      "source": [
        "\n",
        "from sklearn.preprocessing import PolynomialFeatures\n",
        "poly_features = PolynomialFeatures(degree=4, include_bias=False)\n",
        "X_train_poly_4 = poly_features.fit_transform(X_train_r)\n",
        "X_test_poly_4 = poly_features.fit_transform(X_test_r)\n",
        "\n",
        "poly_features = PolynomialFeatures(degree=15, include_bias=False)\n",
        "X_train_poly_15 = poly_features.fit_transform(X_train_r)\n",
        "X_test_poly_15 = poly_features.fit_transform(X_test_r)\n",
        "\n",
        "#print('X_train= ', X_train_r[0])\n",
        "#print('X_train_poly_4[0]= ', X_train_poly_4[0])\n",
        "#print('X_train_poly_15[0]= ', X_train_poly_15[0])\n"
      ],
      "execution_count": null,
      "outputs": []
    },
    {
      "cell_type": "code",
      "metadata": {
        "id": "xJqOMsH1y6Sy",
        "colab": {
          "base_uri": "https://localhost:8080/",
          "height": 637
        },
        "outputId": "db0bc32e-7aba-46c3-92fb-ea02e4b02757"
      },
      "source": [
        "from sklearn.metrics import mean_squared_error\n",
        "import operator\n",
        "\n",
        "# Polynomial of degree 4 \n",
        "#training data \n",
        "lin_reg = LinearRegression()\n",
        "lin_reg.fit(X_train_poly_4, t_train_r) #Fit the transformed features \n",
        "y_poly_pred = lin_reg.predict(X_train_poly_4)  #Letting the model predict the y values for the transformed features to measure the error\n",
        "rmse = np.sqrt(mean_squared_error(t_train_r,y_poly_pred)) \n",
        "print(\"Intercept= \", lin_reg.intercept_,\"and coefficients = \" ,lin_reg.coef_)\n",
        "print(\"Root mean squared error= \", rmse)\n",
        "\n",
        "\n",
        "#Plot \n",
        "plt.scatter(X_train_r, t_train_r, s=10) \n",
        "# sort the values of x before line plot\n",
        "sort_axis = operator.itemgetter(0)\n",
        "sorted_zip = sorted(zip(X_train_r,y_poly_pred), key=sort_axis)\n",
        "X_plot, y_poly_pred_plot = zip(*sorted_zip)\n",
        "plt.plot(X_plot, y_poly_pred_plot, color='m')\n",
        "plt.show()"
      ],
      "execution_count": null,
      "outputs": [
        {
          "output_type": "stream",
          "text": [
            "Intercept=  [171224.2378806] and coefficients =  [[-197130.85825846   91486.69560607  -15201.78551949     884.31631692]]\n",
            "Root mean squared error=  14891.490729149673\n"
          ],
          "name": "stdout"
        },
        {
          "output_type": "display_data",
          "data": {
            "image/png": "[encoded data removed]",
            "text/plain": [
              "<Figure size 864x720 with 1 Axes>"
            ]
          },
          "metadata": {
            "tags": [],
            "needs_background": "light"
          }
        }
      ]
    },
    {
      "cell_type": "code",
      "metadata": {
        "id": "szVvbvNIGGLE",
        "colab": {
          "base_uri": "https://localhost:8080/",
          "height": 627
        },
        "outputId": "b9956108-5d41-4b9b-f111-642d8973b328"
      },
      "source": [
        "# Polynomial of degree 4 \n",
        "#test data \n",
        "lin_reg = LinearRegression()\n",
        "lin_reg.fit(X_test_poly_4, t_test_r) #Fit the transformed features \n",
        "y_poly_pred = lin_reg.predict(X_test_poly_4)  #Letting the model predict the y values for the transformed features to measure the error\n",
        "rmse = np.sqrt(mean_squared_error(t_test_r,y_poly_pred)) \n",
        "print(\"Intercept= \", lin_reg.intercept_,\"and coefficients = \" ,lin_reg.coef_)\n",
        "print(\"Root mean squared error= \", rmse)\n",
        "\n",
        "\n",
        "#Plot \n",
        "plt.scatter(X_test_r, t_test_r, s=10) \n",
        "# sort the values of x before line plot\n",
        "sort_axis = operator.itemgetter(0)\n",
        "sorted_zip = sorted(zip(X_test_r,y_poly_pred), key=sort_axis)\n",
        "X_plot, y_poly_pred_plot = zip(*sorted_zip)\n",
        "plt.plot(X_plot, y_poly_pred_plot, color='m')\n",
        "plt.show()"
      ],
      "execution_count": null,
      "outputs": [
        {
          "output_type": "stream",
          "text": [
            "Intercept=  [62498.79649772] and coefficients =  [[ 0.12668445  1.26684451  9.62801826 65.87591439]]\n",
            "Root mean squared error=  1.0289757937229989e-11\n"
          ],
          "name": "stdout"
        },
        {
          "output_type": "display_data",
          "data": {
            "image/png": "[encoded data removed]",
            "text/plain": [
              "<Figure size 864x720 with 1 Axes>"
            ]
          },
          "metadata": {
            "tags": [],
            "needs_background": "light"
          }
        }
      ]
    },
    {
      "cell_type": "code",
      "metadata": {
        "id": "I35OcCe40Q4D",
        "colab": {
          "base_uri": "https://localhost:8080/",
          "height": 691
        },
        "outputId": "c76d749f-9202-46a1-d65c-eed780a32009"
      },
      "source": [
        "# Polynomial of degree 15\n",
        "\n",
        "#training data \n",
        "lin_reg = LinearRegression()\n",
        "lin_reg.fit(X_train_poly_15, t_train_r) #Fit the transformed features \n",
        "y_poly_pred = lin_reg.predict(X_train_poly_15)  #Letting the model predict the y values for the transformed features to measure the error\n",
        "rmse = np.sqrt(mean_squared_error(t_train_r,y_poly_pred)) \n",
        "print(\"Intercept= \", lin_reg.intercept_,\"and coefficients = \" ,lin_reg.coef_)\n",
        "print(\"Root mean squared error= \", rmse)\n",
        "\n",
        "\n",
        "#Plot \n",
        "plt.scatter(X_train_r, t_train_r, s=10) \n",
        "# sort the values of x before line plot\n",
        "sort_axis = operator.itemgetter(0)\n",
        "sorted_zip = sorted(zip(X_train_r,y_poly_pred), key=sort_axis)\n",
        "X_plot, y_poly_pred_plot = zip(*sorted_zip)\n",
        "plt.plot(X_plot, y_poly_pred_plot, color='m')\n",
        "plt.show()"
      ],
      "execution_count": null,
      "outputs": [
        {
          "output_type": "stream",
          "text": [
            "Intercept=  [44892.61857605] and coefficients =  [[ 8.22559763e-01  2.41182208e+00  5.24596163e+00  1.00589922e+01\n",
            "   1.74302072e+01  2.66690663e+01  3.33652908e+01  2.71678717e+01\n",
            "  -9.45452260e-01 -2.65755590e+01  1.48340019e+01 -3.50280680e+00\n",
            "   4.23716868e-01 -2.58849596e-02  6.34356939e-04]]\n",
            "Root mean squared error=  0.013547923216660866\n"
          ],
          "name": "stdout"
        },
        {
          "output_type": "display_data",
          "data": {
            "image/png": "[encoded data removed]",
            "text/plain": [
              "<Figure size 864x720 with 1 Axes>"
            ]
          },
          "metadata": {
            "tags": [],
            "needs_background": "light"
          }
        }
      ]
    },
    {
      "cell_type": "code",
      "metadata": {
        "id": "zdEQ2R8mJFj3",
        "colab": {
          "base_uri": "https://localhost:8080/",
          "height": 681
        },
        "outputId": "ed8b71cf-5dfb-41c9-9f99-b0c262c118d2"
      },
      "source": [
        "# Polynomial of degree 15\n",
        "#test data \n",
        "lin_reg = LinearRegression()\n",
        "lin_reg.fit(X_test_poly_15, t_test_r) #Fit the transformed features \n",
        "y_poly_pred = lin_reg.predict(X_test_poly_15)  #Letting the model predict the y values for the transformed features to measure the error\n",
        "rmse = np.sqrt(mean_squared_error(t_test_r,y_poly_pred)) \n",
        "print(\"Intercept= \", lin_reg.intercept_,\"and coefficients = \" ,lin_reg.coef_)\n",
        "print(\"Root mean squared error= \", rmse)\n",
        "\n",
        "\n",
        "#Plot \n",
        "plt.scatter(X_test_r, t_test_r, s=10) \n",
        "# sort the values of x before line plot\n",
        "sort_axis = operator.itemgetter(0)\n",
        "sorted_zip = sorted(zip(X_test_r,y_poly_pred), key=sort_axis)\n",
        "X_plot, y_poly_pred_plot = zip(*sorted_zip)\n",
        "plt.plot(X_plot, y_poly_pred_plot, color='m')\n",
        "plt.show()"
      ],
      "execution_count": null,
      "outputs": [
        {
          "output_type": "stream",
          "text": [
            "Intercept=  [79837.45346244] and coefficients =  [[6.18572280e-19 6.18544133e-18 4.70093541e-17 3.21642949e-16\n",
            "  2.08820499e-15 1.31626192e-14 8.15092717e-14 4.99189857e-13\n",
            "  3.03567605e-12 1.83762039e-11 1.10905814e-10 6.68029247e-10\n",
            "  4.01855293e-09 2.41528274e-08 1.45083004e-07]]\n",
            "Root mean squared error=  2.300859821966427e-11\n"
          ],
          "name": "stdout"
        },
        {
          "output_type": "display_data",
          "data": {
            "image/png": "[encoded data removed]",
            "text/plain": [
              "<Figure size 864x720 with 1 Axes>"
            ]
          },
          "metadata": {
            "tags": [],
            "needs_background": "light"
          }
        }
      ]
    },
    {
      "cell_type": "code",
      "metadata": {
        "id": "Wer6vHYkzXSc"
      },
      "source": [
        ""
      ],
      "execution_count": null,
      "outputs": []
    },
    {
      "cell_type": "markdown",
      "metadata": {
        "id": "weCIqt3bkbah"
      },
      "source": [
        "#Task 4 [2 points]"
      ]
    },
    {
      "cell_type": "markdown",
      "metadata": {
        "id": "Mzn-6KOzkeXI"
      },
      "source": [
        "1. Read the attached admission data. **[0.25 P]**\n",
        "2. Split the data into features and label. **[0.25 P]**\n",
        "3. Split the data into train and test with test size= 0.2 **[0.25 P]**\n",
        "4. Standardize the data (X_train and X_test) **[0.5 P]**\n",
        "5. Fit a linear regression model. **[ 0.5 P]**\n",
        "6. Print the mean squared error value. **[0.25 P]**\n",
        "\n"
      ]
    },
    {
      "cell_type": "code",
      "metadata": {
        "id": "kscBr0rQKXKh"
      },
      "source": [
        "import pandas as pd\n",
        "df = pd.read_csv('Admission_Predict.csv')\n"
      ],
      "execution_count": null,
      "outputs": []
    },
    {
      "cell_type": "markdown",
      "metadata": {
        "id": "DaiYdYwZQq-0"
      },
      "source": [
        "#Bonus [0.25 P]"
      ]
    },
    {
      "cell_type": "markdown",
      "metadata": {
        "id": "gICSiMAdQwUX"
      },
      "source": [
        "**Which of the following statements is true about outliers in Linear regression and why?**\n",
        "\n",
        "A) Linear regression is sensitive to outliers\n",
        "\n",
        "B) Linear regression is not sensitive to outliers"
      ]
    }
  ]
}