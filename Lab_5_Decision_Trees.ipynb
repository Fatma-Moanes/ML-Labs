{
  "nbformat": 4,
  "nbformat_minor": 0,
  "metadata": {
    "colab": {
      "name": "Lab 5 - Decision Trees.ipynb",
      "provenance": [],
      "collapsed_sections": [
        "NPpBYbohZahG",
        "FXNP_SjRZah8",
        "sTU_40txZaiA",
        "4mvofbuTZaiD",
        "3QxYp5PzZaiM",
        "sr7KLqdWZaiV",
        "cdl1AO03ZajB"
      ],
      "toc_visible": true
    },
    "kernelspec": {
      "display_name": "Python 3",
      "language": "python",
      "name": "python3"
    },
    "language_info": {
      "codemirror_mode": {
        "name": "ipython",
        "version": 3
      },
      "file_extension": ".py",
      "mimetype": "text/x-python",
      "name": "python",
      "nbconvert_exporter": "python",
      "pygments_lexer": "ipython3",
      "version": "3.8.5"
    },
    "latex_envs": {
      "LaTeX_envs_menu_present": true,
      "autoclose": false,
      "autocomplete": true,
      "bibliofile": "biblio.bib",
      "cite_by": "apalike",
      "current_citInitial": 1,
      "eqLabelWithNumbers": true,
      "eqNumInitial": 1,
      "hotkeys": {
        "equation": "Ctrl-E",
        "itemize": "Ctrl-I"
      },
      "labels_anchors": false,
      "latex_user_defs": false,
      "report_style_numbering": false,
      "user_envs_cfg": false
    }
  },
  "cells": [
    {
      "cell_type": "markdown",
      "metadata": {
        "id": "SflHIEqKZahE"
      },
      "source": [
        "<h1 align=\"center\">Zewail City of Science and Technology</h1>\n",
        "<h2 align=\"center\">CIE 417 (Fall 2020)</h2>\n",
        "<h2 align=\"center\">Lab 5: Decision Trees </h2>\n",
        "<h3 align=\"center\">Eng. Ahmed Wael</h3>"
      ]
    },
    {
      "cell_type": "markdown",
      "metadata": {
        "id": "NPpBYbohZahG"
      },
      "source": [
        "## Import the needed libraries"
      ]
    },
    {
      "cell_type": "code",
      "metadata": {
        "id": "RIQmcJWKZahG"
      },
      "source": [
        "import numpy as np\n",
        "from collections import Counter\n",
        "from scipy import stats\n",
        "from math import log2, sqrt\n",
        "import pandas as pd\n",
        "from sklearn.model_selection import train_test_split\n",
        "from sklearn.preprocessing import LabelEncoder\n",
        "from sklearn.tree import DecisionTreeClassifier\n",
        "from scipy import stats\n",
        "import seaborn as sns\n",
        "from sklearn import metrics\n",
        "from sklearn import tree\n",
        "from sklearn import preprocessing\n",
        "import matplotlib.pyplot as plt\n",
        "import six\n",
        "\n",
        "from sklearn.tree import export_graphviz\n",
        "from six import StringIO  \n",
        "from IPython.display import Image  \n",
        "import pydotplus\n",
        "from tqdm.notebook import tqdm_notebook as tqdm\n",
        "from sklearn.model_selection import GridSearchCV"
      ],
      "execution_count": 1,
      "outputs": []
    },
    {
      "cell_type": "markdown",
      "metadata": {
        "id": "MJaOK2MDZahN"
      },
      "source": [
        "# Exploring the dataset"
      ]
    },
    {
      "cell_type": "markdown",
      "metadata": {
        "id": "sw7HRQwoZahN"
      },
      "source": [
        "## We are going to use a very famous dataset called [Adult Dataset](https://archive.ics.uci.edu/ml/datasets/adult)\n"
      ]
    },
    {
      "cell_type": "markdown",
      "metadata": {
        "id": "UC0xkm7BZahO"
      },
      "source": [
        "The objective of this dataset is to predict whether income exceeds 50,000 dollars per year based on census data. \n",
        "So, we will use the decision tree algorithm to predict if an individual earns more than $50K annually and is therefore eligible for the new credit card.\n"
      ]
    },
    {
      "cell_type": "markdown",
      "metadata": {
        "id": "dObphtdMZahO"
      },
      "source": [
        "### Dataset attributes \n",
        "\n",
        "1. age : continuous variable\n",
        "2. state_sample\t: continuous variable\n",
        "3. education_num : continuous variable\n",
        "4. capital_gain : continuous variable\n",
        "5. capital_loss : continuous variable\n",
        "6. hours_per_week : continuous variable\n",
        "7. workclass : categorical variable\n",
        "8. education : categorical variable\n",
        "9. marital_status : categorical variable\n",
        "10. occupation : categorical variable\n",
        "11. relationship\t: categorical variable\n",
        "12. c1\t: categorical variable\n",
        "13. c2\t: categorical variable\n",
        "14. c3 : categorical variable"
      ]
    },
    {
      "cell_type": "markdown",
      "metadata": {
        "id": "ZK8ufVkbZahP"
      },
      "source": [
        "### Load the dataset"
      ]
    },
    {
      "cell_type": "code",
      "metadata": {
        "id": "PPf3gf--ZahR",
        "outputId": "4f8e3e42-2a43-4feb-8c02-89008258fedf"
      },
      "source": [
        "data = pd.read_csv(\"adult_data.csv\")\n",
        "data.head()"
      ],
      "execution_count": null,
      "outputs": [
        {
          "data": {
            "text/html": [
              "<div>\n",
              "<style scoped>\n",
              "    .dataframe tbody tr th:only-of-type {\n",
              "        vertical-align: middle;\n",
              "    }\n",
              "\n",
              "    .dataframe tbody tr th {\n",
              "        vertical-align: top;\n",
              "    }\n",
              "\n",
              "    .dataframe thead th {\n",
              "        text-align: right;\n",
              "    }\n",
              "</style>\n",
              "<table border=\"1\" class=\"dataframe\">\n",
              "  <thead>\n",
              "    <tr style=\"text-align: right;\">\n",
              "      <th></th>\n",
              "      <th>age</th>\n",
              "      <th>workclass</th>\n",
              "      <th>state_sample</th>\n",
              "      <th>education</th>\n",
              "      <th>education_num</th>\n",
              "      <th>marital_status</th>\n",
              "      <th>occupation</th>\n",
              "      <th>relationship</th>\n",
              "      <th>c1</th>\n",
              "      <th>c2</th>\n",
              "      <th>capital_gain</th>\n",
              "      <th>capital_loss</th>\n",
              "      <th>hours_per_week</th>\n",
              "      <th>c3</th>\n",
              "      <th>eligible</th>\n",
              "    </tr>\n",
              "  </thead>\n",
              "  <tbody>\n",
              "    <tr>\n",
              "      <th>0</th>\n",
              "      <td>39</td>\n",
              "      <td>State-gov</td>\n",
              "      <td>77516</td>\n",
              "      <td>Bachelors</td>\n",
              "      <td>13</td>\n",
              "      <td>Never-married</td>\n",
              "      <td>Adm-clerical</td>\n",
              "      <td>Not-in-family</td>\n",
              "      <td>c14</td>\n",
              "      <td>c21</td>\n",
              "      <td>2174</td>\n",
              "      <td>0</td>\n",
              "      <td>40</td>\n",
              "      <td>c337</td>\n",
              "      <td>0</td>\n",
              "    </tr>\n",
              "    <tr>\n",
              "      <th>1</th>\n",
              "      <td>50</td>\n",
              "      <td>Self-emp-not-inc</td>\n",
              "      <td>83311</td>\n",
              "      <td>Bachelors</td>\n",
              "      <td>13</td>\n",
              "      <td>Married-civ-spouse</td>\n",
              "      <td>Exec-managerial</td>\n",
              "      <td>Husband</td>\n",
              "      <td>c14</td>\n",
              "      <td>c21</td>\n",
              "      <td>0</td>\n",
              "      <td>0</td>\n",
              "      <td>13</td>\n",
              "      <td>c337</td>\n",
              "      <td>0</td>\n",
              "    </tr>\n",
              "    <tr>\n",
              "      <th>2</th>\n",
              "      <td>38</td>\n",
              "      <td>Private</td>\n",
              "      <td>215646</td>\n",
              "      <td>HS-grad</td>\n",
              "      <td>9</td>\n",
              "      <td>Divorced</td>\n",
              "      <td>Handlers-cleaners</td>\n",
              "      <td>Not-in-family</td>\n",
              "      <td>c14</td>\n",
              "      <td>c21</td>\n",
              "      <td>0</td>\n",
              "      <td>0</td>\n",
              "      <td>40</td>\n",
              "      <td>c337</td>\n",
              "      <td>0</td>\n",
              "    </tr>\n",
              "    <tr>\n",
              "      <th>3</th>\n",
              "      <td>53</td>\n",
              "      <td>Private</td>\n",
              "      <td>234721</td>\n",
              "      <td>11th</td>\n",
              "      <td>7</td>\n",
              "      <td>Married-civ-spouse</td>\n",
              "      <td>Handlers-cleaners</td>\n",
              "      <td>Husband</td>\n",
              "      <td>c12</td>\n",
              "      <td>c21</td>\n",
              "      <td>0</td>\n",
              "      <td>0</td>\n",
              "      <td>40</td>\n",
              "      <td>c337</td>\n",
              "      <td>0</td>\n",
              "    </tr>\n",
              "    <tr>\n",
              "      <th>4</th>\n",
              "      <td>28</td>\n",
              "      <td>Private</td>\n",
              "      <td>338409</td>\n",
              "      <td>Bachelors</td>\n",
              "      <td>13</td>\n",
              "      <td>Married-civ-spouse</td>\n",
              "      <td>Prof-specialty</td>\n",
              "      <td>Wife</td>\n",
              "      <td>c12</td>\n",
              "      <td>c20</td>\n",
              "      <td>0</td>\n",
              "      <td>0</td>\n",
              "      <td>40</td>\n",
              "      <td>c34</td>\n",
              "      <td>0</td>\n",
              "    </tr>\n",
              "  </tbody>\n",
              "</table>\n",
              "</div>"
            ],
            "text/plain": [
              "   age          workclass  state_sample   education  education_num  \\\n",
              "0   39          State-gov         77516   Bachelors             13   \n",
              "1   50   Self-emp-not-inc         83311   Bachelors             13   \n",
              "2   38            Private        215646     HS-grad              9   \n",
              "3   53            Private        234721        11th              7   \n",
              "4   28            Private        338409   Bachelors             13   \n",
              "\n",
              "        marital_status          occupation    relationship   c1   c2  \\\n",
              "0        Never-married        Adm-clerical   Not-in-family  c14  c21   \n",
              "1   Married-civ-spouse     Exec-managerial         Husband  c14  c21   \n",
              "2             Divorced   Handlers-cleaners   Not-in-family  c14  c21   \n",
              "3   Married-civ-spouse   Handlers-cleaners         Husband  c12  c21   \n",
              "4   Married-civ-spouse      Prof-specialty            Wife  c12  c20   \n",
              "\n",
              "   capital_gain  capital_loss  hours_per_week    c3  eligible  \n",
              "0          2174             0              40  c337         0  \n",
              "1             0             0              13  c337         0  \n",
              "2             0             0              40  c337         0  \n",
              "3             0             0              40  c337         0  \n",
              "4             0             0              40   c34         0  "
            ]
          },
          "execution_count": 4,
          "metadata": {},
          "output_type": "execute_result"
        }
      ]
    },
    {
      "cell_type": "markdown",
      "metadata": {
        "id": "OwjQong-ZahV"
      },
      "source": [
        "### Describe the dataset"
      ]
    },
    {
      "cell_type": "code",
      "metadata": {
        "id": "nQ58WaTZZahW",
        "outputId": "b1f9c0d2-ca5d-41f4-a8f5-6a5c48b13926"
      },
      "source": [
        "data.describe()"
      ],
      "execution_count": null,
      "outputs": [
        {
          "data": {
            "text/html": [
              "<div>\n",
              "<style scoped>\n",
              "    .dataframe tbody tr th:only-of-type {\n",
              "        vertical-align: middle;\n",
              "    }\n",
              "\n",
              "    .dataframe tbody tr th {\n",
              "        vertical-align: top;\n",
              "    }\n",
              "\n",
              "    .dataframe thead th {\n",
              "        text-align: right;\n",
              "    }\n",
              "</style>\n",
              "<table border=\"1\" class=\"dataframe\">\n",
              "  <thead>\n",
              "    <tr style=\"text-align: right;\">\n",
              "      <th></th>\n",
              "      <th>age</th>\n",
              "      <th>state_sample</th>\n",
              "      <th>education_num</th>\n",
              "      <th>capital_gain</th>\n",
              "      <th>capital_loss</th>\n",
              "      <th>hours_per_week</th>\n",
              "      <th>eligible</th>\n",
              "    </tr>\n",
              "  </thead>\n",
              "  <tbody>\n",
              "    <tr>\n",
              "      <th>count</th>\n",
              "      <td>30162.000000</td>\n",
              "      <td>3.016200e+04</td>\n",
              "      <td>30162.000000</td>\n",
              "      <td>30162.000000</td>\n",
              "      <td>30162.000000</td>\n",
              "      <td>30162.000000</td>\n",
              "      <td>30162.000000</td>\n",
              "    </tr>\n",
              "    <tr>\n",
              "      <th>mean</th>\n",
              "      <td>38.437902</td>\n",
              "      <td>1.897938e+05</td>\n",
              "      <td>10.121312</td>\n",
              "      <td>1092.007858</td>\n",
              "      <td>88.372489</td>\n",
              "      <td>40.931238</td>\n",
              "      <td>0.248922</td>\n",
              "    </tr>\n",
              "    <tr>\n",
              "      <th>std</th>\n",
              "      <td>13.134665</td>\n",
              "      <td>1.056530e+05</td>\n",
              "      <td>2.549995</td>\n",
              "      <td>7406.346497</td>\n",
              "      <td>404.298370</td>\n",
              "      <td>11.979984</td>\n",
              "      <td>0.432396</td>\n",
              "    </tr>\n",
              "    <tr>\n",
              "      <th>min</th>\n",
              "      <td>17.000000</td>\n",
              "      <td>1.376900e+04</td>\n",
              "      <td>1.000000</td>\n",
              "      <td>0.000000</td>\n",
              "      <td>0.000000</td>\n",
              "      <td>1.000000</td>\n",
              "      <td>0.000000</td>\n",
              "    </tr>\n",
              "    <tr>\n",
              "      <th>25%</th>\n",
              "      <td>28.000000</td>\n",
              "      <td>1.176272e+05</td>\n",
              "      <td>9.000000</td>\n",
              "      <td>0.000000</td>\n",
              "      <td>0.000000</td>\n",
              "      <td>40.000000</td>\n",
              "      <td>0.000000</td>\n",
              "    </tr>\n",
              "    <tr>\n",
              "      <th>50%</th>\n",
              "      <td>37.000000</td>\n",
              "      <td>1.784250e+05</td>\n",
              "      <td>10.000000</td>\n",
              "      <td>0.000000</td>\n",
              "      <td>0.000000</td>\n",
              "      <td>40.000000</td>\n",
              "      <td>0.000000</td>\n",
              "    </tr>\n",
              "    <tr>\n",
              "      <th>75%</th>\n",
              "      <td>47.000000</td>\n",
              "      <td>2.376285e+05</td>\n",
              "      <td>13.000000</td>\n",
              "      <td>0.000000</td>\n",
              "      <td>0.000000</td>\n",
              "      <td>45.000000</td>\n",
              "      <td>0.000000</td>\n",
              "    </tr>\n",
              "    <tr>\n",
              "      <th>max</th>\n",
              "      <td>90.000000</td>\n",
              "      <td>1.484705e+06</td>\n",
              "      <td>16.000000</td>\n",
              "      <td>99999.000000</td>\n",
              "      <td>4356.000000</td>\n",
              "      <td>99.000000</td>\n",
              "      <td>1.000000</td>\n",
              "    </tr>\n",
              "  </tbody>\n",
              "</table>\n",
              "</div>"
            ],
            "text/plain": [
              "                age  state_sample  education_num  capital_gain  capital_loss  \\\n",
              "count  30162.000000  3.016200e+04   30162.000000  30162.000000  30162.000000   \n",
              "mean      38.437902  1.897938e+05      10.121312   1092.007858     88.372489   \n",
              "std       13.134665  1.056530e+05       2.549995   7406.346497    404.298370   \n",
              "min       17.000000  1.376900e+04       1.000000      0.000000      0.000000   \n",
              "25%       28.000000  1.176272e+05       9.000000      0.000000      0.000000   \n",
              "50%       37.000000  1.784250e+05      10.000000      0.000000      0.000000   \n",
              "75%       47.000000  2.376285e+05      13.000000      0.000000      0.000000   \n",
              "max       90.000000  1.484705e+06      16.000000  99999.000000   4356.000000   \n",
              "\n",
              "       hours_per_week      eligible  \n",
              "count    30162.000000  30162.000000  \n",
              "mean        40.931238      0.248922  \n",
              "std         11.979984      0.432396  \n",
              "min          1.000000      0.000000  \n",
              "25%         40.000000      0.000000  \n",
              "50%         40.000000      0.000000  \n",
              "75%         45.000000      0.000000  \n",
              "max         99.000000      1.000000  "
            ]
          },
          "execution_count": 5,
          "metadata": {},
          "output_type": "execute_result"
        }
      ]
    },
    {
      "cell_type": "code",
      "metadata": {
        "id": "xW6Qd4hLZahb",
        "outputId": "b1225e0f-ab29-42fc-d040-cfb2735d40d8"
      },
      "source": [
        "print(f'dataset shape is {data.shape}')"
      ],
      "execution_count": null,
      "outputs": [
        {
          "name": "stdout",
          "output_type": "stream",
          "text": [
            "dataset shape is (30162, 15)\n"
          ]
        }
      ]
    },
    {
      "cell_type": "markdown",
      "metadata": {
        "id": "XEnBDMJqZahi"
      },
      "source": [
        "### Which ones are categorical and which are numerical?"
      ]
    },
    {
      "cell_type": "code",
      "metadata": {
        "id": "4PVquIb5Zahi",
        "outputId": "8e1898dd-bd14-476f-fc72-a2abe73043a8"
      },
      "source": [
        "data.info()"
      ],
      "execution_count": null,
      "outputs": [
        {
          "name": "stdout",
          "output_type": "stream",
          "text": [
            "<class 'pandas.core.frame.DataFrame'>\n",
            "RangeIndex: 30162 entries, 0 to 30161\n",
            "Data columns (total 15 columns):\n",
            " #   Column          Non-Null Count  Dtype \n",
            "---  ------          --------------  ----- \n",
            " 0   age             30162 non-null  int64 \n",
            " 1   workclass       30162 non-null  object\n",
            " 2   state_sample    30162 non-null  int64 \n",
            " 3   education       30162 non-null  object\n",
            " 4   education_num   30162 non-null  int64 \n",
            " 5   marital_status  30162 non-null  object\n",
            " 6   occupation      30162 non-null  object\n",
            " 7   relationship    30162 non-null  object\n",
            " 8   c1              30162 non-null  object\n",
            " 9   c2              30162 non-null  object\n",
            " 10  capital_gain    30162 non-null  int64 \n",
            " 11  capital_loss    30162 non-null  int64 \n",
            " 12  hours_per_week  30162 non-null  int64 \n",
            " 13  c3              30162 non-null  object\n",
            " 14  eligible        30162 non-null  int64 \n",
            "dtypes: int64(7), object(8)\n",
            "memory usage: 3.5+ MB\n"
          ]
        }
      ]
    },
    {
      "cell_type": "markdown",
      "metadata": {
        "id": "8fq7BGanZahl"
      },
      "source": [
        "## Data Exploration"
      ]
    },
    {
      "cell_type": "code",
      "metadata": {
        "id": "30h0z3D_Zahm",
        "scrolled": true,
        "outputId": "9dc3cc23-0baa-4fe5-b295-0694d6278a9e"
      },
      "source": [
        "## Is the dataset balanced?\n",
        "\n",
        "sns.countplot(x='eligible',data=data)"
      ],
      "execution_count": null,
      "outputs": [
        {
          "data": {
            "text/plain": [
              "<AxesSubplot:xlabel='eligible', ylabel='count'>"
            ]
          },
          "execution_count": 8,
          "metadata": {},
          "output_type": "execute_result"
        },
        {
          "data": {
            "image/png": "[encoded data removed]",
            "text/plain": [
              "<Figure size 432x288 with 1 Axes>"
            ]
          },
          "metadata": {
            "needs_background": "light"
          },
          "output_type": "display_data"
        }
      ]
    },
    {
      "cell_type": "code",
      "metadata": {
        "id": "kxRk3vB3Zahr"
      },
      "source": [
        "\n",
        "categorical = ['workclass', 'education', 'marital_status', 'occupation', \n",
        "                   'relationship', 'c1', 'c2', 'c3']\n",
        "numerical = ['age', 'education_num','capital_gain', 'capital_loss',\n",
        "                'hours_per_week']\n",
        " \n",
        "X = pd.concat([data[categorical], data[numerical]], axis=1) ## Just sort them, no need for encoding\n",
        "y = data['eligible']\n",
        "X_train , X_test , y_train , y_test = train_test_split(X,y,test_size = 0.2 , random_state = 10)\n"
      ],
      "execution_count": null,
      "outputs": []
    },
    {
      "cell_type": "markdown",
      "metadata": {
        "id": "kRnr-2m7Zahu"
      },
      "source": [
        "# What is Entropy ?"
      ]
    },
    {
      "cell_type": "markdown",
      "metadata": {
        "id": "BZrjq9miZahu"
      },
      "source": [
        "<img src=\"https://i.ibb.co/x88jGKC/Entropy-Versus-Probability.png\">\n",
        "<br/> \n",
        "<br/> \n",
        "source: http://matlabdatamining.blogspot.com/2006/11/introduction-to-entropy.html"
      ]
    },
    {
      "cell_type": "markdown",
      "metadata": {
        "id": "7oNi2KuJZahv"
      },
      "source": [
        "$$Entropy\\ H(\\pi) = -\\sum \\pi log_2(\\pi)$$"
      ]
    },
    {
      "cell_type": "markdown",
      "metadata": {
        "id": "7e_A6GBe11nA"
      },
      "source": [
        "## Entropy Implementation "
      ]
    },
    {
      "cell_type": "code",
      "metadata": {
        "id": "KtJ5JBp4Zahw"
      },
      "source": [
        "def entropy(class_y):\n",
        "    \"\"\" \n",
        "    Input: \n",
        "        - class_y: list of class labels (0's and 1's)\n",
        "    \n",
        "    Output: \n",
        "        - The entropy\n",
        "        \n",
        "    Compute the entropy for a list of classes\n",
        "    \"\"\"\n",
        "    \n",
        "    if len(class_y) <=1: ## Handling if there is only 1 or 0 labels    (labels are the possible values for the Random Variable) \n",
        "        return 0\n",
        "    \n",
        "    total_count = np.bincount(class_y) # count (now total_count[0] has the count of 0's and total_count[1] has the count of 1's)\n",
        "    probabilities = total_count[np.nonzero(total_count)] / len(class_y) # Find the probabilities\n",
        "    if len(probabilities) <= 1 : ## Handling if the length of the probabilities is less than or equal to 1   (will this ever happen?!!)\n",
        "        return 0\n",
        "\n",
        "    return - np.sum(probabilities * np.log(probabilities)) / np.log(len(probabilities) ) ## Entropy equation"
      ],
      "execution_count": null,
      "outputs": []
    },
    {
      "cell_type": "code",
      "metadata": {
        "id": "NeTa1OXMOb-N"
      },
      "source": [
        ""
      ],
      "execution_count": null,
      "outputs": []
    },
    {
      "cell_type": "markdown",
      "metadata": {
        "id": "AKRKcUO2Zahz"
      },
      "source": [
        "# Information Gain"
      ]
    },
    {
      "cell_type": "markdown",
      "metadata": {
        "id": "znSgzwaHZahz"
      },
      "source": [
        "$$Conditional\\ Entropy\\ H(Y|X)= -\\sum p(Y=y, X=x )\\log\\frac{p(Y=y, X=x )}{p(X=x)}$$\n",
        "\n",
        "$$Information\\ Gain\\ IG(Y|X)= H(Y) - H(Y|X)$$"
      ]
    },
    {
      "cell_type": "code",
      "metadata": {
        "id": "-GyKZeFQZahz"
      },
      "source": [
        "def information_gain(previous_y, current_y):\n",
        "    \"\"\"\n",
        "    Inputs:\n",
        "        - previous_y : the distribution of original labels (0's and 1's) ---->  [0,0,0,1,1,1]\n",
        "        - current_y  : the distribution of labels after splitting based on a particular    \n",
        "                     split attribute and split value   ----->  [[0,0], [1,1,1,0]] for example\n",
        "    \n",
        "    Outputs:\n",
        "        - info_gain : The information gain after partitioning\n",
        "        \n",
        "    Compute and return the information gain from partitioning the previous_y labels into the current_y labels.\n",
        "    \n",
        "    \"\"\" \n",
        "    conditional_entropy = 0 ## IG = H(Y) - CE(Y|X)\n",
        "    for y in current_y:\n",
        "        conditional_entropy += (entropy(y)*len(y)/len(previous_y))       #???\n",
        "\n",
        "    info_gain = entropy(previous_y) - conditional_entropy\n",
        "    return info_gain\n"
      ],
      "execution_count": null,
      "outputs": []
    },
    {
      "cell_type": "markdown",
      "metadata": {
        "id": "zErFf3e4Zah3"
      },
      "source": [
        "### Test the information gain and the entropy implementations"
      ]
    },
    {
      "cell_type": "code",
      "metadata": {
        "id": "IMKabbTsZah3",
        "outputId": "d3d6c790-4583-4bd9-9229-dcce173a0adc"
      },
      "source": [
        "# TEST CASE\n",
        "test_class_y = [0,0,0,1,1,1,1,1]\n",
        "print(entropy(test_class_y))\n",
        " \n",
        "previous_y = [0,0,0,1,1,1]\n",
        "current_y = [[0,0], [1,1,1,0]]\n",
        "print(information_gain(previous_y, current_y))"
      ],
      "execution_count": null,
      "outputs": [
        {
          "name": "stdout",
          "output_type": "stream",
          "text": [
            "0.954434002924965\n",
            "0.4591479170272448\n"
          ]
        }
      ]
    },
    {
      "cell_type": "markdown",
      "metadata": {
        "id": "4DlBNkPkZah7"
      },
      "source": [
        "# The Decision Tree ID3 algorithm\n",
        "1. Find best feature\n",
        "2. Find best split for the best feature\n",
        "3. Parition classes based on steps 1 and 2"
      ]
    },
    {
      "cell_type": "markdown",
      "metadata": {
        "id": "FXNP_SjRZah8"
      },
      "source": [
        "## Step 3 : partition_classes\n",
        "\n",
        "- One of the basic operations is to split a tree on one attribute - step 1 - with a specific value for that attribute - step 2.\n",
        "\n",
        "\n",
        "- We need to also take into consideration if the split attribute is either a numerical or categorical.\n"
      ]
    },
    {
      "cell_type": "code",
      "metadata": {
        "id": "Wf1892vLZah9"
      },
      "source": [
        "def partition_classes(X, y, split_attribute, split_val):\n",
        "    \"\"\"\n",
        "    Inputs:\n",
        "    - X               : (N,D) list containing all data attributes\n",
        "    - y               : a list of labels\n",
        "    - split_attribute : column index of the attribute to split on\n",
        "    - split_val       : either a numerical or categorical value to divide the split_attribute\n",
        "    \n",
        "    Outputs:\n",
        "    - X_left          : X left after partitioning\n",
        "    - X_right         : X right after partitioning\n",
        "    - y_left          : y left after partitioning\n",
        "    - y_right         : y right after partitioning\n",
        "    \n",
        "    Partition the data(X) and labels(y) based on the split value    \n",
        "    \"\"\"\n",
        "    \"\"\"\n",
        "    Example:\n",
        "    \n",
        "    X = [[3, 'aa', 10],                 y = [1,\n",
        "         [1, 'bb', 22],                      1,\n",
        "         [2, 'cc', 28],                      0,\n",
        "         [5, 'bb', 32],                      0,\n",
        "         [4, 'cc', 32]]                      1]\n",
        "    \n",
        "    Here, columns 0 and 2 represent numeric attributes, while column 1 is a categorical attribute.\n",
        "    \n",
        "    Consider the case where we call the function with split_attribute = 0 (the index of attribute) and split_val = 3 (the value of attribute).\n",
        "    Then we divide X into two lists - X_left, where column 0 is <= 3 and X_right, where column 0 is > 3.\n",
        "    \n",
        "    X_left = [[3, 'aa', 10],                 y_left = [1,\n",
        "              [1, 'bb', 22],                           1,\n",
        "              [2, 'cc', 28]]                           0]\n",
        "              \n",
        "    X_right = [[5, 'bb', 32],                y_right = [0,\n",
        "               [4, 'cc', 32]]                           1]\n",
        "\n",
        "    Consider another case where we call the function with split_attribute = 1 and split_val = 'bb'\n",
        "    Then we divide X into two lists, one where column 1 is 'bb', and the other where it is not 'bb'.\n",
        "        \n",
        "    X_left = [[1, 'bb', 22],                 y_left = [1,\n",
        "              [5, 'bb', 32]]                           0]\n",
        "              \n",
        "    X_right = [[3, 'aa', 10],                y_right = [1,\n",
        "               [2, 'cc', 28],                           0,\n",
        "               [4, 'cc', 32]]                           1]\n",
        "               \n",
        "    \"\"\"\n",
        "    \n",
        "    X = np.array(X)\n",
        "    column_split = X[:,split_attribute]\n",
        "    X_left=[]\n",
        "    y_right = []\n",
        "    X_right = []\n",
        "    y_left = []\n",
        "    \n",
        "    counter=0 ## Counter for appending\n",
        "\n",
        "    if isinstance(split_val,str) == False: ## Numerical attribute\n",
        "        for i in column_split:\n",
        "            if i <= split_val:\n",
        "                X_left.append(X[counter])\n",
        "                y_left.append(y[counter])\n",
        "            else:\n",
        "                X_right.append(X[counter])\n",
        "                y_right.append(y[counter])\n",
        "            counter+=1\n",
        "            \n",
        "    else: ## Categorical attribute\n",
        "        for i in column_split:\n",
        "            if i == split_val: ## == and NOT <=\n",
        "                X_left.append(X[counter])\n",
        "                y_left.append(y[counter])\n",
        "            else:\n",
        "                X_right.append(X[counter])\n",
        "                y_right.append(y[counter])\n",
        "            counter+=1\n",
        "\n",
        "    return X_left, X_right, y_left, y_right "
      ],
      "execution_count": null,
      "outputs": []
    },
    {
      "cell_type": "markdown",
      "metadata": {
        "id": "sTU_40txZaiA"
      },
      "source": [
        "## Step 2 : Find Best Split\n",
        "\n",
        "- In this step, we find the *order* of features splitting. \n",
        "\n",
        "\n",
        "- To do so, we calculate the information gain of each value in the attribute list. \n",
        "\n",
        "\n",
        "- Then, we find the optimal split value. This corresponds to the one with the highest information gain\n"
      ]
    },
    {
      "cell_type": "code",
      "metadata": {
        "id": "d6BTbdh7ZaiB"
      },
      "source": [
        "def find_best_split(X, y, split_attribute):\n",
        "    \n",
        "    \"\"\"\n",
        "    Inputs:\n",
        "        - X               : (N,D) list containing all data attributes\n",
        "        - y               : a list array of labels\n",
        "        - split_attribute : Column of X on which to split\n",
        "    \n",
        "    Outputs:\n",
        "        - best_split_val  : optimal split value for a given attribute\n",
        "        - best_info_gain  : the corresponding information gain\n",
        "    \n",
        "    Compute and return the optimal split value for a given attribute, along with the corresponding information gain\n",
        "\n",
        "    \"\"\"\n",
        "    \n",
        "    \"\"\"\n",
        "    \n",
        "      Example:\n",
        "    \n",
        "        X = [[3, 'aa', 10],                 y = [1,\n",
        "             [1, 'bb', 22],                      1,\n",
        "             [2, 'cc', 28],                      0,\n",
        "             [5, 'bb', 32],                      0,\n",
        "             [4, 'cc', 32]]                      1]\n",
        "    \n",
        "        split_attribute = 0\n",
        "        \n",
        "        Starting entropy: 0.971\n",
        "        \n",
        "        Calculate information gain at splits:\n",
        "           split_val = 1  -->  info_gain = 0.17\n",
        "           split_val = 2  -->  info_gain = 0.01997\n",
        "           split_val = 3  -->  info_gain = 0.01997\n",
        "           split_val = 4  -->  info_gain = 0.32\n",
        "           split_val = 5  -->  info_gain = 0\n",
        "        \n",
        "       best_split_val = 4; info_gain = .32; \n",
        "    \"\"\"\n",
        "    \n",
        "    \n",
        "    best_info_gain = 0 # Initialize the best information gain\n",
        "    X = np.array(X)\n",
        "    column_split = X[:,split_attribute]\n",
        "\n",
        "    column_split = np.unique(column_split) ## Get the unique values only !\n",
        "    best_split_val = column_split[0] ## Set the best split as the initial one ( in case it is the only one)\n",
        "\n",
        "    for split_val in column_split:\n",
        "        current_X_left, current_X_right, current_y_left, current_y_right = partition_classes(X, y, split_attribute, split_val) ## Call the partition classes function\n",
        "        current_y = []\n",
        "        current_y.append(current_y_left)\n",
        "        current_y.append(current_y_right)\n",
        "\n",
        "        current_info_gain = information_gain(y,current_y) ## Calculate the information gain\n",
        "        if current_info_gain > best_info_gain: ## check if it is better than before\n",
        "            best_info_gain = current_info_gain\n",
        "            best_split_val = split_val\n",
        "\n",
        "    return best_split_val, best_info_gain"
      ],
      "execution_count": null,
      "outputs": []
    },
    {
      "cell_type": "markdown",
      "metadata": {
        "id": "4mvofbuTZaiD"
      },
      "source": [
        "## Step 1 : Find Best Feature\n",
        "\n",
        "- We use steps 2 and 3 to find the best feature"
      ]
    },
    {
      "cell_type": "code",
      "metadata": {
        "id": "wWrtRx_fZaiE"
      },
      "source": [
        "def find_best_feature(X, y):\n",
        "    \"\"\"\n",
        "    Inputs:\n",
        "        - X              : (N,D) list containing all data attributes\n",
        "        - y              : a list of labels\n",
        "    \n",
        "    Outputs:\n",
        "        - best_feature   : Best Feature to split on\n",
        "        - best_split_val : Best Split Value for this feature\n",
        "        \n",
        "    Compute and return the optimal attribute to split on and optimal splitting value\n",
        "    \"\"\"\n",
        "    \n",
        "    \"\"\"\n",
        "        \n",
        "    Example:\n",
        "    \n",
        "        X = [[3, 'aa', 10],                 y = [1,\n",
        "             [1, 'bb', 22],                      1,\n",
        "             [2, 'cc', 28],                      0,\n",
        "             [5, 'bb', 32],                      0,\n",
        "             [4, 'cc', 32]]                      1]\n",
        "    \n",
        "        split_attribute = 0\n",
        "        \n",
        "        Starting entropy: 0.971\n",
        "        \n",
        "        Calculate information gain at splits:\n",
        "           feature 0:  -->  info_gain = 0.32\n",
        "           feature 1:  -->  info_gain = 0.17\n",
        "           feature 2:  -->  info_gain = 0.4199\n",
        "        \n",
        "       best_split_feature: 2 best_split_val: 22\n",
        "    \"\"\"\n",
        "    \n",
        "    \n",
        "    best_info_gain = 0\n",
        "    best_feature = 0\n",
        "    best_split_val = 0\n",
        "    for feature_index in range(len(X[0])): ## Loop over the features , find the best split \n",
        "        current_best_split_val, current_best_info_gain =  find_best_split(X, y,  feature_index)\n",
        "        if current_best_info_gain > best_info_gain:\n",
        "            best_info_gain = current_best_info_gain\n",
        "            best_feature = feature_index\n",
        "            best_split_val = current_best_split_val\n",
        "    return best_feature, best_split_val"
      ],
      "execution_count": null,
      "outputs": []
    },
    {
      "cell_type": "markdown",
      "metadata": {
        "id": "jFnM5rQWZaiG"
      },
      "source": [
        "# Decision Tree ID3 Full Algorithm : Putting Everything Together"
      ]
    },
    {
      "cell_type": "markdown",
      "metadata": {
        "id": "uu1wESqIZaiG"
      },
      "source": [
        "- We will use a recursive algorithm, so we need to have a base case - a stopping condition for splitting- . It can be one of the following:\n",
        "\n",
        "    - If all data points in that node have the same label\n",
        "\n",
        "    - If the current node is at the maximum depth. In this case, you may assign the mode of the labels as the class label\n",
        "\n",
        "\n",
        "- We are going to use a class, so you might need to revise the OOP part in the first lab.\n",
        "\n",
        "\n",
        "- We are going to use a dictionary to store the tree information. It will contain the class labels, feature and value to split, and reference to the right and left children.\n",
        "\n",
        "- For example:\n",
        "```\n",
        " node = {\n",
        "            'isLeaf': False,\n",
        "            'split_attribute': 1,\n",
        "            'split_value': 3,\n",
        "            'is_categorical': True,\n",
        "            'leftTree': leftTree,  --> This is a instance of the class itself\n",
        "            'rightTree': rightTree --> This is a instance of the class itself\n",
        "        };\n",
        "```\n"
      ]
    },
    {
      "cell_type": "markdown",
      "metadata": {
        "id": "uAazOKWZZaiH"
      },
      "source": [
        "<img src=\"https://res.cloudinary.com/dyd911kmh/image/upload/f_auto,q_auto:best/v1545934190/1_r5ikdb.png\">\n",
        "<br/> \n",
        "<br/> \n",
        "source: https://www.datacamp.com/community/tutorials/decision-tree-classification-python"
      ]
    },
    {
      "cell_type": "code",
      "metadata": {
        "id": "gyzBMR2cZaiH"
      },
      "source": [
        "class MyDecisionTree(object):\n",
        "    def __init__(self, max_depth=None):\n",
        "        \"\"\"        \n",
        "        Args:\n",
        "        \n",
        "        max_depth: maximum depth of the tree including the root node.\n",
        "        \"\"\"\n",
        "        self.tree = {}\n",
        "        self.residual_tree = {} ## For prediction\n",
        "        self.max_depth = max_depth\n",
        "\n",
        "        \n",
        "    def fit(self, X, y, depth):\n",
        "        \"\"\"\n",
        "        Args:\n",
        "        X     : N*D matrix corresponding to the data points\n",
        "        Y     : N*1 array corresponding to the labels of the data points\n",
        "        depth : depth of node of the tree\n",
        "        \n",
        "        Output:\n",
        "        node : A dictionary that contains this node information\n",
        "        \"\"\"\n",
        "\n",
        "        # base cases\n",
        "        unique_labels = np.unique(y) \n",
        "        if (len(unique_labels)==1) or (depth == max_depth): ## IF we reach the maximum depth or the unique labels = 1\n",
        "            unique_labels, counts_unique_labels = np.unique(y, return_counts=True)\n",
        "            index = counts_unique_labels.argmax()\n",
        "            classification = unique_labels[index]    \n",
        "            return classification      #majority voting?\n",
        "    \n",
        "        best_feat, best_split  = find_best_feature(X, y) ## Find best feature (Step 1)\n",
        "        best_split, information_gain = find_best_split(X, y, best_feat) ## Split on this feature (Step 2)\n",
        "        X_left, X_right, y_left, y_right = partition_classes(X, y, best_feat, best_split) ## Partition on the best feature and split (Step 3)\n",
        "        \n",
        "        if isinstance(best_split,str):\n",
        "            question = \"{} == {}\".format(best_feat, best_split) ## Represnt the sub-tree as a question and an answer\n",
        "        else:\n",
        "            question = \"{} <= {}\".format(best_feat, best_split) ## Represnt the sub-tree as a question and an answer\n",
        "        node = {question: []}\n",
        "        \n",
        "        # find answers (recursion)\n",
        "        depth+=1 \n",
        "        yes_answer = self.fit(X_left,y_left, depth)  # RECURSION on the left sub tree\n",
        "        no_answer = self.fit(X_right, y_right, depth) ## RECURSION on the right sub tree\n",
        "        \n",
        "        if yes_answer == no_answer: ## Both trees are the same\n",
        "            node = yes_answer\n",
        "        else:\n",
        "            node[question].append(yes_answer) ## Append the questions to the answers\n",
        "            node[question].append(no_answer)\n",
        "        self.tree = node ## The tree is equal to the node\n",
        "        return node\n",
        "        \n",
        "    def predict(self, record,flag=1):\n",
        "        \"\"\"\n",
        "        Args:\n",
        "        \n",
        "        record: D*1, a single data point that should be classified\n",
        "        \n",
        "        Output:\n",
        "        prediction: True if the predicted class label is 1, False otherwise      \n",
        "        \n",
        "        classify a sample in test data set using self.tree and return the predicted label\n",
        "        \"\"\"\n",
        "        if flag == 1: ## First time\n",
        "            self.residual_tree = self.tree\n",
        "        question = list(self.residual_tree.keys())[0]\n",
        "        feature, comparison, value = question.split() ## Split the question to get the feature and its value\n",
        "\n",
        "        \n",
        "        ## Check if str or int\n",
        "        if comparison == \"==\": # String\n",
        "            if record[int(feature)] == value:\n",
        "                answer = self.residual_tree[question][0]  ## Left sub tree\n",
        "            else:\n",
        "                answer = self.residual_tree[question][1] ## Right sub-tree\n",
        "        elif comparison == \"<=\": #Integer\n",
        "            if record[int(feature)] <= float(value):\n",
        "                answer = self.residual_tree[question][0] ## Right Sub-tree\n",
        "            else:\n",
        "                answer = self.residual_tree[question][1] ## Left sub-tree        try: ## Integer\n",
        "                \n",
        "        # base case\n",
        "        if not isinstance(answer, dict):  ## If we have the answer\n",
        "            return answer\n",
        "    \n",
        "        # recursion\n",
        "        else:\n",
        "            self.residual_tree = answer ## The residual tree is the answer !\n",
        "            return self.predict(record,0) ## have flag = 0 so the residual tree is our sub-problem"
      ],
      "execution_count": null,
      "outputs": []
    },
    {
      "cell_type": "markdown",
      "metadata": {
        "id": "3QxYp5PzZaiM"
      },
      "source": [
        "### Evaluate the ID3 implementation"
      ]
    },
    {
      "cell_type": "code",
      "metadata": {
        "id": "ZIw7gxOXZaiM"
      },
      "source": [
        "def DecisionTreeEvalution(id3,X,y, verbose=False):\n",
        "\n",
        "    y_predicted = []\n",
        "    for record in X: \n",
        "        y_predicted.append(id3.predict(record))\n",
        "    # Comparing predicted and true labels\n",
        "    results = [prediction == truth for prediction, truth in zip(y_predicted, y)]\n",
        "    # Accuracy\n",
        "    accuracy = float(results.count(True)) / float(len(results))\n",
        "    if verbose:\n",
        "        print(\"accuracy: %.4f\" % accuracy)\n",
        "    return accuracy"
      ],
      "execution_count": null,
      "outputs": []
    },
    {
      "cell_type": "code",
      "metadata": {
        "id": "l_bYeL5-ZaiP",
        "outputId": "f2e5dad2-5e7b-46f3-f987-247218327c86"
      },
      "source": [
        "#### Convert the dataframes to numpy arrays as our implementation works on NumPy arrays\n",
        "X_train , X_test , y_train , y_test = X_train.to_numpy() , X_test.to_numpy() , y_train.to_numpy() , y_test.to_numpy()\n",
        "max_depth = 7\n",
        "inital_depth = 0\n",
        "id3_dt = MyDecisionTree(max_depth)\n",
        "# Building a tree\n",
        "print(\"fitting the decision tree\")\n",
        "id3_dt.fit(X_train, y_train, inital_depth)\n",
        "\n",
        "# Evaluating the decision tree\n",
        "DecisionTreeEvalution(id3_dt,X_test,y_test, True)"
      ],
      "execution_count": null,
      "outputs": [
        {
          "name": "stdout",
          "output_type": "stream",
          "text": [
            "fitting the decision tree\n",
            "accuracy: 0.7956\n"
          ]
        },
        {
          "data": {
            "text/plain": [
              "0.7956240676280457"
            ]
          },
          "execution_count": 31,
          "metadata": {},
          "output_type": "execute_result"
        }
      ]
    },
    {
      "cell_type": "markdown",
      "metadata": {
        "id": "sr7KLqdWZaiV"
      },
      "source": [
        "## What is the final tree"
      ]
    },
    {
      "cell_type": "code",
      "metadata": {
        "id": "739SulVKZaiW",
        "outputId": "9372a06f-0d0c-4a8a-adf0-0cfca87a143f"
      },
      "source": [
        "id3_dt.tree"
      ],
      "execution_count": null,
      "outputs": [
        {
          "data": {
            "text/plain": [
              "{'2 ==  Married-civ-spouse': [{'9 <= 12': [{'10 <= 5013': [{'9 <= 8': [{'8 <= 36': [{'3 ==  Tech-support': [{'8 <= 30': [0,\n",
              "              1]},\n",
              "            {'7 == c323': [1, 0]}]},\n",
              "          0]},\n",
              "        {'8 <= 33': [{'8 <= 24': [0, {'11 <= 1740': [0, 1]}]},\n",
              "          {'11 <= 1740': [0, {'11 <= 1977': [1, 0]}]}]}]},\n",
              "      {'8 <= 61': [{'1 ==  Preschool': [0, 1]},\n",
              "        {'10 <= 10566': [{'10 <= 9386': [{'0 ==  Local-gov': [0, 1]}, 0]},\n",
              "          1]}]}]},\n",
              "    {'10 <= 5013': [{'11 <= 1740': [{'12 <= 30': [{'4 ==  Wife': [1, 0]},\n",
              "          {'3 ==  Exec-managerial': [{'11 <= 0': [1, 0]}, 1]}]},\n",
              "        {'11 <= 1977': [{'8 <= 28': [{'4 ==  Husband': [1, 0]}, 1]},\n",
              "          {'11 <= 2051': [0, {'0 ==  Local-gov': [0, 1]}]}]}]},\n",
              "      {'8 <= 62': [1,\n",
              "        {'12 <= 45': [1, {'0 ==  Self-emp-not-inc': [0, 1]}]}]}]}]},\n",
              "  {'10 <= 6849': [{'9 <= 12': [{'8 <= 28': [{'0 ==  Private': [{'12 <= 49': [0,\n",
              "            {'7 == c330': [1, 0]}]},\n",
              "          0]},\n",
              "        {'12 <= 41': [0, {'11 <= 2206': [0, {'8 <= 34': [0, 1]}]}]}]},\n",
              "      {'8 <= 27': [{'11 <= 1974': [{'12 <= 39': [0,\n",
              "            {'2 ==  Married-AF-spouse': [1, 0]}]},\n",
              "          {'3 ==  Prof-specialty': [0, 1]}]},\n",
              "        {'12 <= 44': [{'9 <= 14': [{'11 <= 2206': [0, 1]}, 0]},\n",
              "          {'11 <= 2339': [{'9 <= 14': [0, 1]}, 1]}]}]}]},\n",
              "    {'9 <= 10': [{'10 <= 7978': [{'0 ==  Local-gov': [1, 0]},\n",
              "        {'8 <= 19': [0,\n",
              "          {'12 <= 56': [1, {'0 ==  Self-emp-not-inc': [0, 1]}]}]}]},\n",
              "      1]}]}]}"
            ]
          },
          "execution_count": 18,
          "metadata": {
            "tags": []
          },
          "output_type": "execute_result"
        }
      ]
    },
    {
      "cell_type": "markdown",
      "metadata": {
        "id": "IaDoqFwLZaii"
      },
      "source": [
        "# Compare with Sklearn Decision Tree"
      ]
    },
    {
      "cell_type": "markdown",
      "metadata": {
        "id": "DLtCd6LKZaij"
      },
      "source": [
        "Sklearn decision tree implementation can't handle categorical data \n",
        "\n",
        "\n",
        "https://github.com/scikit-learn/scikit-learn/issues/5442\n",
        "\n",
        "https://stackoverflow.com/questions/38108832/passing-categorical-data-to-sklearn-decision-tree"
      ]
    },
    {
      "cell_type": "code",
      "metadata": {
        "id": "JnBN_WMoZaij",
        "scrolled": true
      },
      "source": [
        "X_train , X_test , y_train , y_test = train_test_split(X,y,test_size = 0.2 , random_state = 10)\n",
        "\n",
        "X_train = pd.get_dummies(X_train,drop_first=True)\n",
        "X_test = pd.get_dummies(X_test,drop_first=True)"
      ],
      "execution_count": null,
      "outputs": []
    },
    {
      "cell_type": "code",
      "metadata": {
        "id": "1w8ab6GIZaim",
        "outputId": "9b16a5bc-4731-4621-aa49-26511a397721"
      },
      "source": [
        "clf = tree.DecisionTreeClassifier( criterion='entropy', max_depth = max_depth)\n",
        "clf.fit(X_train, y_train)\n",
        "y_pred = clf.predict(X_test)\n",
        "print(\"Accuracy:\",metrics.accuracy_score(y_test, y_pred))"
      ],
      "execution_count": null,
      "outputs": [
        {
          "name": "stdout",
          "output_type": "stream",
          "text": [
            "Accuracy: 0.8534725675451682\n"
          ]
        }
      ]
    },
    {
      "cell_type": "markdown",
      "metadata": {
        "id": "Xz1zQu3kZaip"
      },
      "source": [
        "# Visualize the tree"
      ]
    },
    {
      "cell_type": "code",
      "metadata": {
        "code_folding": [],
        "id": "DStI5xl8Zaiq",
        "scrolled": true,
        "outputId": "2bf087c2-0142-4946-ec9c-337584d2b873"
      },
      "source": [
        "feature_names = list(X_train.columns)\n",
        "\n",
        "dot_data = StringIO()\n",
        "export_graphviz(clf, out_file=dot_data,  \n",
        "                filled=True, rounded=True,\n",
        "                special_characters=True,feature_names = feature_names,class_names=['0','1'])\n",
        "graph = pydotplus.graph_from_dot_data(dot_data.getvalue())  \n",
        "graph.write_png('credit_tree.png')\n",
        "Image(graph.create_png())"
      ],
      "execution_count": null,
      "outputs": [
        {
          "ename": "NameError",
          "evalue": "name 'pydotplus' is not defined",
          "output_type": "error",
          "traceback": [
            "\u001b[1;31m---------------------------------------------------------------------------\u001b[0m",
            "\u001b[1;31mNameError\u001b[0m                                 Traceback (most recent call last)",
            "\u001b[1;32m<ipython-input-34-dde64d2182e7>\u001b[0m in \u001b[0;36m<module>\u001b[1;34m\u001b[0m\n\u001b[0;32m      5\u001b[0m                 \u001b[0mfilled\u001b[0m\u001b[1;33m=\u001b[0m\u001b[1;32mTrue\u001b[0m\u001b[1;33m,\u001b[0m \u001b[0mrounded\u001b[0m\u001b[1;33m=\u001b[0m\u001b[1;32mTrue\u001b[0m\u001b[1;33m,\u001b[0m\u001b[1;33m\u001b[0m\u001b[1;33m\u001b[0m\u001b[0m\n\u001b[0;32m      6\u001b[0m                 special_characters=True,feature_names = feature_names,class_names=['0','1'])\n\u001b[1;32m----> 7\u001b[1;33m \u001b[0mgraph\u001b[0m \u001b[1;33m=\u001b[0m \u001b[0mpydotplus\u001b[0m\u001b[1;33m.\u001b[0m\u001b[0mgraph_from_dot_data\u001b[0m\u001b[1;33m(\u001b[0m\u001b[0mdot_data\u001b[0m\u001b[1;33m.\u001b[0m\u001b[0mgetvalue\u001b[0m\u001b[1;33m(\u001b[0m\u001b[1;33m)\u001b[0m\u001b[1;33m)\u001b[0m\u001b[1;33m\u001b[0m\u001b[1;33m\u001b[0m\u001b[0m\n\u001b[0m\u001b[0;32m      8\u001b[0m \u001b[0mgraph\u001b[0m\u001b[1;33m.\u001b[0m\u001b[0mwrite_png\u001b[0m\u001b[1;33m(\u001b[0m\u001b[1;34m'credit_tree.png'\u001b[0m\u001b[1;33m)\u001b[0m\u001b[1;33m\u001b[0m\u001b[1;33m\u001b[0m\u001b[0m\n\u001b[0;32m      9\u001b[0m \u001b[0mImage\u001b[0m\u001b[1;33m(\u001b[0m\u001b[0mgraph\u001b[0m\u001b[1;33m.\u001b[0m\u001b[0mcreate_png\u001b[0m\u001b[1;33m(\u001b[0m\u001b[1;33m)\u001b[0m\u001b[1;33m)\u001b[0m\u001b[1;33m\u001b[0m\u001b[1;33m\u001b[0m\u001b[0m\n",
            "\u001b[1;31mNameError\u001b[0m: name 'pydotplus' is not defined"
          ]
        }
      ]
    },
    {
      "cell_type": "markdown",
      "metadata": {
        "id": "wNIkus7hZai2"
      },
      "source": [
        "# Plot the features importance"
      ]
    },
    {
      "cell_type": "code",
      "metadata": {
        "id": "k9GxtfYVZai2",
        "scrolled": true,
        "outputId": "102a49d4-fca9-403e-960b-6e195cd3b255"
      },
      "source": [
        "feature_names = list(X_train.columns)\n",
        "\n",
        "importances = clf.feature_importances_ ## most important line in this cell\n",
        "\n",
        "indices = np.argsort(importances)[::-1]\n",
        "for f in range(X_train.shape[1]):\n",
        "    print(f'{f+1} feature {feature_names[indices[f]]} {importances[indices[f]]}')\n",
        "\n",
        "\n",
        "plt.figure(figsize=(20, 20))\n",
        "plt.title(\"Feature importances\")\n",
        "plt.bar(range(X_train.shape[1]), importances[indices],\n",
        "        color=\"r\", align=\"center\")\n",
        "plt.xticks(range(X_train.shape[1]), indices)\n",
        "plt.xlim([-1, X_train.shape[1]])\n",
        "plt.show()"
      ],
      "execution_count": null,
      "outputs": [
        {
          "name": "stdout",
          "output_type": "stream",
          "text": [
            "1 feature marital_status_ Married-civ-spouse 0.42598171378711264\n",
            "2 feature education_num 0.20347421738241356\n",
            "3 feature capital_gain 0.19763928810771172\n",
            "4 feature age 0.06635900558173644\n",
            "5 feature capital_loss 0.05179449844577836\n",
            "6 feature hours_per_week 0.03032587545929722\n",
            "7 feature occupation_ Exec-managerial 0.006505086074851692\n",
            "8 feature relationship_ Wife 0.0035377261581412077\n",
            "9 feature occupation_ Prof-specialty 0.002989181157133509\n",
            "10 feature workclass_ Private 0.002001788168732481\n",
            "11 feature occupation_ Transport-moving 0.0014692789344171583\n",
            "12 feature occupation_ Machine-op-inspct 0.0014266221811375876\n",
            "13 feature education_ Preschool 0.0011482603771392152\n",
            "14 feature occupation_ Other-service 0.0008713530897137304\n",
            "15 feature workclass_ Self-emp-not-inc 0.0007441716952441054\n",
            "16 feature c3_c330 0.0007343534616974588\n",
            "17 feature marital_status_ Married-AF-spouse 0.0006246656367571916\n",
            "18 feature c3_c336 0.000549269849029299\n",
            "19 feature workclass_ Local-gov 0.0005483642526015628\n",
            "20 feature occupation_ Tech-support 0.0005300222369840512\n",
            "21 feature occupation_ Sales 0.0004138827656782659\n",
            "22 feature c3_c338 0.00033137519669127657\n",
            "23 feature education_ 9th 0.0\n",
            "24 feature marital_status_ Widowed 0.0\n",
            "25 feature occupation_ Protective-serv 0.0\n",
            "26 feature workclass_ Self-emp-inc 0.0\n",
            "27 feature occupation_ Priv-house-serv 0.0\n",
            "28 feature workclass_ State-gov 0.0\n",
            "29 feature workclass_ Without-pay 0.0\n",
            "30 feature occupation_ Handlers-cleaners 0.0\n",
            "31 feature occupation_ Farming-fishing 0.0\n",
            "32 feature education_ 11th 0.0\n",
            "33 feature occupation_ Craft-repair 0.0\n",
            "34 feature occupation_ Armed-Forces 0.0\n",
            "35 feature marital_status_ Separated 0.0\n",
            "36 feature education_ Assoc-acdm 0.0\n",
            "37 feature marital_status_ Never-married 0.0\n",
            "38 feature marital_status_ Married-spouse-absent 0.0\n",
            "39 feature education_ 12th 0.0\n",
            "40 feature education_ 1st-4th 0.0\n",
            "41 feature education_ Some-college 0.0\n",
            "42 feature education_ Prof-school 0.0\n",
            "43 feature education_ 5th-6th 0.0\n",
            "44 feature education_ Masters 0.0\n",
            "45 feature education_ HS-grad 0.0\n",
            "46 feature education_ 7th-8th 0.0\n",
            "47 feature education_ Bachelors 0.0\n",
            "48 feature education_ Assoc-voc 0.0\n",
            "49 feature education_ Doctorate 0.0\n",
            "50 feature c3_c39 0.0\n",
            "51 feature relationship_ Not-in-family 0.0\n",
            "52 feature c3_c322 0.0\n",
            "53 feature c3_c324 0.0\n",
            "54 feature c3_c325 0.0\n",
            "55 feature c3_c326 0.0\n",
            "56 feature c3_c327 0.0\n",
            "57 feature c3_c328 0.0\n",
            "58 feature c3_c329 0.0\n",
            "59 feature c3_c33 0.0\n",
            "60 feature c3_c331 0.0\n",
            "61 feature c3_c332 0.0\n",
            "62 feature c3_c333 0.0\n",
            "63 feature c3_c334 0.0\n",
            "64 feature c3_c335 0.0\n",
            "65 feature c3_c337 0.0\n",
            "66 feature c3_c339 0.0\n",
            "67 feature c3_c34 0.0\n",
            "68 feature c3_c340 0.0\n",
            "69 feature c3_c35 0.0\n",
            "70 feature c3_c36 0.0\n",
            "71 feature c3_c37 0.0\n",
            "72 feature c3_c323 0.0\n",
            "73 feature c3_c321 0.0\n",
            "74 feature relationship_ Other-relative 0.0\n",
            "75 feature c3_c320 0.0\n",
            "76 feature c3_c38 0.0\n",
            "77 feature relationship_ Unmarried 0.0\n",
            "78 feature c1_c11 0.0\n",
            "79 feature c1_c12 0.0\n",
            "80 feature c1_c13 0.0\n",
            "81 feature c1_c14 0.0\n",
            "82 feature c2_c21 0.0\n",
            "83 feature c3_c31 0.0\n",
            "84 feature c3_c310 0.0\n",
            "85 feature c3_c311 0.0\n",
            "86 feature c3_c312 0.0\n",
            "87 feature c3_c313 0.0\n",
            "88 feature c3_c314 0.0\n",
            "89 feature c3_c315 0.0\n",
            "90 feature c3_c316 0.0\n",
            "91 feature c3_c317 0.0\n",
            "92 feature c3_c318 0.0\n",
            "93 feature c3_c319 0.0\n",
            "94 feature c3_c32 0.0\n",
            "95 feature relationship_ Own-child 0.0\n"
          ]
        },
        {
          "data": {
            "image/png": "[encoded data removed]",
            "text/plain": [
              "<Figure size 1440x1440 with 1 Axes>"
            ]
          },
          "metadata": {
            "needs_background": "light"
          },
          "output_type": "display_data"
        }
      ]
    },
    {
      "cell_type": "markdown",
      "metadata": {
        "id": "8lQSQNviZai5"
      },
      "source": [
        "# What the most important hyper parameters in DT ?"
      ]
    },
    {
      "cell_type": "markdown",
      "metadata": {
        "id": "CHJ4I4XGZai6"
      },
      "source": [
        "- ``criterion`` : optional (default=”gini”) or Choose attribute selection measure: This parameter allows us to use the different-different attribute selection measure. Supported criteria are “gini” for the Gini index and “entropy” for the information gain.\n",
        "\n",
        "\n",
        "- ``splitter`` : string, optional (default=”best”) or Split Strategy: This parameter allows us to choose the split strategy. Supported strategies are “best” to choose the best split and “random” to choose the best random split.\n",
        "\n",
        "\n",
        "- ``max_depth`` : int or None, optional (default=None) or Maximum Depth of a Tree: The maximum depth of the tree. If None, then nodes are expanded until all the leaves contain less than min_samples_split samples. The higher value of maximum depth causes overfitting, and a lower value causes underfitting \n",
        "\n",
        "\n",
        "- ``min_samples_split`` : int or float, default=2 . The minimum number of samples required to split an internal node\n",
        "\n",
        "\n",
        "- ``class_weight``: dict, list of dict or “balanced”, default=None"
      ]
    },
    {
      "cell_type": "markdown",
      "metadata": {
        "id": "BCmaaM2tZai7"
      },
      "source": [
        "## Hyperparameter tuning"
      ]
    },
    {
      "cell_type": "code",
      "metadata": {
        "colab": {
          "referenced_widgets": [
            "81032e5d9c4c4b70847c51484a88a791"
          ]
        },
        "id": "qgC8UcFiZai8",
        "outputId": "4203b8de-7d22-470a-b612-453e1d0a01d1"
      },
      "source": [
        "clf = tree.DecisionTreeClassifier( criterion='entropy', max_depth = max_depth)\n",
        "\n",
        "print(\"Start fitting the data\")\n",
        "\n",
        "hp = {\"criterion\":['gini','entropy'], 'max_depth':np.arange(3,9)}\n",
        "for cv in tqdm(range(3,6)):\n",
        "    grid = GridSearchCV(clf, param_grid  = hp  , cv = cv)\n",
        "    grid.fit(X_train,y_train)\n",
        "    print(f\"score for {cv} fold CV is : {grid.score(X_test,y_test)}\")\n",
        "    print(f\"Best result {grid.best_params_}\")"
      ],
      "execution_count": null,
      "outputs": [
        {
          "name": "stdout",
          "output_type": "stream",
          "text": [
            "Start fitting the data\n"
          ]
        },
        {
          "ename": "NameError",
          "evalue": "name 'tqdm' is not defined",
          "output_type": "error",
          "traceback": [
            "\u001b[1;31m---------------------------------------------------------------------------\u001b[0m",
            "\u001b[1;31mNameError\u001b[0m                                 Traceback (most recent call last)",
            "\u001b[1;32m<ipython-input-36-5ea27a45c18d>\u001b[0m in \u001b[0;36m<module>\u001b[1;34m\u001b[0m\n\u001b[0;32m      4\u001b[0m \u001b[1;33m\u001b[0m\u001b[0m\n\u001b[0;32m      5\u001b[0m \u001b[0mhp\u001b[0m \u001b[1;33m=\u001b[0m \u001b[1;33m{\u001b[0m\u001b[1;34m\"criterion\"\u001b[0m\u001b[1;33m:\u001b[0m\u001b[1;33m[\u001b[0m\u001b[1;34m'gini'\u001b[0m\u001b[1;33m,\u001b[0m\u001b[1;34m'entropy'\u001b[0m\u001b[1;33m]\u001b[0m\u001b[1;33m,\u001b[0m \u001b[1;34m'max_depth'\u001b[0m\u001b[1;33m:\u001b[0m\u001b[0mnp\u001b[0m\u001b[1;33m.\u001b[0m\u001b[0marange\u001b[0m\u001b[1;33m(\u001b[0m\u001b[1;36m3\u001b[0m\u001b[1;33m,\u001b[0m\u001b[1;36m9\u001b[0m\u001b[1;33m)\u001b[0m\u001b[1;33m}\u001b[0m\u001b[1;33m\u001b[0m\u001b[1;33m\u001b[0m\u001b[0m\n\u001b[1;32m----> 6\u001b[1;33m \u001b[1;32mfor\u001b[0m \u001b[0mcv\u001b[0m \u001b[1;32min\u001b[0m \u001b[0mtqdm\u001b[0m\u001b[1;33m(\u001b[0m\u001b[0mrange\u001b[0m\u001b[1;33m(\u001b[0m\u001b[1;36m3\u001b[0m\u001b[1;33m,\u001b[0m\u001b[1;36m6\u001b[0m\u001b[1;33m)\u001b[0m\u001b[1;33m)\u001b[0m\u001b[1;33m:\u001b[0m\u001b[1;33m\u001b[0m\u001b[1;33m\u001b[0m\u001b[0m\n\u001b[0m\u001b[0;32m      7\u001b[0m     \u001b[0mgrid\u001b[0m \u001b[1;33m=\u001b[0m \u001b[0mGridSearchCV\u001b[0m\u001b[1;33m(\u001b[0m\u001b[0mclf\u001b[0m\u001b[1;33m,\u001b[0m \u001b[0mparam_grid\u001b[0m  \u001b[1;33m=\u001b[0m \u001b[0mhp\u001b[0m  \u001b[1;33m,\u001b[0m \u001b[0mcv\u001b[0m \u001b[1;33m=\u001b[0m \u001b[0mcv\u001b[0m\u001b[1;33m)\u001b[0m\u001b[1;33m\u001b[0m\u001b[1;33m\u001b[0m\u001b[0m\n\u001b[0;32m      8\u001b[0m     \u001b[0mgrid\u001b[0m\u001b[1;33m.\u001b[0m\u001b[0mfit\u001b[0m\u001b[1;33m(\u001b[0m\u001b[0mX_train\u001b[0m\u001b[1;33m,\u001b[0m\u001b[0my_train\u001b[0m\u001b[1;33m)\u001b[0m\u001b[1;33m\u001b[0m\u001b[1;33m\u001b[0m\u001b[0m\n",
            "\u001b[1;31mNameError\u001b[0m: name 'tqdm' is not defined"
          ]
        }
      ]
    },
    {
      "cell_type": "markdown",
      "metadata": {
        "id": "4kHW8ps2ZajA"
      },
      "source": [
        "# Avoiding Overfitting :\n",
        "\n",
        "1. Acquire more training data\n",
        "\n",
        "\n",
        "2. Remove irrelevant attributes\n",
        "\n",
        "\n",
        "3. **Grow full tree, then post-prune** \n",
        "\n",
        "\n",
        "4. Ensemble learning. \n"
      ]
    },
    {
      "cell_type": "markdown",
      "metadata": {
        "id": "cdl1AO03ZajB"
      },
      "source": [
        "## Pruning"
      ]
    },
    {
      "cell_type": "markdown",
      "metadata": {
        "id": "r-Emt5vWZajC"
      },
      "source": [
        "We can perform the pruning either before building the fully grown tree - pre-pruning - or after building it - post-pruning-\n",
        "\n",
        "- We have already performed pre-pruning by specifiying the maximum depth in our implementation, or by controlling the different hyperparameters in sklearn implementation such as the min_samples_split and max_leaf_nodes\n",
        "\n",
        "\n",
        "- However, this approach is not preferred or shouldn't be used alone, because a seemingly worthless split early on in the tree might be followed by a very good split.\n",
        "\n",
        "\n",
        "- Therefore, it should be combined with post-pruning, also known as cost-complexity pruning and as weakest link pruning."
      ]
    },
    {
      "cell_type": "markdown",
      "metadata": {
        "id": "12RmMUP8ZajD"
      },
      "source": [
        "We can perform post-purning to prune the fully grown tree in a *bottom-up manner*.\n",
        "\n",
        "- The idea is basically about, starting at the leaves, each node is replaced with its most popular class.\n",
        "\n",
        "\n",
        "- If the prediction accuracy is not affected then the change is kept. \n",
        "\n",
        "\n",
        "\n",
        "We can also explain it as follows :\n",
        "\n",
        "- Rather than considering every possible subtree, we consider a sequence of trees indexed by a nonnegative tuning parameter α.\n",
        "\n",
        "\n",
        "- For each value of α there corresponds a subtree $$T ⊂ T_0$$ such that Cost $$T = Error(T) + α |T|$$ is small as possible\n",
        "\n",
        "\n",
        "- $$|T|$$ indicates the number of terminal nodes of the tree T\n",
        "\n",
        "\n",
        "- The tuning parameter α controls a trade-off between the subtree’s complexity and its fit to the training data. When α = 0, then the subtree T will simply equal $$T_0$$\n",
        "\n",
        "\n",
        "- as we increase α from zero, branches get pruned from the tree"
      ]
    },
    {
      "cell_type": "code",
      "metadata": {
        "id": "CgZ8Oz8xZajE",
        "outputId": "9e2106d1-65a9-4d45-91fc-cbea389b5328"
      },
      "source": [
        "X_train , X_test , y_train , y_test = train_test_split(X,y,test_size = 0.2 , random_state = 10)\n",
        "\n",
        "X_train = pd.get_dummies(X_train,drop_first=True)\n",
        "X_test = pd.get_dummies(X_test,drop_first=True)\n",
        "clf = tree.DecisionTreeClassifier( criterion='entropy', max_depth = max_depth)\n",
        "path = clf.cost_complexity_pruning_path(X_train, y_train) ## Pruning !\n",
        "\n",
        "ccp_alphas, impurities = path.ccp_alphas, path.impurities ## Alpha we have been talking about\n",
        "fig, ax = plt.subplots(figsize=(10,10))\n",
        "ax.plot(ccp_alphas[:-1], impurities[:-1], marker='o', drawstyle=\"steps-post\")\n",
        "ax.set_xlabel(\"effective alpha\")\n",
        "ax.set_ylabel(\"total impurity of leaves\")\n",
        "ax.set_title(\"Total Impurity vs effective alpha for training set\")"
      ],
      "execution_count": null,
      "outputs": [
        {
          "data": {
            "text/plain": [
              "Text(0.5, 1.0, 'Total Impurity vs effective alpha for training set')"
            ]
          },
          "execution_count": 111,
          "metadata": {
            "tags": []
          },
          "output_type": "execute_result"
        },
        {
          "data": {
            "image/png": "[encoded data removed]",
            "text/plain": [
              "<Figure size 720x720 with 1 Axes>"
            ]
          },
          "metadata": {
            "needs_background": "light",
            "tags": []
          },
          "output_type": "display_data"
        }
      ]
    },
    {
      "cell_type": "markdown",
      "metadata": {
        "id": "fL73mGetZajH"
      },
      "source": [
        "Next, we train a decision tree using the effective ``alphas``. The last value in ``ccp_alphas`` is the alpha value that prunes the whole tree, leaving the tree, ``clfs[-1]``, with one node."
      ]
    },
    {
      "cell_type": "code",
      "metadata": {
        "id": "HyY3Ir8-ZajI",
        "outputId": "1e25d502-3ee8-4f24-894e-8e55089badf2"
      },
      "source": [
        "clfs = []\n",
        "for ccp_alpha in ccp_alphas:\n",
        "    clf = DecisionTreeClassifier(random_state=0, ccp_alpha=ccp_alpha)\n",
        "    clf.fit(X_train, y_train)\n",
        "    clfs.append(clf)\n",
        "print(\"Number of nodes in the last tree is: {} with ccp_alpha: {}\".format(\n",
        "      clfs[-1].tree_.node_count, ccp_alphas[-1]))"
      ],
      "execution_count": null,
      "outputs": [
        {
          "name": "stdout",
          "output_type": "stream",
          "text": [
            "Number of nodes in the last tree is: 1 with ccp_alpha: 0.15397075459323895\n"
          ]
        }
      ]
    },
    {
      "cell_type": "markdown",
      "metadata": {
        "id": "tW-1uafhZajN"
      },
      "source": [
        "Now, we remove the last element in ``clfs`` and ``ccp_alphas``, because it is the trivial tree with only one node.\n",
        "\n",
        "\n",
        "Here we show that the number of nodes and tree depth decreases as alpha increases."
      ]
    },
    {
      "cell_type": "code",
      "metadata": {
        "id": "9TBgdT7sZajO",
        "outputId": "1fa4b095-1509-4d15-e168-5034c24e807e"
      },
      "source": [
        "clfs = clfs[:-1]\n",
        "ccp_alphas = ccp_alphas[:-1]\n",
        "\n",
        "node_counts = [clf.tree_.node_count for clf in clfs]\n",
        "depth = [clf.tree_.max_depth for clf in clfs]\n",
        "\n",
        "fig, ax = plt.subplots(2, 1,figsize=(10,10))\n",
        "ax[0].plot(ccp_alphas, node_counts, marker='o', drawstyle=\"steps-post\")\n",
        "ax[0].set_xlabel(\"alpha\")\n",
        "ax[0].set_ylabel(\"number of nodes\")\n",
        "ax[0].set_title(\"Number of nodes vs alpha\")\n",
        "ax[1].plot(ccp_alphas, depth, marker='o', drawstyle=\"steps-post\")\n",
        "ax[1].set_xlabel(\"alpha\")\n",
        "ax[1].set_ylabel(\"depth of tree\")\n",
        "ax[1].set_title(\"Depth vs alpha\")\n",
        "fig.tight_layout()"
      ],
      "execution_count": null,
      "outputs": [
        {
          "data": {
            "image/png": "[encoded data removed]",
            "text/plain": [
              "<Figure size 720x720 with 2 Axes>"
            ]
          },
          "metadata": {
            "needs_background": "light",
            "tags": []
          },
          "output_type": "display_data"
        }
      ]
    },
    {
      "cell_type": "code",
      "metadata": {
        "id": "UDS2Pt2yZajQ",
        "outputId": "16483dfd-56f4-4a86-cdf5-c2378f8857df"
      },
      "source": [
        "train_scores = [clf.score(X_train, y_train) for clf in clfs]\n",
        "test_scores = [clf.score(X_test, y_test) for clf in clfs]\n",
        "\n",
        "fig, ax = plt.subplots(figsize=(10,10))\n",
        "ax.set_xlabel(\"alpha\")\n",
        "ax.set_ylabel(\"accuracy\")\n",
        "ax.set_title(\"Accuracy vs alpha for training and testing sets\")\n",
        "ax.plot(ccp_alphas, train_scores, marker='o', label=\"train\",\n",
        "        drawstyle=\"steps-post\")\n",
        "ax.plot(ccp_alphas, test_scores, marker='o', label=\"test\",\n",
        "        drawstyle=\"steps-post\")\n",
        "ax.legend()\n",
        "plt.show()"
      ],
      "execution_count": null,
      "outputs": [
        {
          "data": {
            "image/png": "[encoded data removed]",
            "text/plain": [
              "<Figure size 720x720 with 1 Axes>"
            ]
          },
          "metadata": {
            "needs_background": "light",
            "tags": []
          },
          "output_type": "display_data"
        }
      ]
    },
    {
      "cell_type": "markdown",
      "metadata": {
        "id": "26fcP9JaZajV"
      },
      "source": [
        "* As we can see, When ``ccp_alpha`` is set to ``zero`` and keeping the other default parameters of DecisionTreeClassifier, the tree overfits, leading to a ``97.5%`` training accuracy and ``80%`` testing accuracy.\n",
        "\n",
        "\n",
        "* As alpha increases, more of the tree is pruned, thus creating a decision tree that generalizes better.Setting ``ccp_alpha=8.70266265e-05`` maximizes the testing accuracy"
      ]
    },
    {
      "cell_type": "markdown",
      "metadata": {
        "id": "Bl4Z_z9sZajW"
      },
      "source": [
        "# Extra : Gain Ratio\n",
        "Information gain is biased for the attribute with many outcomes. It means it prefers the attribute with a large number of distinct values. For instance, consider an attribute with a unique identifier such as customer_ID has zero info(D) because of pure partition. This maximizes the information gain and creates useless partitioning.\n",
        "\n",
        "C4.5, an improvement of ID3, uses an extension to information gain known as the gain ratio. Gain ratio handles the issue of bias by normalizing the information gain using Split Info"
      ]
    },
    {
      "cell_type": "markdown",
      "metadata": {
        "id": "E1b4H4YRZajX"
      },
      "source": [
        "# Decision Tree Pros and Cons"
      ]
    },
    {
      "cell_type": "markdown",
      "metadata": {
        "id": "Y3EbtV9bZajY"
      },
      "source": [
        "\n",
        "| Pros | Cons\n",
        "| --- | --- \n",
        "|Easy to interpret and visualize.| Sensitive to noisy data. It can overfit noisy data.\n",
        "|Has no assumptions about distribution because of the non-parametric nature of the algorithm.|The small variation(or variance) in data can result in the different decision tree. This can be reduced by bagging and boosting algorithms.\n",
        "|Can easily capture Non-linear patterns.|Biased with imbalance dataset, so it is recommended that balance out the dataset before creating the decision tree.\n",
        "|It requires fewer data preprocessing from the user, for example, there is no need to normalize columns.|Greedy algorithms don’t yield the global optimum tree structure.\n",
        "|It can be used for feature engineering such as predicting missing values, suitable for variable selection.| As the branching goes deeper, you get exponentially less data.\n",
        "|It has no problem whether the inputs and outputs are binary, categorical or continuous"
      ]
    },
    {
      "cell_type": "markdown",
      "metadata": {
        "id": "wS7T3bDdZajZ"
      },
      "source": [
        "# Tasks [ 10 points ]"
      ]
    },
    {
      "cell_type": "markdown",
      "metadata": {
        "id": "40YO0fkuZajb"
      },
      "source": [
        "## Task 1 : Work with the COMPLETE [dataset](https://archive.ics.uci.edu/ml/datasets/adult)\n",
        "\n",
        "- **[ 2 points ] :** Load the dataset and perform the proper data preprocessing/ cleaning. Justify all your steps. Elaborate and descripe as much as possible. Don't worry, I will read everything.\n",
        "\n",
        "\n",
        "- **[ 2 point  ] :** Run our implementation on the complete dataset. Compare the accuracy you get with the one we got before. Explain why the results are either better or worse.\n",
        "\n",
        "\n",
        "- **[ 1 point  ] :** Perform hyper-parameter tuning using gridsearch. \n",
        "\n",
        "\n",
        "- **[ 1 point  ] :** Visualize the tree by using the sklearn functions. Discuss the first two features and attributes that the tree were split on. Do you they make sense for you? Why?\n",
        "\n",
        "\n",
        "- **[ 2 point  ] :** Plot the feature importance, and choose the most important 5 of them and run our algorithm only on them. Compare the accuracy you get with the accuracy you got on the full dataset. \n"
      ]
    },
    {
      "cell_type": "code",
      "metadata": {
        "id": "yRMF0kriOb-g",
        "outputId": "4aeba375-e114-48b3-c0ab-d4786668b8cd"
      },
      "source": [
        "df = pd.read_csv('adult.data')\n",
        "\n",
        "df_clean = df.copy()\n",
        "df.head()"
      ],
      "execution_count": null,
      "outputs": [
        {
          "data": {
            "text/html": [
              "<div>\n",
              "<style scoped>\n",
              "    .dataframe tbody tr th:only-of-type {\n",
              "        vertical-align: middle;\n",
              "    }\n",
              "\n",
              "    .dataframe tbody tr th {\n",
              "        vertical-align: top;\n",
              "    }\n",
              "\n",
              "    .dataframe thead th {\n",
              "        text-align: right;\n",
              "    }\n",
              "</style>\n",
              "<table border=\"1\" class=\"dataframe\">\n",
              "  <thead>\n",
              "    <tr style=\"text-align: right;\">\n",
              "      <th></th>\n",
              "      <th>39</th>\n",
              "      <th>State-gov</th>\n",
              "      <th>77516</th>\n",
              "      <th>Bachelors</th>\n",
              "      <th>13</th>\n",
              "      <th>Never-married</th>\n",
              "      <th>Adm-clerical</th>\n",
              "      <th>Not-in-family</th>\n",
              "      <th>White</th>\n",
              "      <th>Male</th>\n",
              "      <th>2174</th>\n",
              "      <th>0</th>\n",
              "      <th>40</th>\n",
              "      <th>United-States</th>\n",
              "      <th>&lt;=50K</th>\n",
              "    </tr>\n",
              "  </thead>\n",
              "  <tbody>\n",
              "    <tr>\n",
              "      <th>0</th>\n",
              "      <td>50</td>\n",
              "      <td>Self-emp-not-inc</td>\n",
              "      <td>83311</td>\n",
              "      <td>Bachelors</td>\n",
              "      <td>13</td>\n",
              "      <td>Married-civ-spouse</td>\n",
              "      <td>Exec-managerial</td>\n",
              "      <td>Husband</td>\n",
              "      <td>White</td>\n",
              "      <td>Male</td>\n",
              "      <td>0</td>\n",
              "      <td>0</td>\n",
              "      <td>13</td>\n",
              "      <td>United-States</td>\n",
              "      <td>&lt;=50K</td>\n",
              "    </tr>\n",
              "    <tr>\n",
              "      <th>1</th>\n",
              "      <td>38</td>\n",
              "      <td>Private</td>\n",
              "      <td>215646</td>\n",
              "      <td>HS-grad</td>\n",
              "      <td>9</td>\n",
              "      <td>Divorced</td>\n",
              "      <td>Handlers-cleaners</td>\n",
              "      <td>Not-in-family</td>\n",
              "      <td>White</td>\n",
              "      <td>Male</td>\n",
              "      <td>0</td>\n",
              "      <td>0</td>\n",
              "      <td>40</td>\n",
              "      <td>United-States</td>\n",
              "      <td>&lt;=50K</td>\n",
              "    </tr>\n",
              "    <tr>\n",
              "      <th>2</th>\n",
              "      <td>53</td>\n",
              "      <td>Private</td>\n",
              "      <td>234721</td>\n",
              "      <td>11th</td>\n",
              "      <td>7</td>\n",
              "      <td>Married-civ-spouse</td>\n",
              "      <td>Handlers-cleaners</td>\n",
              "      <td>Husband</td>\n",
              "      <td>Black</td>\n",
              "      <td>Male</td>\n",
              "      <td>0</td>\n",
              "      <td>0</td>\n",
              "      <td>40</td>\n",
              "      <td>United-States</td>\n",
              "      <td>&lt;=50K</td>\n",
              "    </tr>\n",
              "    <tr>\n",
              "      <th>3</th>\n",
              "      <td>28</td>\n",
              "      <td>Private</td>\n",
              "      <td>338409</td>\n",
              "      <td>Bachelors</td>\n",
              "      <td>13</td>\n",
              "      <td>Married-civ-spouse</td>\n",
              "      <td>Prof-specialty</td>\n",
              "      <td>Wife</td>\n",
              "      <td>Black</td>\n",
              "      <td>Female</td>\n",
              "      <td>0</td>\n",
              "      <td>0</td>\n",
              "      <td>40</td>\n",
              "      <td>Cuba</td>\n",
              "      <td>&lt;=50K</td>\n",
              "    </tr>\n",
              "    <tr>\n",
              "      <th>4</th>\n",
              "      <td>37</td>\n",
              "      <td>Private</td>\n",
              "      <td>284582</td>\n",
              "      <td>Masters</td>\n",
              "      <td>14</td>\n",
              "      <td>Married-civ-spouse</td>\n",
              "      <td>Exec-managerial</td>\n",
              "      <td>Wife</td>\n",
              "      <td>White</td>\n",
              "      <td>Female</td>\n",
              "      <td>0</td>\n",
              "      <td>0</td>\n",
              "      <td>40</td>\n",
              "      <td>United-States</td>\n",
              "      <td>&lt;=50K</td>\n",
              "    </tr>\n",
              "  </tbody>\n",
              "</table>\n",
              "</div>"
            ],
            "text/plain": [
              "   39          State-gov   77516   Bachelors   13        Never-married  \\\n",
              "0  50   Self-emp-not-inc   83311   Bachelors   13   Married-civ-spouse   \n",
              "1  38            Private  215646     HS-grad    9             Divorced   \n",
              "2  53            Private  234721        11th    7   Married-civ-spouse   \n",
              "3  28            Private  338409   Bachelors   13   Married-civ-spouse   \n",
              "4  37            Private  284582     Masters   14   Married-civ-spouse   \n",
              "\n",
              "         Adm-clerical   Not-in-family   White     Male   2174   0   40  \\\n",
              "0     Exec-managerial         Husband   White     Male      0   0   13   \n",
              "1   Handlers-cleaners   Not-in-family   White     Male      0   0   40   \n",
              "2   Handlers-cleaners         Husband   Black     Male      0   0   40   \n",
              "3      Prof-specialty            Wife   Black   Female      0   0   40   \n",
              "4     Exec-managerial            Wife   White   Female      0   0   40   \n",
              "\n",
              "    United-States   <=50K  \n",
              "0   United-States   <=50K  \n",
              "1   United-States   <=50K  \n",
              "2   United-States   <=50K  \n",
              "3            Cuba   <=50K  \n",
              "4   United-States   <=50K  "
            ]
          },
          "execution_count": 206,
          "metadata": {},
          "output_type": "execute_result"
        }
      ]
    },
    {
      "cell_type": "markdown",
      "metadata": {
        "id": "TAQNO2DAOb-h"
      },
      "source": [
        "### A very obvious problem here is that the columns' labels are all incorrect, they are values not labels."
      ]
    },
    {
      "cell_type": "code",
      "metadata": {
        "id": "SdhcrzsXOb-h",
        "outputId": "0c15ccd4-93e2-471d-dd7e-1cad258b4429"
      },
      "source": [
        "col = {'39': 'age', ' State-gov': 'workclass', ' 77516': 'fnlwgt'\n",
        "                             , ' Bachelors': 'education', ' 13': 'education-num', ' Never-married': 'marital-status',\n",
        "                             ' Adm-clerical': 'occupation', ' Not-in-family': 'relationship', ' White': 'race', ' Male': 'sex',\n",
        "                             ' 2174': 'capital-gain', ' 0': 'capital-loss', ' 40': 'hours-per-week',\n",
        "                             ' United-States': 'native-country', ' <=50K': 'eligible'}\n",
        "df.columns"
      ],
      "execution_count": null,
      "outputs": [
        {
          "data": {
            "text/plain": [
              "Index(['39', ' State-gov', ' 77516', ' Bachelors', ' 13', ' Never-married',\n",
              "       ' Adm-clerical', ' Not-in-family', ' White', ' Male', ' 2174', ' 0',\n",
              "       ' 40', ' United-States', ' <=50K'],\n",
              "      dtype='object')"
            ]
          },
          "execution_count": 207,
          "metadata": {},
          "output_type": "execute_result"
        }
      ]
    },
    {
      "cell_type": "code",
      "metadata": {
        "id": "ZsoGcAhHOb-h",
        "outputId": "8042cf54-226f-44f3-b554-74c1b858e093"
      },
      "source": [
        "df_clean = df.rename(columns=col) \n",
        "df_clean.head()\n"
      ],
      "execution_count": null,
      "outputs": [
        {
          "data": {
            "text/html": [
              "<div>\n",
              "<style scoped>\n",
              "    .dataframe tbody tr th:only-of-type {\n",
              "        vertical-align: middle;\n",
              "    }\n",
              "\n",
              "    .dataframe tbody tr th {\n",
              "        vertical-align: top;\n",
              "    }\n",
              "\n",
              "    .dataframe thead th {\n",
              "        text-align: right;\n",
              "    }\n",
              "</style>\n",
              "<table border=\"1\" class=\"dataframe\">\n",
              "  <thead>\n",
              "    <tr style=\"text-align: right;\">\n",
              "      <th></th>\n",
              "      <th>age</th>\n",
              "      <th>workclass</th>\n",
              "      <th>fnlwgt</th>\n",
              "      <th>education</th>\n",
              "      <th>education-num</th>\n",
              "      <th>marital-status</th>\n",
              "      <th>occupation</th>\n",
              "      <th>relationship</th>\n",
              "      <th>race</th>\n",
              "      <th>sex</th>\n",
              "      <th>capital-gain</th>\n",
              "      <th>capital-loss</th>\n",
              "      <th>hours-per-week</th>\n",
              "      <th>native-country</th>\n",
              "      <th>eligible</th>\n",
              "    </tr>\n",
              "  </thead>\n",
              "  <tbody>\n",
              "    <tr>\n",
              "      <th>0</th>\n",
              "      <td>50</td>\n",
              "      <td>Self-emp-not-inc</td>\n",
              "      <td>83311</td>\n",
              "      <td>Bachelors</td>\n",
              "      <td>13</td>\n",
              "      <td>Married-civ-spouse</td>\n",
              "      <td>Exec-managerial</td>\n",
              "      <td>Husband</td>\n",
              "      <td>White</td>\n",
              "      <td>Male</td>\n",
              "      <td>0</td>\n",
              "      <td>0</td>\n",
              "      <td>13</td>\n",
              "      <td>United-States</td>\n",
              "      <td>&lt;=50K</td>\n",
              "    </tr>\n",
              "    <tr>\n",
              "      <th>1</th>\n",
              "      <td>38</td>\n",
              "      <td>Private</td>\n",
              "      <td>215646</td>\n",
              "      <td>HS-grad</td>\n",
              "      <td>9</td>\n",
              "      <td>Divorced</td>\n",
              "      <td>Handlers-cleaners</td>\n",
              "      <td>Not-in-family</td>\n",
              "      <td>White</td>\n",
              "      <td>Male</td>\n",
              "      <td>0</td>\n",
              "      <td>0</td>\n",
              "      <td>40</td>\n",
              "      <td>United-States</td>\n",
              "      <td>&lt;=50K</td>\n",
              "    </tr>\n",
              "    <tr>\n",
              "      <th>2</th>\n",
              "      <td>53</td>\n",
              "      <td>Private</td>\n",
              "      <td>234721</td>\n",
              "      <td>11th</td>\n",
              "      <td>7</td>\n",
              "      <td>Married-civ-spouse</td>\n",
              "      <td>Handlers-cleaners</td>\n",
              "      <td>Husband</td>\n",
              "      <td>Black</td>\n",
              "      <td>Male</td>\n",
              "      <td>0</td>\n",
              "      <td>0</td>\n",
              "      <td>40</td>\n",
              "      <td>United-States</td>\n",
              "      <td>&lt;=50K</td>\n",
              "    </tr>\n",
              "    <tr>\n",
              "      <th>3</th>\n",
              "      <td>28</td>\n",
              "      <td>Private</td>\n",
              "      <td>338409</td>\n",
              "      <td>Bachelors</td>\n",
              "      <td>13</td>\n",
              "      <td>Married-civ-spouse</td>\n",
              "      <td>Prof-specialty</td>\n",
              "      <td>Wife</td>\n",
              "      <td>Black</td>\n",
              "      <td>Female</td>\n",
              "      <td>0</td>\n",
              "      <td>0</td>\n",
              "      <td>40</td>\n",
              "      <td>Cuba</td>\n",
              "      <td>&lt;=50K</td>\n",
              "    </tr>\n",
              "    <tr>\n",
              "      <th>4</th>\n",
              "      <td>37</td>\n",
              "      <td>Private</td>\n",
              "      <td>284582</td>\n",
              "      <td>Masters</td>\n",
              "      <td>14</td>\n",
              "      <td>Married-civ-spouse</td>\n",
              "      <td>Exec-managerial</td>\n",
              "      <td>Wife</td>\n",
              "      <td>White</td>\n",
              "      <td>Female</td>\n",
              "      <td>0</td>\n",
              "      <td>0</td>\n",
              "      <td>40</td>\n",
              "      <td>United-States</td>\n",
              "      <td>&lt;=50K</td>\n",
              "    </tr>\n",
              "  </tbody>\n",
              "</table>\n",
              "</div>"
            ],
            "text/plain": [
              "   age          workclass  fnlwgt   education  education-num  \\\n",
              "0   50   Self-emp-not-inc   83311   Bachelors             13   \n",
              "1   38            Private  215646     HS-grad              9   \n",
              "2   53            Private  234721        11th              7   \n",
              "3   28            Private  338409   Bachelors             13   \n",
              "4   37            Private  284582     Masters             14   \n",
              "\n",
              "        marital-status          occupation    relationship    race      sex  \\\n",
              "0   Married-civ-spouse     Exec-managerial         Husband   White     Male   \n",
              "1             Divorced   Handlers-cleaners   Not-in-family   White     Male   \n",
              "2   Married-civ-spouse   Handlers-cleaners         Husband   Black     Male   \n",
              "3   Married-civ-spouse      Prof-specialty            Wife   Black   Female   \n",
              "4   Married-civ-spouse     Exec-managerial            Wife   White   Female   \n",
              "\n",
              "   capital-gain  capital-loss  hours-per-week  native-country eligible  \n",
              "0             0             0              13   United-States    <=50K  \n",
              "1             0             0              40   United-States    <=50K  \n",
              "2             0             0              40   United-States    <=50K  \n",
              "3             0             0              40            Cuba    <=50K  \n",
              "4             0             0              40   United-States    <=50K  "
            ]
          },
          "execution_count": 208,
          "metadata": {},
          "output_type": "execute_result"
        }
      ]
    },
    {
      "cell_type": "code",
      "metadata": {
        "id": "eh6ThImDOb-i",
        "outputId": "cb45c83b-41f6-4616-926a-344bdd6e07aa"
      },
      "source": [
        "df_clean.info()"
      ],
      "execution_count": null,
      "outputs": [
        {
          "name": "stdout",
          "output_type": "stream",
          "text": [
            "<class 'pandas.core.frame.DataFrame'>\n",
            "RangeIndex: 32560 entries, 0 to 32559\n",
            "Data columns (total 15 columns):\n",
            " #   Column          Non-Null Count  Dtype \n",
            "---  ------          --------------  ----- \n",
            " 0   age             32560 non-null  int64 \n",
            " 1   workclass       32560 non-null  object\n",
            " 2   fnlwgt          32560 non-null  int64 \n",
            " 3   education       32560 non-null  object\n",
            " 4   education-num   32560 non-null  int64 \n",
            " 5   marital-status  32560 non-null  object\n",
            " 6   occupation      32560 non-null  object\n",
            " 7   relationship    32560 non-null  object\n",
            " 8   race            32560 non-null  object\n",
            " 9   sex             32560 non-null  object\n",
            " 10  capital-gain    32560 non-null  int64 \n",
            " 11  capital-loss    32560 non-null  int64 \n",
            " 12  hours-per-week  32560 non-null  int64 \n",
            " 13  native-country  32560 non-null  object\n",
            " 14  eligible        32560 non-null  object\n",
            "dtypes: int64(6), object(9)\n",
            "memory usage: 3.7+ MB\n"
          ]
        }
      ]
    },
    {
      "cell_type": "markdown",
      "metadata": {
        "id": "ZBdw7xbyOb-i"
      },
      "source": [
        "### There are no null values, the data is complete. \n",
        "### The dataypes are right "
      ]
    },
    {
      "cell_type": "code",
      "metadata": {
        "id": "TQ4r_T1BOb-i",
        "outputId": "55690a47-57a6-4f2f-f89e-96851a21c525"
      },
      "source": [
        "df_clean.describe()"
      ],
      "execution_count": null,
      "outputs": [
        {
          "data": {
            "text/html": [
              "<div>\n",
              "<style scoped>\n",
              "    .dataframe tbody tr th:only-of-type {\n",
              "        vertical-align: middle;\n",
              "    }\n",
              "\n",
              "    .dataframe tbody tr th {\n",
              "        vertical-align: top;\n",
              "    }\n",
              "\n",
              "    .dataframe thead th {\n",
              "        text-align: right;\n",
              "    }\n",
              "</style>\n",
              "<table border=\"1\" class=\"dataframe\">\n",
              "  <thead>\n",
              "    <tr style=\"text-align: right;\">\n",
              "      <th></th>\n",
              "      <th>age</th>\n",
              "      <th>fnlwgt</th>\n",
              "      <th>education-num</th>\n",
              "      <th>capital-gain</th>\n",
              "      <th>capital-loss</th>\n",
              "      <th>hours-per-week</th>\n",
              "    </tr>\n",
              "  </thead>\n",
              "  <tbody>\n",
              "    <tr>\n",
              "      <th>count</th>\n",
              "      <td>32560.000000</td>\n",
              "      <td>3.256000e+04</td>\n",
              "      <td>32560.000000</td>\n",
              "      <td>32560.000000</td>\n",
              "      <td>32560.000000</td>\n",
              "      <td>32560.000000</td>\n",
              "    </tr>\n",
              "    <tr>\n",
              "      <th>mean</th>\n",
              "      <td>38.581634</td>\n",
              "      <td>1.897818e+05</td>\n",
              "      <td>10.080590</td>\n",
              "      <td>1077.615172</td>\n",
              "      <td>87.306511</td>\n",
              "      <td>40.437469</td>\n",
              "    </tr>\n",
              "    <tr>\n",
              "      <th>std</th>\n",
              "      <td>13.640642</td>\n",
              "      <td>1.055498e+05</td>\n",
              "      <td>2.572709</td>\n",
              "      <td>7385.402999</td>\n",
              "      <td>402.966116</td>\n",
              "      <td>12.347618</td>\n",
              "    </tr>\n",
              "    <tr>\n",
              "      <th>min</th>\n",
              "      <td>17.000000</td>\n",
              "      <td>1.228500e+04</td>\n",
              "      <td>1.000000</td>\n",
              "      <td>0.000000</td>\n",
              "      <td>0.000000</td>\n",
              "      <td>1.000000</td>\n",
              "    </tr>\n",
              "    <tr>\n",
              "      <th>25%</th>\n",
              "      <td>28.000000</td>\n",
              "      <td>1.178315e+05</td>\n",
              "      <td>9.000000</td>\n",
              "      <td>0.000000</td>\n",
              "      <td>0.000000</td>\n",
              "      <td>40.000000</td>\n",
              "    </tr>\n",
              "    <tr>\n",
              "      <th>50%</th>\n",
              "      <td>37.000000</td>\n",
              "      <td>1.783630e+05</td>\n",
              "      <td>10.000000</td>\n",
              "      <td>0.000000</td>\n",
              "      <td>0.000000</td>\n",
              "      <td>40.000000</td>\n",
              "    </tr>\n",
              "    <tr>\n",
              "      <th>75%</th>\n",
              "      <td>48.000000</td>\n",
              "      <td>2.370545e+05</td>\n",
              "      <td>12.000000</td>\n",
              "      <td>0.000000</td>\n",
              "      <td>0.000000</td>\n",
              "      <td>45.000000</td>\n",
              "    </tr>\n",
              "    <tr>\n",
              "      <th>max</th>\n",
              "      <td>90.000000</td>\n",
              "      <td>1.484705e+06</td>\n",
              "      <td>16.000000</td>\n",
              "      <td>99999.000000</td>\n",
              "      <td>4356.000000</td>\n",
              "      <td>99.000000</td>\n",
              "    </tr>\n",
              "  </tbody>\n",
              "</table>\n",
              "</div>"
            ],
            "text/plain": [
              "                age        fnlwgt  education-num  capital-gain  capital-loss  \\\n",
              "count  32560.000000  3.256000e+04   32560.000000  32560.000000  32560.000000   \n",
              "mean      38.581634  1.897818e+05      10.080590   1077.615172     87.306511   \n",
              "std       13.640642  1.055498e+05       2.572709   7385.402999    402.966116   \n",
              "min       17.000000  1.228500e+04       1.000000      0.000000      0.000000   \n",
              "25%       28.000000  1.178315e+05       9.000000      0.000000      0.000000   \n",
              "50%       37.000000  1.783630e+05      10.000000      0.000000      0.000000   \n",
              "75%       48.000000  2.370545e+05      12.000000      0.000000      0.000000   \n",
              "max       90.000000  1.484705e+06      16.000000  99999.000000   4356.000000   \n",
              "\n",
              "       hours-per-week  \n",
              "count    32560.000000  \n",
              "mean        40.437469  \n",
              "std         12.347618  \n",
              "min          1.000000  \n",
              "25%         40.000000  \n",
              "50%         40.000000  \n",
              "75%         45.000000  \n",
              "max         99.000000  "
            ]
          },
          "execution_count": 210,
          "metadata": {},
          "output_type": "execute_result"
        }
      ]
    },
    {
      "cell_type": "markdown",
      "metadata": {
        "id": "ihIjLQ8JOb-i"
      },
      "source": [
        "### The data is not normalized nor standardized "
      ]
    },
    {
      "cell_type": "code",
      "metadata": {
        "id": "bTUKGZ1VOb-j",
        "outputId": "dc1f2456-fa1b-49db-d33e-402218a7a1cb"
      },
      "source": [
        "df_clean.sample(20)"
      ],
      "execution_count": null,
      "outputs": [
        {
          "data": {
            "text/html": [
              "<div>\n",
              "<style scoped>\n",
              "    .dataframe tbody tr th:only-of-type {\n",
              "        vertical-align: middle;\n",
              "    }\n",
              "\n",
              "    .dataframe tbody tr th {\n",
              "        vertical-align: top;\n",
              "    }\n",
              "\n",
              "    .dataframe thead th {\n",
              "        text-align: right;\n",
              "    }\n",
              "</style>\n",
              "<table border=\"1\" class=\"dataframe\">\n",
              "  <thead>\n",
              "    <tr style=\"text-align: right;\">\n",
              "      <th></th>\n",
              "      <th>age</th>\n",
              "      <th>workclass</th>\n",
              "      <th>fnlwgt</th>\n",
              "      <th>education</th>\n",
              "      <th>education-num</th>\n",
              "      <th>marital-status</th>\n",
              "      <th>occupation</th>\n",
              "      <th>relationship</th>\n",
              "      <th>race</th>\n",
              "      <th>sex</th>\n",
              "      <th>capital-gain</th>\n",
              "      <th>capital-loss</th>\n",
              "      <th>hours-per-week</th>\n",
              "      <th>native-country</th>\n",
              "      <th>eligible</th>\n",
              "    </tr>\n",
              "  </thead>\n",
              "  <tbody>\n",
              "    <tr>\n",
              "      <th>32514</th>\n",
              "      <td>66</td>\n",
              "      <td>Federal-gov</td>\n",
              "      <td>47358</td>\n",
              "      <td>10th</td>\n",
              "      <td>6</td>\n",
              "      <td>Married-civ-spouse</td>\n",
              "      <td>Craft-repair</td>\n",
              "      <td>Husband</td>\n",
              "      <td>White</td>\n",
              "      <td>Male</td>\n",
              "      <td>3471</td>\n",
              "      <td>0</td>\n",
              "      <td>40</td>\n",
              "      <td>United-States</td>\n",
              "      <td>&lt;=50K</td>\n",
              "    </tr>\n",
              "    <tr>\n",
              "      <th>27432</th>\n",
              "      <td>29</td>\n",
              "      <td>Private</td>\n",
              "      <td>187188</td>\n",
              "      <td>Masters</td>\n",
              "      <td>14</td>\n",
              "      <td>Never-married</td>\n",
              "      <td>Exec-managerial</td>\n",
              "      <td>Not-in-family</td>\n",
              "      <td>Asian-Pac-Islander</td>\n",
              "      <td>Male</td>\n",
              "      <td>0</td>\n",
              "      <td>0</td>\n",
              "      <td>60</td>\n",
              "      <td>United-States</td>\n",
              "      <td>&lt;=50K</td>\n",
              "    </tr>\n",
              "    <tr>\n",
              "      <th>16800</th>\n",
              "      <td>56</td>\n",
              "      <td>Private</td>\n",
              "      <td>111218</td>\n",
              "      <td>HS-grad</td>\n",
              "      <td>9</td>\n",
              "      <td>Married-civ-spouse</td>\n",
              "      <td>Transport-moving</td>\n",
              "      <td>Husband</td>\n",
              "      <td>White</td>\n",
              "      <td>Male</td>\n",
              "      <td>0</td>\n",
              "      <td>0</td>\n",
              "      <td>60</td>\n",
              "      <td>United-States</td>\n",
              "      <td>&lt;=50K</td>\n",
              "    </tr>\n",
              "    <tr>\n",
              "      <th>26931</th>\n",
              "      <td>25</td>\n",
              "      <td>Private</td>\n",
              "      <td>113035</td>\n",
              "      <td>Some-college</td>\n",
              "      <td>10</td>\n",
              "      <td>Never-married</td>\n",
              "      <td>Exec-managerial</td>\n",
              "      <td>Own-child</td>\n",
              "      <td>White</td>\n",
              "      <td>Male</td>\n",
              "      <td>0</td>\n",
              "      <td>0</td>\n",
              "      <td>40</td>\n",
              "      <td>United-States</td>\n",
              "      <td>&lt;=50K</td>\n",
              "    </tr>\n",
              "    <tr>\n",
              "      <th>29303</th>\n",
              "      <td>24</td>\n",
              "      <td>Private</td>\n",
              "      <td>44738</td>\n",
              "      <td>HS-grad</td>\n",
              "      <td>9</td>\n",
              "      <td>Never-married</td>\n",
              "      <td>Handlers-cleaners</td>\n",
              "      <td>Other-relative</td>\n",
              "      <td>White</td>\n",
              "      <td>Male</td>\n",
              "      <td>0</td>\n",
              "      <td>0</td>\n",
              "      <td>40</td>\n",
              "      <td>United-States</td>\n",
              "      <td>&lt;=50K</td>\n",
              "    </tr>\n",
              "    <tr>\n",
              "      <th>18080</th>\n",
              "      <td>31</td>\n",
              "      <td>Private</td>\n",
              "      <td>192900</td>\n",
              "      <td>Some-college</td>\n",
              "      <td>10</td>\n",
              "      <td>Never-married</td>\n",
              "      <td>Other-service</td>\n",
              "      <td>Not-in-family</td>\n",
              "      <td>White</td>\n",
              "      <td>Male</td>\n",
              "      <td>0</td>\n",
              "      <td>0</td>\n",
              "      <td>40</td>\n",
              "      <td>United-States</td>\n",
              "      <td>&lt;=50K</td>\n",
              "    </tr>\n",
              "    <tr>\n",
              "      <th>28181</th>\n",
              "      <td>23</td>\n",
              "      <td>Self-emp-inc</td>\n",
              "      <td>39844</td>\n",
              "      <td>HS-grad</td>\n",
              "      <td>9</td>\n",
              "      <td>Never-married</td>\n",
              "      <td>Transport-moving</td>\n",
              "      <td>Not-in-family</td>\n",
              "      <td>White</td>\n",
              "      <td>Male</td>\n",
              "      <td>0</td>\n",
              "      <td>0</td>\n",
              "      <td>50</td>\n",
              "      <td>United-States</td>\n",
              "      <td>&lt;=50K</td>\n",
              "    </tr>\n",
              "    <tr>\n",
              "      <th>10451</th>\n",
              "      <td>31</td>\n",
              "      <td>Local-gov</td>\n",
              "      <td>213307</td>\n",
              "      <td>HS-grad</td>\n",
              "      <td>9</td>\n",
              "      <td>Never-married</td>\n",
              "      <td>Adm-clerical</td>\n",
              "      <td>Own-child</td>\n",
              "      <td>White</td>\n",
              "      <td>Female</td>\n",
              "      <td>0</td>\n",
              "      <td>0</td>\n",
              "      <td>40</td>\n",
              "      <td>United-States</td>\n",
              "      <td>&lt;=50K</td>\n",
              "    </tr>\n",
              "    <tr>\n",
              "      <th>22384</th>\n",
              "      <td>47</td>\n",
              "      <td>Private</td>\n",
              "      <td>246739</td>\n",
              "      <td>Bachelors</td>\n",
              "      <td>13</td>\n",
              "      <td>Married-civ-spouse</td>\n",
              "      <td>Exec-managerial</td>\n",
              "      <td>Husband</td>\n",
              "      <td>White</td>\n",
              "      <td>Male</td>\n",
              "      <td>99999</td>\n",
              "      <td>0</td>\n",
              "      <td>55</td>\n",
              "      <td>United-States</td>\n",
              "      <td>&gt;50K</td>\n",
              "    </tr>\n",
              "    <tr>\n",
              "      <th>16016</th>\n",
              "      <td>41</td>\n",
              "      <td>Private</td>\n",
              "      <td>207578</td>\n",
              "      <td>Assoc-acdm</td>\n",
              "      <td>12</td>\n",
              "      <td>Married-civ-spouse</td>\n",
              "      <td>Exec-managerial</td>\n",
              "      <td>Husband</td>\n",
              "      <td>Black</td>\n",
              "      <td>Male</td>\n",
              "      <td>0</td>\n",
              "      <td>0</td>\n",
              "      <td>50</td>\n",
              "      <td>India</td>\n",
              "      <td>&gt;50K</td>\n",
              "    </tr>\n",
              "    <tr>\n",
              "      <th>17767</th>\n",
              "      <td>37</td>\n",
              "      <td>Private</td>\n",
              "      <td>178948</td>\n",
              "      <td>Bachelors</td>\n",
              "      <td>13</td>\n",
              "      <td>Never-married</td>\n",
              "      <td>Prof-specialty</td>\n",
              "      <td>Not-in-family</td>\n",
              "      <td>White</td>\n",
              "      <td>Female</td>\n",
              "      <td>0</td>\n",
              "      <td>0</td>\n",
              "      <td>45</td>\n",
              "      <td>United-States</td>\n",
              "      <td>&lt;=50K</td>\n",
              "    </tr>\n",
              "    <tr>\n",
              "      <th>23884</th>\n",
              "      <td>40</td>\n",
              "      <td>Private</td>\n",
              "      <td>231991</td>\n",
              "      <td>HS-grad</td>\n",
              "      <td>9</td>\n",
              "      <td>Divorced</td>\n",
              "      <td>Exec-managerial</td>\n",
              "      <td>Unmarried</td>\n",
              "      <td>White</td>\n",
              "      <td>Female</td>\n",
              "      <td>0</td>\n",
              "      <td>0</td>\n",
              "      <td>40</td>\n",
              "      <td>United-States</td>\n",
              "      <td>&lt;=50K</td>\n",
              "    </tr>\n",
              "    <tr>\n",
              "      <th>19713</th>\n",
              "      <td>19</td>\n",
              "      <td>Private</td>\n",
              "      <td>109005</td>\n",
              "      <td>Some-college</td>\n",
              "      <td>10</td>\n",
              "      <td>Never-married</td>\n",
              "      <td>Prof-specialty</td>\n",
              "      <td>Own-child</td>\n",
              "      <td>White</td>\n",
              "      <td>Female</td>\n",
              "      <td>0</td>\n",
              "      <td>0</td>\n",
              "      <td>40</td>\n",
              "      <td>United-States</td>\n",
              "      <td>&lt;=50K</td>\n",
              "    </tr>\n",
              "    <tr>\n",
              "      <th>6069</th>\n",
              "      <td>48</td>\n",
              "      <td>Self-emp-not-inc</td>\n",
              "      <td>185385</td>\n",
              "      <td>HS-grad</td>\n",
              "      <td>9</td>\n",
              "      <td>Married-civ-spouse</td>\n",
              "      <td>Farming-fishing</td>\n",
              "      <td>Husband</td>\n",
              "      <td>White</td>\n",
              "      <td>Male</td>\n",
              "      <td>0</td>\n",
              "      <td>0</td>\n",
              "      <td>98</td>\n",
              "      <td>United-States</td>\n",
              "      <td>&lt;=50K</td>\n",
              "    </tr>\n",
              "    <tr>\n",
              "      <th>14011</th>\n",
              "      <td>28</td>\n",
              "      <td>Private</td>\n",
              "      <td>338376</td>\n",
              "      <td>Some-college</td>\n",
              "      <td>10</td>\n",
              "      <td>Married-civ-spouse</td>\n",
              "      <td>Adm-clerical</td>\n",
              "      <td>Husband</td>\n",
              "      <td>White</td>\n",
              "      <td>Male</td>\n",
              "      <td>0</td>\n",
              "      <td>0</td>\n",
              "      <td>50</td>\n",
              "      <td>United-States</td>\n",
              "      <td>&gt;50K</td>\n",
              "    </tr>\n",
              "    <tr>\n",
              "      <th>5740</th>\n",
              "      <td>46</td>\n",
              "      <td>Private</td>\n",
              "      <td>256522</td>\n",
              "      <td>1st-4th</td>\n",
              "      <td>2</td>\n",
              "      <td>Never-married</td>\n",
              "      <td>Machine-op-inspct</td>\n",
              "      <td>Own-child</td>\n",
              "      <td>White</td>\n",
              "      <td>Male</td>\n",
              "      <td>0</td>\n",
              "      <td>0</td>\n",
              "      <td>40</td>\n",
              "      <td>Puerto-Rico</td>\n",
              "      <td>&lt;=50K</td>\n",
              "    </tr>\n",
              "    <tr>\n",
              "      <th>23656</th>\n",
              "      <td>37</td>\n",
              "      <td>Private</td>\n",
              "      <td>111499</td>\n",
              "      <td>Some-college</td>\n",
              "      <td>10</td>\n",
              "      <td>Never-married</td>\n",
              "      <td>Exec-managerial</td>\n",
              "      <td>Not-in-family</td>\n",
              "      <td>White</td>\n",
              "      <td>Female</td>\n",
              "      <td>0</td>\n",
              "      <td>0</td>\n",
              "      <td>40</td>\n",
              "      <td>United-States</td>\n",
              "      <td>&lt;=50K</td>\n",
              "    </tr>\n",
              "    <tr>\n",
              "      <th>24646</th>\n",
              "      <td>20</td>\n",
              "      <td>Private</td>\n",
              "      <td>250630</td>\n",
              "      <td>Some-college</td>\n",
              "      <td>10</td>\n",
              "      <td>Never-married</td>\n",
              "      <td>Sales</td>\n",
              "      <td>Not-in-family</td>\n",
              "      <td>White</td>\n",
              "      <td>Female</td>\n",
              "      <td>0</td>\n",
              "      <td>0</td>\n",
              "      <td>20</td>\n",
              "      <td>United-States</td>\n",
              "      <td>&lt;=50K</td>\n",
              "    </tr>\n",
              "    <tr>\n",
              "      <th>25140</th>\n",
              "      <td>23</td>\n",
              "      <td>Private</td>\n",
              "      <td>41721</td>\n",
              "      <td>Assoc-voc</td>\n",
              "      <td>11</td>\n",
              "      <td>Married-civ-spouse</td>\n",
              "      <td>Craft-repair</td>\n",
              "      <td>Husband</td>\n",
              "      <td>White</td>\n",
              "      <td>Male</td>\n",
              "      <td>0</td>\n",
              "      <td>0</td>\n",
              "      <td>55</td>\n",
              "      <td>United-States</td>\n",
              "      <td>&gt;50K</td>\n",
              "    </tr>\n",
              "    <tr>\n",
              "      <th>230</th>\n",
              "      <td>41</td>\n",
              "      <td>Private</td>\n",
              "      <td>130408</td>\n",
              "      <td>HS-grad</td>\n",
              "      <td>9</td>\n",
              "      <td>Divorced</td>\n",
              "      <td>Sales</td>\n",
              "      <td>Unmarried</td>\n",
              "      <td>Black</td>\n",
              "      <td>Female</td>\n",
              "      <td>0</td>\n",
              "      <td>0</td>\n",
              "      <td>38</td>\n",
              "      <td>United-States</td>\n",
              "      <td>&lt;=50K</td>\n",
              "    </tr>\n",
              "  </tbody>\n",
              "</table>\n",
              "</div>"
            ],
            "text/plain": [
              "       age          workclass  fnlwgt      education  education-num  \\\n",
              "32514   66        Federal-gov   47358           10th              6   \n",
              "27432   29            Private  187188        Masters             14   \n",
              "16800   56            Private  111218        HS-grad              9   \n",
              "26931   25            Private  113035   Some-college             10   \n",
              "29303   24            Private   44738        HS-grad              9   \n",
              "18080   31            Private  192900   Some-college             10   \n",
              "28181   23       Self-emp-inc   39844        HS-grad              9   \n",
              "10451   31          Local-gov  213307        HS-grad              9   \n",
              "22384   47            Private  246739      Bachelors             13   \n",
              "16016   41            Private  207578     Assoc-acdm             12   \n",
              "17767   37            Private  178948      Bachelors             13   \n",
              "23884   40            Private  231991        HS-grad              9   \n",
              "19713   19            Private  109005   Some-college             10   \n",
              "6069    48   Self-emp-not-inc  185385        HS-grad              9   \n",
              "14011   28            Private  338376   Some-college             10   \n",
              "5740    46            Private  256522        1st-4th              2   \n",
              "23656   37            Private  111499   Some-college             10   \n",
              "24646   20            Private  250630   Some-college             10   \n",
              "25140   23            Private   41721      Assoc-voc             11   \n",
              "230     41            Private  130408        HS-grad              9   \n",
              "\n",
              "            marital-status          occupation     relationship  \\\n",
              "32514   Married-civ-spouse        Craft-repair          Husband   \n",
              "27432        Never-married     Exec-managerial    Not-in-family   \n",
              "16800   Married-civ-spouse    Transport-moving          Husband   \n",
              "26931        Never-married     Exec-managerial        Own-child   \n",
              "29303        Never-married   Handlers-cleaners   Other-relative   \n",
              "18080        Never-married       Other-service    Not-in-family   \n",
              "28181        Never-married    Transport-moving    Not-in-family   \n",
              "10451        Never-married        Adm-clerical        Own-child   \n",
              "22384   Married-civ-spouse     Exec-managerial          Husband   \n",
              "16016   Married-civ-spouse     Exec-managerial          Husband   \n",
              "17767        Never-married      Prof-specialty    Not-in-family   \n",
              "23884             Divorced     Exec-managerial        Unmarried   \n",
              "19713        Never-married      Prof-specialty        Own-child   \n",
              "6069    Married-civ-spouse     Farming-fishing          Husband   \n",
              "14011   Married-civ-spouse        Adm-clerical          Husband   \n",
              "5740         Never-married   Machine-op-inspct        Own-child   \n",
              "23656        Never-married     Exec-managerial    Not-in-family   \n",
              "24646        Never-married               Sales    Not-in-family   \n",
              "25140   Married-civ-spouse        Craft-repair          Husband   \n",
              "230               Divorced               Sales        Unmarried   \n",
              "\n",
              "                      race      sex  capital-gain  capital-loss  \\\n",
              "32514                White     Male          3471             0   \n",
              "27432   Asian-Pac-Islander     Male             0             0   \n",
              "16800                White     Male             0             0   \n",
              "26931                White     Male             0             0   \n",
              "29303                White     Male             0             0   \n",
              "18080                White     Male             0             0   \n",
              "28181                White     Male             0             0   \n",
              "10451                White   Female             0             0   \n",
              "22384                White     Male         99999             0   \n",
              "16016                Black     Male             0             0   \n",
              "17767                White   Female             0             0   \n",
              "23884                White   Female             0             0   \n",
              "19713                White   Female             0             0   \n",
              "6069                 White     Male             0             0   \n",
              "14011                White     Male             0             0   \n",
              "5740                 White     Male             0             0   \n",
              "23656                White   Female             0             0   \n",
              "24646                White   Female             0             0   \n",
              "25140                White     Male             0             0   \n",
              "230                  Black   Female             0             0   \n",
              "\n",
              "       hours-per-week  native-country eligible  \n",
              "32514              40   United-States    <=50K  \n",
              "27432              60   United-States    <=50K  \n",
              "16800              60   United-States    <=50K  \n",
              "26931              40   United-States    <=50K  \n",
              "29303              40   United-States    <=50K  \n",
              "18080              40   United-States    <=50K  \n",
              "28181              50   United-States    <=50K  \n",
              "10451              40   United-States    <=50K  \n",
              "22384              55   United-States     >50K  \n",
              "16016              50           India     >50K  \n",
              "17767              45   United-States    <=50K  \n",
              "23884              40   United-States    <=50K  \n",
              "19713              40   United-States    <=50K  \n",
              "6069               98   United-States    <=50K  \n",
              "14011              50   United-States     >50K  \n",
              "5740               40     Puerto-Rico    <=50K  \n",
              "23656              40   United-States    <=50K  \n",
              "24646              20   United-States    <=50K  \n",
              "25140              55   United-States     >50K  \n",
              "230                38   United-States    <=50K  "
            ]
          },
          "execution_count": 211,
          "metadata": {},
          "output_type": "execute_result"
        }
      ]
    },
    {
      "cell_type": "markdown",
      "metadata": {
        "id": "p-0puXcJOb-j"
      },
      "source": [
        "### Now the `eligible` column's values should be changed to `yes` , `no` ,\n",
        "### or `1` for eligible (>50K) and `0` for not eligible (<=50K)"
      ]
    },
    {
      "cell_type": "code",
      "metadata": {
        "id": "JL3nc52BOb-j",
        "outputId": "128fe8f8-857e-4ad2-d8d2-6edffcdba8cb"
      },
      "source": [
        "#df_clean[df_clean['eligible'] == \" >50K\"].eligible\n",
        "df_clean['eligible'] = df_clean.eligible.apply(lambda x: 1 if x == \" >50K\" else 0)\n",
        "#df_clean[df_clean['eligible'] == \" <=50K\"].eligible = 0\n",
        "\n",
        "df_clean['eligible'].value_counts()\n"
      ],
      "execution_count": null,
      "outputs": [
        {
          "data": {
            "text/plain": [
              "0    24719\n",
              "1     7841\n",
              "Name: eligible, dtype: int64"
            ]
          },
          "execution_count": 212,
          "metadata": {},
          "output_type": "execute_result"
        }
      ]
    },
    {
      "cell_type": "code",
      "metadata": {
        "id": "aE5ouT3bOb-k",
        "outputId": "89988e76-c26f-45c3-81a9-60696703708e"
      },
      "source": [
        "df_clean['workclass'].value_counts()"
      ],
      "execution_count": null,
      "outputs": [
        {
          "data": {
            "text/plain": [
              " Private             22696\n",
              " Self-emp-not-inc     2541\n",
              " Local-gov            2093\n",
              " ?                    1836\n",
              " State-gov            1297\n",
              " Self-emp-inc         1116\n",
              " Federal-gov           960\n",
              " Without-pay            14\n",
              " Never-worked            7\n",
              "Name: workclass, dtype: int64"
            ]
          },
          "execution_count": 213,
          "metadata": {},
          "output_type": "execute_result"
        }
      ]
    },
    {
      "cell_type": "code",
      "metadata": {
        "id": "Bp_vn6ocOb-k",
        "outputId": "d6dc3df8-c134-4ca8-c14e-adebde53f807"
      },
      "source": [
        "df_clean['occupation'].value_counts()"
      ],
      "execution_count": null,
      "outputs": [
        {
          "data": {
            "text/plain": [
              " Prof-specialty       4140\n",
              " Craft-repair         4099\n",
              " Exec-managerial      4066\n",
              " Adm-clerical         3769\n",
              " Sales                3650\n",
              " Other-service        3295\n",
              " Machine-op-inspct    2002\n",
              " ?                    1843\n",
              " Transport-moving     1597\n",
              " Handlers-cleaners    1370\n",
              " Farming-fishing       994\n",
              " Tech-support          928\n",
              " Protective-serv       649\n",
              " Priv-house-serv       149\n",
              " Armed-Forces            9\n",
              "Name: occupation, dtype: int64"
            ]
          },
          "execution_count": 214,
          "metadata": {},
          "output_type": "execute_result"
        }
      ]
    },
    {
      "cell_type": "code",
      "metadata": {
        "id": "eQ_t5EhlOb-k",
        "outputId": "c0f87081-768d-41f1-c5b1-eb0c8a9bda8a"
      },
      "source": [
        "v_c = {}\n",
        "for col in df_clean.columns:\n",
        "    v_c [col] = [df_clean[col].value_counts()]\n",
        "v_c"
      ],
      "execution_count": null,
      "outputs": [
        {
          "data": {
            "text/plain": [
              "{'age': [36    898\n",
              "  31    888\n",
              "  34    886\n",
              "  23    877\n",
              "  35    876\n",
              "       ... \n",
              "  83      6\n",
              "  85      3\n",
              "  88      3\n",
              "  87      1\n",
              "  86      1\n",
              "  Name: age, Length: 73, dtype: int64],\n",
              " 'workclass': [ Private             22696\n",
              "   Self-emp-not-inc     2541\n",
              "   Local-gov            2093\n",
              "   ?                    1836\n",
              "   State-gov            1297\n",
              "   Self-emp-inc         1116\n",
              "   Federal-gov           960\n",
              "   Without-pay            14\n",
              "   Never-worked            7\n",
              "  Name: workclass, dtype: int64],\n",
              " 'fnlwgt': [123011    13\n",
              "  203488    13\n",
              "  164190    13\n",
              "  121124    12\n",
              "  148995    12\n",
              "            ..\n",
              "  68318      1\n",
              "  284211     1\n",
              "  312881     1\n",
              "  177711     1\n",
              "  229376     1\n",
              "  Name: fnlwgt, Length: 21647, dtype: int64],\n",
              " 'education': [ HS-grad         10501\n",
              "   Some-college     7291\n",
              "   Bachelors        5354\n",
              "   Masters          1723\n",
              "   Assoc-voc        1382\n",
              "   11th             1175\n",
              "   Assoc-acdm       1067\n",
              "   10th              933\n",
              "   7th-8th           646\n",
              "   Prof-school       576\n",
              "   9th               514\n",
              "   12th              433\n",
              "   Doctorate         413\n",
              "   5th-6th           333\n",
              "   1st-4th           168\n",
              "   Preschool          51\n",
              "  Name: education, dtype: int64],\n",
              " 'education-num': [9     10501\n",
              "  10     7291\n",
              "  13     5354\n",
              "  14     1723\n",
              "  11     1382\n",
              "  7      1175\n",
              "  12     1067\n",
              "  6       933\n",
              "  4       646\n",
              "  15      576\n",
              "  5       514\n",
              "  8       433\n",
              "  16      413\n",
              "  3       333\n",
              "  2       168\n",
              "  1        51\n",
              "  Name: education-num, dtype: int64],\n",
              " 'marital-status': [ Married-civ-spouse       14976\n",
              "   Never-married            10682\n",
              "   Divorced                  4443\n",
              "   Separated                 1025\n",
              "   Widowed                    993\n",
              "   Married-spouse-absent      418\n",
              "   Married-AF-spouse           23\n",
              "  Name: marital-status, dtype: int64],\n",
              " 'occupation': [ Prof-specialty       4140\n",
              "   Craft-repair         4099\n",
              "   Exec-managerial      4066\n",
              "   Adm-clerical         3769\n",
              "   Sales                3650\n",
              "   Other-service        3295\n",
              "   Machine-op-inspct    2002\n",
              "   ?                    1843\n",
              "   Transport-moving     1597\n",
              "   Handlers-cleaners    1370\n",
              "   Farming-fishing       994\n",
              "   Tech-support          928\n",
              "   Protective-serv       649\n",
              "   Priv-house-serv       149\n",
              "   Armed-Forces            9\n",
              "  Name: occupation, dtype: int64],\n",
              " 'relationship': [ Husband           13193\n",
              "   Not-in-family      8304\n",
              "   Own-child          5068\n",
              "   Unmarried          3446\n",
              "   Wife               1568\n",
              "   Other-relative      981\n",
              "  Name: relationship, dtype: int64],\n",
              " 'race': [ White                 27815\n",
              "   Black                  3124\n",
              "   Asian-Pac-Islander     1039\n",
              "   Amer-Indian-Eskimo      311\n",
              "   Other                   271\n",
              "  Name: race, dtype: int64],\n",
              " 'sex': [ Male      21789\n",
              "   Female    10771\n",
              "  Name: sex, dtype: int64],\n",
              " 'capital-gain': [0        29849\n",
              "  15024      347\n",
              "  7688       284\n",
              "  7298       246\n",
              "  99999      159\n",
              "           ...  \n",
              "  4931         1\n",
              "  1455         1\n",
              "  6097         1\n",
              "  22040        1\n",
              "  1111         1\n",
              "  Name: capital-gain, Length: 119, dtype: int64],\n",
              " 'capital-loss': [0       31041\n",
              "  1902      202\n",
              "  1977      168\n",
              "  1887      159\n",
              "  1848       51\n",
              "          ...  \n",
              "  1411        1\n",
              "  1539        1\n",
              "  2472        1\n",
              "  1944        1\n",
              "  2201        1\n",
              "  Name: capital-loss, Length: 92, dtype: int64],\n",
              " 'hours-per-week': [40    15216\n",
              "  50     2819\n",
              "  45     1824\n",
              "  60     1475\n",
              "  35     1297\n",
              "        ...  \n",
              "  92        1\n",
              "  94        1\n",
              "  87        1\n",
              "  74        1\n",
              "  82        1\n",
              "  Name: hours-per-week, Length: 94, dtype: int64],\n",
              " 'native-country': [ United-States                 29169\n",
              "   Mexico                          643\n",
              "   ?                               583\n",
              "   Philippines                     198\n",
              "   Germany                         137\n",
              "   Canada                          121\n",
              "   Puerto-Rico                     114\n",
              "   El-Salvador                     106\n",
              "   India                           100\n",
              "   Cuba                             95\n",
              "   England                          90\n",
              "   Jamaica                          81\n",
              "   South                            80\n",
              "   China                            75\n",
              "   Italy                            73\n",
              "   Dominican-Republic               70\n",
              "   Vietnam                          67\n",
              "   Guatemala                        64\n",
              "   Japan                            62\n",
              "   Poland                           60\n",
              "   Columbia                         59\n",
              "   Taiwan                           51\n",
              "   Haiti                            44\n",
              "   Iran                             43\n",
              "   Portugal                         37\n",
              "   Nicaragua                        34\n",
              "   Peru                             31\n",
              "   France                           29\n",
              "   Greece                           29\n",
              "   Ecuador                          28\n",
              "   Ireland                          24\n",
              "   Hong                             20\n",
              "   Cambodia                         19\n",
              "   Trinadad&Tobago                  19\n",
              "   Thailand                         18\n",
              "   Laos                             18\n",
              "   Yugoslavia                       16\n",
              "   Outlying-US(Guam-USVI-etc)       14\n",
              "   Hungary                          13\n",
              "   Honduras                         13\n",
              "   Scotland                         12\n",
              "   Holand-Netherlands                1\n",
              "  Name: native-country, dtype: int64],\n",
              " 'eligible': [0    24719\n",
              "  1     7841\n",
              "  Name: eligible, dtype: int64]}"
            ]
          },
          "execution_count": 215,
          "metadata": {},
          "output_type": "execute_result"
        }
      ]
    },
    {
      "cell_type": "markdown",
      "metadata": {
        "id": "F4CXjIirOb-l"
      },
      "source": [
        "### The ? in `workclass`,  `occupation`, ` native-country`, should be changed to Nan values "
      ]
    },
    {
      "cell_type": "code",
      "metadata": {
        "id": "Ddcx4O12Ob-l",
        "outputId": "d5a0bb14-432e-4130-e66b-22153a0d3d68"
      },
      "source": [
        "df_clean.replace({' ?': np.NaN}, inplace=True)\n",
        "df_clean.info()"
      ],
      "execution_count": null,
      "outputs": [
        {
          "name": "stdout",
          "output_type": "stream",
          "text": [
            "<class 'pandas.core.frame.DataFrame'>\n",
            "RangeIndex: 32560 entries, 0 to 32559\n",
            "Data columns (total 15 columns):\n",
            " #   Column          Non-Null Count  Dtype \n",
            "---  ------          --------------  ----- \n",
            " 0   age             32560 non-null  int64 \n",
            " 1   workclass       30724 non-null  object\n",
            " 2   fnlwgt          32560 non-null  int64 \n",
            " 3   education       32560 non-null  object\n",
            " 4   education-num   32560 non-null  int64 \n",
            " 5   marital-status  32560 non-null  object\n",
            " 6   occupation      30717 non-null  object\n",
            " 7   relationship    32560 non-null  object\n",
            " 8   race            32560 non-null  object\n",
            " 9   sex             32560 non-null  object\n",
            " 10  capital-gain    32560 non-null  int64 \n",
            " 11  capital-loss    32560 non-null  int64 \n",
            " 12  hours-per-week  32560 non-null  int64 \n",
            " 13  native-country  31977 non-null  object\n",
            " 14  eligible        32560 non-null  int64 \n",
            "dtypes: int64(7), object(8)\n",
            "memory usage: 3.7+ MB\n"
          ]
        }
      ]
    },
    {
      "cell_type": "markdown",
      "metadata": {
        "id": "J_Nz0w-ROb-l"
      },
      "source": [
        "### Apparently, There were missing values in these columns!"
      ]
    },
    {
      "cell_type": "code",
      "metadata": {
        "id": "PXx3cywnOb-m",
        "outputId": "acc473b7-258f-4af9-e7ac-7041943b73d6"
      },
      "source": [
        "sns.countplot(x='eligible',data=df_clean)\n",
        "\n",
        "##The data is not balanced"
      ],
      "execution_count": null,
      "outputs": [
        {
          "data": {
            "text/plain": [
              "<AxesSubplot:xlabel='eligible', ylabel='count'>"
            ]
          },
          "execution_count": 217,
          "metadata": {},
          "output_type": "execute_result"
        },
        {
          "data": {
            "image/png": "[encoded data removed]",
            "text/plain": [
              "<Figure size 432x288 with 1 Axes>"
            ]
          },
          "metadata": {
            "needs_background": "light"
          },
          "output_type": "display_data"
        }
      ]
    },
    {
      "cell_type": "code",
      "metadata": {
        "id": "h7PCOjB2Ob-m"
      },
      "source": [
        "df_clean.sample(10)\n",
        "\n",
        "## fnlwgt column name is mysterious and vague! It can be removed\n",
        "df_clean.drop('fnlwgt', axis=1, inplace=True)"
      ],
      "execution_count": null,
      "outputs": []
    },
    {
      "cell_type": "code",
      "metadata": {
        "id": "1mfnFTK0Ob-m",
        "outputId": "114d2ea8-a136-47f9-8664-1573b6827cde"
      },
      "source": [
        "df_clean.info()"
      ],
      "execution_count": null,
      "outputs": [
        {
          "name": "stdout",
          "output_type": "stream",
          "text": [
            "<class 'pandas.core.frame.DataFrame'>\n",
            "RangeIndex: 32560 entries, 0 to 32559\n",
            "Data columns (total 14 columns):\n",
            " #   Column          Non-Null Count  Dtype \n",
            "---  ------          --------------  ----- \n",
            " 0   age             32560 non-null  int64 \n",
            " 1   workclass       30724 non-null  object\n",
            " 2   education       32560 non-null  object\n",
            " 3   education-num   32560 non-null  int64 \n",
            " 4   marital-status  32560 non-null  object\n",
            " 5   occupation      30717 non-null  object\n",
            " 6   relationship    32560 non-null  object\n",
            " 7   race            32560 non-null  object\n",
            " 8   sex             32560 non-null  object\n",
            " 9   capital-gain    32560 non-null  int64 \n",
            " 10  capital-loss    32560 non-null  int64 \n",
            " 11  hours-per-week  32560 non-null  int64 \n",
            " 12  native-country  31977 non-null  object\n",
            " 13  eligible        32560 non-null  int64 \n",
            "dtypes: int64(6), object(8)\n",
            "memory usage: 3.5+ MB\n"
          ]
        }
      ]
    },
    {
      "cell_type": "code",
      "metadata": {
        "id": "gsUF-TziOb-n"
      },
      "source": [
        "categorical = ['workclass', 'education', 'marital-status', 'occupation', \n",
        "                   'relationship', 'race', 'sex', 'native-country']\n",
        "numerical = ['age', 'education-num','capital-gain', 'capital-loss',\n",
        "                'hours-per-week']\n",
        " \n",
        "X = pd.concat([df_clean[categorical], df_clean[numerical]], axis=1) ## Just sort them, no need for encoding\n",
        "y = df_clean['eligible']\n",
        "X_train , X_test , y_train , y_test = train_test_split(X,y,test_size = 0.2 , random_state = 5)"
      ],
      "execution_count": null,
      "outputs": []
    },
    {
      "cell_type": "code",
      "metadata": {
        "id": "jgrq9C3-Ob-n"
      },
      "source": [
        "#### Convert the dataframes to numpy arrays as our implementation works on NumPy arrays\n",
        "X_train , X_test , y_train , y_test = X_train.to_numpy() , X_test.to_numpy() , y_train.to_numpy() , y_test.to_numpy()\n",
        "max_depth = 7\n",
        "inital_depth = 0\n",
        "id3_dt = MyDecisionTree(max_depth)\n",
        "# Building a tree\n",
        "print(\"fitting the decision tree\")\n",
        "id3_dt.fit(X_train, y_train, inital_depth)\n",
        "\n",
        "# Evaluating the decision tree\n",
        "DecisionTreeEvalution(id3_dt,X_test,y_test, True)"
      ],
      "execution_count": null,
      "outputs": []
    },
    {
      "cell_type": "code",
      "metadata": {
        "id": "aiZ2Pft9Ob-n"
      },
      "source": [
        "id3_dt.tree"
      ],
      "execution_count": null,
      "outputs": []
    },
    {
      "cell_type": "code",
      "metadata": {
        "id": "XVzopxcqOb-o"
      },
      "source": [
        ""
      ],
      "execution_count": null,
      "outputs": []
    },
    {
      "cell_type": "code",
      "metadata": {
        "id": "JUNePDvLOb-o"
      },
      "source": [
        ""
      ],
      "execution_count": null,
      "outputs": []
    },
    {
      "cell_type": "code",
      "metadata": {
        "id": "ASsyU7JQOb-o"
      },
      "source": [
        ""
      ],
      "execution_count": null,
      "outputs": []
    },
    {
      "cell_type": "code",
      "metadata": {
        "id": "w1H_13-lOb-o"
      },
      "source": [
        ""
      ],
      "execution_count": null,
      "outputs": []
    },
    {
      "cell_type": "markdown",
      "metadata": {
        "id": "J-ZwF88TaQxD"
      },
      "source": [
        "## Task 2 : Work with another classification dataset from your choice\n",
        "- **[ 2 points ] :** Do the same steps we did in Task 1 but with a classification dataset you choose. No minimum accuracy required.\n"
      ]
    },
    {
      "cell_type": "markdown",
      "metadata": {
        "id": "KvoWFpSQaUy7"
      },
      "source": [
        "\n",
        "\n",
        "## Bonus Task : Work with another *regression* dataset from your choice \n",
        "- **[ 3 points ] :** Use sklearn DecisionTree regressor on a regression dataset from your choice. It needs to be a one that we did not use in the course so far. You need to perform all the necessary preprocessing/visualization and justify it."
      ]
    }
  ]
}