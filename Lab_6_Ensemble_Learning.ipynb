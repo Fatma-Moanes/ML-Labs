{
  "nbformat": 4,
  "nbformat_minor": 0,
  "metadata": {
    "colab": {
      "name": "Lab_6_Ensemble_Learning.ipynb",
      "provenance": [],
      "toc_visible": true
    },
    "kernelspec": {
      "display_name": "Python 3",
      "language": "python",
      "name": "python3"
    },
    "latex_envs": {
      "LaTeX_envs_menu_present": true,
      "autoclose": false,
      "autocomplete": true,
      "bibliofile": "biblio.bib",
      "cite_by": "apalike",
      "current_citInitial": 1,
      "eqLabelWithNumbers": true,
      "eqNumInitial": 1,
      "hotkeys": {
        "equation": "Ctrl-E",
        "itemize": "Ctrl-I"
      },
      "labels_anchors": false,
      "latex_user_defs": false,
      "report_style_numbering": false,
      "user_envs_cfg": false
    }
  },
  "cells": [
    {
      "cell_type": "markdown",
      "metadata": {
        "id": "FhoEeNvUMRaR"
      },
      "source": [
        "<h1 align=\"center\">Zewail City of Science and Technology</h1>\n",
        "<h2 align=\"center\">CIE 417 (Fall 2020)</h2>\n",
        "<h2 align=\"center\">Lab 6: Ensemble Methods </h2>\n",
        "<h3 align=\"center\">Eng. Ahmed Wael</h3>"
      ]
    },
    {
      "cell_type": "markdown",
      "metadata": {
        "id": "puhAklCqMRaS"
      },
      "source": [
        "# Lab Objectives:\n",
        "\n",
        "- Understanding the idea of Ensemble Learning\n",
        "\n",
        "\n",
        "- Understanding the idea of Bootstraping\n",
        "\n",
        "\n",
        "- Understanding the idea of Bagging\n",
        "\n",
        "\n",
        "- What do we mean by Out-Of-Bag (OOB) Error\n",
        "\n",
        "\n",
        "- Implementing Random Forests from scratch to understand the last three points better\n",
        "\n",
        "\n",
        "- Discuss the different hyberparamaters of the RF\n",
        "\n",
        "\n",
        "- Understaing the idea of Boosting\n",
        "\n",
        "\n",
        "- Discuss AdaBoost, one of the most famous Boosting Algorithms"
      ]
    },
    {
      "cell_type": "markdown",
      "metadata": {
        "id": "2osRGlRpMRaS"
      },
      "source": [
        "# Importing the libraries"
      ]
    },
    {
      "cell_type": "code",
      "metadata": {
        "id": "ZHViQPQnMRaS"
      },
      "source": [
        "import numpy as np\n",
        "\n",
        "from math import log2, sqrt\n",
        "import pandas as pd\n",
        "from sklearn.model_selection import train_test_split\n",
        "from sklearn.preprocessing import LabelEncoder\n",
        "from sklearn.tree import DecisionTreeClassifier\n",
        "from sklearn import metrics\n",
        "from sklearn import tree\n",
        "from sklearn import preprocessing\n",
        "import matplotlib.pyplot as plt\n",
        "import six\n",
        "from sklearn.ensemble import RandomForestClassifier\n",
        "from sklearn.tree import export_graphviz\n",
        "from six import StringIO  \n",
        "from IPython.display import Image  \n",
        "import pydotplus\n",
        "from tqdm.notebook import tqdm_notebook as tqdm\n",
        "from sklearn.model_selection import GridSearchCV\n",
        "\n",
        "from decision_tree import MyDecisionTree ## Our implementation from lab 5\n",
        "\n",
        "from sklearn.ensemble import RandomForestRegressor\n",
        "from sklearn.model_selection import GridSearchCV\n",
        "from sklearn.ensemble import AdaBoostRegressor\n",
        "from sklearn.metrics import r2_score\n",
        "import seaborn as sns\n",
        "from matplotlib import rcParams\n"
      ],
      "execution_count": null,
      "outputs": []
    },
    {
      "cell_type": "markdown",
      "metadata": {
        "id": "BX8LMID9MRaS"
      },
      "source": [
        "# Exploring the Dataset : \n",
        "We are going you use the same dataset from the last lab"
      ]
    },
    {
      "cell_type": "code",
      "metadata": {
        "id": "7kQFdBUkMRaS",
        "outputId": "36f38c84-6fff-4f46-9eff-ad5431845254"
      },
      "source": [
        "data = pd.read_csv(\"adult_data.csv\")\n",
        "\n",
        "categorical = ['workclass', 'education', 'marital_status', 'occupation', \n",
        "                   'relationship', 'c1', 'c2', 'c3']\n",
        "numerical = ['age', 'education_num','capital_gain', 'capital_loss',\n",
        "                'hours_per_week']\n",
        " \n",
        "X = pd.concat([data[categorical], data[numerical]], axis=1) ## Just sort them, no need for encoding\n",
        "y = data['eligible']\n",
        "X_train , X_test , y_train , y_test = train_test_split(X,y,test_size = 0.2 , random_state = 10)\n",
        "X_train , X_test , y_train , y_test = X_train.to_numpy() , X_test.to_numpy() , y_train.to_numpy() , y_test.to_numpy()\n",
        "data.head()"
      ],
      "execution_count": null,
      "outputs": [
        {
          "output_type": "execute_result",
          "data": {
            "text/html": [
              "<div>\n",
              "<style scoped>\n",
              "    .dataframe tbody tr th:only-of-type {\n",
              "        vertical-align: middle;\n",
              "    }\n",
              "\n",
              "    .dataframe tbody tr th {\n",
              "        vertical-align: top;\n",
              "    }\n",
              "\n",
              "    .dataframe thead th {\n",
              "        text-align: right;\n",
              "    }\n",
              "</style>\n",
              "<table border=\"1\" class=\"dataframe\">\n",
              "  <thead>\n",
              "    <tr style=\"text-align: right;\">\n",
              "      <th></th>\n",
              "      <th>age</th>\n",
              "      <th>workclass</th>\n",
              "      <th>state_sample</th>\n",
              "      <th>education</th>\n",
              "      <th>education_num</th>\n",
              "      <th>marital_status</th>\n",
              "      <th>occupation</th>\n",
              "      <th>relationship</th>\n",
              "      <th>c1</th>\n",
              "      <th>c2</th>\n",
              "      <th>capital_gain</th>\n",
              "      <th>capital_loss</th>\n",
              "      <th>hours_per_week</th>\n",
              "      <th>c3</th>\n",
              "      <th>eligible</th>\n",
              "    </tr>\n",
              "  </thead>\n",
              "  <tbody>\n",
              "    <tr>\n",
              "      <th>0</th>\n",
              "      <td>39</td>\n",
              "      <td>State-gov</td>\n",
              "      <td>77516</td>\n",
              "      <td>Bachelors</td>\n",
              "      <td>13</td>\n",
              "      <td>Never-married</td>\n",
              "      <td>Adm-clerical</td>\n",
              "      <td>Not-in-family</td>\n",
              "      <td>c14</td>\n",
              "      <td>c21</td>\n",
              "      <td>2174</td>\n",
              "      <td>0</td>\n",
              "      <td>40</td>\n",
              "      <td>c337</td>\n",
              "      <td>0</td>\n",
              "    </tr>\n",
              "    <tr>\n",
              "      <th>1</th>\n",
              "      <td>50</td>\n",
              "      <td>Self-emp-not-inc</td>\n",
              "      <td>83311</td>\n",
              "      <td>Bachelors</td>\n",
              "      <td>13</td>\n",
              "      <td>Married-civ-spouse</td>\n",
              "      <td>Exec-managerial</td>\n",
              "      <td>Husband</td>\n",
              "      <td>c14</td>\n",
              "      <td>c21</td>\n",
              "      <td>0</td>\n",
              "      <td>0</td>\n",
              "      <td>13</td>\n",
              "      <td>c337</td>\n",
              "      <td>0</td>\n",
              "    </tr>\n",
              "    <tr>\n",
              "      <th>2</th>\n",
              "      <td>38</td>\n",
              "      <td>Private</td>\n",
              "      <td>215646</td>\n",
              "      <td>HS-grad</td>\n",
              "      <td>9</td>\n",
              "      <td>Divorced</td>\n",
              "      <td>Handlers-cleaners</td>\n",
              "      <td>Not-in-family</td>\n",
              "      <td>c14</td>\n",
              "      <td>c21</td>\n",
              "      <td>0</td>\n",
              "      <td>0</td>\n",
              "      <td>40</td>\n",
              "      <td>c337</td>\n",
              "      <td>0</td>\n",
              "    </tr>\n",
              "    <tr>\n",
              "      <th>3</th>\n",
              "      <td>53</td>\n",
              "      <td>Private</td>\n",
              "      <td>234721</td>\n",
              "      <td>11th</td>\n",
              "      <td>7</td>\n",
              "      <td>Married-civ-spouse</td>\n",
              "      <td>Handlers-cleaners</td>\n",
              "      <td>Husband</td>\n",
              "      <td>c12</td>\n",
              "      <td>c21</td>\n",
              "      <td>0</td>\n",
              "      <td>0</td>\n",
              "      <td>40</td>\n",
              "      <td>c337</td>\n",
              "      <td>0</td>\n",
              "    </tr>\n",
              "    <tr>\n",
              "      <th>4</th>\n",
              "      <td>28</td>\n",
              "      <td>Private</td>\n",
              "      <td>338409</td>\n",
              "      <td>Bachelors</td>\n",
              "      <td>13</td>\n",
              "      <td>Married-civ-spouse</td>\n",
              "      <td>Prof-specialty</td>\n",
              "      <td>Wife</td>\n",
              "      <td>c12</td>\n",
              "      <td>c20</td>\n",
              "      <td>0</td>\n",
              "      <td>0</td>\n",
              "      <td>40</td>\n",
              "      <td>c34</td>\n",
              "      <td>0</td>\n",
              "    </tr>\n",
              "  </tbody>\n",
              "</table>\n",
              "</div>"
            ],
            "text/plain": [
              "   age          workclass  state_sample   education  education_num  \\\n",
              "0   39          State-gov         77516   Bachelors             13   \n",
              "1   50   Self-emp-not-inc         83311   Bachelors             13   \n",
              "2   38            Private        215646     HS-grad              9   \n",
              "3   53            Private        234721        11th              7   \n",
              "4   28            Private        338409   Bachelors             13   \n",
              "\n",
              "        marital_status          occupation    relationship   c1   c2  \\\n",
              "0        Never-married        Adm-clerical   Not-in-family  c14  c21   \n",
              "1   Married-civ-spouse     Exec-managerial         Husband  c14  c21   \n",
              "2             Divorced   Handlers-cleaners   Not-in-family  c14  c21   \n",
              "3   Married-civ-spouse   Handlers-cleaners         Husband  c12  c21   \n",
              "4   Married-civ-spouse      Prof-specialty            Wife  c12  c20   \n",
              "\n",
              "   capital_gain  capital_loss  hours_per_week    c3  eligible  \n",
              "0          2174             0              40  c337         0  \n",
              "1             0             0              13  c337         0  \n",
              "2             0             0              40  c337         0  \n",
              "3             0             0              40  c337         0  \n",
              "4             0             0              40   c34         0  "
            ]
          },
          "metadata": {
            "tags": []
          },
          "execution_count": 3
        }
      ]
    },
    {
      "cell_type": "code",
      "metadata": {
        "id": "Vo2lywrAyHAL"
      },
      "source": [
        ""
      ],
      "execution_count": null,
      "outputs": []
    },
    {
      "cell_type": "markdown",
      "metadata": {
        "id": "LF4OOYJIMRaT"
      },
      "source": [
        "# What is Ensemble Learning?"
      ]
    },
    {
      "cell_type": "markdown",
      "metadata": {
        "id": "5ctvmw0DMRaT"
      },
      "source": [
        "- **Combine many mediocre (weak) models in a one super model.**"
      ]
    },
    {
      "cell_type": "markdown",
      "metadata": {
        "id": "6AbabdWWMRaT"
      },
      "source": [
        "## Ensemble Learning [Example](https://www.analyticsvidhya.com/blog/2015/08/introduction-ensemble-learning/)"
      ]
    },
    {
      "cell_type": "markdown",
      "metadata": {
        "id": "QRBbNDBWMRaT"
      },
      "source": [
        "- I want to invest in some company, but I am not sure about its performance though. \n",
        "\n",
        "\n",
        "- So, I look for advice on whether the stock price will increase more than 6% per annum or not? \n",
        "\n",
        "\n",
        "- I decide to approach various experts having **diverse** domain experience:"
      ]
    },
    {
      "cell_type": "markdown",
      "metadata": {
        "id": "SHoVOUh_MRaT"
      },
      "source": [
        "1. **Employee of the Company:** \n",
        "    - *Good At :*\n",
        "    \n",
        "        - Knows the internal functionality of the company\n",
        "        \n",
        "        - Has the insider information about the functionality of the firm.\n",
        "    \n",
        "    - *Bad At :*\n",
        "        - Lacks a broader perspective on how are competitors innovating.\n",
        "   \n",
        "        - Lacks on how is the technology evolving and what will be the impact of this evolution on the Company's product. \n",
        "   \n",
        "    - *Accuracy:*\n",
        "        - In the past, he has been right 70% times.\n",
        "\n",
        "\n",
        "2. **Financial Advisor of the Company:** \n",
        "    - *Good At :*\n",
        "    \n",
        "        - Has a broader perspective on how companies strategy will fair of in this competitive environment.\n",
        "            \n",
        "    - *Bad At :*\n",
        "        - Lacks a view on how the company’s internal policies are fairing off\n",
        "        \n",
        "    - *Accuracy:*\n",
        "        - In the past, he has been right 75% times.\n",
        "\n",
        "\n",
        "3. **Stock Market Trader:**\n",
        "    - *Good At :*\n",
        "    \n",
        "        - Observed the company’s stock price over past 3 years.\n",
        "        - Knows the seasonality trends and how the overall market is performing.\n",
        "        - Developed a strong intuition on how stocks might vary over time.\n",
        "    - *Bad At :*\n",
        "        - Doesn't now the internal of the company.\n",
        "        \n",
        "    - *Accuracy:*\n",
        "        - In the past, he has been right 70% times.\n",
        "\n",
        "\n",
        "4. **Employee of a competitor:**\n",
        "    - *Good At :*\n",
        "    \n",
        "        - Knows the internal functionality of the competitor firms\n",
        "        - Aware of certain changes which are yet to be brought.\n",
        "    - *Bad At :*\n",
        "        - Lacks a sight of company in focus and the external factors which can relate the growth of competitor with the company of subject.\n",
        "        \n",
        "    - *Accuracy:*\n",
        "        - In the past, he has been right 60% times.\n",
        "\n",
        "\n",
        "5. **Market Research team in same segment:**\n",
        "    - *Good At :*\n",
        "    \n",
        "        - analyzes the customer preference of the company's product over others and how is this changing with time.\n",
        "        - Aware of certain changes which are yet to be brought.\n",
        "    - *Bad At :*\n",
        "        - Unaware of the changes the company will bring because of alignment to its own goals, because he deals with customer side.\n",
        "        \n",
        "    - *Accuracy:*\n",
        "        - In the past, he has been right 75% times.\n",
        "\n",
        "\n",
        "\n",
        "6. **Social Media Expert:**\n",
        "    - *Good At :*\n",
        "    \n",
        "        - Can help us understand how the company have positioned its products in the market\n",
        "        - Can help us understand how are the sentiment of customers changing over time towards company.\n",
        "    - *Bad At :*\n",
        "        - Unaware of any kind of details beyond digital marketing.\n",
        "        \n",
        "    - *Accuracy:*\n",
        "        - In the past, he has been right 65% times."
      ]
    },
    {
      "cell_type": "markdown",
      "metadata": {
        "id": "stvf3Qq2MRaT"
      },
      "source": [
        "## What is the accuracy of the 6 experts combined?"
      ]
    },
    {
      "cell_type": "markdown",
      "metadata": {
        "id": "P-zXQm5fMRaT"
      },
      "source": [
        "$$1 - \\prod Error(expert) $$"
      ]
    },
    {
      "cell_type": "markdown",
      "metadata": {
        "id": "vyM90f4bMRaT"
      },
      "source": [
        "$$1 - (30\\% \\cdot 25\\% \\cdot 30\\% \\cdot 40\\% \\cdot 25\\% \\cdot 35\\%) = 1 - 0.07875 = 99.92125\\% $$"
      ]
    },
    {
      "cell_type": "markdown",
      "metadata": {
        "id": "A_yqm1e0MRaT"
      },
      "source": [
        "## What is the problem in this approach?"
      ]
    },
    {
      "cell_type": "markdown",
      "metadata": {
        "id": "-W0WU-yYMRaT"
      },
      "source": [
        "- We assume that all the predictions are **completely** independent on each other. Which doesn't make sense and not realistic at all."
      ]
    },
    {
      "cell_type": "markdown",
      "metadata": {
        "id": "Pozg3dIFMRaT"
      },
      "source": [
        "## How to solve this problem?"
      ]
    },
    {
      "cell_type": "markdown",
      "metadata": {
        "id": "wLgzeMJZMRaT"
      },
      "source": [
        "- **Bagging:** **Parallel** training of **different** models using **overlapping** training sets. Also called *Bootstrap AGgregation* \n",
        "\n",
        "\n",
        "- **Boosting:** **Sequential** training by iteratively **re-weighting** training examples such that each model focuses on a different subset of **hard examples**"
      ]
    },
    {
      "cell_type": "markdown",
      "metadata": {
        "id": "5e-fwJ_RMRaT"
      },
      "source": [
        "# Bootstrap Sampling:"
      ]
    },
    {
      "cell_type": "markdown",
      "metadata": {
        "id": "Fatew7wlMRaT"
      },
      "source": [
        "## What does it address?"
      ]
    },
    {
      "cell_type": "markdown",
      "metadata": {
        "id": "vL4dAXBfMRaT"
      },
      "source": [
        "- Bootstrap address a very famous challenge in statistics.\n",
        "\n",
        "\n",
        "- We only have sample of a population, but we want to collect information about the WHOLE population.\n",
        "\n",
        "\n",
        "- How to make sure that this sample represent the whole population? It the mean of the sample is a good-enough approximation for the mean of the population?"
      ]
    },
    {
      "cell_type": "markdown",
      "metadata": {
        "id": "SjC4JuI7MRaT"
      },
      "source": [
        "## What is it?"
      ]
    },
    {
      "cell_type": "markdown",
      "metadata": {
        "id": "4ba3-8o7MRaT"
      },
      "source": [
        "- Instead of estimating the statistic - mean for example - only once, we do this many times.\n",
        "\n",
        "\n",
        "- We do it using re-sampling **with replacement** of the original sample."
      ]
    },
    {
      "cell_type": "markdown",
      "metadata": {
        "id": "d3rq8IxjMRaT"
      },
      "source": [
        "<img src = \"https://miro.medium.com/max/875/1*iH5w0MBdiOlxDOCX6nmqqw.png\">"
      ]
    },
    {
      "cell_type": "markdown",
      "metadata": {
        "id": "1WD7Oz8bMRaT"
      },
      "source": [
        "<img src = \"https://miro.medium.com/max/1250/1*y42mIxqot08pZq8_ZoFiXw.png\">"
      ]
    },
    {
      "cell_type": "markdown",
      "metadata": {
        "id": "quPYP0k5MRaT"
      },
      "source": [
        "# Bagging - *Bootstrap Aggregation* - :"
      ]
    },
    {
      "cell_type": "markdown",
      "metadata": {
        "id": "kbLDr42zMRaT"
      },
      "source": [
        "## What is it?"
      ]
    },
    {
      "cell_type": "markdown",
      "metadata": {
        "id": "Zwre4uQlMRaT"
      },
      "source": [
        "Its basic idea is to create different models using **different bootstrapped**\n",
        "training sets and **average** their prediction to produce the final output\n",
        "of the model"
      ]
    },
    {
      "cell_type": "markdown",
      "metadata": {
        "id": "o41uloLtMRaT"
      },
      "source": [
        "## What is it good for?"
      ]
    },
    {
      "cell_type": "markdown",
      "metadata": {
        "id": "K4PAt0DRMRaT"
      },
      "source": [
        "- Reducing the variance of the model.\n",
        "\n",
        "\n",
        "- Thus, reducing overfitting\n",
        "\n",
        "\n",
        "- Outliers are likely omitted in some of the training bootstrap samples. "
      ]
    },
    {
      "cell_type": "markdown",
      "metadata": {
        "id": "ApGVWcNHMRaT"
      },
      "source": [
        "<img src = \"https://hudsonthames.org/wp-content/uploads/2019/09/bagging-1.png\" >"
      ]
    },
    {
      "cell_type": "markdown",
      "metadata": {
        "id": "ttvBq3jOMRaT"
      },
      "source": [
        "## Bagging Steps:"
      ]
    },
    {
      "cell_type": "markdown",
      "metadata": {
        "id": "YyssgCXoMRaT"
      },
      "source": [
        "1. Generate B different bootstrapped training data sets. \n",
        "\n",
        "\n",
        "2. Train our ML method on the *b* bootstrapped training set\n",
        "\n",
        "\n",
        "3. $$\\hat{f}(x) = \\frac{1}{B}\\sum\\hat{f}^b(x)$$"
      ]
    },
    {
      "cell_type": "markdown",
      "metadata": {
        "id": "5NtytzUFMRaT"
      },
      "source": [
        "## How to Calculate the test error in Bagging?"
      ]
    },
    {
      "cell_type": "markdown",
      "metadata": {
        "id": "vZk-HK8xMRaT"
      },
      "source": [
        "- By using the **Out-of-Bag Error (OOB) :**  The mean prediction error on each training sample *x*, using only the model that did not have *x* in their bootstrapped training set."
      ]
    },
    {
      "cell_type": "markdown",
      "metadata": {
        "id": "WcV0CY-fMRaT"
      },
      "source": [
        "- No need to use cross-validation or hold-out samples in order to get an unbiased error estimation."
      ]
    },
    {
      "cell_type": "markdown",
      "metadata": {
        "id": "Qao_QDwAMRaT"
      },
      "source": [
        "- Because, in Bagging, the error estimation takes place internally"
      ]
    },
    {
      "cell_type": "markdown",
      "metadata": {
        "id": "JKWEqrMKMRaT"
      },
      "source": [
        "<img src = https://miro.medium.com/max/875/1*HojoYXBU_DTnMuCatCnQaQ.png>\n",
        "\n",
        "                Training                                              Testing"
      ]
    },
    {
      "cell_type": "markdown",
      "metadata": {
        "id": "skTobVllMRaT"
      },
      "source": [
        "**What is the OOB here?**"
      ]
    },
    {
      "cell_type": "markdown",
      "metadata": {
        "id": "QZUGcmmHMRaT"
      },
      "source": [
        "- We have 15 points in the test set, that are NOT in the training set, right?\n",
        "\n",
        "\n",
        "- The model classified 4 of these 15 incorrectly. \n",
        "\n",
        "\n",
        "- So, the accuracy is 11/15*100 = 73.33%\n"
      ]
    },
    {
      "cell_type": "markdown",
      "metadata": {
        "id": "9PFIaOv-MRaT"
      },
      "source": [
        "- Thus, we can say that the OOB estimate is nothing more than the mean estimate of the base algorithms on those ~37% of inputs that were left out of training."
      ]
    },
    {
      "cell_type": "markdown",
      "metadata": {
        "id": "5YsxkO_TMRaT"
      },
      "source": [
        "## Variable Importance Measures:"
      ]
    },
    {
      "cell_type": "markdown",
      "metadata": {
        "id": "I9iEoTb4MRaT"
      },
      "source": [
        "- Bagging improves prediction accuracy at the expense on interpretability.\n",
        "\n",
        "\n",
        "- For example, if we use it with decision trees, it is no longer clear which features are the most important.\n",
        "\n",
        "\n",
        "- So, we calculate an overall summary of importance using Variable Importance Measures such as GINI index and RSS."
      ]
    },
    {
      "cell_type": "markdown",
      "metadata": {
        "id": "IxnslHI0MRaT"
      },
      "source": [
        "# Random Forests"
      ]
    },
    {
      "cell_type": "markdown",
      "metadata": {
        "id": "wEtbzhWjMRaT"
      },
      "source": [
        "A Random Forest is slightly modified Bagging algorithm.\n",
        "\n",
        "\n",
        "It is basically a collection of **decorrelated** decision trees, built as follows"
      ]
    },
    {
      "cell_type": "markdown",
      "metadata": {
        "id": "cCfygtWVMRaT"
      },
      "source": [
        "- For every tree: \n",
        "\n",
        "    1. We subsample the examples with replacement **Bootstraping**\n",
        "\n",
        "    2. For each subsample, we choose attributes **at random**. We randomly pick features in each split. WHY?\n",
        "    \n",
        "    3. We build the tree ONLY on these random features and with the current subsample.\n",
        "\n",
        "    \n",
        "- Classification for a random forest is then done by taking a majority vote of the classifications yielded by each tree in the forest after it classifies an example.\n"
      ]
    },
    {
      "cell_type": "markdown",
      "metadata": {
        "id": "VuoCE182MRaT"
      },
      "source": [
        "## Random Forest Implementation"
      ]
    },
    {
      "cell_type": "code",
      "metadata": {
        "id": "lEqxMV_BMRaT"
      },
      "source": [
        "class RandomForest(object):\n",
        "    def __init__(self, n_estimators=50, max_depth=None, max_features=0.7):\n",
        "        self.n_estimators = n_estimators ## how many estimators we are going to use?\n",
        "        self.max_depth = max_depth ## Max depth \n",
        "        self.max_features = max_features ## the percentage of the RANDOM features we are going to use\n",
        "        self.bootstraps_row_indices = [] ## Which examples are in the current bootstrap\n",
        "        self.feature_indices = [] ## Keeping track of features indices\n",
        "        self.out_of_bag = [] ## To calculate the out of bag error\n",
        "        \n",
        "        decision_trees = []\n",
        "        for i in range(n_estimators):\n",
        "            decision_trees.append(MyDecisionTree(max_depth=max_depth)) ## Call our DT class\n",
        "        \n",
        "        self.decision_trees = decision_trees ## Our random forest\n",
        "        \n",
        "        ## OR  self.decision_trees = [MyDecisionTree(max_depth=max_depth) for i in range(n_estimators)]\n",
        "        \n",
        "    def _bootstrapping(self, num_training, num_features): ## _ is similar to private in other programming language\n",
        "        \"\"\"\n",
        "        - INPUT : \n",
        "            num_training: how many training examples in this bootstrap\n",
        "            num_features: how many features in this bootstrap\n",
        "            \n",
        "        - OUTPUT :\n",
        "        - row_idx: the row indices corresponding to the row locations of the selected samples in the original dataset.\n",
        "        - col_idx: the column indices corresponding to the column locations of the selected features  \n",
        "                   in the original feature list.\n",
        "        \n",
        "        \n",
        "        \n",
        "        - Randomly select a sample dataset of size num_training with replacement from the original dataset. \n",
        "        - Randomly select certain number of features (num_features denotes the total number of features in X,\n",
        "          without replacement from the total number of features.\n",
        "        \"\"\" \n",
        "        \n",
        "        sample_size = list(range(num_training))\n",
        "        row_idx = np.random.choice(sample_size,num_training) # Create random row indices\n",
        "        col_idx = np.random.permutation(num_features)[:int(num_features*self.max_features)] ## Permutation ( with replacement)\n",
        "        return row_idx, col_idx\n",
        "            \n",
        "    def bootstrapping(self, num_training, num_features):\n",
        "        \"\"\"\n",
        "        Initializing the bootstap datasets for each tree\n",
        "        \"\"\"\n",
        "        \n",
        "        for i in range(self.n_estimators):\n",
        "            total = set(list(range(num_training))) ## we use a set to get the unique elements\n",
        "            row_idx, col_idx = self._bootstrapping(num_training, num_features)\n",
        "            out_of_bag_examples = total - set(row_idx) ## again we use a set. Subtract the row indices from the total\n",
        "            self.bootstraps_row_indices.append(row_idx)\n",
        "            self.feature_indices.append(col_idx)\n",
        "            self.out_of_bag.append(out_of_bag_examples) ## total is used for the OOB \n",
        "            \n",
        "            \n",
        "    def fit(self, X, y):\n",
        "        \"\"\"\n",
        "        Train decision trees using the bootstrapped datasets.\n",
        "        \"\"\"\n",
        "        \n",
        "        num_training, num_features = X.shape\n",
        "        self.bootstrapping(num_training,num_features) ## initialize the bootstrapping\n",
        "        for i in range((self.n_estimators)): ## loop over the trees \n",
        "            current_bootstraps_row_indices = self.bootstraps_row_indices[i]\n",
        "            current_feature_indices = self.feature_indices[i]\n",
        "            current_X = X_train[current_bootstraps_row_indices[:,np.newaxis], current_feature_indices] ## data for this tree\n",
        "            current_y = y[current_bootstraps_row_indices]\n",
        "            current_dt = self.decision_trees[i]\n",
        "            current_dt.fit(current_X,current_y, 0) ## 0 for the initial depth\n",
        "            print(\"Current Tree to fit : \" ,i+1) ## Which tree we are using\n",
        "            \n",
        "            \n",
        "    def OOB_score(self, X, y):\n",
        "        \"\"\"\n",
        "        Calculate the OOB score\n",
        "        \"\"\"\n",
        "        \n",
        "        accuracy = []\n",
        "        for i in range(len(X)): ## Loop over the full dataset\n",
        "            predictions = []\n",
        "            for t in range(self.n_estimators): ## loop over each decision tree\n",
        "                if i in self.out_of_bag[t]: ## the data that is NOT used in the current tree\n",
        "                    predictions.append(self.decision_trees[t].predict(X[i][self.feature_indices[t]])) ## Predict\n",
        "            if len(predictions) > 0:\n",
        "                accuracy.append(np.sum(predictions == y[i]) / float(len(predictions))) ## Majority voting\n",
        "        return np.mean(accuracy) ## Total accuracy"
      ],
      "execution_count": null,
      "outputs": []
    },
    {
      "cell_type": "code",
      "metadata": {
        "id": "0TLv1jGJyHAb"
      },
      "source": [
        ""
      ],
      "execution_count": null,
      "outputs": []
    },
    {
      "cell_type": "markdown",
      "metadata": {
        "id": "o8_dylM6MRaU"
      },
      "source": [
        "## Evaluate the Random Forest"
      ]
    },
    {
      "cell_type": "code",
      "metadata": {
        "id": "m9ggwUCkMRaU",
        "scrolled": true,
        "outputId": "c5d6b5f8-acce-452a-b03a-86f5b9cff7e0"
      },
      "source": [
        "n_estimators = 30\n",
        "max_depth = 5\n",
        "max_features = 0.7\n",
        "\n",
        "random_forest = RandomForest(n_estimators, max_depth, max_features)\n",
        "\n",
        "random_forest.fit(X_train, y_train)\n",
        "accuracy=random_forest.OOB_score(X_test, y_test)\n",
        "\n",
        "print(\"accuracy: %.4f\" % accuracy)"
      ],
      "execution_count": null,
      "outputs": [
        {
          "output_type": "error",
          "ename": "NameError",
          "evalue": "name 'max_depth' is not defined",
          "traceback": [
            "\u001b[1;31m---------------------------------------------------------------------------\u001b[0m",
            "\u001b[1;31mNameError\u001b[0m                                 Traceback (most recent call last)",
            "\u001b[1;32m<ipython-input-5-6ecced181e8a>\u001b[0m in \u001b[0;36m<module>\u001b[1;34m\u001b[0m\n\u001b[0;32m      5\u001b[0m \u001b[0mrandom_forest\u001b[0m \u001b[1;33m=\u001b[0m \u001b[0mRandomForest\u001b[0m\u001b[1;33m(\u001b[0m\u001b[0mn_estimators\u001b[0m\u001b[1;33m,\u001b[0m \u001b[0mmax_depth\u001b[0m\u001b[1;33m,\u001b[0m \u001b[0mmax_features\u001b[0m\u001b[1;33m)\u001b[0m\u001b[1;33m\u001b[0m\u001b[1;33m\u001b[0m\u001b[0m\n\u001b[0;32m      6\u001b[0m \u001b[1;33m\u001b[0m\u001b[0m\n\u001b[1;32m----> 7\u001b[1;33m \u001b[0mrandom_forest\u001b[0m\u001b[1;33m.\u001b[0m\u001b[0mfit\u001b[0m\u001b[1;33m(\u001b[0m\u001b[0mX_train\u001b[0m\u001b[1;33m,\u001b[0m \u001b[0my_train\u001b[0m\u001b[1;33m)\u001b[0m\u001b[1;33m\u001b[0m\u001b[1;33m\u001b[0m\u001b[0m\n\u001b[0m\u001b[0;32m      8\u001b[0m \u001b[0maccuracy\u001b[0m\u001b[1;33m=\u001b[0m\u001b[0mrandom_forest\u001b[0m\u001b[1;33m.\u001b[0m\u001b[0mOOB_score\u001b[0m\u001b[1;33m(\u001b[0m\u001b[0mX_test\u001b[0m\u001b[1;33m,\u001b[0m \u001b[0my_test\u001b[0m\u001b[1;33m)\u001b[0m\u001b[1;33m\u001b[0m\u001b[1;33m\u001b[0m\u001b[0m\n\u001b[0;32m      9\u001b[0m \u001b[1;33m\u001b[0m\u001b[0m\n",
            "\u001b[1;32m<ipython-input-4-dfd71739b75e>\u001b[0m in \u001b[0;36mfit\u001b[1;34m(self, X, y)\u001b[0m\n\u001b[0;32m     66\u001b[0m             \u001b[0mcurrent_y\u001b[0m \u001b[1;33m=\u001b[0m \u001b[0my\u001b[0m\u001b[1;33m[\u001b[0m\u001b[0mcurrent_bootstraps_row_indices\u001b[0m\u001b[1;33m]\u001b[0m\u001b[1;33m\u001b[0m\u001b[1;33m\u001b[0m\u001b[0m\n\u001b[0;32m     67\u001b[0m             \u001b[0mcurrent_dt\u001b[0m \u001b[1;33m=\u001b[0m \u001b[0mself\u001b[0m\u001b[1;33m.\u001b[0m\u001b[0mdecision_trees\u001b[0m\u001b[1;33m[\u001b[0m\u001b[0mi\u001b[0m\u001b[1;33m]\u001b[0m\u001b[1;33m\u001b[0m\u001b[1;33m\u001b[0m\u001b[0m\n\u001b[1;32m---> 68\u001b[1;33m             \u001b[0mcurrent_dt\u001b[0m\u001b[1;33m.\u001b[0m\u001b[0mfit\u001b[0m\u001b[1;33m(\u001b[0m\u001b[0mcurrent_X\u001b[0m\u001b[1;33m,\u001b[0m\u001b[0mcurrent_y\u001b[0m\u001b[1;33m,\u001b[0m \u001b[1;36m0\u001b[0m\u001b[1;33m)\u001b[0m \u001b[1;31m## 0 for the initial depth\u001b[0m\u001b[1;33m\u001b[0m\u001b[1;33m\u001b[0m\u001b[0m\n\u001b[0m\u001b[0;32m     69\u001b[0m             \u001b[0mprint\u001b[0m\u001b[1;33m(\u001b[0m\u001b[1;34m\"Current Tree to fit : \"\u001b[0m \u001b[1;33m,\u001b[0m\u001b[0mi\u001b[0m\u001b[1;33m+\u001b[0m\u001b[1;36m1\u001b[0m\u001b[1;33m)\u001b[0m \u001b[1;31m## Which tree we are using\u001b[0m\u001b[1;33m\u001b[0m\u001b[1;33m\u001b[0m\u001b[0m\n\u001b[0;32m     70\u001b[0m \u001b[1;33m\u001b[0m\u001b[0m\n",
            "\u001b[1;32mE:\\CIE\\Year 4 semester 1 (Fall 2020)\\Machine Learning\\decision_tree.py\u001b[0m in \u001b[0;36mfit\u001b[1;34m(self, X, y, depth)\u001b[0m\n\u001b[0;32m    317\u001b[0m         \u001b[1;31m# base cases\u001b[0m\u001b[1;33m\u001b[0m\u001b[1;33m\u001b[0m\u001b[1;33m\u001b[0m\u001b[0m\n\u001b[0;32m    318\u001b[0m         \u001b[0munique_labels\u001b[0m \u001b[1;33m=\u001b[0m \u001b[0mnp\u001b[0m\u001b[1;33m.\u001b[0m\u001b[0munique\u001b[0m\u001b[1;33m(\u001b[0m\u001b[0my\u001b[0m\u001b[1;33m)\u001b[0m\u001b[1;33m\u001b[0m\u001b[1;33m\u001b[0m\u001b[0m\n\u001b[1;32m--> 319\u001b[1;33m         \u001b[1;32mif\u001b[0m \u001b[1;33m(\u001b[0m\u001b[0mlen\u001b[0m\u001b[1;33m(\u001b[0m\u001b[0munique_labels\u001b[0m\u001b[1;33m)\u001b[0m\u001b[1;33m==\u001b[0m\u001b[1;36m1\u001b[0m\u001b[1;33m)\u001b[0m \u001b[1;32mor\u001b[0m \u001b[1;33m(\u001b[0m\u001b[0mdepth\u001b[0m \u001b[1;33m==\u001b[0m \u001b[0mmax_depth\u001b[0m\u001b[1;33m)\u001b[0m\u001b[1;33m:\u001b[0m \u001b[1;31m## IF we reach the maximum depth or the unique labels = 1\u001b[0m\u001b[1;33m\u001b[0m\u001b[1;33m\u001b[0m\u001b[0m\n\u001b[0m\u001b[0;32m    320\u001b[0m             \u001b[0munique_labels\u001b[0m\u001b[1;33m,\u001b[0m \u001b[0mcounts_unique_labels\u001b[0m \u001b[1;33m=\u001b[0m \u001b[0mnp\u001b[0m\u001b[1;33m.\u001b[0m\u001b[0munique\u001b[0m\u001b[1;33m(\u001b[0m\u001b[0my\u001b[0m\u001b[1;33m,\u001b[0m \u001b[0mreturn_counts\u001b[0m\u001b[1;33m=\u001b[0m\u001b[1;32mTrue\u001b[0m\u001b[1;33m)\u001b[0m\u001b[1;33m\u001b[0m\u001b[1;33m\u001b[0m\u001b[0m\n\u001b[0;32m    321\u001b[0m             \u001b[0mindex\u001b[0m \u001b[1;33m=\u001b[0m \u001b[0mcounts_unique_labels\u001b[0m\u001b[1;33m.\u001b[0m\u001b[0margmax\u001b[0m\u001b[1;33m(\u001b[0m\u001b[1;33m)\u001b[0m\u001b[1;33m\u001b[0m\u001b[1;33m\u001b[0m\u001b[0m\n",
            "\u001b[1;31mNameError\u001b[0m: name 'max_depth' is not defined"
          ]
        }
      ]
    },
    {
      "cell_type": "markdown",
      "metadata": {
        "id": "VzSf-dxYMRaU"
      },
      "source": [
        "## Compare out implementation with Sklearn Random Forest"
      ]
    },
    {
      "cell_type": "code",
      "metadata": {
        "id": "eMs5EJ0yMRaU"
      },
      "source": [
        "X_train , X_test , y_train , y_test = train_test_split(X,y,test_size = 0.2 , random_state = 10)\n",
        "\n",
        "X_train = pd.get_dummies(X_train,drop_first=True)\n",
        "X_test = pd.get_dummies(X_test,drop_first=True)\n",
        "clf = RandomForestClassifier(max_depth=5, n_estimators = 10 , criterion = 'entropy', oob_score = True)\n",
        "clf.fit(X_train, y_train)\n",
        "y_pred = clf.predict(X_test)\n",
        "print(\"Accuracy:\",metrics.accuracy_score(y_test, y_pred))"
      ],
      "execution_count": null,
      "outputs": []
    },
    {
      "cell_type": "markdown",
      "metadata": {
        "id": "qAYb66fQMRaU"
      },
      "source": [
        "## Random Forest Pros and Cons"
      ]
    },
    {
      "cell_type": "markdown",
      "metadata": {
        "id": "KuUR9IqZMRaU"
      },
      "source": [
        "\n",
        "| Pros | Cons\n",
        "| --- | --- \n",
        "|Robust to outliers| biased while dealing with categorical variables.\n",
        "|Works well with non-linear data.|Slow Training.\n",
        "|Lower risk of overfitting.|Not suitable for linear methods with a lot of sparse features\n",
        "|Runs efficiently on a large dataset.|Greedy algorithms don’t yield the global optimum tree structure.\n",
        "\n"
      ]
    },
    {
      "cell_type": "markdown",
      "metadata": {
        "id": "QXbSbzhqMRaU"
      },
      "source": [
        "# Boosting "
      ]
    },
    {
      "cell_type": "markdown",
      "metadata": {
        "id": "TvzTpGsiMRaU"
      },
      "source": [
        "<img src = https://quantdare.com/wp-content/uploads/2016/04/bb3.png>\n",
        "<img src = https://miro.medium.com/max/875/1*wpVgt07J_TeH3jEdc3A50g.png>"
      ]
    },
    {
      "cell_type": "markdown",
      "metadata": {
        "id": "02pF491MMRaU"
      },
      "source": [
        "# Adaboost - *ADAptive Boost* :"
      ]
    },
    {
      "cell_type": "markdown",
      "metadata": {
        "id": "0BS6wWzfMRaU"
      },
      "source": [
        "- Combining multiple weak classifiers to build one strong classifier\n",
        "\n",
        "\n",
        "- with each one progressively learning from the others' wrongly classified objects\n",
        "\n",
        "\n",
        "- Rather than being a model in itself, AdaBoost can be applied on top of any classifier to learn from its shortcomings and propose a more accurate model.\n",
        "\n",
        "\n",
        "- Therefore, it is called *best out-of-the-box classifier*"
      ]
    },
    {
      "cell_type": "markdown",
      "metadata": {
        "id": "7FcdI-zQMRaU"
      },
      "source": [
        "## What do we mean by a Weak Classifier?"
      ]
    },
    {
      "cell_type": "markdown",
      "metadata": {
        "id": "j6DiFAyyMRaU"
      },
      "source": [
        "**A one that performs better than random guessing, but still performs poorly at designating classes to objects.**"
      ]
    },
    {
      "cell_type": "markdown",
      "metadata": {
        "id": "yjI2fHDBMRaU"
      },
      "source": [
        "- For example, a weak classifier may predict that everyone above the age of 40 could not run a marathon but people falling below that age could.\n",
        "\n",
        "\n",
        "- You might get above 60% accuracy, but you would still be misclassifying a lot of data points!"
      ]
    },
    {
      "cell_type": "markdown",
      "metadata": {
        "id": "PgpVMETvMRaU"
      },
      "source": [
        "## Decision Stumps"
      ]
    },
    {
      "cell_type": "markdown",
      "metadata": {
        "id": "ksrznJYUMRaU"
      },
      "source": [
        "- Trees with just **one** node and two leaves.\n",
        "\n",
        "\n",
        "- A stump can only use one variable to make a decision\n",
        "\n",
        "\n",
        "- AdaBoost uses a forest of them instead of trees"
      ]
    },
    {
      "cell_type": "markdown",
      "metadata": {
        "id": "b0weYAWIMRaU"
      },
      "source": [
        "## How AdaBoost works?"
      ]
    },
    {
      "cell_type": "markdown",
      "metadata": {
        "id": "FVE6d6IhMRaU"
      },
      "source": [
        "1. A weak classifier (e.g. a decision stump) is made on top of the training data based on the **weighted samples**.\n",
        "\n",
        "- where each sample weight indicates how important it is to be correctly classified.\n",
        "\n",
        "\n",
        "- Initially, for the first stump, we give all the samples equal weights.\n",
        "\n",
        "\n",
        "\n"
      ]
    },
    {
      "cell_type": "markdown",
      "metadata": {
        "id": "Rp2WqCuuMRaU"
      },
      "source": [
        "\n",
        "\n",
        "2. We create a decision stump for each variable and see how well each stump classifies samples to their target classes.\n",
        "\n",
        "\n",
        "- For example, in the diagram below we check for Age, Eating Junk Food, and Exercise. We'd look at how many samples are correctly or incorrectly classified as Fit or Unfit for each individual stump."
      ]
    },
    {
      "cell_type": "markdown",
      "metadata": {
        "id": "G4PgoF2xMRaU"
      },
      "source": [
        "<img src=https://lh3.googleusercontent.com/kpQjxgGIxnSnMm495bDs0OZf4rE08E58PV1wwK9q10b_pL5AtKkRcY0OY5Hc_NFY0aW6iRQYAQDKuueEwnOfcEz9_IYyO-Ej-HwAqoFS_rQ779mP5HTHPKCy4x-lBmr33dd-Nw>"
      ]
    },
    {
      "cell_type": "markdown",
      "metadata": {
        "id": "CebHVYr_MRaU"
      },
      "source": [
        "3. More weight is assigned to the incorrectly classified samples so that they're classified correctly in the next decision stump.\n",
        "\n",
        "\n",
        "- Weight is also assigned to each classifier based on the accuracy of the classifier, which means high accuracy = high weight!"
      ]
    },
    {
      "cell_type": "markdown",
      "metadata": {
        "id": "yo21Rnk-MRaU"
      },
      "source": [
        "4. Reiterate from Step 2 until all the data points have been correctly classified, or the maximum iteration level has been reached."
      ]
    },
    {
      "cell_type": "markdown",
      "metadata": {
        "id": "FWhMmhMLMRaU"
      },
      "source": [
        "<img src = https://blog.paperspace.com/content/images/2019/12/WhatsApp-Image-2019-12-30-at-11.55.02-AM.jpeg>"
      ]
    },
    {
      "cell_type": "markdown",
      "metadata": {
        "id": "n9i3hfNqMRaU"
      },
      "source": [
        "## Adaboost Equation"
      ]
    },
    {
      "cell_type": "markdown",
      "metadata": {
        "id": "1-Pwy3Q9MRaU"
      },
      "source": [
        "$$\\alpha_t = \\frac{1}{2}\\ln\\frac{1-TotalError}{TotalError}$$"
      ]
    },
    {
      "cell_type": "markdown",
      "metadata": {
        "id": "fxZ8VR3BMRaU"
      },
      "source": [
        "- Alpha is how much influence this stump will have in the final classification. \n",
        "\n",
        "\n",
        "- Total Error is nothing but the total number of misclassifications for that training set divided by the training set size"
      ]
    },
    {
      "cell_type": "markdown",
      "metadata": {
        "id": "dD9VmGenMRaU"
      },
      "source": [
        "<img src = https://i.ibb.co/J5ck9X9/adaboost-alphacurve.png>"
      ]
    },
    {
      "cell_type": "markdown",
      "metadata": {
        "id": "BwLGEV-DMRaU"
      },
      "source": [
        "- When alpha is zero, the error rate is equal to the random chance - 0.5 - \n",
        "\n",
        "\n",
        "- When alpha is a positive number, the error rate decreases, which means we have a perfect decision stump"
      ]
    },
    {
      "cell_type": "markdown",
      "metadata": {
        "id": "d8WVvX6uMRaU"
      },
      "source": [
        "$$w_i = w_{i-1} \\cdot e^{\\pm\\alpha}$$"
      ]
    },
    {
      "cell_type": "markdown",
      "metadata": {
        "id": "TIImieWjMRaU"
      },
      "source": [
        "- Alpha is positive when the predicted and the actual output agree (the sample was classified correctly). In this case we **decrease** the sample weight from what it was before, since we're already performing well.\n",
        "\n",
        "\n",
        "- Alpha is negative when the predicted output does not agree with the actual class (i.e. the sample is misclassified). In this case we need to **increase** the sample weight so that the same misclassification does not repeat in the next stump. This is how the stumps are dependent on their predecessors."
      ]
    },
    {
      "cell_type": "markdown",
      "metadata": {
        "id": "tU_nmUMtMRaV"
      },
      "source": [
        "## AdaBoost Pseduocode"
      ]
    },
    {
      "cell_type": "markdown",
      "metadata": {
        "id": "Hx7onSiEMRaV"
      },
      "source": [
        "- Initially set uniform example weights.\n",
        "\n",
        "\n",
        "\n",
        "- for Each base learner do:\n",
        "    1. Train base learner with a weighted sample.\n",
        "    2. Test base learner on all data.\n",
        "    3. Set learner weight with a weighted error.\n",
        "    4. Set example weights based on ensemble predictions.\n",
        "- end for"
      ]
    },
    {
      "cell_type": "markdown",
      "metadata": {
        "id": "6E4z2F6tMRaV"
      },
      "source": [
        "## Bagging vs Boosting"
      ]
    },
    {
      "cell_type": "markdown",
      "metadata": {
        "id": "ge2iUNyXMRaV"
      },
      "source": [
        "- Bagging is easy to parallelize and hence training is faster\n",
        "\n",
        "\n",
        "\n",
        "- Boosting is more efficient for fixed number of iterations (classifiers)"
      ]
    },
    {
      "cell_type": "markdown",
      "metadata": {
        "id": "zn132FCSMRaV"
      },
      "source": [
        "# Sources"
      ]
    },
    {
      "cell_type": "markdown",
      "metadata": {
        "id": "-7ec2pHwMRaV"
      },
      "source": [
        "1. https://www.datacamp.com/community/tutorials/ensemble-learning-python\n",
        "\n",
        "\n",
        "2. https://blog.paperspace.com/tag/series-ensemble-methods/\n",
        "\n",
        "\n",
        "3. https://medium.com/open-machine-learning-course/open-machine-learning-course-topic-5-ensembles-of-algorithms-and-random-forest-8e05246cbba7\n",
        "\n",
        "\n",
        "4. https://towardsdatascience.com/an-introduction-to-the-bootstrap-method-58bcb51b4d60\n",
        "\n",
        "\n",
        "5. https://datasciencechalktalk.com/2019/11/12/bootstrap-sampling-an-implementation-with-python/\n",
        "\n",
        "\n",
        "6. https://blog.paperspace.com/adaboost-optimizer/\n",
        "\n"
      ]
    },
    {
      "cell_type": "markdown",
      "metadata": {
        "id": "tYKNFAtMMRaV"
      },
      "source": [
        "# Tasks"
      ]
    },
    {
      "cell_type": "markdown",
      "metadata": {
        "id": "IW58w8_BMRaV"
      },
      "source": [
        "## 3 points: Work with the [Vehicle regression dataset](https://www.kaggle.com/nehalbirla/vehicle-dataset-from-cardekho)"
      ]
    },
    {
      "cell_type": "markdown",
      "metadata": {
        "id": "vHr79Rh6MRaV"
      },
      "source": [
        "### Load the dataset, perform all necessary data exploration and preprocessing"
      ]
    },
    {
      "cell_type": "code",
      "metadata": {
        "id": "h6o3UjPiyHAj",
        "outputId": "7f11f6a7-f919-4daa-ef81-4a105e668aba"
      },
      "source": [
        "df = pd.read_csv('CAR DETAILS FROM CAR DEKHO.csv')\n",
        "df.head()"
      ],
      "execution_count": null,
      "outputs": [
        {
          "output_type": "execute_result",
          "data": {
            "text/html": [
              "<div>\n",
              "<style scoped>\n",
              "    .dataframe tbody tr th:only-of-type {\n",
              "        vertical-align: middle;\n",
              "    }\n",
              "\n",
              "    .dataframe tbody tr th {\n",
              "        vertical-align: top;\n",
              "    }\n",
              "\n",
              "    .dataframe thead th {\n",
              "        text-align: right;\n",
              "    }\n",
              "</style>\n",
              "<table border=\"1\" class=\"dataframe\">\n",
              "  <thead>\n",
              "    <tr style=\"text-align: right;\">\n",
              "      <th></th>\n",
              "      <th>name</th>\n",
              "      <th>year</th>\n",
              "      <th>selling_price</th>\n",
              "      <th>km_driven</th>\n",
              "      <th>fuel</th>\n",
              "      <th>seller_type</th>\n",
              "      <th>transmission</th>\n",
              "      <th>owner</th>\n",
              "    </tr>\n",
              "  </thead>\n",
              "  <tbody>\n",
              "    <tr>\n",
              "      <th>0</th>\n",
              "      <td>Maruti 800 AC</td>\n",
              "      <td>2007</td>\n",
              "      <td>60000</td>\n",
              "      <td>70000</td>\n",
              "      <td>Petrol</td>\n",
              "      <td>Individual</td>\n",
              "      <td>Manual</td>\n",
              "      <td>First Owner</td>\n",
              "    </tr>\n",
              "    <tr>\n",
              "      <th>1</th>\n",
              "      <td>Maruti Wagon R LXI Minor</td>\n",
              "      <td>2007</td>\n",
              "      <td>135000</td>\n",
              "      <td>50000</td>\n",
              "      <td>Petrol</td>\n",
              "      <td>Individual</td>\n",
              "      <td>Manual</td>\n",
              "      <td>First Owner</td>\n",
              "    </tr>\n",
              "    <tr>\n",
              "      <th>2</th>\n",
              "      <td>Hyundai Verna 1.6 SX</td>\n",
              "      <td>2012</td>\n",
              "      <td>600000</td>\n",
              "      <td>100000</td>\n",
              "      <td>Diesel</td>\n",
              "      <td>Individual</td>\n",
              "      <td>Manual</td>\n",
              "      <td>First Owner</td>\n",
              "    </tr>\n",
              "    <tr>\n",
              "      <th>3</th>\n",
              "      <td>Datsun RediGO T Option</td>\n",
              "      <td>2017</td>\n",
              "      <td>250000</td>\n",
              "      <td>46000</td>\n",
              "      <td>Petrol</td>\n",
              "      <td>Individual</td>\n",
              "      <td>Manual</td>\n",
              "      <td>First Owner</td>\n",
              "    </tr>\n",
              "    <tr>\n",
              "      <th>4</th>\n",
              "      <td>Honda Amaze VX i-DTEC</td>\n",
              "      <td>2014</td>\n",
              "      <td>450000</td>\n",
              "      <td>141000</td>\n",
              "      <td>Diesel</td>\n",
              "      <td>Individual</td>\n",
              "      <td>Manual</td>\n",
              "      <td>Second Owner</td>\n",
              "    </tr>\n",
              "  </tbody>\n",
              "</table>\n",
              "</div>"
            ],
            "text/plain": [
              "                       name  year  selling_price  km_driven    fuel  \\\n",
              "0             Maruti 800 AC  2007          60000      70000  Petrol   \n",
              "1  Maruti Wagon R LXI Minor  2007         135000      50000  Petrol   \n",
              "2      Hyundai Verna 1.6 SX  2012         600000     100000  Diesel   \n",
              "3    Datsun RediGO T Option  2017         250000      46000  Petrol   \n",
              "4     Honda Amaze VX i-DTEC  2014         450000     141000  Diesel   \n",
              "\n",
              "  seller_type transmission         owner  \n",
              "0  Individual       Manual   First Owner  \n",
              "1  Individual       Manual   First Owner  \n",
              "2  Individual       Manual   First Owner  \n",
              "3  Individual       Manual   First Owner  \n",
              "4  Individual       Manual  Second Owner  "
            ]
          },
          "metadata": {
            "tags": []
          },
          "execution_count": 97
        }
      ]
    },
    {
      "cell_type": "code",
      "metadata": {
        "id": "3LWeM5bHyHAj",
        "outputId": "ef3c0421-d778-4ffb-8151-1a7131ba227a"
      },
      "source": [
        "df.info()\n",
        "\n",
        "#copying the dataset to a new one that will be cleaned\n",
        "df_clean = df.copy()"
      ],
      "execution_count": null,
      "outputs": [
        {
          "output_type": "stream",
          "text": [
            "<class 'pandas.core.frame.DataFrame'>\n",
            "RangeIndex: 4340 entries, 0 to 4339\n",
            "Data columns (total 8 columns):\n",
            " #   Column         Non-Null Count  Dtype \n",
            "---  ------         --------------  ----- \n",
            " 0   name           4340 non-null   object\n",
            " 1   year           4340 non-null   int64 \n",
            " 2   selling_price  4340 non-null   int64 \n",
            " 3   km_driven      4340 non-null   int64 \n",
            " 4   fuel           4340 non-null   object\n",
            " 5   seller_type    4340 non-null   object\n",
            " 6   transmission   4340 non-null   object\n",
            " 7   owner          4340 non-null   object\n",
            "dtypes: int64(3), object(5)\n",
            "memory usage: 271.4+ KB\n"
          ],
          "name": "stdout"
        }
      ]
    },
    {
      "cell_type": "markdown",
      "metadata": {
        "id": "NMnMxIeSyHAk"
      },
      "source": [
        "### Assessing\n",
        "1- There appears to be no missing values in the dataset.\n",
        "\n",
        "\n",
        "2- It is more convenient to store `fuel`, `seller_type`, `transmission` and `owner` columns as **\"category\"** datatype instead of object.\n",
        "\n",
        "reference: https://pandas.pydata.org/pandas-docs/stable/user_guide/categorical.html"
      ]
    },
    {
      "cell_type": "markdown",
      "metadata": {
        "id": "bCUvTvibyHAk"
      },
      "source": [
        "### Cleaning"
      ]
    },
    {
      "cell_type": "code",
      "metadata": {
        "id": "sYQ89BikyHAk",
        "outputId": "464c3f9b-7161-486b-f0a8-ecaccb208ce9"
      },
      "source": [
        "df_clean['fuel'] = df_clean['fuel'].astype('category')\n",
        "df_clean['seller_type'] = df_clean['seller_type'].astype('category')\n",
        "df_clean['transmission'] = df_clean['transmission'].astype('category')\n",
        "df_clean['owner'] = df_clean['owner'].astype('category')\n",
        "\n",
        "df_clean.info()"
      ],
      "execution_count": null,
      "outputs": [
        {
          "output_type": "stream",
          "text": [
            "<class 'pandas.core.frame.DataFrame'>\n",
            "RangeIndex: 4340 entries, 0 to 4339\n",
            "Data columns (total 8 columns):\n",
            " #   Column         Non-Null Count  Dtype   \n",
            "---  ------         --------------  -----   \n",
            " 0   name           4340 non-null   object  \n",
            " 1   year           4340 non-null   int64   \n",
            " 2   selling_price  4340 non-null   int64   \n",
            " 3   km_driven      4340 non-null   int64   \n",
            " 4   fuel           4340 non-null   category\n",
            " 5   seller_type    4340 non-null   category\n",
            " 6   transmission   4340 non-null   category\n",
            " 7   owner          4340 non-null   category\n",
            "dtypes: category(4), int64(3), object(1)\n",
            "memory usage: 153.3+ KB\n"
          ],
          "name": "stdout"
        }
      ]
    },
    {
      "cell_type": "code",
      "metadata": {
        "id": "W-jYdKtXyHAl",
        "outputId": "cc4712d4-ddc0-4eb2-ca6e-d332aa29d6fb"
      },
      "source": [
        "df_clean.describe()"
      ],
      "execution_count": null,
      "outputs": [
        {
          "output_type": "execute_result",
          "data": {
            "text/html": [
              "<div>\n",
              "<style scoped>\n",
              "    .dataframe tbody tr th:only-of-type {\n",
              "        vertical-align: middle;\n",
              "    }\n",
              "\n",
              "    .dataframe tbody tr th {\n",
              "        vertical-align: top;\n",
              "    }\n",
              "\n",
              "    .dataframe thead th {\n",
              "        text-align: right;\n",
              "    }\n",
              "</style>\n",
              "<table border=\"1\" class=\"dataframe\">\n",
              "  <thead>\n",
              "    <tr style=\"text-align: right;\">\n",
              "      <th></th>\n",
              "      <th>year</th>\n",
              "      <th>selling_price</th>\n",
              "      <th>km_driven</th>\n",
              "    </tr>\n",
              "  </thead>\n",
              "  <tbody>\n",
              "    <tr>\n",
              "      <th>count</th>\n",
              "      <td>4340.000000</td>\n",
              "      <td>4.340000e+03</td>\n",
              "      <td>4340.000000</td>\n",
              "    </tr>\n",
              "    <tr>\n",
              "      <th>mean</th>\n",
              "      <td>2013.090783</td>\n",
              "      <td>5.041273e+05</td>\n",
              "      <td>66215.777419</td>\n",
              "    </tr>\n",
              "    <tr>\n",
              "      <th>std</th>\n",
              "      <td>4.215344</td>\n",
              "      <td>5.785487e+05</td>\n",
              "      <td>46644.102194</td>\n",
              "    </tr>\n",
              "    <tr>\n",
              "      <th>min</th>\n",
              "      <td>1992.000000</td>\n",
              "      <td>2.000000e+04</td>\n",
              "      <td>1.000000</td>\n",
              "    </tr>\n",
              "    <tr>\n",
              "      <th>25%</th>\n",
              "      <td>2011.000000</td>\n",
              "      <td>2.087498e+05</td>\n",
              "      <td>35000.000000</td>\n",
              "    </tr>\n",
              "    <tr>\n",
              "      <th>50%</th>\n",
              "      <td>2014.000000</td>\n",
              "      <td>3.500000e+05</td>\n",
              "      <td>60000.000000</td>\n",
              "    </tr>\n",
              "    <tr>\n",
              "      <th>75%</th>\n",
              "      <td>2016.000000</td>\n",
              "      <td>6.000000e+05</td>\n",
              "      <td>90000.000000</td>\n",
              "    </tr>\n",
              "    <tr>\n",
              "      <th>max</th>\n",
              "      <td>2020.000000</td>\n",
              "      <td>8.900000e+06</td>\n",
              "      <td>806599.000000</td>\n",
              "    </tr>\n",
              "  </tbody>\n",
              "</table>\n",
              "</div>"
            ],
            "text/plain": [
              "              year  selling_price      km_driven\n",
              "count  4340.000000   4.340000e+03    4340.000000\n",
              "mean   2013.090783   5.041273e+05   66215.777419\n",
              "std       4.215344   5.785487e+05   46644.102194\n",
              "min    1992.000000   2.000000e+04       1.000000\n",
              "25%    2011.000000   2.087498e+05   35000.000000\n",
              "50%    2014.000000   3.500000e+05   60000.000000\n",
              "75%    2016.000000   6.000000e+05   90000.000000\n",
              "max    2020.000000   8.900000e+06  806599.000000"
            ]
          },
          "metadata": {
            "tags": []
          },
          "execution_count": 100
        }
      ]
    },
    {
      "cell_type": "markdown",
      "metadata": {
        "id": "3FU9DgBNyHAl"
      },
      "source": [
        "The min of `km_driven` equals one, this might be an error."
      ]
    },
    {
      "cell_type": "code",
      "metadata": {
        "id": "a5lKLWMXyHAl",
        "outputId": "89541037-6c98-4ff3-f152-4974c8d10d4a"
      },
      "source": [
        "#Checking the values of each column\n",
        "\n",
        "v_c = {}\n",
        "for col in df_clean.columns:\n",
        "    v_c [col] = [df_clean[col].value_counts()]\n",
        "v_c\n"
      ],
      "execution_count": null,
      "outputs": [
        {
          "output_type": "execute_result",
          "data": {
            "text/plain": [
              "{'name': [Maruti Swift Dzire VDI                  69\n",
              "  Maruti Alto 800 LXI                     59\n",
              "  Maruti Alto LXi                         47\n",
              "  Maruti Alto LX                          35\n",
              "  Hyundai EON Era Plus                    35\n",
              "                                          ..\n",
              "  Hyundai Grand i10 Asta Option AT         1\n",
              "  Volkswagen Jetta 2.0 TDI Comfortline     1\n",
              "  Hyundai Grand i10 Nios Sportz            1\n",
              "  Renault Duster Petrol RxL                1\n",
              "  Maruti Ertiga BSIV ZXI                   1\n",
              "  Name: name, Length: 1491, dtype: int64],\n",
              " 'year': [2017    466\n",
              "  2015    421\n",
              "  2012    415\n",
              "  2013    386\n",
              "  2014    367\n",
              "  2018    366\n",
              "  2016    357\n",
              "  2011    271\n",
              "  2010    234\n",
              "  2019    195\n",
              "  2009    193\n",
              "  2008    145\n",
              "  2007    134\n",
              "  2006    110\n",
              "  2005     85\n",
              "  2020     48\n",
              "  2004     42\n",
              "  2003     23\n",
              "  2002     21\n",
              "  2001     20\n",
              "  1998     12\n",
              "  2000     12\n",
              "  1999     10\n",
              "  1997      3\n",
              "  1996      2\n",
              "  1995      1\n",
              "  1992      1\n",
              "  Name: year, dtype: int64],\n",
              " 'selling_price': [300000     162\n",
              "  250000     125\n",
              "  350000     122\n",
              "  550000     107\n",
              "  600000     103\n",
              "            ... \n",
              "  1331000      1\n",
              "  479000       1\n",
              "  1290000      1\n",
              "  746000       1\n",
              "  213000       1\n",
              "  Name: selling_price, Length: 445, dtype: int64],\n",
              " 'km_driven': [70000     236\n",
              "  80000     228\n",
              "  50000     222\n",
              "  120000    220\n",
              "  60000     215\n",
              "           ... \n",
              "  80577       1\n",
              "  49834       1\n",
              "  19107       1\n",
              "  13270       1\n",
              "  22255       1\n",
              "  Name: km_driven, Length: 770, dtype: int64],\n",
              " 'fuel': [Diesel      2153\n",
              "  Petrol      2123\n",
              "  CNG           40\n",
              "  LPG           23\n",
              "  Electric       1\n",
              "  Name: fuel, dtype: int64],\n",
              " 'seller_type': [Individual          3244\n",
              "  Dealer               994\n",
              "  Trustmark Dealer     102\n",
              "  Name: seller_type, dtype: int64],\n",
              " 'transmission': [Manual       3892\n",
              "  Automatic     448\n",
              "  Name: transmission, dtype: int64],\n",
              " 'owner': [First Owner             2832\n",
              "  Second Owner            1106\n",
              "  Third Owner              304\n",
              "  Fourth & Above Owner      81\n",
              "  Test Drive Car            17\n",
              "  Name: owner, dtype: int64]}"
            ]
          },
          "metadata": {
            "tags": []
          },
          "execution_count": 101
        }
      ]
    },
    {
      "cell_type": "markdown",
      "metadata": {
        "id": "eKkO6aXuyHAm"
      },
      "source": [
        "We may change the values of `owner` column to be **0, 1, 2, 3, 4** indtead of **'Test Drive Car'**, **'First Owner'**, **'Second Owner'**, **'Third Owner'**, **'Fourth & Above Owner'**. Or we may perform one hot encoding."
      ]
    },
    {
      "cell_type": "markdown",
      "metadata": {
        "id": "iPpqosRgyHAm"
      },
      "source": [
        "### Visualizations "
      ]
    },
    {
      "cell_type": "code",
      "metadata": {
        "id": "xkkq51XqyHAm",
        "outputId": "8082512f-66ba-4458-ee65-cee7a8e63b7f"
      },
      "source": [
        "sns.countplot(x='selling_price',data=df_clean);\n"
      ],
      "execution_count": null,
      "outputs": [
        {
          "output_type": "display_data",
          "data": {
            "image/png": "[encoded data removed]",
            "text/plain": [
              "<Figure size 7200x7200 with 1 Axes>"
            ]
          },
          "metadata": {
            "tags": []
          }
        }
      ]
    },
    {
      "cell_type": "code",
      "metadata": {
        "id": "icXNSsPqyHAm"
      },
      "source": [
        "# figure size in inches\n",
        "rcParams['figure.figsize'] = 100,100"
      ],
      "execution_count": null,
      "outputs": []
    },
    {
      "cell_type": "code",
      "metadata": {
        "id": "6BIRHqUMyHAm",
        "outputId": "3bbe58df-3497-461c-80a5-e1005c7097ac"
      },
      "source": [
        "sns.catplot(x=\"year\", y=\"selling_price\", data=df_clean);"
      ],
      "execution_count": null,
      "outputs": [
        {
          "output_type": "display_data",
          "data": {
            "image/png": "[encoded data removed]",
            "text/plain": [
              "<Figure size 360x360 with 1 Axes>"
            ]
          },
          "metadata": {
            "tags": []
          }
        }
      ]
    },
    {
      "cell_type": "code",
      "metadata": {
        "id": "JPEtMP91yHAn",
        "outputId": "ac1f9ea2-ba04-4346-99c5-e167b2bc7ab3"
      },
      "source": [
        "sns.catplot(x=\"km_driven\", y=\"selling_price\", data=df_clean);"
      ],
      "execution_count": null,
      "outputs": [
        {
          "output_type": "display_data",
          "data": {
            "image/png": "[encoded data removed]",
            "text/plain": [
              "<Figure size 360x360 with 1 Axes>"
            ]
          },
          "metadata": {
            "tags": []
          }
        }
      ]
    },
    {
      "cell_type": "code",
      "metadata": {
        "id": "beOFMc6ryHAn"
      },
      "source": [
        "#df_clean.plot(kind=\"scatter\", x='name', y='selling_price');\n"
      ],
      "execution_count": null,
      "outputs": []
    },
    {
      "cell_type": "code",
      "metadata": {
        "id": "h-VJf6YqyHAn"
      },
      "source": [
        "#c = list(df.columns)\n",
        "#for i in range(1,len(c)):\n",
        "#    df_clean.plot(kind=\"scatter\", x=c[i-1], y=c[i])\n"
      ],
      "execution_count": null,
      "outputs": []
    },
    {
      "cell_type": "code",
      "metadata": {
        "id": "C_iySN4RyHAn",
        "outputId": "26cbed2e-d906-4c17-dd2a-44a061166ce7"
      },
      "source": [
        "df_clean.hist(bins=50, figsize=(20,15))\n",
        "plt.show()"
      ],
      "execution_count": null,
      "outputs": [
        {
          "output_type": "display_data",
          "data": {
            "image/png": "[encoded data removed]",
            "text/plain": [
              "<Figure size 1440x1080 with 4 Axes>"
            ]
          },
          "metadata": {
            "tags": []
          }
        }
      ]
    },
    {
      "cell_type": "markdown",
      "metadata": {
        "id": "WW71pObYyHAo"
      },
      "source": [
        "### Checking which features are mostly correlated to the target"
      ]
    },
    {
      "cell_type": "code",
      "metadata": {
        "id": "VeGnKJnbyHAo",
        "outputId": "c31cd967-46eb-4940-e43b-ca02211814d1"
      },
      "source": [
        "corr_matrix = df_clean.corr()\n",
        "\n",
        "corr_matrix[\"selling_price\"].sort_values(ascending=False)"
      ],
      "execution_count": null,
      "outputs": [
        {
          "output_type": "execute_result",
          "data": {
            "text/plain": [
              "selling_price    1.000000\n",
              "year             0.413922\n",
              "km_driven       -0.192289\n",
              "Name: selling_price, dtype: float64"
            ]
          },
          "metadata": {
            "tags": []
          },
          "execution_count": 109
        }
      ]
    },
    {
      "cell_type": "markdown",
      "metadata": {
        "id": "3cqSL66IyHAo"
      },
      "source": [
        "### Perform one hot encoding"
      ]
    },
    {
      "cell_type": "code",
      "metadata": {
        "id": "3eYOvRQsyHAp"
      },
      "source": [
        "categorical = ['fuel', 'seller_type', 'transmission', 'owner']   \n",
        "#name is not here since it has so many unique values, if we encode it we will have 1503 columns!\n",
        "#However, we could change the name values to be 'Maruti', 'Hyundai', 'Datsun', 'Honda' and so on,\n",
        "#without the details of the name, in this way, we will have less unique names in the 'name' column.\n",
        "\n",
        "numerical = ['year', 'km_driven']\n",
        "\n",
        "X = pd.concat([df_clean[categorical], df_clean[numerical]], axis=1) ## Just sort them\n",
        "\n",
        "y = df_clean['selling_price']\n",
        "\n",
        "#One hot encoding\n",
        "X = pd.get_dummies(X,drop_first=True)\n",
        "\n",
        "df_clean = pd.concat([X,y], axis=1)"
      ],
      "execution_count": null,
      "outputs": []
    },
    {
      "cell_type": "markdown",
      "metadata": {
        "id": "Li6wJCRgyHAp"
      },
      "source": [
        "### Checking the correlations again after encoding"
      ]
    },
    {
      "cell_type": "code",
      "metadata": {
        "id": "sqrOmVt5yHAp",
        "outputId": "01ad4fe1-e87d-4c00-e010-a513933ed840"
      },
      "source": [
        "corr_matrix = df_clean.corr()\n",
        "\n",
        "corr_matrix[\"selling_price\"].sort_values(ascending=False)"
      ],
      "execution_count": null,
      "outputs": [
        {
          "output_type": "execute_result",
          "data": {
            "text/plain": [
              "selling_price                   1.000000\n",
              "year                            0.413922\n",
              "fuel_Diesel                     0.282947\n",
              "seller_type_Trustmark Dealer    0.110176\n",
              "owner_Test Drive Car            0.048799\n",
              "fuel_Electric                  -0.005095\n",
              "fuel_LPG                       -0.042434\n",
              "owner_Fourth & Above Owner     -0.078725\n",
              "owner_Third Owner              -0.111326\n",
              "owner_Second Owner             -0.161986\n",
              "km_driven                      -0.192289\n",
              "seller_type_Individual         -0.236798\n",
              "fuel_Petrol                    -0.269453\n",
              "transmission_Manual            -0.530205\n",
              "Name: selling_price, dtype: float64"
            ]
          },
          "metadata": {
            "tags": []
          },
          "execution_count": 95
        }
      ]
    },
    {
      "cell_type": "markdown",
      "metadata": {
        "id": "oxi5tQUjyHAp"
      },
      "source": [
        "#### The `year` feature appears to have the highest positive correlation. While the `transmission_Manual` feature appears to have the highest negative correlation."
      ]
    },
    {
      "cell_type": "markdown",
      "metadata": {
        "id": "PqUn3195yHAp"
      },
      "source": [
        "### Split the data into train and test "
      ]
    },
    {
      "cell_type": "code",
      "metadata": {
        "id": "LUFGcdDXyHAq"
      },
      "source": [
        "#Train,test split\n",
        "X_train , X_test , y_train , y_test = train_test_split(X,y,test_size = 0.2 , random_state = 0)\n"
      ],
      "execution_count": null,
      "outputs": []
    },
    {
      "cell_type": "markdown",
      "metadata": {
        "id": "tKYJ7BkVMRaV"
      },
      "source": [
        "## 3 Points: Use Sklearn Random Forest Regressor as the ML model"
      ]
    },
    {
      "cell_type": "code",
      "metadata": {
        "id": "CxX0rPBeyHAq"
      },
      "source": [
        "#Random Forest Regression fitting and predicting\n",
        "regr = RandomForestRegressor(max_depth=2, random_state=0)\n",
        "regr.fit(X_train, y_train)\n",
        "y_predicted = regr.predict(X_test)\n"
      ],
      "execution_count": null,
      "outputs": []
    },
    {
      "cell_type": "code",
      "metadata": {
        "id": "0fjw2zTLyHAq",
        "outputId": "06a9d385-371a-4be8-e72a-fc71eceb6e11"
      },
      "source": [
        "# Calculating R^2 metric to assess the model\n",
        "print(\"R^2 metric:\", regr.score(X_test, y_test) )\n",
        "\n",
        "# before cleaning, R^2 metric: 0.4943483415797354\n",
        "\n",
        "#r2_score(y_test, y_predicted)"
      ],
      "execution_count": null,
      "outputs": [
        {
          "output_type": "stream",
          "text": [
            "R^2 metric: 0.4943483415797354\n"
          ],
          "name": "stdout"
        }
      ]
    },
    {
      "cell_type": "markdown",
      "metadata": {
        "id": "dV0T3amYMRaV"
      },
      "source": [
        "### Perform proper hyperparameter tuning to choose the best base model, depth, max_features, and any other important hyper-parameters "
      ]
    },
    {
      "cell_type": "code",
      "metadata": {
        "id": "WiQXI0rDyHAr",
        "outputId": "05a81af6-eaab-4177-fc69-17175750c44f"
      },
      "source": [
        "#hyper-parameters to be tuned\n",
        "parameters = {'n_estimators':list(range(50,251,50)), 'max_depth':list(range(4,7)),\n",
        "             'max_features': ['auto', 'log2'] }\n",
        "\n",
        "#Using Grid Search to tune these hyper-parameters\n",
        "rfr = RandomForestRegressor()\n",
        "clf = GridSearchCV(rfr, parameters)\n",
        "clf.fit(X_train, y_train)"
      ],
      "execution_count": null,
      "outputs": [
        {
          "output_type": "execute_result",
          "data": {
            "text/plain": [
              "GridSearchCV(estimator=RandomForestRegressor(),\n",
              "             param_grid={'max_depth': [4, 5, 6],\n",
              "                         'max_features': ['auto', 'log2'],\n",
              "                         'n_estimators': [50, 100, 150, 200, 250]})"
            ]
          },
          "metadata": {
            "tags": []
          },
          "execution_count": 25
        }
      ]
    },
    {
      "cell_type": "code",
      "metadata": {
        "id": "mVsOWOz-yHAr",
        "outputId": "e64e18b0-feb8-4a85-ca69-b2f4b7c96a0b"
      },
      "source": [
        "#The best hyper-parameters found using Grid Search\n",
        "print(clf.best_params_)"
      ],
      "execution_count": null,
      "outputs": [
        {
          "output_type": "stream",
          "text": [
            "{'max_depth': 6, 'max_features': 'auto', 'n_estimators': 50}\n"
          ],
          "name": "stdout"
        }
      ]
    },
    {
      "cell_type": "code",
      "metadata": {
        "id": "K4wTPQrfyHAr",
        "outputId": "db49fb3b-5dc8-476e-a43f-9cde16be249e"
      },
      "source": [
        "#y_pred = clf.predict(X_test)\n",
        "\n",
        "# Calculating R^2 metric to assess the model\n",
        "print(\"R^2 metric:\", clf.score(X_test, y_test) )\n",
        "\n",
        "# before cleaning, R^2 metric: 0.756080891896676\n"
      ],
      "execution_count": null,
      "outputs": [
        {
          "output_type": "stream",
          "text": [
            "R^2 metric: 0.756080891896676\n"
          ],
          "name": "stdout"
        }
      ]
    },
    {
      "cell_type": "markdown",
      "metadata": {
        "id": "O5fzEgw1MRaV"
      },
      "source": [
        "## 4 Points: Use Sklearn AdaBoost on the same dataset and compare the results with the RF"
      ]
    },
    {
      "cell_type": "code",
      "metadata": {
        "id": "tg91VhyAyHAr"
      },
      "source": [
        "#AdaBoost Regression fitting and predicting\n",
        "regr = AdaBoostRegressor(random_state=0, n_estimators=100)\n",
        "regr.fit(X_train, y_train)\n",
        "y_predicted = regr.predict(X_test)\n"
      ],
      "execution_count": null,
      "outputs": []
    },
    {
      "cell_type": "code",
      "metadata": {
        "id": "ebuDU7vRyHAs",
        "outputId": "b3029082-ad9a-4ac7-cb13-3bb1753b6eb6"
      },
      "source": [
        "# Calculating R^2 metric to assess the model\n",
        "print(\"R^2 metric:\", regr.score(X_test, y_test) )\n",
        "\n",
        "#before cleaning, R^2 metric: 0.48125740908409176\n"
      ],
      "execution_count": null,
      "outputs": [
        {
          "output_type": "stream",
          "text": [
            "R^2 metric: 0.48125740908409176\n"
          ],
          "name": "stdout"
        }
      ]
    },
    {
      "cell_type": "markdown",
      "metadata": {
        "id": "VvomN-T1yHAs"
      },
      "source": [
        "### Hyperparameter tuning"
      ]
    },
    {
      "cell_type": "code",
      "metadata": {
        "code_folding": [
          1
        ],
        "id": "wWh9fYDTyHAs",
        "outputId": "514d4d7e-9995-4eb1-cb27-0260d5f90749"
      },
      "source": [
        "#hyper-parameters to be tuned\n",
        "parameters = {'n_estimators':list(range(50,251,50)), 'learning_rate':list(np.arange(1,2,0.5)),\n",
        "             'loss': ['linear', 'square'] }\n",
        "\n",
        "#Using Grid Search to tune these hyper-parameters\n",
        "adaBoost = AdaBoostRegressor()\n",
        "clf = GridSearchCV(adaBoost, parameters)\n",
        "clf.fit(X_train, y_train)"
      ],
      "execution_count": null,
      "outputs": [
        {
          "output_type": "execute_result",
          "data": {
            "text/plain": [
              "GridSearchCV(estimator=AdaBoostRegressor(),\n",
              "             param_grid={'learning_rate': [1.0, 1.5],\n",
              "                         'loss': ['linear', 'square'],\n",
              "                         'n_estimators': [50, 100, 150, 200, 250]})"
            ]
          },
          "metadata": {
            "tags": []
          },
          "execution_count": 42
        }
      ]
    },
    {
      "cell_type": "code",
      "metadata": {
        "code_folding": [],
        "id": "ljgTin35yHAs",
        "outputId": "f46f303e-b606-4868-8dd7-c0ece13cc2e2"
      },
      "source": [
        "#The best hyper-parameters found using Grid Search\n",
        "print(clf.best_params_)"
      ],
      "execution_count": null,
      "outputs": [
        {
          "output_type": "stream",
          "text": [
            "{'learning_rate': 1.0, 'loss': 'linear', 'n_estimators': 150}\n"
          ],
          "name": "stdout"
        }
      ]
    },
    {
      "cell_type": "code",
      "metadata": {
        "id": "SRD0SoOByHAt",
        "outputId": "c4dab332-297b-4d43-8558-6ee9bd53954f"
      },
      "source": [
        "# Calculating R^2 metric to assess the model\n",
        "print(\"R^2 metric:\", clf.score(X_test, y_test) )\n",
        "\n",
        "#before cleaning, R^2 metric: 0.5098663414330425\n"
      ],
      "execution_count": null,
      "outputs": [
        {
          "output_type": "stream",
          "text": [
            "R^2 metric: 0.5098663414330425\n"
          ],
          "name": "stdout"
        }
      ]
    },
    {
      "cell_type": "markdown",
      "metadata": {
        "id": "s_1dJEaeyHAt"
      },
      "source": [
        "### Comparing the results with the RF¶\n",
        "The performance of Random Forest Regressor appears to be better than Ada Boost Regressor in this specific dataset"
      ]
    },
    {
      "cell_type": "markdown",
      "metadata": {
        "id": "enLcW4NtMRaV"
      },
      "source": [
        "## Bonus Task ( 3 Points ) : Use another Boosting Algorithm, such as XGBoost, on the same dataset. "
      ]
    },
    {
      "cell_type": "code",
      "metadata": {
        "id": "FY4IZjJfyHAt"
      },
      "source": [
        ""
      ],
      "execution_count": null,
      "outputs": []
    },
    {
      "cell_type": "markdown",
      "metadata": {
        "id": "jpc6_znJMRaV"
      },
      "source": [
        "### You need to explain in details how the algorithm work and how it is different from AdaBoost in order to receive any credit."
      ]
    },
    {
      "cell_type": "code",
      "metadata": {
        "id": "4g33SnWfyHAu"
      },
      "source": [
        ""
      ],
      "execution_count": null,
      "outputs": []
    },
    {
      "cell_type": "code",
      "metadata": {
        "id": "CBLy5kDlMRaV"
      },
      "source": [
        ""
      ],
      "execution_count": null,
      "outputs": []
    },
    {
      "cell_type": "code",
      "metadata": {
        "id": "e9geqzvNm97y"
      },
      "source": [
        ""
      ],
      "execution_count": null,
      "outputs": []
    }
  ]
}